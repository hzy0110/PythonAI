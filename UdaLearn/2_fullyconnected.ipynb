{
 "cells": [
  {
   "cell_type": "markdown",
   "metadata": {
    "colab_type": "text",
    "id": "kR-4eNdK6lYS"
   },
   "source": [
    "深度学习 Deep Learning\n",
    "=============\n",
    "\n",
    "任务2 Assignment 2\n",
    "------------\n",
    "以前在 1_notmnist. ipynb 中，我们创造了一个带有格式的数据集，用于 notmnist 数据集的培训、开发和测试。\n",
    "\n",
    "Previously in `1_notmnist.ipynb`, we created a pickle with formatted datasets for training, development and testing on the [notMNIST dataset](http://yaroslavvb.blogspot.com/2011/09/notmnist-dataset.html).\n",
    "\n",
    "该任务的目标是逐步使用TensorFlow来训练更深入和更准确的模型。\n",
    "\n",
    "The goal of this assignment is to progressively train deeper and more accurate models using TensorFlow."
   ]
  },
  {
   "cell_type": "code",
   "execution_count": 10,
   "metadata": {
    "cellView": "both",
    "colab": {
     "autoexec": {
      "startup": false,
      "wait_interval": 0
     }
    },
    "colab_type": "code",
    "collapsed": true,
    "id": "JLpLa8Jt7Vu4"
   },
   "outputs": [],
   "source": [
    "# 导入所有依赖包\n",
    "from __future__ import print_function\n",
    "import numpy as np\n",
    "import tensorflow as tf\n",
    "from six.moves import cPickle as pickle\n",
    "from six.moves import range"
   ]
  },
  {
   "cell_type": "markdown",
   "metadata": {
    "colab_type": "text",
    "id": "1HrCK6e17WzV"
   },
   "source": [
    "首先读取从1_notmnist产生的数据\n",
    "\n",
    "First reload the data we generated in `1_notmnist.ipynb`."
   ]
  },
  {
   "cell_type": "code",
   "execution_count": 11,
   "metadata": {
    "cellView": "both",
    "colab": {
     "autoexec": {
      "startup": false,
      "wait_interval": 0
     },
     "output_extras": [
      {
       "item_id": 1
      }
     ]
    },
    "colab_type": "code",
    "executionInfo": {
     "elapsed": 19456,
     "status": "ok",
     "timestamp": 1449847956073,
     "user": {
      "color": "",
      "displayName": "",
      "isAnonymous": false,
      "isMe": true,
      "permissionId": "",
      "photoUrl": "",
      "sessionId": "0",
      "userId": ""
     },
     "user_tz": 480
    },
    "id": "y3-cj1bpmuxc",
    "outputId": "0ddb1607-1fc4-4ddb-de28-6c7ab7fb0c33"
   },
   "outputs": [
    {
     "name": "stdout",
     "output_type": "stream",
     "text": [
      "Training set (200000, 28, 28) (200000,)\n",
      "Validation set (10000, 28, 28) (10000,)\n",
      "Test set (10000, 28, 28) (10000,)\n"
     ]
    }
   ],
   "source": [
    "pickle_file = 'notMNIST.pickle'\n",
    "\n",
    "with open(pickle_file, 'rb') as f:\n",
    "  save = pickle.load(f)\n",
    "  train_dataset = save['train_dataset']\n",
    "  train_labels = save['train_labels']\n",
    "  valid_dataset = save['valid_dataset']\n",
    "  valid_labels = save['valid_labels']\n",
    "  test_dataset = save['test_dataset']\n",
    "  test_labels = save['test_labels']\n",
    "  del save  # hint to help gc free up memory\n",
    "  print('Training set', train_dataset.shape, train_labels.shape)\n",
    "  print('Validation set', valid_dataset.shape, valid_labels.shape)\n",
    "  print('Test set', test_dataset.shape, test_labels.shape)"
   ]
  },
  {
   "cell_type": "markdown",
   "metadata": {
    "colab_type": "text",
    "id": "L7aHrm6nGDMB"
   },
   "source": [
    "重新格式化为一个更适合我们要训练的模型的形状\n",
    "\n",
    "Reformat into a shape that's more adapted to the models we're going to train:\n",
    "- 数据是一个矩阵\n",
    "- 标签是一个独热编码\n",
    "- data as a flat matrix,\n",
    "- labels as float one-hot encodings."
   ]
  },
  {
   "cell_type": "code",
   "execution_count": 12,
   "metadata": {
    "cellView": "both",
    "colab": {
     "autoexec": {
      "startup": false,
      "wait_interval": 0
     },
     "output_extras": [
      {
       "item_id": 1
      }
     ]
    },
    "colab_type": "code",
    "executionInfo": {
     "elapsed": 19723,
     "status": "ok",
     "timestamp": 1449847956364,
     "user": {
      "color": "",
      "displayName": "",
      "isAnonymous": false,
      "isMe": true,
      "permissionId": "",
      "photoUrl": "",
      "sessionId": "0",
      "userId": ""
     },
     "user_tz": 480
    },
    "id": "IRSyYiIIGIzS",
    "outputId": "2ba0fc75-1487-4ace-a562-cf81cae82793"
   },
   "outputs": [
    {
     "name": "stdout",
     "output_type": "stream",
     "text": [
      "Training set (200000, 784) (200000, 10)\n",
      "Validation set (10000, 784) (10000, 10)\n",
      "Test set (10000, 784) (10000, 10)\n"
     ]
    }
   ],
   "source": [
    "image_size = 28\n",
    "num_labels = 10\n",
    "\n",
    "def reformat(dataset, labels):\n",
    "  dataset = dataset.reshape((-1, image_size * image_size)).astype(np.float32)\n",
    "  # Map 0 to [1.0, 0.0, 0.0 ...], 1 to [0.0, 1.0, 0.0 ...]\n",
    "  labels = (np.arange(num_labels) == labels[:,None]).astype(np.float32)\n",
    "  return dataset, labels\n",
    "train_dataset, train_labels = reformat(train_dataset, train_labels)\n",
    "valid_dataset, valid_labels = reformat(valid_dataset, valid_labels)\n",
    "test_dataset, test_labels = reformat(test_dataset, test_labels)\n",
    "print('Training set', train_dataset.shape, train_labels.shape)\n",
    "print('Validation set', valid_dataset.shape, valid_labels.shape)\n",
    "print('Test set', test_dataset.shape, test_labels.shape)"
   ]
  },
  {
   "cell_type": "markdown",
   "metadata": {
    "colab_type": "text",
    "id": "nCLVqyQ5vPPH"
   },
   "source": [
    "我们首先使用简单梯度下降训练多项Logistic回归。\n",
    "\n",
    "We're first going to train a multinomial logistic regression using simple gradient descent.\n",
    "\n",
    "TensorFlow的工作原理如下：\n",
    "* 首先，描述要执行的计算：输入，变量和操作的情况。通过创建节点来计算图形。此描述全部包含在以下内容中：\n",
    "\n",
    "* First you describe the computation that you want to see performed: what the inputs, the variables, and the operations look like. These get created as nodes over a computation graph. This description is all contained within the block below:\n",
    "\n",
    "      with graph.as_default():\n",
    "          ...\n",
    "* 然后，您可以通过调用sessi.run()在这个图上运行这些操作。从返回的图中获取输出。运行时的操作全部包含在下面的块中\n",
    "\n",
    "* Then you can run the operations on this graph as many times as you want by calling `session.run()`, providing it outputs to fetch from the graph that get returned. This runtime operation is all contained in the block below:\n",
    "\n",
    "      with tf.Session(graph=graph) as session:\n",
    "          ...\n",
    "          \n",
    "让我们将所有数据加载到 TensorFlow 中, 并构建与我们的训练相对应的计算图:\n",
    "\n",
    "Let's load all the data into TensorFlow and build the computation graph corresponding to our training:"
   ]
  },
  {
   "cell_type": "code",
   "execution_count": 13,
   "metadata": {
    "cellView": "both",
    "colab": {
     "autoexec": {
      "startup": false,
      "wait_interval": 0
     }
    },
    "colab_type": "code",
    "collapsed": true,
    "id": "Nfv39qvtvOl_"
   },
   "outputs": [],
   "source": [
    "# 即使用梯度下降训练, 如此多的数据也是难以承受的\n",
    "# With gradient descent training, even this much data is prohibitive.\n",
    "# 分组训练，加快周转时间\n",
    "# Subset the training data for faster turnaround.\n",
    "train_subset = 10000\n",
    "\n",
    "graph = tf.Graph()\n",
    "with graph.as_default():\n",
    "\n",
    "    # 导入数据.\n",
    "    # 通过加载读取训练，验证和测试数据创建常量张量\n",
    "    # Load the training, validation and test data into constants that are\n",
    "    # 附加到图形\n",
    "    tf_train_dataset = tf.constant(train_dataset[:train_subset, :])\n",
    "    tf_train_labels = tf.constant(train_labels[:train_subset])\n",
    "    tf_valid_dataset = tf.constant(valid_dataset)\n",
    "    tf_test_dataset = tf.constant(test_dataset)\n",
    "\n",
    "    # 权重变量.\n",
    "    # 这些是我们将要训练的参数。\n",
    "    # These are the parameters that we are going to be training. \n",
    "    # 将使用（截断）正态分布后的随机值来初始化权重矩阵，偏差初始化为零\n",
    "    # The weight matrix will be initialized using random values following a (truncated)\n",
    "    # normal distribution. The biases get initialized to zero.\n",
    "    weights = tf.Variable(tf.truncated_normal([image_size * image_size, num_labels]))\n",
    "    biases = tf.Variable(tf.zeros([num_labels]))\n",
    "\n",
    "    # 训练\n",
    "    # Training computation.\n",
    "    # 我们将把输入和权重方程相乘，再加上偏差。\n",
    "    # We multiply the inputs with the weight matrix, and add biases. \n",
    "    # 我们计算softmax和交叉熵（它是TensorFlow中的一个操作，因为它是很常见的，可以优化）\n",
    "    # We compute the softmax and cross-entropy (it's one operation in TensorFlow, because\n",
    "    # it's very common, and it can be optimized). \n",
    "    # 我们把这个熵的平均值贯穿于所有训练示例中: 这是我们的损失。\n",
    "    # We take the average of this cross-entropy across all training examples: that's our loss.\n",
    "    logits = tf.matmul(tf_train_dataset, weights) + biases\n",
    "    loss = tf.reduce_mean(\n",
    "    tf.nn.softmax_cross_entropy_with_logits(labels=tf_train_labels, logits=logits))\n",
    "\n",
    "    # 优化.我们将使用梯度下降找到最小损失\n",
    "    # We are going to find the minimum of this loss using gradient descent.\n",
    "    optimizer = tf.train.GradientDescentOptimizer(0.5).minimize(loss)\n",
    "\n",
    "    # 根据训练，验证和测试数据预测\n",
    "    # Predictions for the training, validation, and test data.\n",
    "    # 这不是训练的一部分，但是在这里，我们可以看到训练时报告的精准性\n",
    "    # These are not part of training, \n",
    "    # but merely here so that we can report accuracy figures as we train.\n",
    "    train_prediction = tf.nn.softmax(logits)\n",
    "    valid_prediction = tf.nn.softmax(tf.matmul(tf_valid_dataset, weights) + biases)\n",
    "    test_prediction = tf.nn.softmax(tf.matmul(tf_test_dataset, weights) + biases)"
   ]
  },
  {
   "cell_type": "markdown",
   "metadata": {
    "colab_type": "text",
    "id": "KQcL4uqISHjP"
   },
   "source": [
    "让我们运行这个计算并迭代:\n",
    "\n",
    "Let's run this computation and iterate:"
   ]
  },
  {
   "cell_type": "code",
   "execution_count": 14,
   "metadata": {
    "cellView": "both",
    "colab": {
     "autoexec": {
      "startup": false,
      "wait_interval": 0
     },
     "output_extras": [
      {
       "item_id": 9
      }
     ]
    },
    "colab_type": "code",
    "executionInfo": {
     "elapsed": 57454,
     "status": "ok",
     "timestamp": 1449847994134,
     "user": {
      "color": "",
      "displayName": "",
      "isAnonymous": false,
      "isMe": true,
      "permissionId": "",
      "photoUrl": "",
      "sessionId": "0",
      "userId": ""
     },
     "user_tz": 480
    },
    "id": "z2cjdenH869W",
    "outputId": "4c037ba1-b526-4d8e-e632-91e2a0333267"
   },
   "outputs": [
    {
     "name": "stdout",
     "output_type": "stream",
     "text": [
      "Initialized\n",
      "Loss at step 0: 18.883345\n",
      "Training accuracy: 9.8%\n",
      "Validation accuracy: 11.6%\n",
      "Loss at step 100: 2.362335\n",
      "Training accuracy: 71.5%\n",
      "Validation accuracy: 70.4%\n",
      "Loss at step 200: 1.872376\n",
      "Training accuracy: 74.7%\n",
      "Validation accuracy: 72.8%\n",
      "Loss at step 300: 1.609457\n",
      "Training accuracy: 76.4%\n",
      "Validation accuracy: 73.7%\n",
      "Loss at step 400: 1.437497\n",
      "Training accuracy: 77.4%\n",
      "Validation accuracy: 74.2%\n",
      "Loss at step 500: 1.313284\n",
      "Training accuracy: 78.2%\n",
      "Validation accuracy: 74.3%\n",
      "Loss at step 600: 1.217437\n",
      "Training accuracy: 78.7%\n",
      "Validation accuracy: 74.8%\n",
      "Loss at step 700: 1.140306\n",
      "Training accuracy: 79.3%\n",
      "Validation accuracy: 74.8%\n",
      "Loss at step 800: 1.076317\n",
      "Training accuracy: 79.6%\n",
      "Validation accuracy: 75.1%\n",
      "Test accuracy: 82.0%\n"
     ]
    }
   ],
   "source": [
    "num_steps = 801\n",
    "\n",
    "def accuracy(predictions, labels):\n",
    "    return (100.0 * np.sum(np.argmax(predictions, 1) == np.argmax(labels, 1))\n",
    "          / predictions.shape[0])\n",
    "\n",
    "with tf.Session(graph=graph) as session:\n",
    "    # 这是一个一次性操作，可以确保参数按照我们在图中描述的初始化：矩阵的随机权重，偏差为零。\n",
    "    # This is a one-time operation which ensures the parameters get initialized as\n",
    "    # we described in the graph: random weights for the matrix, zeros for the biases. \n",
    "    tf.global_variables_initializer().run()\n",
    "    print('Initialized')\n",
    "    for step in range(num_steps):\n",
    "    # 运行计算。我们用.run()运行优化\n",
    "    # Run the computations. We tell .run() that we want to run the optimizer,\n",
    "    # 获取损失值和训练预测返回到numpy数组\n",
    "    # and get the loss value and the training predictions returned as numpy arrays.\n",
    "    _, l, predictions = session.run([optimizer, loss, train_prediction])\n",
    "    if (step % 100 == 0):\n",
    "        print('Loss at step %d: %f' % (step, l))\n",
    "        print('Training accuracy: %.1f%%' % accuracy(\n",
    "        predictions, train_labels[:train_subset, :]))\n",
    "        # 调用 valid_prediction.eval() 基本上就像运行.run(),但是只得到一个numpy数组\n",
    "        # Calling .eval() on valid_prediction is basically like calling run(), \n",
    "        # but just to get that one numpy array. \n",
    "        # 注意，他重新计算了图的依赖\n",
    "        # Note that it recomputes all its graph dependencies.\n",
    "        print('Validation accuracy: %.1f%%' % accuracy(\n",
    "        valid_prediction.eval(), valid_labels))\n",
    "    print('Test accuracy: %.1f%%' % accuracy(test_prediction.eval(), test_labels))"
   ]
  },
  {
   "cell_type": "markdown",
   "metadata": {
    "colab_type": "text",
    "id": "x68f-hxRGm3H"
   },
   "source": [
    "现在我们来改用随机梯度下降训练，这样快很多。\n",
    "Let's now switch to stochastic gradient descent training instead, which is much faster.\n",
    "\n",
    "图是类似的，除了将所有训练数据保存到一个常量节点中，我们创建一个占位符（Placeholder）节点, 它将在每次调用session.run（）时提供实际数据。\n",
    "\n",
    "The graph will be similar, except that instead of holding all the training data into a constant node, we create a `Placeholder` node which will be fed actual data at every call of `session.run()`."
   ]
  },
  {
   "cell_type": "code",
   "execution_count": 15,
   "metadata": {
    "cellView": "both",
    "colab": {
     "autoexec": {
      "startup": false,
      "wait_interval": 0
     }
    },
    "colab_type": "code",
    "collapsed": true,
    "id": "qhPMzWYRGrzM"
   },
   "outputs": [],
   "source": [
    "batch_size = 128\n",
    "\n",
    "graph = tf.Graph()\n",
    "with graph.as_default():\n",
    "\n",
    "  # 输入数据。对于培训数据，我们使用一个占位符在运行时使用一个培训小批处理\n",
    "  # Input data. For the training data, we use a placeholder that will be fed\n",
    "  # at run time with a training minibatch.\n",
    "  tf_train_dataset = tf.placeholder(tf.float32, shape=(batch_size, image_size * image_size))\n",
    "  tf_train_labels = tf.placeholder(tf.float32, shape=(batch_size, num_labels))\n",
    "\n",
    "  tf_valid_dataset = tf.constant(valid_dataset)\n",
    "  tf_test_dataset = tf.constant(test_dataset)\n",
    "  \n",
    "  # 变量.\n",
    "  weights = tf.Variable(tf.truncated_normal([image_size * image_size, num_labels]))\n",
    "  biases = tf.Variable(tf.zeros([num_labels]))\n",
    "  \n",
    "  # 训练计算.\n",
    "  logits = tf.matmul(tf_train_dataset, weights) + biases\n",
    "  loss = tf.reduce_mean(tf.nn.softmax_cross_entropy_with_logits(labels=tf_train_labels, logits=logits))\n",
    "  \n",
    "  # 优化.\n",
    "  optimizer = tf.train.GradientDescentOptimizer(0.5).minimize(loss)\n",
    "  # 训练，验证和测试数据的预测\n",
    "  # Predictions for the training, validation, and test data.\n",
    "  train_prediction = tf.nn.softmax(logits)\n",
    "  valid_prediction = tf.nn.softmax(tf.matmul(tf_valid_dataset, weights) + biases)\n",
    "  test_prediction = tf.nn.softmax(tf.matmul(tf_test_dataset, weights) + biases)"
   ]
  },
  {
   "cell_type": "markdown",
   "metadata": {
    "colab_type": "text",
    "id": "XmVZESmtG4JH"
   },
   "source": [
    "让我们运行它"
   ]
  },
  {
   "cell_type": "code",
   "execution_count": 16,
   "metadata": {
    "cellView": "both",
    "colab": {
     "autoexec": {
      "startup": false,
      "wait_interval": 0
     },
     "output_extras": [
      {
       "item_id": 6
      }
     ]
    },
    "colab_type": "code",
    "executionInfo": {
     "elapsed": 66292,
     "status": "ok",
     "timestamp": 1449848003013,
     "user": {
      "color": "",
      "displayName": "",
      "isAnonymous": false,
      "isMe": true,
      "permissionId": "",
      "photoUrl": "",
      "sessionId": "0",
      "userId": ""
     },
     "user_tz": 480
    },
    "id": "FoF91pknG_YW",
    "outputId": "d255c80e-954d-4183-ca1c-c7333ce91d0a"
   },
   "outputs": [
    {
     "name": "stdout",
     "output_type": "stream",
     "text": [
      "Initialized\n",
      "Minibatch loss at step 0: 15.143641\n",
      "Minibatch accuracy: 10.2%\n",
      "Validation accuracy: 13.2%\n",
      "Minibatch loss at step 500: 1.482917\n",
      "Minibatch accuracy: 80.5%\n",
      "Validation accuracy: 75.2%\n",
      "Minibatch loss at step 1000: 1.124429\n",
      "Minibatch accuracy: 77.3%\n",
      "Validation accuracy: 76.5%\n",
      "Minibatch loss at step 1500: 0.855406\n",
      "Minibatch accuracy: 83.6%\n",
      "Validation accuracy: 77.1%\n",
      "Minibatch loss at step 2000: 0.687463\n",
      "Minibatch accuracy: 83.6%\n",
      "Validation accuracy: 77.7%\n",
      "Minibatch loss at step 2500: 0.982325\n",
      "Minibatch accuracy: 77.3%\n",
      "Validation accuracy: 78.0%\n",
      "Minibatch loss at step 3000: 1.132665\n",
      "Minibatch accuracy: 78.1%\n",
      "Validation accuracy: 79.1%\n",
      "Test accuracy: 86.7%\n"
     ]
    }
   ],
   "source": [
    "num_steps = 3001\n",
    "\n",
    "with tf.Session(graph=graph) as session:\n",
    "  tf.global_variables_initializer().run()\n",
    "  print(\"Initialized\")\n",
    "  for step in range(num_steps):\n",
    "    # 在训练数据中选择一个偏移量，该数据已被随机化。\n",
    "    # Pick an offset within the training data, which has been randomized.\n",
    "    # 提醒: 我们能使用更好的随机化穿过所有数据\n",
    "    # Note: we could use better randomization across epochs.\n",
    "    offset = (step * batch_size) % (train_labels.shape[0] - batch_size)\n",
    "    # 生成一个迷你批次\n",
    "    # Generate a mini batch.\n",
    "    batch_data = train_dataset[offset:(offset + batch_size), :]\n",
    "    batch_labels = train_labels[offset:(offset + batch_size), :]\n",
    "    # 准备一个字典，告诉会话在哪里提供迷你批处理\n",
    "    # Prepare a dictionary telling the session where to feed the minibatch.\n",
    "    # 字典的关键是要馈送的图标的占位符节点和值是numpy数组馈送\n",
    "    # The key of the dictionary is the placeholder node of the graph to be fed,\n",
    "    # and the value is the numpy array to feed to it.\n",
    "    feed_dict = {tf_train_dataset : batch_data, tf_train_labels : batch_labels}\n",
    "    _, l, predictions = session.run(\n",
    "      [optimizer, loss, train_prediction], feed_dict=feed_dict)\n",
    "    if (step % 500 == 0):\n",
    "      print(\"Minibatch loss at step %d: %f\" % (step, l))\n",
    "      print(\"Minibatch accuracy: %.1f%%\" % accuracy(predictions, batch_labels))\n",
    "      print(\"Validation accuracy: %.1f%%\" % accuracy(\n",
    "        valid_prediction.eval(), valid_labels))\n",
    "  print(\"Test accuracy: %.1f%%\" % accuracy(test_prediction.eval(), test_labels))"
   ]
  },
  {
   "cell_type": "markdown",
   "metadata": {
    "colab_type": "text",
    "id": "7omWxtvLLxik"
   },
   "source": [
    "---\n",
    "问题 Problem\n",
    "-------\n",
    "转换这个逻辑回归用例变成一个隐藏层的神经网络用整数线性单位nn.rule和1024个隐藏节点.这个模型应该改善你的训练和测试精准性\n",
    "\n",
    "Turn the logistic regression example with SGD into a 1-hidden layer neural network with rectified linear units [nn.relu()](https://www.tensorflow.org/versions/r0.7/api_docs/python/nn.html#relu) and 1024 hidden nodes. This model should improve your validation / test accuracy.\n",
    "\n",
    "---"
   ]
  },
  {
   "cell_type": "code",
   "execution_count": 45,
   "metadata": {
    "collapsed": true
   },
   "outputs": [],
   "source": [
    "batch_size = 128\n",
    "hidden_nodes = 1024\n",
    "\n",
    "graph = tf.Graph()\n",
    "with graph.as_default():\n",
    "\n",
    "    # 输入数据。对于培训数据，我们使用一个占位符在运行时使用一个培训小批处理\n",
    "    # Input data. For the training data, we use a placeholder that will be fed\n",
    "    # at run time with a training minibatch.\n",
    "    tf_train_dataset = tf.placeholder(tf.float32, shape=(batch_size, image_size * image_size))\n",
    "    tf_train_labels = tf.placeholder(tf.float32, shape=(batch_size, num_labels))\n",
    "\n",
    "    tf_valid_dataset = tf.constant(valid_dataset)\n",
    "    tf_test_dataset = tf.constant(test_dataset)\n",
    "\n",
    "    # 变量.\n",
    "    # 第一层\n",
    "    # truncated_normal 从一个正态分布片段中输出随机数值,\n",
    "    # 生成的值会遵循一个指定了平均值和标准差的正态分布，只保留两个标准差以内的值，超出的值会被弃掉重新生成。\n",
    "    # 返回 一个指定形状并用正态分布片段的随机值填充的张量\n",
    "    weights1 = tf.Variable(tf.truncated_normal([image_size * image_size, hidden_nodes]))\n",
    "    biases1 = tf.Variable(tf.zeros([hidden_nodes]))\n",
    "\n",
    "    # 第二层\n",
    "    weights2 = tf.Variable(tf.truncated_normal([hidden_nodes, num_labels]))\n",
    "    biases2 = tf.Variable(tf.zeros([num_labels]))\n",
    "\n",
    "\n",
    "    \n",
    "  \n",
    "  \n",
    "    # 训练计算.\n",
    "    # logits = tf.matmul(tf_train_dataset, weights) + biases\n",
    "    train_logits = tf.add(tf.matmul(tf_train_dataset, weights1),biases1)\n",
    "    train_logits = tf.nn.relu(train_logits)\n",
    "    train_logits = tf.add(tf.matmul(train_logits,weights2),biases2)\n",
    "\n",
    "    valid_logits = tf.add(tf.matmul(tf_valid_dataset, weights1),biases1)\n",
    "    valid_logits = tf.nn.relu(valid_logits)\n",
    "    valid_logits = tf.add(tf.matmul(valid_logits,weights2),biases2)\n",
    "\n",
    "    test_logits = tf.add(tf.matmul(tf_test_dataset, weights1),biases1)\n",
    "    test_logits = tf.nn.relu(test_logits)\n",
    "    test_logits = tf.add(tf.matmul(test_logits,weights2),biases2)\n",
    "    \n",
    "\n",
    "\n",
    "    loss = tf.reduce_mean(tf.nn.softmax_cross_entropy_with_logits(logits=train_logits, labels=tf_train_labels))\n",
    "    # 优化.\n",
    "    optimizer = tf.train.GradientDescentOptimizer(0.5).minimize(loss)\n",
    "    # 训练，验证和测试数据的预测\n",
    "    # Predictions for the training, validation, and test data.\n",
    "    train_prediction = tf.nn.softmax(train_logits)\n",
    "    valid_prediction = tf.nn.softmax(valid_logits)\n",
    "    test_prediction = tf.nn.softmax(test_logits)\n",
    "\n"
   ]
  },
  {
   "cell_type": "code",
   "execution_count": 46,
   "metadata": {},
   "outputs": [
    {
     "name": "stdout",
     "output_type": "stream",
     "text": [
      "Initialized\n",
      "Minibatch loss at step 0: 332.016418\n",
      "Minibatch accuracy: 11.7%\n",
      "Validation accuracy: 22.6%\n",
      "Minibatch loss at step 500: 18.727076\n",
      "Minibatch accuracy: 82.0%\n",
      "Validation accuracy: 78.7%\n",
      "Minibatch loss at step 1000: 14.503419\n",
      "Minibatch accuracy: 78.1%\n",
      "Validation accuracy: 81.5%\n",
      "Minibatch loss at step 1500: 5.280657\n",
      "Minibatch accuracy: 86.7%\n",
      "Validation accuracy: 81.3%\n",
      "Minibatch loss at step 2000: 2.402635\n",
      "Minibatch accuracy: 86.7%\n",
      "Validation accuracy: 82.1%\n",
      "Minibatch loss at step 2500: 3.886218\n",
      "Minibatch accuracy: 79.7%\n",
      "Validation accuracy: 80.5%\n",
      "Minibatch loss at step 3000: 2.336560\n",
      "Minibatch accuracy: 82.0%\n",
      "Validation accuracy: 82.1%\n",
      "Test accuracy: 89.1%\n"
     ]
    }
   ],
   "source": [
    "num_steps = 3001\n",
    "\n",
    "with tf.Session(graph=graph) as session:\n",
    "  tf.global_variables_initializer().run()\n",
    "  print(\"Initialized\")\n",
    "  for step in range(num_steps):\n",
    "    # 在训练数据中选择一个偏移量，该数据已被随机化。\n",
    "    # Pick an offset within the training data, which has been randomized.\n",
    "    # 提醒: 我们能使用更好的随机化穿过所有数据\n",
    "    # Note: we could use better randomization across epochs.\n",
    "    offset = (step * batch_size) % (train_labels.shape[0] - batch_size)\n",
    "    # 生成一个迷你批次\n",
    "    # Generate a mini batch.\n",
    "    batch_data = train_dataset[offset:(offset + batch_size), :]\n",
    "    batch_labels = train_labels[offset:(offset + batch_size), :]\n",
    "    # 准备一个字典，告诉会话在哪里提供迷你批处理\n",
    "    # Prepare a dictionary telling the session where to feed the minibatch.\n",
    "    # 字典的关键是要馈送的图标的占位符节点和值是numpy数组馈送\n",
    "    # The key of the dictionary is the placeholder node of the graph to be fed,\n",
    "    # and the value is the numpy array to feed to it.\n",
    "    feed_dict = {tf_train_dataset : batch_data, tf_train_labels : batch_labels}\n",
    "    _, l, predictions = session.run(\n",
    "      [optimizer, loss, train_prediction], feed_dict=feed_dict)\n",
    "    if (step % 500 == 0):\n",
    "      print(\"Minibatch loss at step %d: %f\" % (step, l))\n",
    "      print(\"Minibatch accuracy: %.1f%%\" % accuracy(predictions, batch_labels))\n",
    "      print(\"Validation accuracy: %.1f%%\" % accuracy(\n",
    "        valid_prediction.eval(), valid_labels))\n",
    "  print(\"Test accuracy: %.1f%%\" % accuracy(test_prediction.eval(), test_labels))"
   ]
  },
  {
   "cell_type": "code",
   "execution_count": 40,
   "metadata": {},
   "outputs": [
    {
     "name": "stdout",
     "output_type": "stream",
     "text": [
      "WARNING:tensorflow:From /Library/Frameworks/Python.framework/Versions/3.6/lib/python3.6/site-packages/tensorflow/python/util/tf_should_use.py:170: initialize_all_variables (from tensorflow.python.ops.variables) is deprecated and will be removed after 2017-03-02.\n",
      "Instructions for updating:\n",
      "Use `tf.global_variables_initializer` instead.\n",
      "Initialized\n",
      "Minibatch loss at step 0: 346.990967\n",
      "Minibatch accuracy: 8.6%\n",
      "Validation accuracy: 33.2%\n",
      "Minibatch loss at step 500: 25.715347\n",
      "Minibatch accuracy: 80.5%\n",
      "Validation accuracy: 77.8%\n",
      "Minibatch loss at step 1000: 8.652662\n",
      "Minibatch accuracy: 78.9%\n",
      "Validation accuracy: 80.5%\n",
      "Minibatch loss at step 1500: 4.688735\n",
      "Minibatch accuracy: 85.9%\n",
      "Validation accuracy: 81.6%\n",
      "Minibatch loss at step 2000: 3.423947\n",
      "Minibatch accuracy: 86.7%\n",
      "Validation accuracy: 80.7%\n",
      "Minibatch loss at step 2500: 6.644867\n",
      "Minibatch accuracy: 79.7%\n",
      "Validation accuracy: 81.6%\n",
      "Minibatch loss at step 3000: 2.125021\n",
      "Minibatch accuracy: 82.0%\n",
      "Validation accuracy: 82.1%\n",
      "Test accuracy: 89.5%\n"
     ]
    }
   ],
   "source": [
    "batch_size = 128\n",
    "hiden_layer_node_num = 1024\n",
    "\n",
    "# tensorflow作为一个基于图结构的深度学习框架，内部通过session实现图和计算内核的交互\n",
    "# tensorflow因为代码执行过程是先构建图，然后在执行，所以对中间过程的调试不太方便，所以提供了一个tensorboard工具来便于调试\n",
    "graph = tf.Graph()\n",
    "with graph.as_default():\n",
    "    # -----------------------------------------1\n",
    "    # 输入 \n",
    "    # placeholder 插入一个待初始化的张量占位符\n",
    "    # 重要事项：这个张量被求值时会产生错误。 \n",
    "    # 它的值必须在Session.run(), Tensor.eval() 或 Operation.run() 中使用feed_dict的这个可选参数来填充。\n",
    "    tf_train_dataset = tf.placeholder(tf.float32, shape=(batch_size, image_size * image_size))\n",
    "    tf_train_labels = tf.placeholder(tf.float32, shape=(batch_size, num_labels))\n",
    "    # 创建一个常量张量\n",
    "    # tf_valid_dataset = Tensor(\"Const:0\", shape=(10000, 784), dtype=float32)\n",
    "    tf_valid_dataset = tf.constant(valid_dataset)\n",
    "    tf_test_dataset = tf.constant(test_dataset)\n",
    "    \n",
    "    # ------------------------------------------2\n",
    "    # 变量\n",
    "    # 当你训练一个模型的时候，你使用变量去保存和更新参数。\n",
    "    # 在Tensorflow中变量是内存缓冲区中保存的张量（tensor）。\n",
    "    weights1 = tf.Variable(tf.truncated_normal([image_size * image_size, hiden_layer_node_num]))\n",
    "    biases1 = tf.Variable(tf.zeros([hiden_layer_node_num]))\n",
    "    \n",
    "    # 输入层输出 (批量尺寸batch_size, 隐藏节点hiden_layer_node_num)\n",
    "    weights2 = tf.Variable(tf.truncated_normal([hiden_layer_node_num, num_labels]))\n",
    "    biases2 = tf.Variable(tf.zeros([num_labels]))\n",
    "    \n",
    "  \n",
    "    # ------------------------------------------3\n",
    "    # 训练计算.\n",
    "    logits = tf.matmul(tf.nn.relu(tf.matmul(tf_train_dataset, weights1) + biases1), weights2) + biases2\n",
    "    # 可跨越维度的计算张量各元素的平均值\n",
    "    # 计算loss是代价值，也就是我们要最小化的值\n",
    "    # 第一个参数logits：就是神经网络最后一层的输出，\n",
    "    # 如果有batch的话，它的大小就是[batchsize，num_classes]，单样本的话，大小就是num_classes\n",
    "    # 第二个参数labels：实际的标签，大小同上\n",
    "    # 第一步是先对网络最后一层的输出做一个softmax，这一步通常是求取输出属于某一类的概率\n",
    "    # 第二步是softmax的输出向量[Y1，Y2,Y3...]和样本的实际标签做一个交叉熵\n",
    "    # 注意！！！这个函数的返回值并不是一个数，而是一个向量.\n",
    "    # 如果要求交叉熵，我们要再做一步tf.reduce_sum操作,就是对向量里面所有元素求和，最后才得到. \n",
    "    # 如果求loss，则要做一步tf.reduce_mean操作，对向量求均值！\n",
    "    loss = tf.reduce_mean(tf.nn.softmax_cross_entropy_with_logits(logits=logits, labels=tf_train_labels))\n",
    "    \n",
    "  \n",
    "    # -------------------------------------------4\n",
    "    # 最优化.因为深度学习常见的是对于梯度的优化，也就是说，优化器最后其实就是各种对于梯度下降算法的优化。 \n",
    "    # 函数training()通过梯度下降法为最小化损失函数增加了相关的优化操作，在训练过程中，\n",
    "    # 先实例化一个优化函数，比如 tf.train.GradientDescentOptimizer，并基于一定的学习率进行梯度优化训练：\n",
    "    # learning_rate参数：要使用的学习率 \n",
    "    # minimize：非常常用的一个函数 通过更新var_list来减小loss，这个函数就是前面compute_gradients() 和apply_gradients().的结合\n",
    "    optimizer = tf.train.GradientDescentOptimizer(0.5).minimize(loss)\n",
    "  \n",
    "    \n",
    "    #--------------------------------------------5\n",
    "    # 预测训练, 验证,和测试数据.\n",
    "    # tf.nn.softmax仅产生将softmax function应用于输入张量的结果。 \n",
    "    # softmax 压扁输入，使sum(输入)= 1;这是一种正常化的方式。 \n",
    "    # softmax的输出形状与输入相同 – 它只是对值进行归一化。 \n",
    "    # softmax的输出可以解释为概率。\n",
    "    # a = tf.constant(np.array([[.1, .3, .5, .9]]))\n",
    "    # print s.run(tf.nn.softmax(a))\n",
    "    # [[ 0.16838508  0.205666    0.25120102  0.37474789]]\n",
    "    train_prediction = tf.nn.softmax(logits)\n",
    "    valid_prediction = tf.nn.softmax(tf.matmul(tf.nn.relu(tf.matmul(tf_valid_dataset, weights1) + biases1), weights2) + biases2)\n",
    "    test_prediction = tf.nn.softmax(tf.matmul(tf.nn.relu(tf.matmul(tf_test_dataset, weights1) + biases1), weights2) + biases2)\n",
    "\n",
    "    \n",
    "num_steps = 3001\n",
    "# Session（会话）是负责graph（图）执行的。\n",
    "with tf.Session(graph=graph) as session:\n",
    "    # 准备计算所需要初始化的变量，但是返回结果将会是‘None’\n",
    "    tf.initialize_all_variables().run()\n",
    "    print(\"Initialized\")\n",
    "    # 设定输出日志路径和图\n",
    "    summary_writer = tf.summary.FileWriter('uda_logs', session.graph)\n",
    "    \n",
    "    for step in range(num_steps):\n",
    "        # 在训练数据中选择一个已被随机化的偏移量.\n",
    "        # 提醒: 我们能使用更好的随机化穿过所有数据.\n",
    "        offset = (step * batch_size) % (train_labels.shape[0] - batch_size)\n",
    "        # 生成一个小批量数据\n",
    "        batch_data = train_dataset[offset:(offset + batch_size), :]\n",
    "        batch_labels = train_labels[offset:(offset + batch_size), :]\n",
    "        # feed_dict的作用是给使用placeholder创建出来的tensor赋值。\n",
    "        # 其实，他的作用更加广泛：feed 使用一个 值临时替换一个 op 的输出结果. \n",
    "        # 你可以提供 feed 数据作为 run() 调用的参数. feed 只在调用它的方法内有效, 方法结束, feed 就会消失.\n",
    "        #  传递值到tf的命名空间\n",
    "        feed_dict = {tf_train_dataset : batch_data, tf_train_labels : batch_labels}\n",
    "        summary, l, predictions = session.run([optimizer, loss, train_prediction], feed_dict=feed_dict)\n",
    "        # 输出日志\n",
    "        merged = tf.summary.merge_all()\n",
    "        summary_writer.add_summary(summary, step)\n",
    "        if (step % 500 == 0):\n",
    "            # print(type(l))\n",
    "            # print(type(predictions))\n",
    "            print(\"Minibatch loss at step %d: %f\" % (step, l))\n",
    "            print(\"Minibatch accuracy: %.1f%%\" % accuracy(predictions, batch_labels))\n",
    "            print(\"Validation accuracy: %.1f%%\" % accuracy(valid_prediction.eval(), valid_labels))\n",
    "    print(\"Test accuracy: %.1f%%\" % accuracy(test_prediction.eval(), test_labels))"
   ]
  },
  {
   "cell_type": "code",
   "execution_count": 39,
   "metadata": {
    "collapsed": true
   },
   "outputs": [],
   "source": []
  },
  {
   "cell_type": "code",
   "execution_count": null,
   "metadata": {
    "collapsed": true
   },
   "outputs": [],
   "source": []
  }
 ],
 "metadata": {
  "colab": {
   "default_view": {},
   "name": "2_fullyconnected.ipynb",
   "provenance": [],
   "version": "0.3.2",
   "views": {}
  },
  "kernelspec": {
   "display_name": "Python 3",
   "language": "python",
   "name": "python3"
  },
  "language_info": {
   "codemirror_mode": {
    "name": "ipython",
    "version": 3
   },
   "file_extension": ".py",
   "mimetype": "text/x-python",
   "name": "python",
   "nbconvert_exporter": "python",
   "pygments_lexer": "ipython3",
   "version": "3.6.0"
  }
 },
 "nbformat": 4,
 "nbformat_minor": 1
}
