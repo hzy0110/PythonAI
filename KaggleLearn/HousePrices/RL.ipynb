{
 "cells": [
  {
   "cell_type": "markdown",
   "metadata": {
    "_cell_guid": "e6335977-1dcb-a5bc-4856-184dd7bce3f9"
   },
   "source": [
    "## Trying out a linear model: \n",
    "\n",
    "Author: Alexandru Papiu ([@apapiu](https://twitter.com/apapiu), [GitHub](https://github.com/apapiu))\n",
    " \n",
    "If you use parts of this notebook in your own scripts, please give some sort of credit (for example link back to this). Thanks!\n",
    "\n",
    "\n",
    "There have been a few [great](https://www.kaggle.com/comartel/house-prices-advanced-regression-techniques/house-price-xgboost-starter/run/348739)  [scripts](https://www.kaggle.com/zoupet/house-prices-advanced-regression-techniques/xgboost-10-kfolds-with-scikit-learn/run/357561) on [xgboost](https://www.kaggle.com/tadepalli/house-prices-advanced-regression-techniques/xgboost-with-n-trees-autostop-0-12638/run/353049) already so I'd figured I'd try something simpler: a regularized linear regression model. Surprisingly it does really well with very little feature engineering. The key point is to to log_transform the numeric variables since most of them are skewed."
   ]
  },
  {
   "cell_type": "code",
   "execution_count": 221,
   "metadata": {
    "_cell_guid": "0d706811-b70c-aeab-a78b-3c7abd9978d3",
    "collapsed": true
   },
   "outputs": [],
   "source": [
    "import pandas as pd\n",
    "import numpy as np\n",
    "import seaborn as sns\n",
    "import matplotlib\n",
    "\n",
    "import matplotlib.pyplot as plt\n",
    "from scipy.stats import skew\n",
    "from scipy.stats.stats import pearsonr\n",
    "\n",
    "\n",
    "%config InlineBackend.figure_format = 'retina' #set 'png' here when working on notebook\n",
    "%matplotlib inline"
   ]
  },
  {
   "cell_type": "code",
   "execution_count": 222,
   "metadata": {
    "_cell_guid": "603292c1-44b7-d72a-5468-e6782f311603",
    "collapsed": true
   },
   "outputs": [],
   "source": [
    "train = pd.read_csv(\"input/train.csv\")\n",
    "test = pd.read_csv(\"input/test.csv\")\n",
    "ids = test['Id']"
   ]
  },
  {
   "cell_type": "code",
   "execution_count": 223,
   "metadata": {},
   "outputs": [
    {
     "data": {
      "text/plain": [
       "(1460, 81)"
      ]
     },
     "execution_count": 223,
     "metadata": {},
     "output_type": "execute_result"
    }
   ],
   "source": [
    "train.shape"
   ]
  },
  {
   "cell_type": "code",
   "execution_count": 224,
   "metadata": {},
   "outputs": [
    {
     "data": {
      "text/plain": [
       "(1459, 80)"
      ]
     },
     "execution_count": 224,
     "metadata": {},
     "output_type": "execute_result"
    }
   ],
   "source": [
    "test.shape"
   ]
  },
  {
   "cell_type": "code",
   "execution_count": 225,
   "metadata": {
    "_cell_guid": "d646bb1b-56c4-9b45-d5d4-27095f61b1c0"
   },
   "outputs": [
    {
     "data": {
      "text/html": [
       "<div>\n",
       "<style>\n",
       "    .dataframe thead tr:only-child th {\n",
       "        text-align: right;\n",
       "    }\n",
       "\n",
       "    .dataframe thead th {\n",
       "        text-align: left;\n",
       "    }\n",
       "\n",
       "    .dataframe tbody tr th {\n",
       "        vertical-align: top;\n",
       "    }\n",
       "</style>\n",
       "<table border=\"1\" class=\"dataframe\">\n",
       "  <thead>\n",
       "    <tr style=\"text-align: right;\">\n",
       "      <th></th>\n",
       "      <th>Id</th>\n",
       "      <th>MSSubClass</th>\n",
       "      <th>MSZoning</th>\n",
       "      <th>LotFrontage</th>\n",
       "      <th>LotArea</th>\n",
       "      <th>Street</th>\n",
       "      <th>Alley</th>\n",
       "      <th>LotShape</th>\n",
       "      <th>LandContour</th>\n",
       "      <th>Utilities</th>\n",
       "      <th>...</th>\n",
       "      <th>PoolArea</th>\n",
       "      <th>PoolQC</th>\n",
       "      <th>Fence</th>\n",
       "      <th>MiscFeature</th>\n",
       "      <th>MiscVal</th>\n",
       "      <th>MoSold</th>\n",
       "      <th>YrSold</th>\n",
       "      <th>SaleType</th>\n",
       "      <th>SaleCondition</th>\n",
       "      <th>SalePrice</th>\n",
       "    </tr>\n",
       "  </thead>\n",
       "  <tbody>\n",
       "    <tr>\n",
       "      <th>0</th>\n",
       "      <td>1</td>\n",
       "      <td>60</td>\n",
       "      <td>RL</td>\n",
       "      <td>65.0</td>\n",
       "      <td>8450</td>\n",
       "      <td>Pave</td>\n",
       "      <td>NaN</td>\n",
       "      <td>Reg</td>\n",
       "      <td>Lvl</td>\n",
       "      <td>AllPub</td>\n",
       "      <td>...</td>\n",
       "      <td>0</td>\n",
       "      <td>NaN</td>\n",
       "      <td>NaN</td>\n",
       "      <td>NaN</td>\n",
       "      <td>0</td>\n",
       "      <td>2</td>\n",
       "      <td>2008</td>\n",
       "      <td>WD</td>\n",
       "      <td>Normal</td>\n",
       "      <td>208500</td>\n",
       "    </tr>\n",
       "    <tr>\n",
       "      <th>1</th>\n",
       "      <td>2</td>\n",
       "      <td>20</td>\n",
       "      <td>RL</td>\n",
       "      <td>80.0</td>\n",
       "      <td>9600</td>\n",
       "      <td>Pave</td>\n",
       "      <td>NaN</td>\n",
       "      <td>Reg</td>\n",
       "      <td>Lvl</td>\n",
       "      <td>AllPub</td>\n",
       "      <td>...</td>\n",
       "      <td>0</td>\n",
       "      <td>NaN</td>\n",
       "      <td>NaN</td>\n",
       "      <td>NaN</td>\n",
       "      <td>0</td>\n",
       "      <td>5</td>\n",
       "      <td>2007</td>\n",
       "      <td>WD</td>\n",
       "      <td>Normal</td>\n",
       "      <td>181500</td>\n",
       "    </tr>\n",
       "    <tr>\n",
       "      <th>2</th>\n",
       "      <td>3</td>\n",
       "      <td>60</td>\n",
       "      <td>RL</td>\n",
       "      <td>68.0</td>\n",
       "      <td>11250</td>\n",
       "      <td>Pave</td>\n",
       "      <td>NaN</td>\n",
       "      <td>IR1</td>\n",
       "      <td>Lvl</td>\n",
       "      <td>AllPub</td>\n",
       "      <td>...</td>\n",
       "      <td>0</td>\n",
       "      <td>NaN</td>\n",
       "      <td>NaN</td>\n",
       "      <td>NaN</td>\n",
       "      <td>0</td>\n",
       "      <td>9</td>\n",
       "      <td>2008</td>\n",
       "      <td>WD</td>\n",
       "      <td>Normal</td>\n",
       "      <td>223500</td>\n",
       "    </tr>\n",
       "    <tr>\n",
       "      <th>3</th>\n",
       "      <td>4</td>\n",
       "      <td>70</td>\n",
       "      <td>RL</td>\n",
       "      <td>60.0</td>\n",
       "      <td>9550</td>\n",
       "      <td>Pave</td>\n",
       "      <td>NaN</td>\n",
       "      <td>IR1</td>\n",
       "      <td>Lvl</td>\n",
       "      <td>AllPub</td>\n",
       "      <td>...</td>\n",
       "      <td>0</td>\n",
       "      <td>NaN</td>\n",
       "      <td>NaN</td>\n",
       "      <td>NaN</td>\n",
       "      <td>0</td>\n",
       "      <td>2</td>\n",
       "      <td>2006</td>\n",
       "      <td>WD</td>\n",
       "      <td>Abnorml</td>\n",
       "      <td>140000</td>\n",
       "    </tr>\n",
       "    <tr>\n",
       "      <th>4</th>\n",
       "      <td>5</td>\n",
       "      <td>60</td>\n",
       "      <td>RL</td>\n",
       "      <td>84.0</td>\n",
       "      <td>14260</td>\n",
       "      <td>Pave</td>\n",
       "      <td>NaN</td>\n",
       "      <td>IR1</td>\n",
       "      <td>Lvl</td>\n",
       "      <td>AllPub</td>\n",
       "      <td>...</td>\n",
       "      <td>0</td>\n",
       "      <td>NaN</td>\n",
       "      <td>NaN</td>\n",
       "      <td>NaN</td>\n",
       "      <td>0</td>\n",
       "      <td>12</td>\n",
       "      <td>2008</td>\n",
       "      <td>WD</td>\n",
       "      <td>Normal</td>\n",
       "      <td>250000</td>\n",
       "    </tr>\n",
       "  </tbody>\n",
       "</table>\n",
       "<p>5 rows × 81 columns</p>\n",
       "</div>"
      ],
      "text/plain": [
       "   Id  MSSubClass MSZoning  LotFrontage  LotArea Street Alley LotShape  \\\n",
       "0   1          60       RL         65.0     8450   Pave   NaN      Reg   \n",
       "1   2          20       RL         80.0     9600   Pave   NaN      Reg   \n",
       "2   3          60       RL         68.0    11250   Pave   NaN      IR1   \n",
       "3   4          70       RL         60.0     9550   Pave   NaN      IR1   \n",
       "4   5          60       RL         84.0    14260   Pave   NaN      IR1   \n",
       "\n",
       "  LandContour Utilities    ...     PoolArea PoolQC Fence MiscFeature MiscVal  \\\n",
       "0         Lvl    AllPub    ...            0    NaN   NaN         NaN       0   \n",
       "1         Lvl    AllPub    ...            0    NaN   NaN         NaN       0   \n",
       "2         Lvl    AllPub    ...            0    NaN   NaN         NaN       0   \n",
       "3         Lvl    AllPub    ...            0    NaN   NaN         NaN       0   \n",
       "4         Lvl    AllPub    ...            0    NaN   NaN         NaN       0   \n",
       "\n",
       "  MoSold YrSold  SaleType  SaleCondition  SalePrice  \n",
       "0      2   2008        WD         Normal     208500  \n",
       "1      5   2007        WD         Normal     181500  \n",
       "2      9   2008        WD         Normal     223500  \n",
       "3      2   2006        WD        Abnorml     140000  \n",
       "4     12   2008        WD         Normal     250000  \n",
       "\n",
       "[5 rows x 81 columns]"
      ]
     },
     "execution_count": 225,
     "metadata": {},
     "output_type": "execute_result"
    }
   ],
   "source": [
    "train.head()"
   ]
  },
  {
   "cell_type": "code",
   "execution_count": 226,
   "metadata": {
    "_cell_guid": "cb2d88d7-7f76-4b04-d28b-d2c315ae4346",
    "collapsed": true
   },
   "outputs": [],
   "source": [
    "all_data = pd.concat((train.loc[:,'MSSubClass':'SaleCondition'],\n",
    "                      test.loc[:,'MSSubClass':'SaleCondition']))"
   ]
  },
  {
   "cell_type": "markdown",
   "metadata": {
    "_cell_guid": "29fa13df-61e8-b0c2-b3a7-ea92bffd4396"
   },
   "source": [
    "###Data preprocessing: \n",
    "We're not going to do anything fancy here: \n",
    " \n",
    "- First I'll transform the skewed numeric features by taking log(feature + 1) - this will make the features more normal    \n",
    "- Create Dummy variables for the categorical features    \n",
    "- Replace the numeric missing values (NaN's) with the mean of their respective columns"
   ]
  },
  {
   "cell_type": "code",
   "execution_count": 227,
   "metadata": {
    "_cell_guid": "9b5a3e5b-f683-3fd2-7269-4068975bbe42"
   },
   "outputs": [
    {
     "data": {
      "text/plain": [
       "array([[<matplotlib.axes._subplots.AxesSubplot object at 0x123a63f28>,\n",
       "        <matplotlib.axes._subplots.AxesSubplot object at 0x1259dfe80>]], dtype=object)"
      ]
     },
     "execution_count": 227,
     "metadata": {},
     "output_type": "execute_result"
    },
    {
     "data": {
      "image/png": "[encoded data removed]",
      "text/plain": [
       "<matplotlib.figure.Figure at 0x11de9fa90>"
      ]
     },
     "metadata": {
      "image/png": {
       "height": 372,
       "width": 712
      }
     },
     "output_type": "display_data"
    }
   ],
   "source": [
    "matplotlib.rcParams['figure.figsize'] = (12.0, 6.0)\n",
    "prices = pd.DataFrame({\"price\":train[\"SalePrice\"], \"log(price + 1)\":np.log1p(train[\"SalePrice\"])})\n",
    "prices.hist()"
   ]
  },
  {
   "cell_type": "code",
   "execution_count": 228,
   "metadata": {
    "_cell_guid": "4ed54771-95c4-00e7-b2cd-569d17862878",
    "collapsed": true
   },
   "outputs": [],
   "source": [
    "#log transform the target:\n",
    "train[\"SalePrice\"] = np.log1p(train[\"SalePrice\"])\n",
    "\n",
    "#log transform skewed numeric features:\n",
    "numeric_feats = all_data.dtypes[all_data.dtypes != \"object\"].index\n",
    "\n",
    "skewed_feats = train[numeric_feats].apply(lambda x: skew(x.dropna())) #compute skewness\n",
    "skewed_feats = skewed_feats[skewed_feats > 0.75]\n",
    "skewed_feats = skewed_feats.index\n",
    "\n",
    "all_data[skewed_feats] = np.log1p(all_data[skewed_feats])"
   ]
  },
  {
   "cell_type": "code",
   "execution_count": 229,
   "metadata": {
    "_cell_guid": "3854ab12-a4f3-4c88-fe6e-1fee08e18af2"
   },
   "outputs": [],
   "source": [
    "all_data = pd.get_dummies(all_data)\n",
    "# 还有标题"
   ]
  },
  {
   "cell_type": "code",
   "execution_count": 230,
   "metadata": {
    "_cell_guid": "5d417300-0deb-3353-cabf-95f75af62678",
    "collapsed": true
   },
   "outputs": [],
   "source": [
    "#filling NA's with the mean of the column:\n",
    "all_data = all_data.fillna(all_data.mean())"
   ]
  },
  {
   "cell_type": "code",
   "execution_count": 231,
   "metadata": {
    "_cell_guid": "fe687685-cdac-0a89-4d71-af2d11d87a81"
   },
   "outputs": [
    {
     "name": "stdout",
     "output_type": "stream",
     "text": [
      "<class 'pandas.core.frame.DataFrame'>\n",
      "(1459, 288)\n"
     ]
    }
   ],
   "source": [
    "#creating matrices for sklearn:\n",
    "X_train = all_data[:train.shape[0]]\n",
    "X_test = all_data[train.shape[0]:]\n",
    "y = train.SalePrice\n",
    "print(type(X_test))\n",
    "print(X_test.shape)\n",
    "# 还有标题\n",
    "# print(\"X_train\",X_train)\n",
    "# print(\"X_test\",X_test)"
   ]
  },
  {
   "cell_type": "code",
   "execution_count": 232,
   "metadata": {},
   "outputs": [
    {
     "name": "stdout",
     "output_type": "stream",
     "text": [
      "(1460, 288)\n",
      "(1459, 288)\n",
      "(1460,)\n"
     ]
    }
   ],
   "source": [
    "print(X_train.shape)\n",
    "print(X_test.shape)\n",
    "print(y.shape)\n"
   ]
  },
  {
   "cell_type": "markdown",
   "metadata": {
    "_cell_guid": "cc4e3014-23b7-2971-ddb0-f67b03f83558"
   },
   "source": [
    "###Models\n",
    "\n",
    "Now we are going to use regularized linear regression models from the scikit learn module. I'm going to try both l_1(Lasso) and l_2(Ridge) regularization. I'll also define a function that returns the cross-validation rmse error so we can evaluate our models and pick the best tuning par"
   ]
  },
  {
   "cell_type": "code",
   "execution_count": 233,
   "metadata": {
    "_cell_guid": "82886739-eee6-5d7a-4be9-e1fe6ac059f1",
    "collapsed": true
   },
   "outputs": [],
   "source": [
    "from sklearn.linear_model import Ridge, RidgeCV, ElasticNet, LassoCV, LassoLarsCV\n",
    "from sklearn.model_selection import cross_val_score\n",
    "\n",
    "def rmse_cv(model):\n",
    "    rmse= np.sqrt(-cross_val_score(model, X_train, y, scoring=\"neg_mean_squared_error\", cv = 5))\n",
    "    return(rmse)"
   ]
  },
  {
   "cell_type": "code",
   "execution_count": 234,
   "metadata": {
    "_cell_guid": "436ce6e8-917f-8c88-3d7b-245e82a1619f",
    "collapsed": true
   },
   "outputs": [],
   "source": [
    "model_ridge = Ridge()"
   ]
  },
  {
   "cell_type": "markdown",
   "metadata": {
    "_cell_guid": "69ff958c-dbbb-4750-3fb0-d0ac17ff6363"
   },
   "source": [
    "The main tuning parameter for the Ridge model is alpha - a regularization parameter that measures how flexible our model is. The higher the regularization the less prone our model will be to overfit. However it will also lose flexibility and might not capture all of the signal in the data."
   ]
  },
  {
   "cell_type": "code",
   "execution_count": 235,
   "metadata": {
    "_cell_guid": "f6b86166-f581-6e05-5274-d3d3516ebaf3",
    "collapsed": true
   },
   "outputs": [],
   "source": [
    "alphas = [0.05, 0.1, 0.3, 1, 3, 5, 10, 15, 30, 50, 75]\n",
    "cv_ridge = [rmse_cv(Ridge(alpha = alpha)).mean() \n",
    "            for alpha in alphas]"
   ]
  },
  {
   "cell_type": "code",
   "execution_count": 236,
   "metadata": {
    "_cell_guid": "f8cf53ba-8441-9233-b7f5-a851d270b770"
   },
   "outputs": [
    {
     "data": {
      "text/plain": [
       "<matplotlib.text.Text at 0x111be6048>"
      ]
     },
     "execution_count": 236,
     "metadata": {},
     "output_type": "execute_result"
    },
    {
     "data": {
      "image/png": "[encoded data removed]",
      "text/plain": [
       "<matplotlib.figure.Figure at 0x11dd316d8>"
      ]
     },
     "metadata": {
      "image/png": {
       "height": 386,
       "width": 735
      }
     },
     "output_type": "display_data"
    }
   ],
   "source": [
    "cv_ridge = pd.Series(cv_ridge, index = alphas)\n",
    "cv_ridge.plot(title = \"Validation - Just Do It\")\n",
    "plt.xlabel(\"alpha\")\n",
    "plt.ylabel(\"rmse\")"
   ]
  },
  {
   "cell_type": "markdown",
   "metadata": {
    "_cell_guid": "37486402-4a48-912f-84ee-a3611334b133"
   },
   "source": [
    "Note the U-ish shaped curve above. When alpha is too large the regularization is too strong and the model cannot capture all the complexities in the data. If however we let the model be too flexible (alpha small) the model begins to overfit. A value of alpha = 10 is about right based on the plot above."
   ]
  },
  {
   "cell_type": "code",
   "execution_count": 237,
   "metadata": {
    "_cell_guid": "d42c18c9-ee70-929f-ce63-aac7f77796cc"
   },
   "outputs": [
    {
     "data": {
      "text/plain": [
       "0.12733734668670763"
      ]
     },
     "execution_count": 237,
     "metadata": {},
     "output_type": "execute_result"
    }
   ],
   "source": [
    "cv_ridge.min()"
   ]
  },
  {
   "cell_type": "markdown",
   "metadata": {
    "_cell_guid": "863fb699-7bcd-3748-3dbb-1c9b18afee9b"
   },
   "source": [
    "So for the Ridge regression we get a rmsle of about 0.127\n",
    "\n",
    "Let' try out the Lasso model. We will do a slightly different approach here and use the built in Lasso CV to figure out the best alpha for us. For some reason the alphas in Lasso CV are really the inverse or the alphas in Ridge."
   ]
  },
  {
   "cell_type": "code",
   "execution_count": 238,
   "metadata": {
    "_cell_guid": "8204520c-a595-2ad2-4685-0b84cc662b84",
    "collapsed": true
   },
   "outputs": [],
   "source": [
    "model_lasso = LassoCV(alphas = [1, 0.1, 0.001, 0.0005]).fit(X_train, y)"
   ]
  },
  {
   "cell_type": "code",
   "execution_count": 239,
   "metadata": {
    "_cell_guid": "e78e6126-4de0-08ad-250b-46a3f0f48de0"
   },
   "outputs": [
    {
     "data": {
      "text/plain": [
       "0.12314421090977448"
      ]
     },
     "execution_count": 239,
     "metadata": {},
     "output_type": "execute_result"
    }
   ],
   "source": [
    "rmse_cv(model_lasso).mean()"
   ]
  },
  {
   "cell_type": "markdown",
   "metadata": {
    "_cell_guid": "abc5f43e-1c38-4c1e-cb70-a95c8d9be8de"
   },
   "source": [
    "Nice! The lasso performs even better so we'll just use this one to predict on the test set. Another neat thing about the Lasso is that it does feature selection for you - setting coefficients of features it deems unimportant to zero. Let's take a look at the coefficients:"
   ]
  },
  {
   "cell_type": "code",
   "execution_count": 240,
   "metadata": {
    "_cell_guid": "c7be87ca-412a-cb19-1524-cd94cf698d44",
    "collapsed": true
   },
   "outputs": [],
   "source": [
    "coef = pd.Series(model_lasso.coef_, index = X_train.columns)"
   ]
  },
  {
   "cell_type": "code",
   "execution_count": 241,
   "metadata": {
    "_cell_guid": "14be641e-bbe0-824d-d90f-f47698c8b5c5"
   },
   "outputs": [
    {
     "name": "stdout",
     "output_type": "stream",
     "text": [
      "Lasso picked 111 variables and eliminated the other 177 variables\n"
     ]
    }
   ],
   "source": [
    "print(\"Lasso picked \" + str(sum(coef != 0)) + \" variables and eliminated the other \" +  str(sum(coef == 0)) + \" variables\")"
   ]
  },
  {
   "cell_type": "markdown",
   "metadata": {
    "_cell_guid": "ca153134-b109-1afc-e066-44273f65d44c"
   },
   "source": [
    "Good job Lasso.  One thing to note here however is that the features selected are not necessarily the \"correct\" ones - especially since there are a lot of collinear features in this dataset. One idea to try here is run Lasso a few times on boostrapped samples and see how stable the feature selection is."
   ]
  },
  {
   "cell_type": "markdown",
   "metadata": {
    "_cell_guid": "632e23a8-948f-c692-f5e9-1aa8a75f21d5"
   },
   "source": [
    "We can also take a look directly at what the most important coefficients are:"
   ]
  },
  {
   "cell_type": "code",
   "execution_count": 242,
   "metadata": {
    "_cell_guid": "3efc02df-c877-b1fe-1807-5dd93c896c63",
    "collapsed": true
   },
   "outputs": [],
   "source": [
    "imp_coef = pd.concat([coef.sort_values().head(10),\n",
    "                     coef.sort_values().tail(10)])"
   ]
  },
  {
   "cell_type": "code",
   "execution_count": 243,
   "metadata": {
    "_cell_guid": "87317789-6e7e-d57f-0b54-d8ba0ee26abf"
   },
   "outputs": [
    {
     "data": {
      "text/plain": [
       "<matplotlib.text.Text at 0x11e9766d8>"
      ]
     },
     "execution_count": 243,
     "metadata": {},
     "output_type": "execute_result"
    },
    {
     "data": {
      "image/png": "[encoded data removed]",
      "text/plain": [
       "<matplotlib.figure.Figure at 0x11dd31e80>"
      ]
     },
     "metadata": {
      "image/png": {
       "height": 590,
       "width": 588
      }
     },
     "output_type": "display_data"
    }
   ],
   "source": [
    "matplotlib.rcParams['figure.figsize'] = (8.0, 10.0)\n",
    "imp_coef.plot(kind = \"barh\")\n",
    "plt.title(\"Coefficients in the Lasso Model\")"
   ]
  },
  {
   "cell_type": "markdown",
   "metadata": {
    "_cell_guid": "f6e6f820-1ec6-4a69-c309-9992b80652da"
   },
   "source": [
    "The most important positive feature is `GrLivArea` -  the above ground area by area square feet. This definitely sense. Then a few other  location and quality features contributed positively. Some of the negative features make less sense and would be worth looking into more - it seems like they might come from unbalanced categorical variables.\n",
    "\n",
    " Also note that unlike the feature importance you'd get from a random forest these are _actual_ coefficients in your model - so you can say precisely why the predicted price is what it is. The only issue here is that we log_transformed both the target and the numeric features so the actual magnitudes are a bit hard to interpret. "
   ]
  },
  {
   "cell_type": "code",
   "execution_count": 244,
   "metadata": {
    "_cell_guid": "cdeaa3d3-f9ad-2e06-1339-61b4425a43f8"
   },
   "outputs": [
    {
     "data": {
      "text/plain": [
       "<matplotlib.axes._subplots.AxesSubplot at 0x11dd31f28>"
      ]
     },
     "execution_count": 244,
     "metadata": {},
     "output_type": "execute_result"
    },
    {
     "data": {
      "image/png": "[encoded data removed]",
      "text/plain": [
       "<matplotlib.figure.Figure at 0x11f366c88>"
      ]
     },
     "metadata": {
      "image/png": {
       "height": 372,
       "width": 395
      }
     },
     "output_type": "display_data"
    }
   ],
   "source": [
    "#let's look at the residuals as well:\n",
    "matplotlib.rcParams['figure.figsize'] = (6.0, 6.0)\n",
    "\n",
    "preds = pd.DataFrame({\"preds\":model_lasso.predict(X_train), \"true\":y})\n",
    "preds[\"residuals\"] = preds[\"true\"] - preds[\"preds\"]\n",
    "preds.plot(x = \"preds\", y = \"residuals\",kind = \"scatter\")"
   ]
  },
  {
   "cell_type": "markdown",
   "metadata": {
    "_cell_guid": "4780532e-2815-e355-9a96-fb1c598f6984"
   },
   "source": [
    "The residual plot looks pretty good.To wrap it up let's predict on the test set and submit on the leaderboard:"
   ]
  },
  {
   "cell_type": "markdown",
   "metadata": {
    "_cell_guid": "f8da43e0-fd51-a4c9-d9b2-364d9911699a"
   },
   "source": [
    "### Adding an xgboost model:"
   ]
  },
  {
   "cell_type": "markdown",
   "metadata": {
    "_cell_guid": "ae9bcc1a-5106-0909-ecf7-0abc2d2ca386"
   },
   "source": [
    "Let's add an xgboost model to our linear model to see if we can improve our score:"
   ]
  },
  {
   "cell_type": "code",
   "execution_count": 245,
   "metadata": {
    "_cell_guid": "654e4fcf-a049-921a-4783-3c6d6dcca673",
    "collapsed": true
   },
   "outputs": [],
   "source": [
    "import xgboost as xgb"
   ]
  },
  {
   "cell_type": "code",
   "execution_count": 246,
   "metadata": {
    "_cell_guid": "be53a9f8-d88b-05fb-734d-3a1388d39864"
   },
   "outputs": [],
   "source": [
    "# print(X_train)\n",
    "# 还有标题\n",
    "dtrain = xgb.DMatrix(X_train, label = y)\n",
    "\n",
    "dtest = xgb.DMatrix(X_test)\n",
    "\n",
    "params = {\"max_depth\":2, \"eta\":0.1}\n",
    "model = xgb.cv(params, dtrain,  num_boost_round=500, early_stopping_rounds=100)\n",
    "# print(X_train)\n",
    "# 还有标题"
   ]
  },
  {
   "cell_type": "code",
   "execution_count": 247,
   "metadata": {
    "_cell_guid": "c9d5bfe5-a0a8-0b10-d54a-1dfbb6123bd0"
   },
   "outputs": [
    {
     "data": {
      "text/plain": [
       "<matplotlib.axes._subplots.AxesSubplot at 0x121f8b6d8>"
      ]
     },
     "execution_count": 247,
     "metadata": {},
     "output_type": "execute_result"
    },
    {
     "data": {
      "image/png": "[encoded data removed]",
      "text/plain": [
       "<matplotlib.figure.Figure at 0x11e9296a0>"
      ]
     },
     "metadata": {
      "image/png": {
       "height": 358,
       "width": 373
      }
     },
     "output_type": "display_data"
    }
   ],
   "source": [
    "model.loc[30:,[\"test-rmse-mean\", \"train-rmse-mean\"]].plot()\n",
    "# 还有标题\n",
    "# print(X_train)"
   ]
  },
  {
   "cell_type": "code",
   "execution_count": 248,
   "metadata": {
    "_cell_guid": "00b8a271-0f93-c757-7e33-516c3a297628"
   },
   "outputs": [
    {
     "data": {
      "text/plain": [
       "XGBRegressor(base_score=0.5, booster='gbtree', colsample_bylevel=1,\n",
       "       colsample_bytree=1, gamma=0, learning_rate=0.1, max_delta_step=0,\n",
       "       max_depth=2, min_child_weight=1, missing=None, n_estimators=360,\n",
       "       n_jobs=1, nthread=None, objective='reg:linear', random_state=0,\n",
       "       reg_alpha=0, reg_lambda=1, scale_pos_weight=1, seed=None,\n",
       "       silent=True, subsample=1)"
      ]
     },
     "execution_count": 248,
     "metadata": {},
     "output_type": "execute_result"
    }
   ],
   "source": [
    "model_xgb = xgb.XGBRegressor(n_estimators=360, max_depth=2, learning_rate=0.1) #the params were tuned using xgb.cv\n",
    "model_xgb.fit(X_train, y)\n",
    "# 还有标题\n",
    "# print(X_train)"
   ]
  },
  {
   "cell_type": "code",
   "execution_count": 249,
   "metadata": {
    "_cell_guid": "2b87a004-3a9a-77cc-4b5b-6540f870c028"
   },
   "outputs": [],
   "source": [
    "xgb_preds = np.expm1(model_xgb.predict(X_test))\n",
    "lasso_preds = np.expm1(model_lasso.predict(X_test))\n",
    "# 还有标题\n",
    "# print(X_train)"
   ]
  },
  {
   "cell_type": "code",
   "execution_count": 250,
   "metadata": {
    "_cell_guid": "1c9c640b-9e6c-a350-0691-7f6a7dc19c41"
   },
   "outputs": [
    {
     "data": {
      "text/plain": [
       "<matplotlib.axes._subplots.AxesSubplot at 0x121f7cd68>"
      ]
     },
     "execution_count": 250,
     "metadata": {},
     "output_type": "execute_result"
    },
    {
     "data": {
      "image/png": "[encoded data removed]",
      "text/plain": [
       "<matplotlib.figure.Figure at 0x1222de2b0>"
      ]
     },
     "metadata": {
      "image/png": {
       "height": 372,
       "width": 410
      }
     },
     "output_type": "display_data"
    }
   ],
   "source": [
    "predictions = pd.DataFrame({\"xgb\":xgb_preds, \"lasso\":lasso_preds})\n",
    "predictions.plot(x = \"xgb\", y = \"lasso\", kind = \"scatter\")\n",
    "# 还有标题\n",
    "# print(X_train)"
   ]
  },
  {
   "cell_type": "markdown",
   "metadata": {
    "_cell_guid": "74c9bdd2-afbb-5fdf-a776-a8eebfa30d12"
   },
   "source": [
    "Many times it makes sense to take a weighted average of uncorrelated results - this usually imporoves the score although in this case it doesn't help that much."
   ]
  },
  {
   "cell_type": "code",
   "execution_count": 251,
   "metadata": {
    "_cell_guid": "623ed0fe-0150-5226-db27-90a321061d52",
    "collapsed": true
   },
   "outputs": [],
   "source": [
    "preds = 0.7*lasso_preds + 0.3*xgb_preds"
   ]
  },
  {
   "cell_type": "code",
   "execution_count": 252,
   "metadata": {
    "_cell_guid": "569d7154-e3b5-84ab-1d28-57bdc02955d9"
   },
   "outputs": [
    {
     "name": "stdout",
     "output_type": "stream",
     "text": [
      "      MSSubClass  LotFrontage    LotArea  OverallQual  OverallCond  YearBuilt  \\\n",
      "0       4.110874     4.189655   9.042040            7            5       2003   \n",
      "1       3.044522     4.394449   9.169623            6            8       1976   \n",
      "2       4.110874     4.234107   9.328212            7            5       2001   \n",
      "3       4.262680     4.110874   9.164401            7            5       1915   \n",
      "4       4.110874     4.442651   9.565284            8            5       2000   \n",
      "5       3.931826     4.454347   9.555064            5            5       1993   \n",
      "6       3.044522     4.330733   9.218804            8            5       2004   \n",
      "7       4.110874     4.196175   9.247925            7            6       1973   \n",
      "8       3.931826     3.951244   8.719481            7            5       1931   \n",
      "9       5.252273     3.931826   8.912069            5            6       1939   \n",
      "10      3.044522     4.262680   9.323758            5            5       1965   \n",
      "11      4.110874     4.454347   9.386392            9            5       2005   \n",
      "12      3.044522     4.196175   9.470317            5            6       1962   \n",
      "13      3.044522     4.521789   9.273597            7            5       2006   \n",
      "14      3.044522     4.196175   9.298443            6            5       1960   \n",
      "15      3.828641     3.951244   8.719481            7            8       1929   \n",
      "16      3.044522     4.196175   9.327412            6            7       1970   \n",
      "17      4.510860     4.290459   9.286560            4            5       1967   \n",
      "18      3.044522     4.204693   9.524859            5            5       2004   \n",
      "19      3.044522     4.262680   8.930759            5            6       1958   \n",
      "20      4.110874     4.624973   9.562123            8            5       2005   \n",
      "21      3.828641     4.060443   8.915969            7            7       1930   \n",
      "22      3.044522     4.330733   9.184304            8            5       2002   \n",
      "23      4.795791     3.806662   8.348775            5            7       1976   \n",
      "24      3.044522     4.196175   9.017605            5            8       1968   \n",
      "25      3.044522     4.709530   9.563178            8            5       2007   \n",
      "26      3.044522     4.110874   8.881975            5            7       1951   \n",
      "27      3.044522     4.595120   9.348275            8            5       2007   \n",
      "28      3.044522     3.871201   9.700269            5            6       1957   \n",
      "29      3.433987     4.110874   8.752265            4            6       1927   \n",
      "...          ...          ...        ...          ...          ...        ...   \n",
      "1430    4.110874     4.110874   9.995656            5            5       2005   \n",
      "1431    4.795791     4.196175   8.502891            6            6       1976   \n",
      "1432    3.433987     4.110874   9.287394            4            6       1927   \n",
      "1433    4.110874     4.543295   9.236203            6            5       2000   \n",
      "1434    3.044522     4.394449   9.764283            5            5       1977   \n",
      "1435    3.044522     4.394449   9.036106            6            9       1962   \n",
      "1436    3.044522     4.110874   9.105091            4            6       1971   \n",
      "1437    3.044522     4.574711   9.429074            8            5       2008   \n",
      "1438    3.044522     4.510860   8.910316            6            7       1957   \n",
      "1439    4.110874     4.394449   9.357466            7            6       1979   \n",
      "1440    4.262680     4.382027   9.352447            6            7       1922   \n",
      "1441    4.795791     4.196175   8.395477            6            5       2004   \n",
      "1442    4.110874     4.454347   9.306014           10            5       2008   \n",
      "1443    3.433987     4.196175   9.088738            6            6       1916   \n",
      "1444    3.044522     4.158883   9.047939            7            5       2004   \n",
      "1445    4.454347     4.262680   9.036106            6            5       1966   \n",
      "1446    3.044522     4.196175  10.171337            5            7       1962   \n",
      "1447    4.110874     4.394449   9.210440            8            5       1995   \n",
      "1448    3.931826     4.262680   9.373139            4            7       1910   \n",
      "1449    5.198497     3.091042   7.335634            5            7       1970   \n",
      "1450    4.510860     4.110874   9.105091            5            5       1974   \n",
      "1451    3.044522     4.369448   9.133783            8            5       2008   \n",
      "1452    5.198497     3.583519   8.209580            5            5       2005   \n",
      "1453    3.044522     4.510860   9.753711            5            5       2006   \n",
      "1454    3.044522     4.143135   8.922792            7            5       2004   \n",
      "1455    4.110874     4.143135   8.976894            6            5       1999   \n",
      "1456    3.044522     4.454347   9.486152            6            6       1978   \n",
      "1457    4.262680     4.204693   9.109746            7            9       1941   \n",
      "1458    3.044522     4.234107   9.181735            5            6       1950   \n",
      "1459    3.044522     4.330733   9.204121            5            6       1965   \n",
      "\n",
      "      YearRemodAdd  MasVnrArea  BsmtFinSF1  BsmtFinSF2          ...            \\\n",
      "0             2003    5.283204    6.561031    0.000000          ...             \n",
      "1             1976    0.000000    6.886532    0.000000          ...             \n",
      "2             2002    5.093750    6.188264    0.000000          ...             \n",
      "3             1970    0.000000    5.379897    0.000000          ...             \n",
      "4             2000    5.860786    6.486161    0.000000          ...             \n",
      "5             1995    0.000000    6.597146    0.000000          ...             \n",
      "6             2005    5.231109    7.222566    0.000000          ...             \n",
      "7             1973    5.484797    6.756932    3.496508          ...             \n",
      "8             1950    0.000000    0.000000    0.000000          ...             \n",
      "9             1950    0.000000    6.747587    0.000000          ...             \n",
      "10            1965    0.000000    6.810142    0.000000          ...             \n",
      "11            2006    5.659482    6.906755    0.000000          ...             \n",
      "12            1962    0.000000    6.603944    0.000000          ...             \n",
      "13            2007    5.726848    0.000000    0.000000          ...             \n",
      "14            1960    5.361292    6.598509    0.000000          ...             \n",
      "15            2001    0.000000    0.000000    0.000000          ...             \n",
      "16            1970    5.198497    6.361302    0.000000          ...             \n",
      "17            1967    0.000000    0.000000    0.000000          ...             \n",
      "18            2004    0.000000    6.472346    0.000000          ...             \n",
      "19            1965    0.000000    6.224558    0.000000          ...             \n",
      "20            2006    5.942799    0.000000    0.000000          ...             \n",
      "21            1950    0.000000    0.000000    0.000000          ...             \n",
      "22            2002    5.641907    0.000000    0.000000          ...             \n",
      "23            1976    0.000000    6.734592    0.000000          ...             \n",
      "24            2001    0.000000    5.241747    6.505784          ...             \n",
      "25            2007    6.463029    0.000000    0.000000          ...             \n",
      "26            2000    0.000000    5.459586    6.188264          ...             \n",
      "27            2008    5.303305    7.105786    0.000000          ...             \n",
      "28            1997    0.000000    7.153052    0.000000          ...             \n",
      "29            1950    0.000000    0.000000    0.000000          ...             \n",
      "...            ...         ...         ...         ...          ...             \n",
      "1430          2005    0.000000    0.000000    0.000000          ...             \n",
      "1431          1976    0.000000    6.865891    0.000000          ...             \n",
      "1432          2007    0.000000    0.000000    0.000000          ...             \n",
      "1433          2000    5.765191    0.000000    0.000000          ...             \n",
      "1434          1977    0.000000    6.842683    0.000000          ...             \n",
      "1435          2005    5.472271    0.000000    0.000000          ...             \n",
      "1436          1971    0.000000    6.424869    0.000000          ...             \n",
      "1437          2008    6.056784    7.198184    0.000000          ...             \n",
      "1438          1996    0.000000    6.398595    0.000000          ...             \n",
      "1439          1979    4.574711    5.755742    4.709530          ...             \n",
      "1440          1994    0.000000    0.000000    0.000000          ...             \n",
      "1441          2004    4.997212    6.548219    0.000000          ...             \n",
      "1442          2008    5.081404    6.641182    0.000000          ...             \n",
      "1443          1950    0.000000    0.000000    0.000000          ...             \n",
      "1444          2004    4.672829    0.000000    0.000000          ...             \n",
      "1445          1966    0.000000    5.236442    6.442540          ...             \n",
      "1446          1962    5.247024    6.386879    0.000000          ...             \n",
      "1447          1996    6.084499    6.984716    0.000000          ...             \n",
      "1448          2000    0.000000    0.000000    0.000000          ...             \n",
      "1449          1970    0.000000    6.317165    0.000000          ...             \n",
      "1450          1974    0.000000    0.000000    0.000000          ...             \n",
      "1451          2009    5.273000    0.000000    0.000000          ...             \n",
      "1452          2005    4.394449    6.306275    0.000000          ...             \n",
      "1453          2006    0.000000    0.000000    0.000000          ...             \n",
      "1454          2005    0.000000    6.018593    0.000000          ...             \n",
      "1455          2000    0.000000    0.000000    0.000000          ...             \n",
      "1456          1988    4.787492    6.673298    5.099866          ...             \n",
      "1457          2006    0.000000    5.620401    0.000000          ...             \n",
      "1458          1996    0.000000    3.912023    6.937314          ...             \n",
      "1459          1965    0.000000    6.722630    5.673323          ...             \n",
      "\n",
      "      SaleType_ConLw  SaleType_New  SaleType_Oth  SaleType_WD  \\\n",
      "0                  0             0             0            1   \n",
      "1                  0             0             0            1   \n",
      "2                  0             0             0            1   \n",
      "3                  0             0             0            1   \n",
      "4                  0             0             0            1   \n",
      "5                  0             0             0            1   \n",
      "6                  0             0             0            1   \n",
      "7                  0             0             0            1   \n",
      "8                  0             0             0            1   \n",
      "9                  0             0             0            1   \n",
      "10                 0             0             0            1   \n",
      "11                 0             1             0            0   \n",
      "12                 0             0             0            1   \n",
      "13                 0             1             0            0   \n",
      "14                 0             0             0            1   \n",
      "15                 0             0             0            1   \n",
      "16                 0             0             0            1   \n",
      "17                 0             0             0            1   \n",
      "18                 0             0             0            1   \n",
      "19                 0             0             0            0   \n",
      "20                 0             1             0            0   \n",
      "21                 0             0             0            1   \n",
      "22                 0             0             0            1   \n",
      "23                 0             0             0            1   \n",
      "24                 0             0             0            1   \n",
      "25                 0             0             0            1   \n",
      "26                 0             0             0            1   \n",
      "27                 0             0             0            1   \n",
      "28                 0             0             0            1   \n",
      "29                 0             0             0            1   \n",
      "...              ...           ...           ...          ...   \n",
      "1430               0             0             0            1   \n",
      "1431               0             0             0            1   \n",
      "1432               0             0             0            1   \n",
      "1433               0             0             0            1   \n",
      "1434               0             0             0            1   \n",
      "1435               0             0             0            0   \n",
      "1436               0             0             0            1   \n",
      "1437               0             1             0            0   \n",
      "1438               0             0             0            1   \n",
      "1439               0             0             0            1   \n",
      "1440               0             0             0            1   \n",
      "1441               0             0             0            1   \n",
      "1442               0             0             0            1   \n",
      "1443               0             0             0            1   \n",
      "1444               0             0             0            1   \n",
      "1445               0             0             0            1   \n",
      "1446               0             0             0            1   \n",
      "1447               0             0             0            1   \n",
      "1448               0             0             0            1   \n",
      "1449               0             0             0            1   \n",
      "1450               0             0             0            1   \n",
      "1451               0             1             0            0   \n",
      "1452               0             0             0            1   \n",
      "1453               0             0             0            1   \n",
      "1454               0             0             0            1   \n",
      "1455               0             0             0            1   \n",
      "1456               0             0             0            1   \n",
      "1457               0             0             0            1   \n",
      "1458               0             0             0            1   \n",
      "1459               0             0             0            1   \n",
      "\n",
      "      SaleCondition_Abnorml  SaleCondition_AdjLand  SaleCondition_Alloca  \\\n",
      "0                         0                      0                     0   \n",
      "1                         0                      0                     0   \n",
      "2                         0                      0                     0   \n",
      "3                         1                      0                     0   \n",
      "4                         0                      0                     0   \n",
      "5                         0                      0                     0   \n",
      "6                         0                      0                     0   \n",
      "7                         0                      0                     0   \n",
      "8                         1                      0                     0   \n",
      "9                         0                      0                     0   \n",
      "10                        0                      0                     0   \n",
      "11                        0                      0                     0   \n",
      "12                        0                      0                     0   \n",
      "13                        0                      0                     0   \n",
      "14                        0                      0                     0   \n",
      "15                        0                      0                     0   \n",
      "16                        0                      0                     0   \n",
      "17                        0                      0                     0   \n",
      "18                        0                      0                     0   \n",
      "19                        1                      0                     0   \n",
      "20                        0                      0                     0   \n",
      "21                        0                      0                     0   \n",
      "22                        0                      0                     0   \n",
      "23                        0                      0                     0   \n",
      "24                        0                      0                     0   \n",
      "25                        0                      0                     0   \n",
      "26                        0                      0                     0   \n",
      "27                        0                      0                     0   \n",
      "28                        0                      0                     0   \n",
      "29                        0                      0                     0   \n",
      "...                     ...                    ...                   ...   \n",
      "1430                      0                      0                     0   \n",
      "1431                      0                      0                     0   \n",
      "1432                      0                      0                     0   \n",
      "1433                      0                      0                     0   \n",
      "1434                      0                      0                     0   \n",
      "1435                      1                      0                     0   \n",
      "1436                      0                      0                     0   \n",
      "1437                      0                      0                     0   \n",
      "1438                      0                      0                     0   \n",
      "1439                      0                      0                     0   \n",
      "1440                      0                      0                     0   \n",
      "1441                      0                      0                     0   \n",
      "1442                      0                      0                     0   \n",
      "1443                      0                      0                     0   \n",
      "1444                      0                      0                     0   \n",
      "1445                      0                      0                     0   \n",
      "1446                      0                      0                     0   \n",
      "1447                      0                      0                     0   \n",
      "1448                      0                      0                     0   \n",
      "1449                      1                      0                     0   \n",
      "1450                      0                      0                     0   \n",
      "1451                      0                      0                     0   \n",
      "1452                      0                      0                     0   \n",
      "1453                      1                      0                     0   \n",
      "1454                      0                      0                     0   \n",
      "1455                      0                      0                     0   \n",
      "1456                      0                      0                     0   \n",
      "1457                      0                      0                     0   \n",
      "1458                      0                      0                     0   \n",
      "1459                      0                      0                     0   \n",
      "\n",
      "      SaleCondition_Family  SaleCondition_Normal  SaleCondition_Partial  \n",
      "0                        0                     1                      0  \n",
      "1                        0                     1                      0  \n",
      "2                        0                     1                      0  \n",
      "3                        0                     0                      0  \n",
      "4                        0                     1                      0  \n",
      "5                        0                     1                      0  \n",
      "6                        0                     1                      0  \n",
      "7                        0                     1                      0  \n",
      "8                        0                     0                      0  \n",
      "9                        0                     1                      0  \n",
      "10                       0                     1                      0  \n",
      "11                       0                     0                      1  \n",
      "12                       0                     1                      0  \n",
      "13                       0                     0                      1  \n",
      "14                       0                     1                      0  \n",
      "15                       0                     1                      0  \n",
      "16                       0                     1                      0  \n",
      "17                       0                     1                      0  \n",
      "18                       0                     1                      0  \n",
      "19                       0                     0                      0  \n",
      "20                       0                     0                      1  \n",
      "21                       0                     1                      0  \n",
      "22                       0                     1                      0  \n",
      "23                       0                     1                      0  \n",
      "24                       0                     1                      0  \n",
      "25                       0                     1                      0  \n",
      "26                       0                     1                      0  \n",
      "27                       0                     1                      0  \n",
      "28                       0                     1                      0  \n",
      "29                       0                     1                      0  \n",
      "...                    ...                   ...                    ...  \n",
      "1430                     0                     1                      0  \n",
      "1431                     0                     1                      0  \n",
      "1432                     0                     1                      0  \n",
      "1433                     0                     1                      0  \n",
      "1434                     0                     1                      0  \n",
      "1435                     0                     0                      0  \n",
      "1436                     0                     1                      0  \n",
      "1437                     0                     0                      1  \n",
      "1438                     0                     1                      0  \n",
      "1439                     0                     1                      0  \n",
      "1440                     0                     1                      0  \n",
      "1441                     0                     1                      0  \n",
      "1442                     0                     1                      0  \n",
      "1443                     0                     1                      0  \n",
      "1444                     0                     1                      0  \n",
      "1445                     0                     1                      0  \n",
      "1446                     0                     1                      0  \n",
      "1447                     0                     1                      0  \n",
      "1448                     0                     1                      0  \n",
      "1449                     0                     0                      0  \n",
      "1450                     0                     1                      0  \n",
      "1451                     0                     0                      1  \n",
      "1452                     0                     1                      0  \n",
      "1453                     0                     0                      0  \n",
      "1454                     0                     1                      0  \n",
      "1455                     0                     1                      0  \n",
      "1456                     0                     1                      0  \n",
      "1457                     0                     1                      0  \n",
      "1458                     0                     1                      0  \n",
      "1459                     0                     1                      0  \n",
      "\n",
      "[1460 rows x 288 columns]\n"
     ]
    }
   ],
   "source": [
    "# 还有标题\n",
    "# print(X_train)\n",
    "solution = pd.DataFrame({\"id\":test.Id, \"SalePrice\":preds})\n",
    "solution.to_csv(\"ridge_sol.csv\", index = False)\n"
   ]
  },
  {
   "cell_type": "markdown",
   "metadata": {
    "_cell_guid": "fe4ec3c9-ae45-e01e-d881-32da250d44ba"
   },
   "source": [
    "### Trying out keras?\n",
    "\n",
    "Feedforward Neural Nets doesn't seem to work well at all...I wonder why."
   ]
  },
  {
   "cell_type": "code",
   "execution_count": 253,
   "metadata": {
    "_cell_guid": "12121592-5b16-5957-6c54-3fe84bc6708a"
   },
   "outputs": [],
   "source": [
    "from keras.layers import Dense\n",
    "from keras.models import Sequential\n",
    "from keras.regularizers import l1\n",
    "from sklearn.preprocessing import StandardScaler\n",
    "from sklearn.model_selection import train_test_split"
   ]
  },
  {
   "cell_type": "code",
   "execution_count": 276,
   "metadata": {
    "_cell_guid": "246a88ac-3963-a603-cf33-eb2976737c98"
   },
   "outputs": [
    {
     "name": "stdout",
     "output_type": "stream",
     "text": [
      "<class 'pandas.core.frame.DataFrame'>\n",
      "[[ 0.42446233 -0.04942222 -0.13327022 ..., -0.11785113  0.4676514\n",
      "  -0.30599503]\n",
      " [-1.12520184  0.60296111  0.11341289 ..., -0.11785113  0.4676514\n",
      "  -0.30599503]\n",
      " [ 0.42446233  0.0921812   0.42004913 ..., -0.11785113  0.4676514\n",
      "  -0.30599503]\n",
      " ..., \n",
      " [ 0.64507285 -0.00151827 -0.00235902 ..., -0.11785113  0.4676514\n",
      "  -0.30599503]\n",
      " [-1.12520184  0.0921812   0.13683278 ..., -0.11785113  0.4676514\n",
      "  -0.30599503]\n",
      " [-1.12520184  0.39999105  0.18011644 ..., -0.11785113  0.4676514\n",
      "  -0.30599503]]\n"
     ]
    }
   ],
   "source": [
    "# 有标题\n",
    "print(type(X_train))\n",
    "X_train.to_csv('./out1.csv')\n",
    "X_train_ss = StandardScaler().fit_transform(X_train)\n",
    "X_train_ss_pd = pd.DataFrame(X_train_ss)\n",
    "X_train_ss_pd.to_csv('./out2.csv')\n",
    "# 从此无标题\n",
    "print(X_train_ss)"
   ]
  },
  {
   "cell_type": "code",
   "execution_count": 397,
   "metadata": {},
   "outputs": [
    {
     "name": "stdout",
     "output_type": "stream",
     "text": [
      "<class 'pandas.core.frame.DataFrame'>\n",
      "(1460, 25)\n",
      "<class 'numpy.ndarray'>\n"
     ]
    }
   ],
   "source": [
    "print(type(X_train))\n",
    "from sklearn.feature_selection import SelectKBest,f_regression\n",
    "# X_train_new = SelectKBest(f_regression, k=25).fit_transform(X_train, y)\n",
    "# X_train_new_pd = pd.DataFrame(X_train_new)\n",
    "# X_train_new_pd.to_csv('./out11.csv')\n",
    "# X_train_new_f = SelectKBest(f_regression, k=10)\n",
    "# 生成特征选择后的训练数据(1460, 10)\n",
    "X_train_ss_new = SelectKBest(f_regression, k=25).fit_transform(X_train_ss, y)\n",
    "# X_train_ss_new_PD = pd.DataFrame(X_train_ss_new)\n",
    "# X_train_ss_new_PD.to_csv('./out21.csv')\n",
    "print(X_train_new.shape)\n",
    "print(type(X_train_new))\n",
    "# print(type(X_test))\n",
    "# X_test.to_csv('./out3.csv')\n",
    "# 处理 Xtest\n",
    "# y_new = y.drop(1)\n",
    "# print(X_test.shape)\n",
    "# print(y_new.shape)\n",
    "# X_test_new = SelectKBest(f_regression, k=25).fit_transform(X_test, y_new)\n",
    "# X_test_new_pd = pd.DataFrame(X_test_new)\n",
    "# X_test_new_pd.to_csv('./out31.csv')\n",
    "X_test_new = X_test[['OverallQual','YearBuilt','YearRemodAdd','MasVnrArea','1stFlrSF','GrLivArea','FullBath','TotRmsAbvGrd','Fireplaces','GarageYrBlt','GarageCars','GarageArea','OpenPorchSF','ExterQual_Gd','ExterQual_TA','Foundation_PConc','BsmtQual_Ex','BsmtQual_TA','BsmtFinType1_GLQ','HeatingQC_Ex','KitchenQual_Ex','KitchenQual_TA','GarageType_Attchd','GarageFinish_Fin','GarageFinish_Unf']]\n",
    "X_test_new_ss = StandardScaler().fit_transform(X_test_new)\n",
    "# print(X_test_new)\n",
    "# print(X_train_ss_new)\n",
    "# OverallQual，YearBuilt，YearRemodAdd，1stFlrSF，GrLivArea，FullBath，GarageCars，GarageArea，ExterQual_TA，KitchenQual_TA"
   ]
  },
  {
   "cell_type": "code",
   "execution_count": 448,
   "metadata": {
    "_cell_guid": "04936965-5441-3989-1f07-97138b331dbc"
   },
   "outputs": [
    {
     "name": "stdout",
     "output_type": "stream",
     "text": [
      "<class 'pandas.core.series.Series'>\n",
      "<class 'numpy.ndarray'>\n"
     ]
    }
   ],
   "source": [
    "X_tr, X_val, y_tr, y_val = train_test_split(X_train_ss_new, y,test_size=0.3, random_state = 1)\n",
    "actual_price = y.values\n",
    "actual_price = actual_price.reshape(actual_price.shape[0], -1)\n",
    "print(type(y_tr))\n",
    "print(type(actual_price))"
   ]
  },
  {
   "cell_type": "code",
   "execution_count": 449,
   "metadata": {
    "_cell_guid": "5223b976-c02e-062e-5c73-60516bf70fa5"
   },
   "outputs": [
    {
     "name": "stdout",
     "output_type": "stream",
     "text": [
      "X_tr.shape (1022, 25)\n",
      "X_val.shape (438, 25)\n",
      "y_tr.shape (1022,)\n",
      "y_val.shape (438,)\n"
     ]
    }
   ],
   "source": [
    "print(\"X_tr.shape\",X_tr.shape)\n",
    "print(\"X_val.shape\",X_val.shape)\n",
    "print(\"y_tr.shape\",y_tr.shape)\n",
    "print(\"y_val.shape\",y_val.shape)"
   ]
  },
  {
   "cell_type": "code",
   "execution_count": 295,
   "metadata": {
    "_cell_guid": "14ef62de-56e3-03cc-00c6-a5e2307d1b6a"
   },
   "outputs": [
    {
     "name": "stderr",
     "output_type": "stream",
     "text": [
      "/Library/Frameworks/Python.framework/Versions/3.6/lib/python3.6/site-packages/ipykernel_launcher.py:3: UserWarning: Update your `Dense` call to the Keras 2 API: `Dense(1, input_dim=10, kernel_regularizer=<keras.reg...)`\n",
      "  This is separate from the ipykernel package so we can avoid doing imports until\n"
     ]
    }
   ],
   "source": [
    "model = Sequential()\n",
    "#model.add(Dense(256, activation=\"relu\", input_dim = X_train.shape[1]))\n",
    "model.add(Dense(1, input_dim = X_train_ss_new.shape[1], W_regularizer=l1(0.001)))\n",
    "\n",
    "model.compile(loss = \"mse\", optimizer = \"adam\")"
   ]
  },
  {
   "cell_type": "code",
   "execution_count": 296,
   "metadata": {
    "_cell_guid": "082332bc-b36b-30db-1e0e-c212fba98b58"
   },
   "outputs": [
    {
     "name": "stdout",
     "output_type": "stream",
     "text": [
      "_________________________________________________________________\n",
      "Layer (type)                 Output Shape              Param #   \n",
      "=================================================================\n",
      "dense_5 (Dense)              (None, 1)                 11        \n",
      "=================================================================\n",
      "Total params: 11\n",
      "Trainable params: 11\n",
      "Non-trainable params: 0\n",
      "_________________________________________________________________\n"
     ]
    }
   ],
   "source": [
    "model.summary()"
   ]
  },
  {
   "cell_type": "code",
   "execution_count": 297,
   "metadata": {},
   "outputs": [
    {
     "name": "stdout",
     "output_type": "stream",
     "text": [
      "(1095, 10)\n",
      "(1095,)\n"
     ]
    }
   ],
   "source": [
    "print(X_tr.shape)\n",
    "print(y_tr.shape)"
   ]
  },
  {
   "cell_type": "code",
   "execution_count": 298,
   "metadata": {
    "_cell_guid": "ad155a35-1d0b-c42f-9bdf-77ff389ddfd4"
   },
   "outputs": [
    {
     "name": "stdout",
     "output_type": "stream",
     "text": [
      "Train on 1095 samples, validate on 365 samples\n",
      "Epoch 1/10\n",
      "1095/1095 [==============================] - 0s - loss: 145.4378 - val_loss: 145.8672\n",
      "Epoch 2/10\n",
      "1095/1095 [==============================] - 0s - loss: 144.5473 - val_loss: 144.9802\n",
      "Epoch 3/10\n",
      "1095/1095 [==============================] - 0s - loss: 143.6736 - val_loss: 144.1142\n",
      "Epoch 4/10\n",
      "1095/1095 [==============================] - 0s - loss: 142.8051 - val_loss: 143.2638\n",
      "Epoch 5/10\n",
      "1095/1095 [==============================] - 0s - loss: 141.9466 - val_loss: 142.4085\n",
      "Epoch 6/10\n",
      "1095/1095 [==============================] - 0s - loss: 141.0655 - val_loss: 141.5412\n",
      "Epoch 7/10\n",
      "1095/1095 [==============================] - 0s - loss: 140.2277 - val_loss: 140.6709\n",
      "Epoch 8/10\n",
      "1095/1095 [==============================] - 0s - loss: 139.3663 - val_loss: 139.8183\n",
      "Epoch 9/10\n",
      "1095/1095 [==============================] - 0s - loss: 138.5254 - val_loss: 138.9796\n",
      "Epoch 10/10\n",
      "1095/1095 [==============================] - 0s - loss: 137.6760 - val_loss: 138.1575\n"
     ]
    }
   ],
   "source": [
    "hist = model.fit(X_tr, y_tr, validation_data = (X_val, y_val))"
   ]
  },
  {
   "cell_type": "code",
   "execution_count": 178,
   "metadata": {
    "_cell_guid": "d6c6354f-047b-1d8e-c024-15bb5d570f15",
    "scrolled": true
   },
   "outputs": [
    {
     "data": {
      "text/plain": [
       "<matplotlib.axes._subplots.AxesSubplot at 0x11de1eba8>"
      ]
     },
     "execution_count": 178,
     "metadata": {},
     "output_type": "execute_result"
    },
    {
     "data": {
      "image/png": "[encoded data removed]",
      "text/plain": [
       "<matplotlib.figure.Figure at 0x11de1e438>"
      ]
     },
     "metadata": {
      "image/png": {
       "height": 358,
       "width": 377
      }
     },
     "output_type": "display_data"
    }
   ],
   "source": [
    "pd.Series(model.predict(X_val)[:,0]).hist()"
   ]
  },
  {
   "cell_type": "code",
   "execution_count": 179,
   "metadata": {
    "collapsed": true
   },
   "outputs": [],
   "source": [
    "import tensorflow as tf"
   ]
  },
  {
   "cell_type": "code",
   "execution_count": 181,
   "metadata": {
    "collapsed": true
   },
   "outputs": [],
   "source": [
    "def savecsv(test_prediction_np, filename=\"submission_tf_2lnn.csv\"):\n",
    "#     np.savetxt('submission_tf_titanic.csv', \n",
    "#            np.c_[range(1,len(x_test)+1),test_prediction_np], \n",
    "#            delimiter=',', \n",
    "#            header = 'PassengerId,Survived', \n",
    "#            comments = '', \n",
    "#            fmt='%d')\n",
    "    StackingSubmission = pd.DataFrame({'Id': ids,'SalePrice': test_prediction_np })\n",
    "    StackingSubmission.to_csv(filename, index=False)"
   ]
  },
  {
   "cell_type": "code",
   "execution_count": 361,
   "metadata": {
    "collapsed": true
   },
   "outputs": [],
   "source": [
    "def add_layer(inputs, input_size, output_size, activation_function=None):\n",
    "    with tf.variable_scope(\"Weights\"):\n",
    "        Weights = tf.Variable(tf.random_normal(shape=[input_size, output_size]), name=\"weights\")\n",
    "    with tf.variable_scope(\"biases\"):\n",
    "        biases = tf.Variable(tf.zeros(shape=[1, output_size]) + 0.1, name=\"biases\")\n",
    "    with tf.name_scope(\"Wx_plus_b\"):\n",
    "        inputs = tf.to_float(inputs)\n",
    "        Wx_plus_b = tf.matmul(inputs, Weights) + biases\n",
    "    with tf.name_scope(\"dropout\"):\n",
    "        Wx_plus_b = tf.nn.dropout(Wx_plus_b, keep_prob=keep_prob_s)\n",
    "    if activation_function is None:\n",
    "        return Wx_plus_b\n",
    "    else:\n",
    "        with tf.name_scope(\"activation_function\"):\n",
    "            return activation_function(Wx_plus_b)"
   ]
  },
  {
   "cell_type": "code",
   "execution_count": 456,
   "metadata": {},
   "outputs": [
    {
     "name": "stdout",
     "output_type": "stream",
     "text": [
      "X_tr.shape (1022, 25)\n"
     ]
    }
   ],
   "source": [
    "dimension = X_tr.shape[1]\n",
    "graph = tf.Graph()  \n",
    "\n",
    "with graph.as_default():\n",
    "    tf_train_dataset = tf.placeholder(shape=[None, dimension], dtype=tf.float32, name=\"inputs\")\n",
    "    print(\"X_tr.shape\", X_tr.shape)\n",
    "    tf_train_labels = tf.placeholder(shape=[None, 1], dtype=tf.float32, name=\"y_true\")\n",
    "    keep_prob_s = tf.placeholder(dtype=tf.float32)\n",
    "    with tf.name_scope(\"layer_1\"):\n",
    "        l1 = add_layer(tf_train_dataset, dimension, 50, activation_function=tf.nn.relu)\n",
    "    with tf.name_scope(\"layer_2\"):\n",
    "        l2 = add_layer(l1, 50, 10,activation_function=tf.nn.relu)\n",
    "    with tf.name_scope(\"y_pred\"):\n",
    "        pred = add_layer(l2, 10, 1)\n",
    "    with tf.name_scope(\"loss\"):\n",
    "        loss = tf.reduce_mean(tf.reduce_sum(tf.square(tf_train_labels - pred), axis=[1]))  # mse\n",
    "    #     tf.summary.scalar(\"loss\", tensor=loss)\n",
    "    with tf.name_scope(\"train\"):\n",
    "        # train_op =tf.train.GradientDescentOptimizer(learning_rate=0.01).minimize(loss)\n",
    "        optimizer = tf.train.AdamOptimizer(learning_rate=0.03).minimize(loss)"
   ]
  },
  {
   "cell_type": "code",
   "execution_count": 457,
   "metadata": {
    "scrolled": false
   },
   "outputs": [
    {
     "name": "stdout",
     "output_type": "stream",
     "text": [
      "<class 'numpy.ndarray'>\n",
      "X_tr_tf (1022, 25)\n",
      "train_labels (1022, 1)\n",
      "Initialized\n",
      "Loss at step 0: 1162.712158\n"
     ]
    },
    {
     "name": "stderr",
     "output_type": "stream",
     "text": [
      "/Library/Frameworks/Python.framework/Versions/3.6/lib/python3.6/site-packages/numpy/core/fromnumeric.py:57: FutureWarning: reshape is deprecated and will raise in a subsequent release. Please use .values.reshape(...) instead\n",
      "  return getattr(obj, method)(*args, **kwds)\n"
     ]
    },
    {
     "name": "stdout",
     "output_type": "stream",
     "text": [
      "Loss at step 2000: 0.061876\n",
      "Loss at step 4000: 0.014480\n",
      "Loss at step 6000: 0.077330\n",
      "Loss at step 8000: 0.012511\n",
      "Loss at step 10000: 0.041210\n",
      "Loss at step 12000: 0.001429\n",
      "Loss at step 14000: 0.012830\n",
      "Loss at step 16000: 0.000978\n",
      "Loss at step 18000: 0.023956\n",
      "Loss at step 20000: 0.001442\n",
      "Loss at step 22000: 0.008189\n",
      "Loss at step 24000: 0.000623\n",
      "Loss at step 26000: 0.001016\n",
      "Loss at step 28000: 0.000935\n",
      "Loss at step 30000: 0.000380\n",
      "Loss at step 32000: 0.002715\n",
      "Loss at step 34000: 0.000751\n",
      "Loss at step 36000: 0.000385\n",
      "Loss at step 38000: 0.001545\n",
      "Loss at step 40000: 0.001503\n",
      "test_pred [[ 11.81556892]\n",
      " [ 12.30144119]\n",
      " [ 12.45418453]\n",
      " ..., \n",
      " [ 11.98832512]\n",
      " [ 11.27187634]\n",
      " [ 12.23567295]]\n",
      "Complete\n"
     ]
    }
   ],
   "source": [
    "num_steps = 40001\n",
    "batch_size = 256 \n",
    "print(type(X_tr))\n",
    "X_tr_tf = X_tr\n",
    "X_val_tf = X_val \n",
    "y_tr_tf = y_tr \n",
    "y_val_tf = y_val \n",
    "\n",
    "train_labels = np.reshape(y_tr_tf, [-1, 1])\n",
    "val_labels = np.reshape(y_val_tf, [-1, 1])\n",
    "with tf.Session(graph=graph) as session:\n",
    "    # 这是一个一次性操作，可以确保参数按照我们在图中描述的初始化：矩阵的随机权重，偏差为零。\n",
    "    # This is a one-time operation which ensures the parameters get initialized as\n",
    "    # we described in the graph: random weights for the matrix, zeros for the biases. \n",
    "    tf.global_variables_initializer().run()\n",
    "    offset = (step * batch_size) % (y_tr.shape[0] - batch_size)  \n",
    "    batch_data = X_tr_tf[offset:(offset + batch_size), :]  \n",
    "    batch_labels = train_labels[offset:(offset + batch_size), :]  \n",
    "    \n",
    "    \n",
    "#     feed_dict = {tf_train_dataset : batch_data, tf_train_labels : batch_labels, keep_prob_s: 0.5 }  \n",
    "    feed_dict = {tf_train_dataset : X_tr_tf, tf_train_labels : train_labels, keep_prob_s: 0.5 }  \n",
    "#     feed_dict = {tf_train_dataset : X_tr_tf, tf_train_labels : train_labels}  \n",
    "#     feed_dict = {tf_train_dataset : batch_data, tf_train_labels : batch_labels}  \n",
    "#     feed_dict_valid = {tf_train_dataset : X_val_tf, tf_train_labels : y_val_tf}  \n",
    "#     feed_dict_valid = {tf_train_dataset : X_val_tf,  keep_prob_s: keep_prob}  \n",
    "    feed_dict_test = {tf_train_dataset : X_test_new_ss,  keep_prob_s: 1.0}  \n",
    "    print(\"X_tr_tf\",X_tr_tf.shape)\n",
    "    print(\"train_labels\",train_labels.shape)\n",
    "    print('Initialized')\n",
    "    for step in range(num_steps):\n",
    "#         _, l, predictions = session.run([optimizer, loss, train_prediction], feed_dict=feed_dict)\n",
    "        _, l = session.run([optimizer, loss], feed_dict=feed_dict)\n",
    "#         session.run([optimizer], feed_dict=feed_dict)\n",
    "#         l = session.run(loss, feed_dict={tf_train_dataset : batch_data, tf_train_labels : batch_labels, keep_prob_s: 1.0})\n",
    "        if step % 2000 == 0:\n",
    "            print('Loss at step %d: %f' % (step, l))\n",
    "\n",
    "    test_pred = session.run(pred, feed_dict=feed_dict_test)\n",
    "    # 保存结果\n",
    "    print(\"test_pred\",test_pred)\n",
    "    test_prediction_np = np.exp(test_pred)\n",
    "    price = test_prediction_np.reshape(len(test_prediction_np))\n",
    "    savecsv(price,\"submission_tf_2lnn.csv\")\n",
    "    \n",
    "print(\"Complete\")"
   ]
  },
  {
   "cell_type": "code",
   "execution_count": null,
   "metadata": {
    "collapsed": true
   },
   "outputs": [],
   "source": []
  },
  {
   "cell_type": "code",
   "execution_count": null,
   "metadata": {
    "collapsed": true
   },
   "outputs": [],
   "source": []
  },
  {
   "cell_type": "code",
   "execution_count": 405,
   "metadata": {
    "collapsed": true
   },
   "outputs": [],
   "source": [
    "\n",
    "# 变厚矩阵\n",
    "def weight_variable(shape):\n",
    "    initial = tf.truncated_normal(shape, stddev=0.1)\n",
    "    return tf.Variable(initial)\n",
    "\n",
    "\n",
    "# 偏置\n",
    "def bias_variable(shape):\n",
    "    initial = tf.constant(0.1, shape=shape)\n",
    "    return tf.Variable(initial)\n",
    "\n",
    "\n",
    "# 卷积处理 变厚过程\n",
    "def conv2d(x, W):\n",
    "    # stride [1, x_movement, y_movement, 1] x_movement、y_movement就是步长\n",
    "    # Must have strides[0] = strides[3] = 1 padding='SAME'表示卷积后长宽不变\n",
    "    return tf.nn.conv2d(x, W, strides=[1, 1, 1, 1], padding='SAME')\n",
    "\n",
    "\n",
    "# pool 长宽缩小一倍\n",
    "def max_pool_2x2(x):\n",
    "    # stride [1, x_movement, y_movement, 1]\n",
    "    return tf.nn.max_pool(x, ksize=[1, 2, 2, 1], strides=[1, 2, 2, 1], padding='SAME')\n",
    "\n"
   ]
  },
  {
   "cell_type": "code",
   "execution_count": 451,
   "metadata": {},
   "outputs": [],
   "source": [
    "graph = tf.Graph()  \n",
    "\n",
    "with graph.as_default():\n",
    "    # define placeholder for inputs to network\n",
    "    xs = tf.placeholder(tf.float32, [None, 25])  # 原始数据的维度：25\n",
    "    ys = tf.placeholder(tf.float32, [None, 1])  # 输出数据为维度：1\n",
    "\n",
    "    keep_prob = tf.placeholder(tf.float32)  # dropout的比例\n",
    "\n",
    "    x_image = tf.reshape(xs, [-1, 5, 5, 1])  # 原始数据16变成二维图片4*4\n",
    "    ## conv1 layer ##第一卷积层\n",
    "    W_conv1 = weight_variable([2, 2, 1, 32])  # patch 2x2, in size 1, out size 32,每个像素变成32个像素，就是变厚的过程\n",
    "    b_conv1 = bias_variable([32])\n",
    "    h_conv1 = tf.nn.relu(conv2d(x_image, W_conv1) + b_conv1)  # output size 2x2x32，长宽不变，高度为32的三维图像\n",
    "    # h_pool1 = max_pool_2x2(h_conv1)     # output size 2x2x32 长宽缩小一倍\n",
    "\n",
    "    ## conv2 layer ##第二卷积层\n",
    "    W_conv2 = weight_variable([2, 2, 32, 64])  # patch 2x2, in size 32, out size 64\n",
    "    b_conv2 = bias_variable([64])\n",
    "    h_conv2 = tf.nn.relu(conv2d(h_conv1, W_conv2) + b_conv2)  # 输入第一层的处理结果 输出shape 4*4*64\n",
    "\n",
    "    ## fc1 layer ##  full connection 全连接层\n",
    "    W_fc1 = weight_variable([5 * 5 * 64, 512])  # 4x4 ，高度为64的三维图片，然后把它拉成512长的一维数组\n",
    "    b_fc1 = bias_variable([512])\n",
    "\n",
    "    h_pool2_flat = tf.reshape(h_conv2, [-1, 5 * 5 * 64])  # 把4*4，高度为64的三维图片拉成一维数组 降维处理\n",
    "    h_fc1 = tf.nn.relu(tf.matmul(h_pool2_flat, W_fc1) + b_fc1)\n",
    "    h_fc1_drop = tf.nn.dropout(h_fc1, keep_prob)  # 把数组中扔掉比例为keep_prob的元素\n",
    "    ## fc2 layer ## full connection\n",
    "    W_fc2 = weight_variable([512, 1])  # 512长的一维数组压缩为长度为1的数组\n",
    "    b_fc2 = bias_variable([1])  # 偏置\n",
    "    # 最后的计算结果\n",
    "    prediction = tf.matmul(h_fc1_drop, W_fc2) + b_fc2\n",
    "    # prediction = tf.nn.relu(tf.matmul(h_fc1_drop, W_fc2) + b_fc2)\n",
    "    # 计算 predition与y 差距 所用方法很简单就是用 suare()平方,sum()求和,mean()平均值\n",
    "    cross_entropy = tf.reduce_mean(tf.reduce_sum(tf.square(ys - prediction), reduction_indices=[1]))\n",
    "    # 0.01学习效率,minimize(loss)减小loss误差\n",
    "    train_step = tf.train.AdamOptimizer(0.03).minimize(cross_entropy)\n"
   ]
  },
  {
   "cell_type": "code",
   "execution_count": 452,
   "metadata": {},
   "outputs": [
    {
     "name": "stdout",
     "output_type": "stream",
     "text": [
      "0 误差= 65712.2\n",
      "1 误差= 44.2559\n",
      "2 误差= 169.45\n",
      "3 误差= 151.3\n",
      "4 误差= 144.467\n",
      "5 误差= 141.549\n",
      "6 误差= 140.529\n",
      "7 误差= 139.768\n",
      "8 误差= 138.6\n",
      "9 误差= 136.776\n",
      "10 误差= 134.157\n",
      "11 误差= 130.857\n",
      "12 误差= 127.19\n",
      "13 误差= 123.099\n",
      "14 误差= 118.591\n",
      "15 误差= 113.663\n",
      "16 误差= 108.243\n",
      "17 误差= 102.338\n",
      "18 误差= 95.9713\n",
      "19 误差= 89.193\n",
      "20 误差= 82.06\n",
      "21 误差= 74.6182\n",
      "22 误差= 66.9474\n",
      "23 误差= 59.1434\n",
      "24 误差= 51.3101\n",
      "25 误差= 43.5698\n",
      "26 误差= 36.0546\n",
      "27 误差= 28.9058\n",
      "28 误差= 22.2823\n",
      "29 误差= 16.3222\n",
      "30 误差= 11.1605\n",
      "31 误差= 6.92094\n",
      "32 误差= 3.6956\n",
      "33 误差= 1.52092\n",
      "34 误差= 0.382818\n",
      "35 误差= 0.173181\n",
      "36 误差= 0.715161\n",
      "37 误差= 1.74707\n",
      "38 误差= 2.99347\n",
      "39 误差= 4.19068\n",
      "40 误差= 5.10819\n",
      "41 误差= 5.5782\n",
      "42 误差= 5.62387\n",
      "43 误差= 5.25919\n",
      "44 误差= 4.57361\n",
      "45 误差= 3.68486\n",
      "46 误差= 2.74764\n",
      "47 误差= 1.86788\n",
      "48 误差= 1.1271\n",
      "49 误差= 0.587033\n",
      "50 误差= 0.264129\n",
      "51 误差= 0.1479\n",
      "52 误差= 0.20962\n",
      "53 误差= 0.407478\n",
      "54 误差= 0.701007\n",
      "55 误差= 1.03796\n",
      "56 误差= 1.37424\n",
      "57 误差= 1.68062\n",
      "58 误差= 1.92437\n",
      "59 误差= 2.09261\n",
      "60 误差= 2.17225\n",
      "61 误差= 2.16847\n",
      "62 误差= 2.09034\n",
      "63 误差= 1.94935\n",
      "64 误差= 1.75881\n",
      "65 误差= 1.53923\n",
      "66 误差= 1.3056\n",
      "67 误差= 1.07088\n",
      "68 误差= 0.848351\n",
      "69 误差= 0.649845\n",
      "70 误差= 0.487777\n",
      "71 误差= 0.36402\n",
      "72 误差= 0.273967\n",
      "73 误差= 0.211839\n",
      "74 误差= 0.174686\n",
      "75 误差= 0.155366\n",
      "76 误差= 0.147737\n",
      "77 误差= 0.146626\n",
      "78 误差= 0.147615\n",
      "79 误差= 0.148068\n",
      "80 误差= 0.147385\n",
      "81 误差= 0.146595\n",
      "82 误差= 0.147177\n",
      "83 误差= 0.150802\n",
      "84 误差= 0.158466\n",
      "85 误差= 0.173414\n",
      "86 误差= 0.1962\n",
      "87 误差= 0.227711\n",
      "88 误差= 0.26493\n",
      "89 误差= 0.307565\n",
      "90 误差= 0.349511\n",
      "91 误差= 0.390774\n",
      "92 误差= 0.425849\n",
      "93 误差= 0.449566\n",
      "94 误差= 0.466632\n",
      "95 误差= 0.47739\n",
      "96 误差= 0.476435\n",
      "97 误差= 0.463634\n",
      "98 误差= 0.444553\n",
      "99 误差= 0.4239\n",
      "100 误差= 0.401532\n",
      "101 误差= 0.376192\n",
      "102 误差= 0.35035\n",
      "103 误差= 0.326367\n",
      "104 误差= 0.304818\n",
      "105 误差= 0.286694\n",
      "106 误差= 0.273873\n",
      "107 误差= 0.264057\n",
      "108 误差= 0.25985\n",
      "109 误差= 0.259967\n",
      "110 误差= 0.263171\n",
      "111 误差= 0.267219\n",
      "112 误差= 0.274126\n",
      "113 误差= 0.27782\n",
      "114 误差= 0.281537\n",
      "115 误差= 0.288052\n",
      "116 误差= 0.294212\n",
      "117 误差= 0.301193\n",
      "118 误差= 0.304505\n",
      "119 误差= 0.303713\n",
      "120 误差= 0.300349\n",
      "121 误差= 0.296595\n",
      "122 误差= 0.291696\n",
      "123 误差= 0.285215\n",
      "124 误差= 0.277758\n",
      "125 误差= 0.275009\n",
      "126 误差= 0.272378\n",
      "127 误差= 0.269424\n",
      "128 误差= 0.268981\n",
      "129 误差= 0.266515\n",
      "130 误差= 0.263113\n",
      "131 误差= 0.260243\n",
      "132 误差= 0.256063\n",
      "133 误差= 0.252729\n",
      "134 误差= 0.252574\n",
      "135 误差= 0.254139\n",
      "136 误差= 0.256925\n",
      "137 误差= 0.259605\n",
      "138 误差= 0.263397\n",
      "139 误差= 0.268376\n",
      "140 误差= 0.274115\n",
      "141 误差= 0.277672\n",
      "142 误差= 0.283857\n",
      "143 误差= 0.29434\n",
      "144 误差= 0.30111\n",
      "145 误差= 0.307743\n",
      "146 误差= 0.309834\n",
      "147 误差= 0.311946\n",
      "148 误差= 0.312\n",
      "149 误差= 0.30935\n",
      "150 误差= 0.305381\n",
      "151 误差= 0.303082\n",
      "152 误差= 0.30076\n",
      "153 误差= 0.298468\n",
      "154 误差= 0.294796\n",
      "155 误差= 0.291897\n",
      "156 误差= 0.285953\n",
      "157 误差= 0.28286\n",
      "158 误差= 0.275886\n",
      "159 误差= 0.271909\n",
      "160 误差= 0.27102\n",
      "161 误差= 0.270549\n",
      "162 误差= 0.26901\n",
      "163 误差= 0.271808\n",
      "164 误差= 0.273457\n",
      "165 误差= 0.273087\n",
      "166 误差= 0.273992\n",
      "167 误差= 0.273999\n",
      "168 误差= 0.275317\n",
      "169 误差= 0.275963\n",
      "170 误差= 0.276442\n",
      "171 误差= 0.276739\n",
      "172 误差= 0.276261\n",
      "173 误差= 0.274752\n",
      "174 误差= 0.27206\n",
      "175 误差= 0.269167\n",
      "176 误差= 0.267826\n",
      "177 误差= 0.269819\n",
      "178 误差= 0.273332\n",
      "179 误差= 0.276388\n",
      "180 误差= 0.282106\n",
      "181 误差= 0.287265\n",
      "182 误差= 0.290356\n",
      "183 误差= 0.288851\n",
      "184 误差= 0.292609\n",
      "185 误差= 0.293988\n",
      "186 误差= 0.294181\n",
      "187 误差= 0.295428\n",
      "188 误差= 0.299649\n",
      "189 误差= 0.302194\n",
      "190 误差= 0.300489\n",
      "191 误差= 0.304682\n",
      "192 误差= 0.308047\n",
      "193 误差= 0.306705\n",
      "194 误差= 0.295409\n",
      "195 误差= 0.285234\n",
      "196 误差= 0.275086\n",
      "197 误差= 0.263776\n",
      "198 误差= 0.252334\n",
      "199 误差= 0.245761\n",
      "[[ 11.7176609]\n",
      " [ 11.7176609]\n",
      " [ 11.7176609]\n",
      " ..., \n",
      " [ 11.7176609]\n",
      " [ 11.7176609]\n",
      " [ 11.7176609]]\n",
      "Complete\n"
     ]
    }
   ],
   "source": [
    "\n",
    "with tf.Session(graph=graph) as sess:\n",
    "    # important step\n",
    "    # tf.initialize_all_variables() no long valid from\n",
    "    # 2017-03-02 if using tensorflow >= 0.12\n",
    "    sess.run(tf.global_variables_initializer())\n",
    "    # 训练500次\n",
    "    for i in range(200):\n",
    "\n",
    "    #     feed_dict_test = {tf_train_dataset : X_test_new_ss}  \n",
    "    #     feed_dict = {tf_train_dataset : X_tr_tf, tf_train_labels : train_labels, keep_prob_s: keep_prob }  \n",
    "        sess.run(train_step, feed_dict={xs: X_tr_tf, ys: train_labels, keep_prob: 0.7})\n",
    "        # 输出loss值\n",
    "        print(i, '误差=',sess.run(cross_entropy, feed_dict={xs: X_tr_tf, ys: train_labels, keep_prob: 1.0}))  \n",
    "    # 可视化\n",
    "    prediction_value = sess.run(prediction, feed_dict={xs: X_test_new_ss, keep_prob: 1.0})\n",
    "    print(prediction_value)\n",
    "    prediction_value_np = np.exp(prediction_value)\n",
    "    price = prediction_value_np.reshape(len(prediction_value_np))\n",
    "    #     print(\"test_prediction_np\",test_prediction_np[0])\n",
    "    #     print(\"test_prediction_np.shpe\",test_prediction_np.shape)\n",
    "    #     print(\"x.shpe\",x.shape)\n",
    "    #     print(\"x\",x)\n",
    "    #     print(\"test_prediction_np.shape\",test_prediction_np.shape)\n",
    "    savecsv(price,\"submission_tf_2lcnn.csv\")\n",
    "\n",
    "    print(\"Complete\")\n",
    "    ###画图###########################################################################\n",
    "    # import matplotlib.pyplot as plt\n",
    "\n",
    "    # fig = plt.figure(figsize=(20, 3))  # dpi参数指定绘图对象的分辨率，即每英寸多少个像素，缺省值为80\n",
    "    # axes = fig.add_subplot(1, 1, 1)\n",
    "    # line1, = axes.plot(range(len(prediction_value)), prediction_value, 'b--', label='cnn', linewidth=2)\n",
    "    # line2,=axes.plot(range(len(gbr_pridict)), gbr_pridict, 'r--',label='优选参数')\n",
    "    # line3, = axes.plot(range(len(test_y_disorder)), test_y_disorder, 'g', label='实际')\n",
    "\n",
    "    # axes.grid()\n",
    "    # fig.tight_layout()\n",
    "    # plt.legend(handles=[line1, line2,line3])\n",
    "    # plt.legend(handles=[line1, line3])\n",
    "    # # plt.title('卷积神经网络')\n",
    "    # plt.show()\n",
    "\n"
   ]
  },
  {
   "cell_type": "code",
   "execution_count": 334,
   "metadata": {},
   "outputs": [
    {
     "name": "stdout",
     "output_type": "stream",
     "text": [
      "X_tr.shape[1]) 10\n"
     ]
    }
   ],
   "source": [
    "batch_size = 64  \n",
    "regularation_param = 0.0001  \n",
    "keep_prob = 0.8\n",
    "graph = tf.Graph()  \n",
    "num_labels = 2\n",
    "hidden_nodes = 512\n",
    "\n",
    "\n",
    "def compute_logits(data, weightss, biasess, dropout_vals=None):  \n",
    "    temp = data  \n",
    "    if dropout_vals:  \n",
    "        for w,b,d in zip(weightss[:-1], biasess[:-1], dropout_vals[:-1]):  \n",
    "            temp = tf.nn.relu_layer(tf.nn.dropout(temp, d), w, b)  \n",
    "        temp = tf.matmul(temp, weightss[-1]) + biasess[-1]  \n",
    "    else:  \n",
    "        for w,b in zip(weightss[:-1], biasess[:-1]):  \n",
    "            temp = tf.nn.relu_layer(temp, w, b)  \n",
    "        temp = tf.matmul(temp, weightss[-1]) + biasess[-1]  \n",
    "    return temp\n",
    "\n",
    "with graph.as_default():\n",
    "    # -----------------------------------------1\n",
    "    # 输入 \n",
    "    # placeholder 插入一个待初始化的张量占位符\n",
    "    # 重要事项：这个张量被求值时会产生错误。 \n",
    "    # 它的值必须在Session.run(), Tensor.eval() 或 Operation.run() 中使用feed_dict的这个可选参数来填充。\n",
    "    tf_train_dataset = tf.placeholder(tf.float32, shape=(None, X_tr.shape[1]), name=\"tf_train_dataset\")\n",
    "    tf_train_labels = tf.placeholder(tf.float32, shape=(None, 1), name=\"tf_train_labels\")\n",
    "    keep_prob_s = tf.placeholder(dtype=tf.float32)\n",
    "    print(\"X_tr.shape[1])\",X_tr.shape[1])\n",
    "    # 创建一个常量张量\n",
    "    tf_valid_dataset = tf.constant(X_val)\n",
    "    tf_test_dataset = tf.constant(X_test)\n",
    "    \n",
    "    #转数据类型，f64->f32\n",
    "    tf_train_dataset = tf.to_float(tf_train_dataset)\n",
    "    tf_valid_dataset = tf.to_float(tf_valid_dataset)\n",
    "    tf_test_dataset = tf.to_float(tf_test_dataset)\n",
    "    \n",
    "    # 变量\n",
    "    # 梯度学习率\n",
    "    # 初始的学习速率\n",
    "    starter_learning_rate = 0.03 \n",
    "    # 全局的step，与 decay_step 和 decay_rate一起决定了 learning rate的变化\n",
    "    global_step = tf.Variable(0, trainable=False)\n",
    "    # 衰减速度\n",
    "    decay_steps = 50\n",
    "    # 衰减系数\n",
    "    decay_rate = 0.8\n",
    "    # 如果staircase=True，那就表明每decay_steps次计算学习速率变化，更新原始学习速率.\n",
    "    # 如果是False，那就是每一步都更新学习速率\n",
    "    staircase = False\n",
    "    # 指数衰减:法通过这个函数，可以先使用较大的学习率来快速得到一个比较优的解，然后随着迭代的继续逐步减小学习率，使得模型在训练后期更加稳定\n",
    "    # 87.7% 仅仅指数衰减\n",
    "    learning_rate = tf.train.exponential_decay(starter_learning_rate,global_step,decay_steps,decay_rate,staircase)\n",
    "    \n",
    "    \n",
    "    # 当你训练一个模型的时候，你使用变量去保存和更新参数。\n",
    "    # 在Tensorflow中变量是内存缓冲区中保存的张量（tensor）\n",
    "    \n",
    "#     weights_end = tf.Variable(tf.truncated_normal([288, 1]))\n",
    "#     biases_end = tf.Variable(tf.zeros([1]))\n",
    "#     weights = tf.placeholder(shape=[288, 1], dtype=tf.float32, name=\"weights\")\n",
    "#     biases = tf.Variable(tf.zeros(shape=[1, 1]) + 0.1, name=\"biases\")\n",
    "    \n",
    "    weights1 = tf.Variable(tf.truncated_normal([10, 10]))\n",
    "    biases1 = tf.Variable(tf.zeros([10]))\n",
    "\n",
    "    weights2 = tf.Variable(tf.truncated_normal([10, 1]))\n",
    "    biases2 = tf.Variable(tf.zeros([1]))\n",
    "    \n",
    "    \n",
    "    l1 = add_layer(X_tr, 10, 10, activation_function=tf.nn.relu)\n",
    "    out = add_layer(l1, 10, 1)\n",
    "    train_logits = out\n",
    "    \n",
    "#     print(X_val.dtype)\n",
    "    l1 = add_layer(X_val, 10, 10, activation_function=tf.nn.relu)\n",
    "    out = add_layer(l1, 10, 1)\n",
    "    valid_logits = out\n",
    "    \n",
    "    l1 = add_layer(X_test_new_ss, 10, 10, activation_function=tf.nn.relu)\n",
    "    out = add_layer(l1, 10, 1)\n",
    "    test_logits = out\n",
    "    \n",
    "#     print(weights_end.shape)\n",
    "#     print(biases_end.shape)\n",
    "#     print(X_tr.shape)\n",
    "    \n",
    "    \n",
    "    #DropOut\n",
    "    drop = tf.nn.dropout(tf_train_dataset, keep_prob=keep_prob)\n",
    "    \n",
    "    # 训练计算.\n",
    "#     train_logits = tf.matmul(tf_train_dataset, weights) + biases\n",
    "#     valid_logits = tf.matmul(tf_valid_dataset, weights) + biases\n",
    "#     test_logits = tf.matmul(tf_test_dataset, weights) + biases\n",
    "\n",
    "\n",
    "\n",
    "#     train_logits = tf.add(tf.matmul(tf_train_dataset, weights1),biases1)\n",
    "#     train_logits = tf.nn.relu(train_logits)\n",
    "#     train_logits = tf.add(tf.matmul(train_logits,weights2),biases2)\n",
    "\n",
    "#     valid_logits = tf.add(tf.matmul(tf_valid_dataset, weights1),biases1)\n",
    "#     valid_logits = tf.nn.relu(valid_logits)\n",
    "#     valid_logits = tf.add(tf.matmul(valid_logits,weights2),biases2)\n",
    "\n",
    "#     test_logits = tf.add(tf.matmul(tf_test_dataset, weights1),biases1)\n",
    "#     test_logits = tf.nn.relu(test_logits)\n",
    "#     test_logits = tf.add(tf.matmul(test_logits,weights2),biases2)\n",
    "    \n",
    "    \n",
    "    #加l2_loss\n",
    "#     hpl2 =  regularation_param * (tf.nn.l2_loss(weights1)\n",
    "#                                   + tf.nn.l2_loss(weights2)\n",
    "#                                   + tf.nn.l2_loss(weights3)\n",
    "#                                   + tf.nn.l2_loss(weights4)\n",
    "#                                   + tf.nn.l2_loss(weights5)\n",
    "#                                  )\n",
    "    loss = tf.reduce_mean(tf.reduce_sum(tf.square(tf_train_labels - train_logits), axis=[1]))\n",
    "#     loss = tf.add(loss, hpl2)\n",
    "\n",
    "\n",
    "    # 最优化.因为深度学习常见的是对于梯度的优化，也就是说，优化器最后其实就是各种对于梯度下降算法的优化。 \n",
    "#     optimizer = tf.train.GradientDescentOptimizer(0.05).minimize(loss)\n",
    "#     optimizer = tf.train.GradientDescentOptimizer(0.02).minimize(loss, global_step=global_step)\n",
    "    optimizer = tf.train.AdamOptimizer(learning_rate=0.01).minimize(loss)\n",
    "    \n",
    "    train_prediction = tf.nn.softmax(train_logits)\n",
    "    valid_prediction = tf.nn.softmax(valid_logits)\n",
    "    test_prediction = tf.nn.softmax(test_logits)"
   ]
  },
  {
   "cell_type": "code",
   "execution_count": null,
   "metadata": {
    "collapsed": true
   },
   "outputs": [],
   "source": [
    "    #DropOut\n",
    "#     drop = tf.nn.dropout(tf_train_dataset, keep_prob=keep_prob)\n",
    "    \n",
    "    # 训练计算.\n",
    "#     train_logits = tf.matmul(tf_train_dataset, weights) + biases\n",
    "#     valid_logits = tf.matmul(tf_valid_dataset, weights) + biases\n",
    "#     test_logits = tf.matmul(tf_test_dataset, weights) + biases\n",
    "\n",
    "#     train_logits = tf.add(tf.matmul(tf_train_dataset, weights1),biases1)\n",
    "#     train_logits = tf.nn.relu(train_logits)\n",
    "#     train_logits = tf.add(tf.matmul(train_logits,weights2),biases2)\n",
    "\n",
    "#     valid_logits = tf.add(tf.matmul(tf_valid_dataset, weights1),biases1)\n",
    "#     valid_logits = tf.nn.relu(valid_logits)\n",
    "#     valid_logits = tf.add(tf.matmul(valid_logits,weights2),biases2)\n",
    "\n",
    "#     test_logits = tf.add(tf.matmul(tf_test_dataset, weights1),biases1)\n",
    "#     test_logits = tf.nn.relu(test_logits)\n",
    "#     test_logits = tf.add(tf.matmul(test_logits,weights2),biases2)"
   ]
  },
  {
   "cell_type": "code",
   "execution_count": 416,
   "metadata": {},
   "outputs": [
    {
     "name": "stdout",
     "output_type": "stream",
     "text": [
      "X_tr.shape[1]) 25\n"
     ]
    }
   ],
   "source": [
    "batch_size = 64  \n",
    "regularation_param = 0.0001  \n",
    "keep_prob = 0.1\n",
    "num_labels = 2\n",
    "hidden_nodes = 512\n",
    "dimension = X_tr.shape[1]\n",
    "l1out = 20\n",
    "graph = tf.Graph()  \n",
    "\n",
    "with graph.as_default():\n",
    "    # -----------------------------------------1\n",
    "    # 输入 \n",
    "    tf_train_dataset = tf.placeholder(tf.float32, shape=(None, dimension), name=\"tf_train_dataset\")\n",
    "    tf_train_labels = tf.placeholder(tf.float32, shape=(None, 1), name=\"tf_train_labels\")\n",
    "    keep_prob_s = tf.placeholder(dtype=tf.float32)\n",
    "    print(\"X_tr.shape[1])\",X_tr.shape[1])\n",
    "    # 创建一个常量张量\n",
    "    tf_valid_dataset = tf.constant(X_val)\n",
    "    tf_test_dataset = tf.constant(X_test)\n",
    "    \n",
    "    #转数据类型，f64->f32\n",
    "    tf_train_dataset = tf.to_float(tf_train_dataset)\n",
    "    tf_valid_dataset = tf.to_float(tf_valid_dataset)\n",
    "    tf_test_dataset = tf.to_float(tf_test_dataset)\n",
    "\n",
    "    \n",
    "    weights1 = tf.Variable(tf.truncated_normal([288, 10]))\n",
    "    biases1 = tf.Variable(tf.zeros([10]))\n",
    "\n",
    "    weights2 = tf.Variable(tf.truncated_normal([10, 1]))\n",
    "    biases2 = tf.Variable(tf.zeros([1]))\n",
    "    \n",
    "    \n",
    "    l1 = add_layer(tf_train_dataset, dimension, l1out, activation_function=tf.nn.relu)\n",
    "    out = add_layer(l1, l1out, 1)\n",
    "    train_logits = out\n",
    "    \n",
    "    l1 = add_layer(X_val, dimension, l1out, activation_function=tf.nn.relu)\n",
    "    out = add_layer(l1, l1out, 1)\n",
    "    valid_logits = out\n",
    "    \n",
    "    l1 = add_layer(X_test_new_ss, dimension, l1out, activation_function=tf.nn.relu)\n",
    "    out = add_layer(l1, l1out, 1)\n",
    "    test_logits = out\n",
    "    \n",
    "    # 问题出在计算损失函数使用的是tf_train_labels - train_logits，所以不会应用到 test 上，所以无法收敛\n",
    "    loss = tf.reduce_mean(tf.reduce_sum(tf.square(tf_train_labels - train_logits), axis=[1]))\n",
    "    optimizer = tf.train.AdamOptimizer(learning_rate=0.05).minimize(loss)\n",
    "    \n",
    "    train_prediction = tf.nn.softmax(train_logits)\n",
    "    valid_prediction = tf.nn.softmax(valid_logits)\n",
    "    test_prediction = tf.nn.softmax(test_logits)"
   ]
  }
 ],
 "metadata": {
  "_change_revision": 6,
  "_is_fork": false,
  "kernelspec": {
   "display_name": "Python 3",
   "language": "python",
   "name": "python3"
  },
  "language_info": {
   "codemirror_mode": {
    "name": "ipython",
    "version": 3
   },
   "file_extension": ".py",
   "mimetype": "text/x-python",
   "name": "python",
   "nbconvert_exporter": "python",
   "pygments_lexer": "ipython3",
   "version": "3.6.4"
  },
  "toc": {
   "base_numbering": 1,
   "nav_menu": {},
   "number_sections": true,
   "sideBar": true,
   "skip_h1_title": false,
   "title_cell": "Table of Contents",
   "title_sidebar": "Contents",
   "toc_cell": false,
   "toc_position": {},
   "toc_section_display": true,
   "toc_window_display": false
  }
 },
 "nbformat": 4,
 "nbformat_minor": 1
}
