{
 "cells": [
  {
   "cell_type": "code",
   "execution_count": 1,
   "metadata": {},
   "outputs": [
    {
     "data": {
      "text/plain": [
       "'my-model'"
      ]
     },
     "execution_count": 1,
     "metadata": {},
     "output_type": "execute_result"
    }
   ],
   "source": [
    "# 保存模型：\n",
    "import tensorflow as tf\n",
    "\n",
    "w1 = tf.Variable(tf.truncated_normal(shape=[10]), name='w1')\n",
    "w2 = tf.Variable(tf.truncated_normal(shape=[20]), name='w2')\n",
    "tf.add_to_collection('vars', w1)\n",
    "tf.add_to_collection('vars', w2)\n",
    "saver = tf.train.Saver()\n",
    "sess = tf.Session()\n",
    "sess.run(tf.global_variables_initializer())\n",
    "saver.save(sess, 'my-model')\n",
    "\n"
   ]
  },
  {
   "cell_type": "code",
   "execution_count": 2,
   "metadata": {},
   "outputs": [
    {
     "name": "stdout",
     "output_type": "stream",
     "text": [
      "INFO:tensorflow:Restoring parameters from ./my-model\n",
      "[ 1.30743325  0.62801307 -1.12588859 -0.10052042  1.56966949  0.2419591\n",
      " -0.11805462  1.84825766 -0.80503899 -0.58162898]\n",
      "[ 1.22203541  0.88679165 -1.43681955 -0.25783327 -0.4267422  -0.74125427\n",
      "  0.11442031 -0.38195676 -0.53963572  0.14843726 -1.93287039 -0.76263082\n",
      "  0.60470831 -0.36368862 -0.21526676  0.15325139  1.65754783 -0.09218513\n",
      " -0.64786607 -0.09632693]\n",
      "[ 1.30743325  0.62801307 -1.12588859 -0.10052042  1.56966949  0.2419591\n",
      " -0.11805462  1.84825766 -0.80503899 -0.58162898]\n",
      "[ 1.22203541  0.88679165 -1.43681955 -0.25783327 -0.4267422  -0.74125427\n",
      "  0.11442031 -0.38195676 -0.53963572  0.14843726 -1.93287039 -0.76263082\n",
      "  0.60470831 -0.36368862 -0.21526676  0.15325139  1.65754783 -0.09218513\n",
      " -0.64786607 -0.09632693]\n"
     ]
    }
   ],
   "source": [
    "# 恢复模型：\n",
    "sess = tf.Session()\n",
    "new_saver = tf.train.import_meta_graph('my-model.meta')\n",
    "new_saver.restore(sess, tf.train.latest_checkpoint('./'))\n",
    "all_vars = tf.get_collection('vars')\n",
    "for v in all_vars:\n",
    "    v_ = sess.run(v)\n",
    "    print(v_)"
   ]
  },
  {
   "cell_type": "code",
   "execution_count": null,
   "metadata": {
    "collapsed": true
   },
   "outputs": [],
   "source": []
  }
 ],
 "metadata": {
  "kernelspec": {
   "display_name": "Python 3",
   "language": "python",
   "name": "python3"
  },
  "language_info": {
   "codemirror_mode": {
    "name": "ipython",
    "version": 3
   },
   "file_extension": ".py",
   "mimetype": "text/x-python",
   "name": "python",
   "nbconvert_exporter": "python",
   "pygments_lexer": "ipython3",
   "version": "3.6.0"
  }
 },
 "nbformat": 4,
 "nbformat_minor": 2
}
