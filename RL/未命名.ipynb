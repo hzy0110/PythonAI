{
 "cells": [
  {
   "cell_type": "code",
   "execution_count": 1,
   "metadata": {
    "ExecuteTime": {
     "end_time": "2019-08-23T15:02:04.227169Z",
     "start_time": "2019-08-23T15:01:56.080256Z"
    },
    "collapsed": true
   },
   "outputs": [
    {
     "name": "stdout",
     "output_type": "stream",
     "text": [
      "第0局得分 = 11.0\n",
      "第1局得分 = 28.0\n",
      "第2局得分 = 38.0\n",
      "第3局得分 = 27.0\n",
      "第4局得分 = 18.0\n",
      "第5局得分 = 21.0\n",
      "第6局得分 = 16.0\n",
      "第7局得分 = 17.0\n",
      "第8局得分 = 17.0\n",
      "第9局得分 = 23.0\n",
      "第10局得分 = 15.0\n",
      "第11局得分 = 15.0\n",
      "第12局得分 = 17.0\n",
      "第13局得分 = 15.0\n",
      "第14局得分 = 16.0\n",
      "第15局得分 = 9.0\n",
      "第16局得分 = 15.0\n",
      "第17局得分 = 18.0\n",
      "第18局得分 = 21.0\n",
      "第19局得分 = 23.0\n"
     ]
    }
   ],
   "source": [
    "import gym\n",
    "env = gym.make('CartPole-v0')\n",
    "n_episode = 20\n",
    "for i_episode in range(n_episode):\n",
    "    observation = env.reset()\n",
    "    episode_reward = 0\n",
    "    while True:\n",
    "        env.render()\n",
    "        action = env.action_space.sample() # 随机选\n",
    "        observation, reward, done, _ = env.step(action)\n",
    "        episode_reward += reward\n",
    "        state = observation\n",
    "        if done:\n",
    "            break\n",
    "    print ('第{}局得分 = {}'.format(i_episode, episode_reward))\n",
    "env.close()"
   ]
  },
  {
   "cell_type": "code",
   "execution_count": null,
   "metadata": {
    "ExecuteTime": {
     "start_time": "2019-08-23T15:13:57.117Z"
    }
   },
   "outputs": [
    {
     "data": {
      "image/png": "[encoded data removed]",
      "text/plain": [
       "<Figure size 432x288 with 1 Axes>"
      ]
     },
     "metadata": {},
     "output_type": "display_data"
    }
   ],
   "source": [
    "import gym\n",
    "\n",
    "\n",
    "from IPython import display\n",
    "\n",
    "\n",
    "import matplotlib\n",
    "\n",
    "\n",
    "import matplotlib.pyplot as plt\n",
    "\n",
    "\n",
    "%matplotlib inline\n",
    "\n",
    "\n",
    "\n",
    "env = gym.make('CartPole-v0')\n",
    "\n",
    "\n",
    "env.reset()\n",
    "\n",
    "\n",
    "img = plt.imshow(env.render(mode='rgb_array')) # only call this once\n",
    "\n",
    "\n",
    "for _ in range(100):\n",
    "\n",
    "\n",
    " img.set_data(env.render(mode='rgb_array')) # just update the data\n",
    "\n",
    "\n",
    " display.display(plt.gcf())\n",
    "\n",
    "\n",
    " display.clear_output(wait=True)\n",
    "\n",
    "\n",
    " action = env.action_space.sample()\n",
    "\n",
    "\n",
    " env.step(action)"
   ]
  },
  {
   "cell_type": "code",
   "execution_count": null,
   "metadata": {},
   "outputs": [],
   "source": []
  }
 ],
 "metadata": {
  "kernelspec": {
   "display_name": "Python 3",
   "language": "python",
   "name": "python3"
  },
  "language_info": {
   "codemirror_mode": {
    "name": "ipython",
    "version": 3
   },
   "file_extension": ".py",
   "mimetype": "text/x-python",
   "name": "python",
   "nbconvert_exporter": "python",
   "pygments_lexer": "ipython3",
   "version": "3.6.8"
  },
  "toc": {
   "base_numbering": 1,
   "nav_menu": {},
   "number_sections": true,
   "sideBar": true,
   "skip_h1_title": false,
   "title_cell": "Table of Contents",
   "title_sidebar": "Contents",
   "toc_cell": false,
   "toc_position": {},
   "toc_section_display": true,
   "toc_window_display": false
  }
 },
 "nbformat": 4,
 "nbformat_minor": 2
}
