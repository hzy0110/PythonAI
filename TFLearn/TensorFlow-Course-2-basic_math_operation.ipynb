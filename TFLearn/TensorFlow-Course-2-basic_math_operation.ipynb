{
 "cells": [
  {
   "cell_type": "code",
   "execution_count": 2,
   "metadata": {
    "ExecuteTime": {
     "end_time": "2018-10-19T08:45:14.916974Z",
     "start_time": "2018-10-19T08:45:04.792436Z"
    }
   },
   "outputs": [],
   "source": [
    "from __future__ import print_function\n",
    "import tensorflow as tf\n",
    "import os"
   ]
  },
  {
   "cell_type": "code",
   "execution_count": 3,
   "metadata": {
    "ExecuteTime": {
     "end_time": "2018-10-19T08:47:30.490115Z",
     "start_time": "2018-10-19T08:47:30.458545Z"
    }
   },
   "outputs": [],
   "source": [
    "# Defining some constant values\n",
    "a = tf.constant(5.0, name=\"a\")\n",
    "b = tf.constant(10.0, name=\"b\")"
   ]
  },
  {
   "cell_type": "code",
   "execution_count": 4,
   "metadata": {
    "ExecuteTime": {
     "end_time": "2018-10-19T08:47:43.802857Z",
     "start_time": "2018-10-19T08:47:43.794189Z"
    }
   },
   "outputs": [],
   "source": [
    "# Some basic operations\n",
    "x = tf.add(a, b, name=\"add\")\n",
    "y = tf.div(a, b, name=\"divide\")"
   ]
  },
  {
   "cell_type": "code",
   "execution_count": 6,
   "metadata": {
    "ExecuteTime": {
     "end_time": "2018-10-19T08:51:33.590367Z",
     "start_time": "2018-10-19T08:51:33.540786Z"
    }
   },
   "outputs": [
    {
     "name": "stdout",
     "output_type": "stream",
     "text": [
      "a= 5.0\n",
      "b= 10.0\n",
      "a+b= 15.0\n",
      "a/b= 0.5\n"
     ]
    }
   ],
   "source": [
    "# Run the session\n",
    "with tf.Session() as sess:\n",
    "    print(\"a=\", sess.run(a))\n",
    "    print(\"b=\", sess.run(b))\n",
    "    print(\"a+b=\", sess.run(x))\n",
    "    print(\"a/b=\", sess.run(y))"
   ]
  },
  {
   "cell_type": "code",
   "execution_count": 7,
   "metadata": {
    "ExecuteTime": {
     "end_time": "2018-10-19T08:51:52.653001Z",
     "start_time": "2018-10-19T08:51:52.649678Z"
    }
   },
   "outputs": [],
   "source": [
    "# Closing the session.\n",
    "sess.close()"
   ]
  },
  {
   "cell_type": "code",
   "execution_count": null,
   "metadata": {},
   "outputs": [],
   "source": []
  }
 ],
 "metadata": {
  "kernelspec": {
   "display_name": "Python 3",
   "language": "python",
   "name": "python3"
  },
  "language_info": {
   "codemirror_mode": {
    "name": "ipython",
    "version": 3
   },
   "file_extension": ".py",
   "mimetype": "text/x-python",
   "name": "python",
   "nbconvert_exporter": "python",
   "pygments_lexer": "ipython3",
   "version": "3.6.4"
  },
  "toc": {
   "base_numbering": 1,
   "nav_menu": {},
   "number_sections": true,
   "sideBar": true,
   "skip_h1_title": false,
   "title_cell": "Table of Contents",
   "title_sidebar": "Contents",
   "toc_cell": false,
   "toc_position": {},
   "toc_section_display": true,
   "toc_window_display": false
  }
 },
 "nbformat": 4,
 "nbformat_minor": 2
}
