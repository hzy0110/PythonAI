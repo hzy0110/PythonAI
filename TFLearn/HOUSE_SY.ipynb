{
 "cells": [
  {
   "cell_type": "code",
   "execution_count": 2,
   "metadata": {
    "ExecuteTime": {
     "end_time": "2019-02-09T14:32:54.544164Z",
     "start_time": "2019-02-09T14:31:53.818359Z"
    }
   },
   "outputs": [],
   "source": [
    "import pandas as pd\n",
    "import tensorflow as tf\n",
    "import numpy as np\n",
    "import matplotlib.pyplot as plt\n",
    "from sklearn.preprocessing import StandardScaler\n",
    "from sklearn.preprocessing import MinMaxScaler\n",
    "from sklearn.model_selection import train_test_split\n",
    "from sklearn.preprocessing import OneHotEncoder\n",
    "from sklearn.metrics import accuracy_score"
   ]
  },
  {
   "cell_type": "code",
   "execution_count": 2,
   "metadata": {
    "ExecuteTime": {
     "end_time": "2019-01-24T02:52:51.529659Z",
     "start_time": "2019-01-24T02:52:51.447401Z"
    }
   },
   "outputs": [],
   "source": [
    "# 处理原始数据，然后合并\n",
    "# 读取\n",
    "df_wf = pd.read_table('../Data/House_ShangYu/wufang.txt', low_memory=False, dtype=float)\n",
    "df_yf = pd.read_csv('../Data/House_ShangYu/youfang.csv', low_memory=False, dtype=float)\n",
    "# 填充原始nan\n",
    "df_wf = df_wf.fillna(0)\n",
    "df_yf = df_yf.fillna(0)\n",
    "# 处理顺序\n",
    "df_wf = df_wf.reindex(columns=list([\"ID\",\"SB\",\"GJJ\",\"NL\",\"CL\",\"HY\",\"GS\",\"SS\",\"Y\"]))\n",
    "df_yf = df_yf.reindex(columns=list([\"ID\",\"SB\",\"GJJ\",\"NL\",\"CL\",\"HY\",\"GS\",\"SS\",\"Y\"]))\n",
    "# 填充 Y 列的目标值\n",
    "df_wf[\"Y\"] = df_wf[\"Y\"].fillna(0)\n",
    "df_yf[\"Y\"] = df_yf[\"Y\"].fillna(1)\n",
    "# 合并，有房+0.3无房\n",
    "df_wf_train, df_wf_test = train_test_split(\n",
    "    df_wf, test_size=0.7)\n",
    "\n",
    "df_house = pd.concat([df_wf_train,df_yf])\n",
    "df_house = df_house.sample(frac=1)"
   ]
  },
  {
   "cell_type": "code",
   "execution_count": null,
   "metadata": {},
   "outputs": [],
   "source": []
  },
  {
   "cell_type": "code",
   "execution_count": 3,
   "metadata": {
    "ExecuteTime": {
     "end_time": "2019-01-24T02:53:03.490669Z",
     "start_time": "2019-01-24T02:53:03.476613Z"
    }
   },
   "outputs": [
    {
     "name": "stdout",
     "output_type": "stream",
     "text": [
      "<class 'pandas.core.frame.DataFrame'>\n",
      "Int64Index: 17665 entries, 4983 to 7749\n",
      "Data columns (total 9 columns):\n",
      "ID     17665 non-null float64\n",
      "SB     17665 non-null float64\n",
      "GJJ    17665 non-null float64\n",
      "NL     17665 non-null float64\n",
      "CL     17665 non-null float64\n",
      "HY     17665 non-null float64\n",
      "GS     17665 non-null float64\n",
      "SS     17665 non-null float64\n",
      "Y      17665 non-null float64\n",
      "dtypes: float64(9)\n",
      "memory usage: 1.3 MB\n"
     ]
    }
   ],
   "source": [
    "df_house.info()"
   ]
  },
  {
   "cell_type": "code",
   "execution_count": 4,
   "metadata": {
    "ExecuteTime": {
     "end_time": "2019-01-24T02:53:15.434679Z",
     "start_time": "2019-01-24T02:53:15.427747Z"
    }
   },
   "outputs": [],
   "source": [
    "df_house_x = df_house.drop([\"Y\", \"ID\"],axis=1)\n",
    "df_house_view  = df_house_x;\n",
    "df_house_y = df_house['Y']\n",
    "df_wf_x = df_wf.drop([\"Y\", \"ID\"],axis=1)\n",
    "df_wf_view  = df_wf_x;\n",
    "df_wf_y = df_wf['Y']"
   ]
  },
  {
   "cell_type": "code",
   "execution_count": 10,
   "metadata": {
    "ExecuteTime": {
     "end_time": "2019-01-17T06:48:13.223458Z",
     "start_time": "2019-01-17T06:48:13.218790Z"
    }
   },
   "outputs": [
    {
     "name": "stdout",
     "output_type": "stream",
     "text": [
      "<class 'numpy.ndarray'>\n"
     ]
    }
   ],
   "source": [
    "# 独热编码\n",
    "# np_house_y_oh = (np.arange(2) == df_house_y[:,None]).astype(np.float32)\n",
    "# verify_Y_oh = (np.arange(2) == verify_Y[:,None]).astype(np.float32)\n",
    "# print(type(np_house_y_oh))"
   ]
  },
  {
   "cell_type": "code",
   "execution_count": 13,
   "metadata": {
    "ExecuteTime": {
     "end_time": "2019-01-17T06:48:50.590630Z",
     "start_time": "2019-01-17T06:48:50.579642Z"
    }
   },
   "outputs": [],
   "source": [
    "# df_x_train, df_x_test, df_y_train, df_y_test = train_test_split(\n",
    "#     df_house_x, df_house_y, test_size=0.7)\n",
    "# np_yf_x_train, np_yf_x_test, np_yf_y_train, np_yf_y_test = train_test_split(\n",
    "#     df_yf_x, df_yf_y, test_size=0.7)\n",
    "# np_x_train = np.append(np_wf_x_train, np_yf_x_train, axis=0)\n",
    "# np_x_test = np.append(np_wf_x_test, np_yf_x_test, axis=0)\n",
    "# np_y_train = np_y_train.values.reshape(-1,1)\n",
    "# np_y_test = np_y_test.values.reshape(-1,1)"
   ]
  },
  {
   "cell_type": "code",
   "execution_count": 12,
   "metadata": {
    "ExecuteTime": {
     "end_time": "2019-01-17T06:48:39.832895Z",
     "start_time": "2019-01-17T06:48:39.829737Z"
    }
   },
   "outputs": [
    {
     "name": "stdout",
     "output_type": "stream",
     "text": [
      "<class 'pandas.core.frame.DataFrame'>\n"
     ]
    }
   ],
   "source": [
    "print(type(np_x_train))"
   ]
  },
  {
   "cell_type": "code",
   "execution_count": 6,
   "metadata": {
    "ExecuteTime": {
     "end_time": "2019-01-24T02:54:31.567417Z",
     "start_time": "2019-01-24T02:54:31.562543Z"
    }
   },
   "outputs": [],
   "source": [
    "# 独热编码\n",
    "df_house_y_oh = (np.arange(2) == df_house_y[:,None]).astype(np.float32)\n",
    "df_wf_y_oh = (np.arange(2) == df_wf_y[:,None]).astype(np.float32)"
   ]
  },
  {
   "cell_type": "code",
   "execution_count": 15,
   "metadata": {
    "ExecuteTime": {
     "end_time": "2019-01-17T06:50:58.397298Z",
     "start_time": "2019-01-17T06:50:58.392420Z"
    }
   },
   "outputs": [
    {
     "name": "stdout",
     "output_type": "stream",
     "text": [
      "(24682,)\n",
      "(10578,)\n",
      "(10578, 7)\n",
      "(24682, 7)\n"
     ]
    }
   ],
   "source": [
    "print(np_y_test.shape)\n",
    "print(np_y_train.shape)\n",
    "print(np_x_train.shape)\n",
    "print(np_x_test.shape)\n"
   ]
  },
  {
   "cell_type": "code",
   "execution_count": 5,
   "metadata": {
    "ExecuteTime": {
     "end_time": "2019-01-24T02:53:59.647716Z",
     "start_time": "2019-01-24T02:53:59.633787Z"
    }
   },
   "outputs": [],
   "source": [
    "ss = StandardScaler()\n",
    "mm = MinMaxScaler()\n",
    "np_house_x = mm.fit_transform(df_house_x)\n",
    "df_house_x = pd.DataFrame(np_house_x)\n",
    "np_wf_x = mm.fit_transform(df_wf_x)\n",
    "df_wf_x = pd.DataFrame(np_wf_x)\n"
   ]
  },
  {
   "cell_type": "code",
   "execution_count": 7,
   "metadata": {
    "ExecuteTime": {
     "end_time": "2019-01-24T02:54:45.946471Z",
     "start_time": "2019-01-24T02:54:45.568817Z"
    }
   },
   "outputs": [],
   "source": [
    "input_size = 7\n",
    "output_size = 2\n",
    "batch_size = 100\n",
    "# placeholder\n",
    "x = tf.placeholder(tf.float32, [None, input_size], name='x')\n",
    "y = tf.placeholder(tf.float32, [None, output_size], name='y')\n",
    "\n",
    "# Variable\n",
    "W1 = tf.Variable(\n",
    "    tf.random_normal([input_size, 10], stddev=0.03), name='W1')\n",
    "b1 = tf.Variable(tf.zeros([10]), name='b1')\n",
    "h1 = tf.nn.relu(tf.add(tf.matmul(x, W1), b1))\n",
    "\n",
    "W2 = tf.Variable(\n",
    "    tf.random_normal([10, 5], stddev=0.03), name='W2')\n",
    "b2 = tf.Variable(tf.zeros([5]), name='b2')\n",
    "h2= tf.nn.relu(tf.add(tf.matmul(h1, W2), b2))\n",
    "\n",
    "\n",
    "W3 = tf.Variable(\n",
    "    tf.random_normal([5, output_size], stddev=0.03), name='W3')\n",
    "b3 = tf.Variable(tf.zeros([output_size]), name='b3')\n",
    "\n",
    "\n",
    "ho = tf.add(tf.matmul(h2, W3), b3)\n",
    "\n",
    "prediction = tf.nn.softmax(ho)\n",
    "cross_entropy = tf.reduce_mean(\n",
    "    tf.nn.softmax_cross_entropy_with_logits_v2(labels=y, logits=prediction))\n",
    "\n",
    "optimizer = tf.train.AdamOptimizer(0.001).minimize(cross_entropy)\n",
    "\n",
    "correct_pred = tf.equal(tf.argmax(y, 1), tf.argmax(prediction, 1))\n",
    "acc_op = tf.reduce_mean(tf.cast(correct_pred, tf.float32))"
   ]
  },
  {
   "cell_type": "code",
   "execution_count": 14,
   "metadata": {
    "ExecuteTime": {
     "end_time": "2019-01-24T03:06:19.296244Z",
     "start_time": "2019-01-24T03:05:44.086335Z"
    }
   },
   "outputs": [
    {
     "name": "stdout",
     "output_type": "stream",
     "text": [
      "i: 0 loss =  0.693\n",
      "i: 50 loss =  0.670\n",
      "i: 100 loss =  0.603\n",
      "i: 150 loss =  0.553\n",
      "i: 200 loss =  0.543\n",
      "i: 250 loss =  0.536\n",
      "i: 300 loss =  0.525\n",
      "i: 350 loss =  0.510\n",
      "i: 400 loss =  0.497\n",
      "i: 450 loss =  0.487\n",
      "i: 500 loss =  0.480\n",
      "i: 550 loss =  0.474\n",
      "i: 600 loss =  0.468\n",
      "i: 650 loss =  0.461\n",
      "i: 700 loss =  0.454\n",
      "i: 750 loss =  0.447\n",
      "i: 800 loss =  0.441\n",
      "i: 850 loss =  0.437\n",
      "i: 900 loss =  0.434\n",
      "i: 950 loss =  0.433\n",
      "i: 1000 loss =  0.432\n",
      "i: 1050 loss =  0.431\n",
      "i: 1100 loss =  0.430\n",
      "i: 1150 loss =  0.430\n",
      "i: 1200 loss =  0.429\n",
      "i: 1250 loss =  0.429\n",
      "i: 1300 loss =  0.429\n",
      "i: 1350 loss =  0.428\n",
      "i: 1400 loss =  0.428\n",
      "i: 1450 loss =  0.428\n",
      "i: 1500 loss =  0.428\n",
      "i: 1550 loss =  0.428\n",
      "i: 1600 loss =  0.428\n",
      "i: 1650 loss =  0.428\n",
      "i: 1700 loss =  0.427\n",
      "i: 1750 loss =  0.427\n",
      "i: 1800 loss =  0.427\n",
      "i: 1850 loss =  0.427\n",
      "i: 1900 loss =  0.427\n",
      "i: 1950 loss =  0.427\n",
      "i: 2000 loss =  0.427\n",
      "i: 2050 loss =  0.427\n",
      "i: 2100 loss =  0.427\n",
      "i: 2150 loss =  0.427\n",
      "i: 2200 loss =  0.427\n",
      "i: 2250 loss =  0.427\n",
      "i: 2300 loss =  0.427\n",
      "i: 2350 loss =  0.427\n",
      "i: 2400 loss =  0.427\n",
      "i: 2450 loss =  0.427\n",
      "i: 2500 loss =  0.427\n",
      "i: 2550 loss =  0.427\n",
      "i: 2600 loss =  0.427\n",
      "i: 2650 loss =  0.427\n",
      "i: 2700 loss =  0.427\n",
      "i: 2750 loss =  0.427\n",
      "i: 2800 loss =  0.427\n",
      "i: 2850 loss =  0.427\n",
      "i: 2900 loss =  0.427\n",
      "i: 2950 loss =  0.427\n",
      "Accuracy on validation set: 0.921725452\n"
     ]
    }
   ],
   "source": [
    "# tf.reset_default_graph()\n",
    "with tf.Session() as sess:\n",
    "\n",
    "    sess.run(tf.global_variables_initializer())\n",
    "    \n",
    "    total_batch_len = int(len(df_house_x) / batch_size)\n",
    "    for i in range(3000):\n",
    "#         for j  in range(total_batch_len):\n",
    "#             batch_x = df_house_x[j*batch_size : (j+1)*batch_size]\n",
    "#             batch_y = df_house_y_oh[j*batch_size : (j+1)*batch_size]\n",
    "#             _,loss = sess.run([optimizer,cross_entropy],feed_dict={x:batch_x,y:batch_y})\n",
    "        _,loss = sess.run([optimizer,cross_entropy],feed_dict={x:df_house_x,y:df_house_y_oh})\n",
    "        if(i%50==0):\n",
    "            print(\"i:\", i, \"loss = \", \"{:.3f}\".format(loss))\n",
    "    \n",
    "#     acc = sess.run(accuracy, feed_dict={x: np_x_test, y: np_y_test})\n",
    "#     print(acc)\n",
    "    pre = sess.run(prediction,feed_dict={x:df_wf_x})\n",
    "#     print(pre)\n",
    "    \n",
    "    accuracy = sess.run(acc_op,feed_dict={x:df_wf_x,y:df_wf_y_oh})\n",
    "    print(\"Accuracy on validation set: %.9f\" % accuracy)"
   ]
  },
  {
   "cell_type": "code",
   "execution_count": null,
   "metadata": {
    "ExecuteTime": {
     "start_time": "2019-01-25T00:59:27.665Z"
    }
   },
   "outputs": [],
   "source": [
    "# print(pre.shape)\n",
    "# print(pre)\n",
    "# accuracy_score(np_y_test, pre)\n",
    "from sklearn import metrics\n",
    "from matplotlib import rcParams\n",
    "# 1、调用函数计算micro类型的AUC\n",
    "print('调用函数auc：', metrics.roc_auc_score(df_wf_y_oh, pre, average='micro'))\n",
    "# 2、手动计算micro类型的AUC\n",
    "#首先将矩阵y_one_hot和y_score展开，然后计算假正例率FPR和真正例率TPR\n",
    "fpr, tpr, thresholds = metrics.roc_curve(df_wf_y_oh.ravel(),pre.ravel())\n",
    "auc = metrics.auc(fpr, tpr)\n",
    "print('手动计算auc：', auc)\n",
    "#绘图\n",
    "rcParams['font.sans-serif'] = u'SimHei'\n",
    "rcParams['axes.unicode_minus'] = False\n",
    "#FPR就是横坐标,TPR就是纵坐标\n",
    "plt.plot(fpr, tpr, c = 'r', lw = 2, alpha = 0.7, label = u'AUC=%.3f' % auc)\n",
    "plt.plot((0, 1), (0, 1), c = '#808080', lw = 1, ls = '--', alpha = 0.7)\n",
    "plt.xlim((-0.01, 1.02))\n",
    "plt.ylim((-0.01, 1.02))\n",
    "plt.xticks(np.arange(0, 1.1, 0.1))\n",
    "plt.yticks(np.arange(0, 1.1, 0.1))\n",
    "plt.xlabel('False Positive Rate', fontsize=13)\n",
    "plt.ylabel('True Positive Rate', fontsize=13)\n",
    "plt.grid(b=True, ls=':')\n",
    "plt.legend(loc='lower right', fancybox=True, framealpha=0.8, fontsize=12)\n",
    "plt.title(u'XGB后的ROC和AUC', fontsize=17)\n",
    "plt.show()"
   ]
  },
  {
   "cell_type": "code",
   "execution_count": 36,
   "metadata": {
    "ExecuteTime": {
     "end_time": "2019-01-06T04:48:13.737005Z",
     "start_time": "2019-01-06T04:48:13.732785Z"
    }
   },
   "outputs": [
    {
     "name": "stdout",
     "output_type": "stream",
     "text": [
      "(19450,)\n",
      "(19450,)\n"
     ]
    }
   ],
   "source": [
    "correct_pred =  np.argmax(pre, 1)\n",
    "print(correct_pred.shape)\n",
    "print(np_y_test.shape)"
   ]
  },
  {
   "cell_type": "code",
   "execution_count": 37,
   "metadata": {
    "ExecuteTime": {
     "end_time": "2019-01-06T04:48:21.091310Z",
     "start_time": "2019-01-06T04:48:21.080567Z"
    }
   },
   "outputs": [
    {
     "data": {
      "text/plain": [
       "0.6996915167095116"
      ]
     },
     "execution_count": 37,
     "metadata": {},
     "output_type": "execute_result"
    }
   ],
   "source": [
    "accuracy_score(correct_pred, np_y_test)"
   ]
  },
  {
   "cell_type": "code",
   "execution_count": null,
   "metadata": {},
   "outputs": [],
   "source": [
    "from sklearn.metrics import r2_score,f1_score,accuracy_score,roc_auc_score,recall_score,mean_squared_error\n",
    "print('r2_score',r2_score(df_wf_y_oh.ravel(),pre.ravel()))\n",
    "print('roc_auc_score',roc_auc_score(df_wf_y_oh.ravel(),pre.ravel()))\n",
    "print('mean_squared_error',mean_squared_error(df_wf_y_oh.ravel(),pre.ravel()))\n",
    "\n",
    "# correct_pred = np.equal(np.argmax(y, 1), np.argmax(pre, 1))\n",
    "pre_max = np.argmax(pre, 1)\n",
    "print(np.argmax(pre, 1))\n",
    "\n",
    "# Classification\n",
    "print('recall_score',recall_score(df_wf_y.ravel(),pre_max.ravel()))\n",
    "print('f1_score',f1_score(df_wf_y.ravel(),pre_max.ravel()))\n",
    "print('accuracy_score',accuracy_score(df_wf_y.ravel(),pre_max.ravel()))"
   ]
  },
  {
   "cell_type": "code",
   "execution_count": null,
   "metadata": {},
   "outputs": [],
   "source": []
  },
  {
   "cell_type": "code",
   "execution_count": null,
   "metadata": {},
   "outputs": [],
   "source": []
  },
  {
   "cell_type": "code",
   "execution_count": null,
   "metadata": {},
   "outputs": [],
   "source": []
  },
  {
   "cell_type": "code",
   "execution_count": null,
   "metadata": {},
   "outputs": [],
   "source": []
  },
  {
   "cell_type": "code",
   "execution_count": null,
   "metadata": {},
   "outputs": [],
   "source": [
    "#####无视下面########"
   ]
  },
  {
   "cell_type": "code",
   "execution_count": 314,
   "metadata": {
    "ExecuteTime": {
     "end_time": "2019-01-04T07:53:55.495262Z",
     "start_time": "2019-01-04T07:53:55.485247Z"
    }
   },
   "outputs": [],
   "source": [
    "np_x_train, np_x_test, np_y_train, np_y_test = train_test_split(\n",
    "    df_house_x, df_house_y, test_size=0.7)\n",
    "\n",
    "np_y_train = np.array(np_y_train)\n",
    "np_y_test = np.array(np_y_test)\n",
    "# np_y_train = np_y_train.values.reshape(-1,1)\n",
    "# np_y_test = np_y_test.values.reshape(-1,1)"
   ]
  },
  {
   "cell_type": "code",
   "execution_count": 315,
   "metadata": {
    "ExecuteTime": {
     "end_time": "2019-01-04T07:53:55.976729Z",
     "start_time": "2019-01-04T07:53:55.965755Z"
    }
   },
   "outputs": [],
   "source": [
    "ss = StandardScaler()\n",
    "np_x_train = ss.fit_transform(np_x_train)\n",
    "np_x_test = ss.fit_transform(np_x_test)"
   ]
  },
  {
   "cell_type": "code",
   "execution_count": 331,
   "metadata": {
    "ExecuteTime": {
     "end_time": "2019-01-04T08:27:14.458682Z",
     "start_time": "2019-01-04T08:27:14.227544Z"
    }
   },
   "outputs": [],
   "source": [
    "#回归，非独热试试\n",
    "#结论：非连续数值，不适合回归。会固定再一个值附近徘徊。\n",
    "input_size = 3\n",
    "output_size = 1\n",
    "batch_size = 1000\n",
    "# placeholder\n",
    "x = tf.placeholder(tf.float32, [None, input_size], name='x')\n",
    "y = tf.placeholder(tf.float32, [None], name='y')\n",
    "\n",
    "# Variable\n",
    "W1 = tf.Variable(\n",
    "    tf.random_normal([input_size, input_size], stddev=0.03), name='W1')\n",
    "b1 = tf.Variable(tf.zeros([input_size]), name='b1')\n",
    "h1 = tf.nn.relu(tf.add(tf.matmul(x, W1), b1))\n",
    "\n",
    "W2 = tf.Variable(\n",
    "    tf.random_normal([input_size, output_size], stddev=0.03), name='W2')\n",
    "b2 = tf.Variable(tf.zeros([output_size]), name='b2')\n",
    "# ho = tf.add(tf.matmul(h1, W2), b2)\n",
    "\n",
    "prediction = tf.add(tf.matmul(h1, W2), b2)\n",
    "# cross_entropy = tf.reduce_mean(\n",
    "#     tf.nn.sigmoid_cross_entropy_with_logits(labels=y, logits=ho))\n",
    "cross_entropy = tf.reduce_mean(tf.reduce_sum(tf.square(y-prediction), reduction_indices=[1]))\n",
    "optimizer = tf.train.AdamOptimizer(0.003).minimize(cross_entropy)\n",
    "\n",
    "correct_pred = tf.equal(y, prediction)\n",
    "acc_op = tf.reduce_mean(tf.cast(correct_pred, tf.float32))\n",
    "\n"
   ]
  },
  {
   "cell_type": "code",
   "execution_count": 337,
   "metadata": {
    "ExecuteTime": {
     "end_time": "2019-01-04T08:28:55.023724Z",
     "start_time": "2019-01-04T08:28:45.171048Z"
    }
   },
   "outputs": [
    {
     "name": "stdout",
     "output_type": "stream",
     "text": [
      "i: 0 loss =  442.081\n",
      "i: 10 loss =  278.407\n",
      "i: 20 loss =  251.895\n",
      "i: 30 loss =  248.487\n",
      "i: 40 loss =  248.480\n",
      "i: 50 loss =  248.480\n",
      "i: 60 loss =  248.480\n",
      "i: 70 loss =  248.480\n",
      "i: 80 loss =  248.480\n",
      "i: 90 loss =  248.480\n",
      "[[0.46168822]\n",
      " [0.4617226 ]\n",
      " [0.4617075 ]\n",
      " ...\n",
      " [0.46158308]\n",
      " [0.46156523]\n",
      " [0.46159333]]\n"
     ]
    }
   ],
   "source": [
    "# tf.reset_default_graph()\n",
    "with tf.Session() as sess:\n",
    "\n",
    "    sess.run(tf.global_variables_initializer())\n",
    "    \n",
    "    total_batch_len = int(len(np_x_train) / batch_size)\n",
    "    for i in range(100):\n",
    "        for j  in range(total_batch_len):\n",
    "            batch_x = np_x_train[j*batch_size : (j+1)*batch_size]\n",
    "            batch_y = np_y_train[j*batch_size : (j+1)*batch_size]\n",
    "            _,loss = sess.run([optimizer,cross_entropy],feed_dict={x:batch_x,y:batch_y})\n",
    "#         _,loss = sess.run([optimizer,cross_entropy],feed_dict={x:np_x_train,y:np_y_train})\n",
    "        if(i % 10 == 0):\n",
    "            print(\"i:\", i, \"loss = \", \"{:.3f}\".format(loss))\n",
    "    \n",
    "#     acc = sess.run(accuracy, feed_dict={x: np_x_test, y: np_y_test})\n",
    "#     print(acc)\n",
    "    pre = sess.run(prediction,feed_dict={x:np_x_test})\n",
    "    print(pre)\n",
    "    \n",
    "#     accuracy = sess.run(acc_op,feed_dict={x:np_x_test,y:np_y_test})\n",
    "#     print(\"Accuracy on validation set: %.9f\" % accuracy)"
   ]
  },
  {
   "cell_type": "code",
   "execution_count": 342,
   "metadata": {
    "ExecuteTime": {
     "end_time": "2019-01-04T08:36:28.957514Z",
     "start_time": "2019-01-04T08:36:28.952513Z"
    }
   },
   "outputs": [
    {
     "name": "stdout",
     "output_type": "stream",
     "text": [
      "0.46272212\n",
      "0.46138948\n"
     ]
    }
   ],
   "source": [
    "# np.savetxt(\"np_host.txt\",pre)\n",
    "print(np.max(pre))\n",
    "print(np.min(pre))"
   ]
  },
  {
   "cell_type": "code",
   "execution_count": 3,
   "metadata": {
    "ExecuteTime": {
     "end_time": "2019-01-04T14:50:54.707021Z",
     "start_time": "2019-01-04T14:50:54.702473Z"
    }
   },
   "outputs": [
    {
     "name": "stdout",
     "output_type": "stream",
     "text": [
      "['', '/anaconda3/lib/python36.zip', '/anaconda3/lib/python3.6', '/anaconda3/lib/python3.6/lib-dynload', '/anaconda3/lib/python3.6/site-packages', '/anaconda3/lib/python3.6/site-packages/aeosa', '/anaconda3/lib/python3.6/site-packages/IPython/extensions', '/Users/hzy/.ipython']\n"
     ]
    }
   ],
   "source": [
    "\n",
    "\n",
    "\n",
    "import sys\n",
    "\n",
    "print(sys.path)"
   ]
  },
  {
   "cell_type": "code",
   "execution_count": 1,
   "metadata": {
    "ExecuteTime": {
     "end_time": "2019-02-09T14:31:48.753486Z",
     "start_time": "2019-02-09T14:31:48.507654Z"
    }
   },
   "outputs": [
    {
     "ename": "NameError",
     "evalue": "name 'tf' is not defined",
     "output_type": "error",
     "traceback": [
      "\u001b[0;31m---------------------------------------------------------------------------\u001b[0m",
      "\u001b[0;31mNameError\u001b[0m                                 Traceback (most recent call last)",
      "\u001b[0;32m<ipython-input-1-1d31dd5f6a37>\u001b[0m in \u001b[0;36m<module>\u001b[0;34m\u001b[0m\n\u001b[1;32m      1\u001b[0m \u001b[0;31m# Creates a graph.\u001b[0m\u001b[0;34m\u001b[0m\u001b[0;34m\u001b[0m\u001b[0m\n\u001b[0;32m----> 2\u001b[0;31m \u001b[0;32mwith\u001b[0m \u001b[0mtf\u001b[0m\u001b[0;34m.\u001b[0m\u001b[0mdevice\u001b[0m\u001b[0;34m(\u001b[0m\u001b[0;34m'/cpu:0'\u001b[0m\u001b[0;34m)\u001b[0m\u001b[0;34m:\u001b[0m\u001b[0;34m\u001b[0m\u001b[0m\n\u001b[0m\u001b[1;32m      3\u001b[0m   \u001b[0ma\u001b[0m \u001b[0;34m=\u001b[0m \u001b[0mtf\u001b[0m\u001b[0;34m.\u001b[0m\u001b[0mconstant\u001b[0m\u001b[0;34m(\u001b[0m\u001b[0;34m[\u001b[0m\u001b[0;36m1.0\u001b[0m\u001b[0;34m,\u001b[0m \u001b[0;36m2.0\u001b[0m\u001b[0;34m,\u001b[0m \u001b[0;36m3.0\u001b[0m\u001b[0;34m,\u001b[0m \u001b[0;36m4.0\u001b[0m\u001b[0;34m,\u001b[0m \u001b[0;36m5.0\u001b[0m\u001b[0;34m,\u001b[0m \u001b[0;36m6.0\u001b[0m\u001b[0;34m]\u001b[0m\u001b[0;34m,\u001b[0m \u001b[0mshape\u001b[0m\u001b[0;34m=\u001b[0m\u001b[0;34m[\u001b[0m\u001b[0;36m2\u001b[0m\u001b[0;34m,\u001b[0m \u001b[0;36m3\u001b[0m\u001b[0;34m]\u001b[0m\u001b[0;34m,\u001b[0m \u001b[0mname\u001b[0m\u001b[0;34m=\u001b[0m\u001b[0;34m'a'\u001b[0m\u001b[0;34m)\u001b[0m\u001b[0;34m\u001b[0m\u001b[0m\n\u001b[1;32m      4\u001b[0m   \u001b[0mb\u001b[0m \u001b[0;34m=\u001b[0m \u001b[0mtf\u001b[0m\u001b[0;34m.\u001b[0m\u001b[0mconstant\u001b[0m\u001b[0;34m(\u001b[0m\u001b[0;34m[\u001b[0m\u001b[0;36m1.0\u001b[0m\u001b[0;34m,\u001b[0m \u001b[0;36m2.0\u001b[0m\u001b[0;34m,\u001b[0m \u001b[0;36m3.0\u001b[0m\u001b[0;34m,\u001b[0m \u001b[0;36m4.0\u001b[0m\u001b[0;34m,\u001b[0m \u001b[0;36m5.0\u001b[0m\u001b[0;34m,\u001b[0m \u001b[0;36m6.0\u001b[0m\u001b[0;34m]\u001b[0m\u001b[0;34m,\u001b[0m \u001b[0mshape\u001b[0m\u001b[0;34m=\u001b[0m\u001b[0;34m[\u001b[0m\u001b[0;36m3\u001b[0m\u001b[0;34m,\u001b[0m \u001b[0;36m2\u001b[0m\u001b[0;34m]\u001b[0m\u001b[0;34m,\u001b[0m \u001b[0mname\u001b[0m\u001b[0;34m=\u001b[0m\u001b[0;34m'b'\u001b[0m\u001b[0;34m)\u001b[0m\u001b[0;34m\u001b[0m\u001b[0m\n\u001b[1;32m      5\u001b[0m \u001b[0mc\u001b[0m \u001b[0;34m=\u001b[0m \u001b[0mtf\u001b[0m\u001b[0;34m.\u001b[0m\u001b[0mmatmul\u001b[0m\u001b[0;34m(\u001b[0m\u001b[0ma\u001b[0m\u001b[0;34m,\u001b[0m \u001b[0mb\u001b[0m\u001b[0;34m)\u001b[0m\u001b[0;34m\u001b[0m\u001b[0m\n",
      "\u001b[0;31mNameError\u001b[0m: name 'tf' is not defined"
     ]
    }
   ],
   "source": [
    "# Creates a graph.\n",
    "with tf.device('/cpu:0'):\n",
    "  a = tf.constant([1.0, 2.0, 3.0, 4.0, 5.0, 6.0], shape=[2, 3], name='a')\n",
    "  b = tf.constant([1.0, 2.0, 3.0, 4.0, 5.0, 6.0], shape=[3, 2], name='b')\n",
    "c = tf.matmul(a, b)\n",
    "# Creates a session with log_device_placement set to True.\n",
    "sess = tf.Session(config=tf.ConfigProto(log_device_placement=True))\n",
    "# Runs the op.\n",
    "print(sess.run(c))"
   ]
  },
  {
   "cell_type": "code",
   "execution_count": null,
   "metadata": {},
   "outputs": [],
   "source": []
  }
 ],
 "metadata": {
  "kernelspec": {
   "display_name": "Python 3",
   "language": "python",
   "name": "python3"
  },
  "language_info": {
   "codemirror_mode": {
    "name": "ipython",
    "version": 3
   },
   "file_extension": ".py",
   "mimetype": "text/x-python",
   "name": "python",
   "nbconvert_exporter": "python",
   "pygments_lexer": "ipython3",
   "version": "3.6.8"
  },
  "toc": {
   "base_numbering": 1,
   "nav_menu": {},
   "number_sections": true,
   "sideBar": true,
   "skip_h1_title": false,
   "title_cell": "Table of Contents",
   "title_sidebar": "Contents",
   "toc_cell": false,
   "toc_position": {},
   "toc_section_display": true,
   "toc_window_display": false
  }
 },
 "nbformat": 4,
 "nbformat_minor": 2
}
