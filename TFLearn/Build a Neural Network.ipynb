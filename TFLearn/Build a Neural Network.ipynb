{
 "cells": [
  {
   "cell_type": "code",
   "execution_count": 8,
   "metadata": {
    "ExecuteTime": {
     "end_time": "2018-11-02T03:19:43.330427Z",
     "start_time": "2018-11-02T03:19:43.327137Z"
    }
   },
   "outputs": [],
   "source": [
    "import tensorflow as tf\n",
    "import numpy as np"
   ]
  },
  {
   "cell_type": "code",
   "execution_count": 52,
   "metadata": {
    "ExecuteTime": {
     "end_time": "2018-11-02T03:33:07.910640Z",
     "start_time": "2018-11-02T03:33:07.894617Z"
    }
   },
   "outputs": [],
   "source": [
    "# 创建常量2\n",
    "const = tf.constant(2.0, name='const')\n",
    "\n",
    "# 创建变量\n",
    "# b = tf.Variable(2.0, name='b')\n",
    "b = tf.placeholder(tf.float32, [None, 1], name='b')\n",
    "c = tf.Variable(1.0, dtype=tf.float32, name='c')"
   ]
  },
  {
   "cell_type": "code",
   "execution_count": 53,
   "metadata": {
    "ExecuteTime": {
     "end_time": "2018-11-02T03:33:10.429367Z",
     "start_time": "2018-11-02T03:33:10.421915Z"
    }
   },
   "outputs": [],
   "source": [
    "# 运算 operation\n",
    "d = tf.add(b, c, name='d')\n",
    "e = tf.add(c, const, name='e')\n",
    "a = tf.multiply(d, e, name='a')"
   ]
  },
  {
   "cell_type": "code",
   "execution_count": 41,
   "metadata": {
    "ExecuteTime": {
     "end_time": "2018-11-02T03:29:14.870600Z",
     "start_time": "2018-11-02T03:29:14.836926Z"
    }
   },
   "outputs": [
    {
     "name": "stdout",
     "output_type": "stream",
     "text": [
      "变量 a = 9.0\n"
     ]
    }
   ],
   "source": [
    "# tf 的所有变量都要初始化才能使用\n",
    "# 1：定义初始化operation\n",
    "init_op = tf.global_variables_initializer()\n",
    "# 2：运行初始化operation\n",
    "# session\n",
    "with tf.Session() as sess:\n",
    "    sess.run(init_op)\n",
    "    #计算\n",
    "    a_out = sess.run(a)\n",
    "    print(\"变量 a = {}\".format(a_out))"
   ]
  },
  {
   "cell_type": "code",
   "execution_count": 50,
   "metadata": {
    "ExecuteTime": {
     "end_time": "2018-11-02T03:32:51.943981Z",
     "start_time": "2018-11-02T03:32:51.939112Z"
    }
   },
   "outputs": [],
   "source": [
    "# 优化变量，使b 可以接收任意值\n",
    "# 使用占位符（placeholder）来实现\n",
    "# 第二个参数值为[None, 1]，其中None表示不确定，即不确定第一个维度的大小\n",
    "# 第一维可以是任意大小。特别对应tensor数量(或者样本数量)，输入的tensor数目可以是32、64\n",
    "b = tf.placeholder(tf.float32, [None, 1], name='b')"
   ]
  },
  {
   "cell_type": "code",
   "execution_count": 57,
   "metadata": {
    "ExecuteTime": {
     "end_time": "2018-11-02T03:33:48.272320Z",
     "start_time": "2018-11-02T03:33:48.229987Z"
    }
   },
   "outputs": [
    {
     "name": "stdout",
     "output_type": "stream",
     "text": [
      "a_out = [[ 3.]\n",
      " [ 6.]\n",
      " [ 9.]\n",
      " [12.]\n",
      " [15.]\n",
      " [18.]\n",
      " [21.]\n",
      " [24.]\n",
      " [27.]\n",
      " [30.]]\n"
     ]
    }
   ],
   "source": [
    "# 重新计算\n",
    "# print(np.arange(0,10)[:,np.newaxis])\n",
    "init_op_1 = tf.global_variables_initializer()\n",
    "with tf.Session() as sess:\n",
    "    sess.run(init_op_1)\n",
    "    a_out = sess.run(a,feed_dict={b: np.arange(0,10)[:,np.newaxis]})\n",
    "    print(\"a_out = {}\".format(a_out))"
   ]
  },
  {
   "cell_type": "code",
   "execution_count": 60,
   "metadata": {
    "ExecuteTime": {
     "end_time": "2018-11-02T03:37:55.884682Z",
     "start_time": "2018-11-02T03:37:55.143206Z"
    }
   },
   "outputs": [
    {
     "name": "stdout",
     "output_type": "stream",
     "text": [
      "Extracting MNIST_data/train-images-idx3-ubyte.gz\n",
      "Extracting MNIST_data/train-labels-idx1-ubyte.gz\n",
      "Extracting MNIST_data/t10k-images-idx3-ubyte.gz\n",
      "Extracting MNIST_data/t10k-labels-idx1-ubyte.gz\n"
     ]
    }
   ],
   "source": [
    "# 1. 加载数据：\n",
    "from tensorflow.examples.tutorials.mnist import input_data\n",
    "mnist = input_data.read_data_sets(\"MNIST_data/\", one_hot=True)"
   ]
  },
  {
   "cell_type": "code",
   "execution_count": 59,
   "metadata": {
    "ExecuteTime": {
     "end_time": "2018-11-02T03:37:52.954435Z",
     "start_time": "2018-11-02T03:37:52.944466Z"
    }
   },
   "outputs": [],
   "source": [
    "# 2. 定义超参数和placeholder\n",
    "learning_rate = 0.5\n",
    "epochs = 10\n",
    "batch_size = 100\n",
    "\n",
    "# placeholder\n",
    "# 输入图片为28 x 28 像素 = 784\n",
    "x = tf.placeholder(tf.float32, [None, 784])\n",
    "# 输出为0-9的one-hot编码\n",
    "y = tf.placeholder(tf.float32, [None, 10])"
   ]
  },
  {
   "cell_type": "code",
   "execution_count": 61,
   "metadata": {
    "ExecuteTime": {
     "end_time": "2018-11-02T03:38:18.798688Z",
     "start_time": "2018-11-02T03:38:18.758102Z"
    }
   },
   "outputs": [],
   "source": [
    "# 3. 定义参数w和b\n",
    "# hidden layer => w, b\n",
    "W1 = tf.Variable(tf.random_normal([784, 300], stddev=0.03), name='W1')\n",
    "b1 = tf.Variable(tf.random_normal([300]), name='b1')\n",
    "# output layer => w, b\n",
    "W2 = tf.Variable(tf.random_normal([300, 10], stddev=0.03), name='W2')\n",
    "b2 = tf.Variable(tf.random_normal([10]), name='b2')"
   ]
  },
  {
   "cell_type": "code",
   "execution_count": 62,
   "metadata": {
    "ExecuteTime": {
     "end_time": "2018-11-02T03:38:34.318151Z",
     "start_time": "2018-11-02T03:38:34.310648Z"
    }
   },
   "outputs": [],
   "source": [
    "# 4. 构造隐层网络\n",
    "hidden_out = tf.add(tf.matmul(x, W1), b1)\n",
    "hidden_out = tf.nn.relu(hidden_out)"
   ]
  },
  {
   "cell_type": "code",
   "execution_count": 63,
   "metadata": {
    "ExecuteTime": {
     "end_time": "2018-11-02T03:38:45.369354Z",
     "start_time": "2018-11-02T03:38:45.362858Z"
    }
   },
   "outputs": [],
   "source": [
    "# 5. 构造输出（预测值）\n",
    "# 计算输出\n",
    "y_ = tf.nn.softmax(tf.add(tf.matmul(hidden_out, W2), b2))"
   ]
  },
  {
   "cell_type": "markdown",
   "metadata": {},
   "source": [
    "J=−1m∑i=1m∑j=1nyijlog(y(i)j)+(1−y(i)jlog(1−y(i)j)"
   ]
  },
  {
   "cell_type": "code",
   "execution_count": 64,
   "metadata": {
    "ExecuteTime": {
     "end_time": "2018-11-02T03:39:16.558699Z",
     "start_time": "2018-11-02T03:39:16.541583Z"
    }
   },
   "outputs": [],
   "source": [
    "# 6. BP部分—定义loss \n",
    "# 对n个标签计算交叉熵\n",
    "# 对m个样本取平均\n",
    "y_clipped = tf.clip_by_value(y_, 1e-10, 0.9999999)\n",
    "cross_entropy = -tf.reduce_mean(tf.reduce_sum(y * tf.log(y_clipped) + (1 - y) * tf.log(1 - y_clipped), axis=1))"
   ]
  },
  {
   "cell_type": "code",
   "execution_count": 66,
   "metadata": {
    "ExecuteTime": {
     "end_time": "2018-11-02T03:43:01.113919Z",
     "start_time": "2018-11-02T03:43:00.958863Z"
    }
   },
   "outputs": [],
   "source": [
    "# 7. BP部分—定义优化算法\n",
    "# 创建优化器，确定优化目标\n",
    "optimizer = tf.train.GradientDescentOptimizer(learning_rate=learning_rate).minimize(cross_entropy)"
   ]
  },
  {
   "cell_type": "code",
   "execution_count": 67,
   "metadata": {
    "ExecuteTime": {
     "end_time": "2018-11-02T03:43:15.509385Z",
     "start_time": "2018-11-02T03:43:15.493442Z"
    }
   },
   "outputs": [],
   "source": [
    "# 8. 定义初始化operation和准确率node\n",
    "# init operator\n",
    "init_op = tf.global_variables_initializer()\n",
    "\n",
    "# 创建准确率节点\n",
    "correct_prediction = tf.equal(tf.argmax(y, 1), tf.argmax(y_, 1))\n",
    "accuracy = tf.reduce_mean(tf.cast(correct_prediction, tf.float32))"
   ]
  },
  {
   "cell_type": "code",
   "execution_count": 70,
   "metadata": {
    "ExecuteTime": {
     "end_time": "2018-11-02T03:51:26.129190Z",
     "start_time": "2018-11-02T03:48:30.857435Z"
    }
   },
   "outputs": [
    {
     "name": "stdout",
     "output_type": "stream",
     "text": [
      "550\n",
      "Epoch: 1 cost =  0.553\n",
      "Epoch: 2 cost =  0.205\n",
      "Epoch: 3 cost =  0.148\n",
      "Epoch: 4 cost =  0.113\n",
      "Epoch: 5 cost =  0.088\n",
      "Epoch: 6 cost =  0.071\n",
      "Epoch: 7 cost =  0.056\n",
      "Epoch: 8 cost =  0.043\n",
      "Epoch: 9 cost =  0.034\n",
      "Epoch: 10 cost =  0.026\n",
      "0.9804\n"
     ]
    }
   ],
   "source": [
    "# 9 开始训练\n",
    "# 创建session\n",
    "with tf.Session() as sess:\n",
    "    # 变量初始化\n",
    "    sess.run(init_op)\n",
    "    total_batch = int(len(mnist.train.labels) / batch_size)\n",
    "    print(total_batch)\n",
    "    for epoch in range(epochs):\n",
    "        avg_cost = 0\n",
    "        for i in range(total_batch):\n",
    "            batch_x, batch_y = mnist.train.next_batch(batch_size=batch_size)\n",
    "            _, c = sess.run([optimizer, cross_entropy], feed_dict={x: batch_x, y: batch_y})\n",
    "            avg_cost += c / total_batch\n",
    "        print(\"Epoch:\", (epoch + 1), \"cost = \", \"{:.3f}\".format(avg_cost))\n",
    "    print(sess.run(accuracy, feed_dict={x: mnist.test.images, y: mnist.test.labels}))"
   ]
  },
  {
   "cell_type": "code",
   "execution_count": null,
   "metadata": {},
   "outputs": [],
   "source": []
  },
  {
   "cell_type": "code",
   "execution_count": null,
   "metadata": {},
   "outputs": [],
   "source": []
  },
  {
   "cell_type": "code",
   "execution_count": null,
   "metadata": {},
   "outputs": [],
   "source": []
  },
  {
   "cell_type": "code",
   "execution_count": null,
   "metadata": {},
   "outputs": [],
   "source": []
  },
  {
   "cell_type": "code",
   "execution_count": null,
   "metadata": {},
   "outputs": [],
   "source": []
  }
 ],
 "metadata": {
  "kernelspec": {
   "display_name": "Python 3",
   "language": "python",
   "name": "python3"
  },
  "language_info": {
   "codemirror_mode": {
    "name": "ipython",
    "version": 3
   },
   "file_extension": ".py",
   "mimetype": "text/x-python",
   "name": "python",
   "nbconvert_exporter": "python",
   "pygments_lexer": "ipython3",
   "version": "3.6.8"
  },
  "toc": {
   "base_numbering": 1,
   "nav_menu": {},
   "number_sections": true,
   "sideBar": true,
   "skip_h1_title": false,
   "title_cell": "Table of Contents",
   "title_sidebar": "Contents",
   "toc_cell": false,
   "toc_position": {},
   "toc_section_display": true,
   "toc_window_display": false
  }
 },
 "nbformat": 4,
 "nbformat_minor": 2
}
