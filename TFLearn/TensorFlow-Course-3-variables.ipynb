{
 "cells": [
  {
   "cell_type": "code",
   "execution_count": 1,
   "metadata": {
    "ExecuteTime": {
     "end_time": "2018-11-01T09:15:30.328406Z",
     "start_time": "2018-11-01T09:14:55.408214Z"
    }
   },
   "outputs": [],
   "source": [
    "## This code create some arbitrary variables and initialize them ###\n",
    "# The goal is to show how to define and initialize variables from scratch.\n",
    "\n",
    "import tensorflow as tf\n",
    "from tensorflow.python.framework import ops"
   ]
  },
  {
   "cell_type": "code",
   "execution_count": 2,
   "metadata": {
    "ExecuteTime": {
     "end_time": "2018-11-01T09:15:30.427330Z",
     "start_time": "2018-11-01T09:15:30.330277Z"
    }
   },
   "outputs": [],
   "source": [
    "#######################################\n",
    "######## Defining Variables ###########\n",
    "#######################################\n",
    "\n",
    "# Create three variables with some default values.\n",
    "weights = tf.Variable(tf.random_normal([2, 3], stddev=0.1), name=\"weights\")\n",
    "biases = tf.Variable(tf.zeros([3]), name=\"biases\")\n",
    "custom_variable = tf.Variable(tf.zeros([3]), name=\"custom\")\n",
    "\n",
    "#  Get all the variables' tensors and store them in a list.\n",
    "all_variable_list = ops.get_collection(ops.GraphKeys.GLOBAL_VARIABLES)"
   ]
  },
  {
   "cell_type": "code",
   "execution_count": 14,
   "metadata": {
    "ExecuteTime": {
     "end_time": "2018-11-01T09:20:41.980488Z",
     "start_time": "2018-11-01T09:20:41.958554Z"
    }
   },
   "outputs": [
    {
     "name": "stdout",
     "output_type": "stream",
     "text": [
      "[[-0.07880398  0.11066972  0.10246972]\n",
      " [-0.03124225  0.04017834  0.07815381]]\n"
     ]
    },
    {
     "name": "stderr",
     "output_type": "stream",
     "text": [
      "/anaconda3/lib/python3.6/site-packages/tensorflow/python/client/session.py:1645: UserWarning: An interactive session is already active. This can cause out-of-memory errors in some cases. You must explicitly call `InteractiveSession.close()` to release resources held by the other session(s).\n",
      "  warnings.warn('An interactive session is already active. This can '\n"
     ]
    }
   ],
   "source": [
    "import tensorflow as tf\n",
    "weights = tf.Variable(tf.random_normal([2, 3], stddev=0.1), name=\"weights\")#定义一个2x3的全0矩阵\n",
    "sess=tf.InteractiveSession()#使用InteractiveSession函数\n",
    "weights.initializer.run()#使用初始化器 initializer op 的 run() 方法初始化 'biases' \n",
    "print(sess.run(weights))#输出变量值"
   ]
  },
  {
   "cell_type": "code",
   "execution_count": 5,
   "metadata": {
    "ExecuteTime": {
     "end_time": "2018-10-19T09:12:45.304095Z",
     "start_time": "2018-10-19T09:12:45.293669Z"
    }
   },
   "outputs": [],
   "source": [
    "############################################\n",
    "######## Customized initializer ############\n",
    "############################################\n",
    "\n",
    "## Initialation of some custom variables.\n",
    "## In this part we choose some variables and only initialize them rather than initializing all variables.\n",
    "\n",
    "# \"variable_list_custom\" is the list of variables that we want to initialize.\n",
    "\n",
    "variable_list_custom = [weights, custom_variable]\n",
    "\n",
    "# The initializer\n",
    "init_custom_op = tf.variables_initializer(var_list=all_variable_list)"
   ]
  },
  {
   "cell_type": "code",
   "execution_count": 8,
   "metadata": {
    "ExecuteTime": {
     "end_time": "2018-10-19T09:25:36.169866Z",
     "start_time": "2018-10-19T09:25:36.162729Z"
    }
   },
   "outputs": [],
   "source": [
    "########################################\n",
    "######## Global initializer ############\n",
    "########################################\n",
    "\n",
    "# Method-1\n",
    "# Add an op to initialize the variables.\n",
    "init_all_op = tf.global_variables_initializer()\n",
    "\n",
    "# Method-2\n",
    "init_all_op = tf.variables_initializer(var_list=all_variable_list)"
   ]
  },
  {
   "cell_type": "code",
   "execution_count": 9,
   "metadata": {
    "ExecuteTime": {
     "end_time": "2018-10-19T09:25:39.334654Z",
     "start_time": "2018-10-19T09:25:39.304377Z"
    }
   },
   "outputs": [],
   "source": [
    "##########################################################\n",
    "######## Initialization using other variables ############\n",
    "##########################################################\n",
    "t\n",
    "# Create another variable with the same value as 'weights'.\n",
    "WeightsNew = tf.Variable(weights.initialized_value(), name=\"WeightsNew\")\n",
    "\n",
    "# Now, the variable must be initialized.\n",
    "init_WeightsNew_op = tf.variables_initializer(var_list=[WeightsNew])"
   ]
  },
  {
   "cell_type": "code",
   "execution_count": 11,
   "metadata": {
    "ExecuteTime": {
     "end_time": "2018-10-19T09:26:40.870153Z",
     "start_time": "2018-10-19T09:26:40.797518Z"
    }
   },
   "outputs": [],
   "source": [
    "######################################\n",
    "####### Running the session ##########\n",
    "######################################\n",
    "with tf.Session() as sess:\n",
    "        # Run the initializer operation.\n",
    "        sess.run(init_all_op)\n",
    "        sess.run(init_custom_op)\n",
    "        sess.run(init_WeightsNew_op)"
   ]
  },
  {
   "cell_type": "code",
   "execution_count": null,
   "metadata": {},
   "outputs": [],
   "source": []
  }
 ],
 "metadata": {
  "kernelspec": {
   "display_name": "Python 3",
   "language": "python",
   "name": "python3"
  },
  "language_info": {
   "codemirror_mode": {
    "name": "ipython",
    "version": 3
   },
   "file_extension": ".py",
   "mimetype": "text/x-python",
   "name": "python",
   "nbconvert_exporter": "python",
   "pygments_lexer": "ipython3",
   "version": "3.6.4"
  },
  "toc": {
   "base_numbering": 1,
   "nav_menu": {},
   "number_sections": true,
   "sideBar": true,
   "skip_h1_title": false,
   "title_cell": "Table of Contents",
   "title_sidebar": "Contents",
   "toc_cell": false,
   "toc_position": {},
   "toc_section_display": true,
   "toc_window_display": false
  }
 },
 "nbformat": 4,
 "nbformat_minor": 1
}
