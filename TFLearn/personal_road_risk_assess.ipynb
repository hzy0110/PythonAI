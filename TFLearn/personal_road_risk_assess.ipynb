{
 "cells": [
  {
   "cell_type": "code",
   "execution_count": 162,
   "metadata": {
    "ExecuteTime": {
     "end_time": "2018-11-09T01:22:20.935116Z",
     "start_time": "2018-11-09T01:22:20.931158Z"
    }
   },
   "outputs": [],
   "source": [
    "import tensorflow as tf\n",
    "import pandas as pd\n",
    "import numpy as np\n",
    "from sklearn.model_selection import train_test_split"
   ]
  },
  {
   "cell_type": "code",
   "execution_count": 163,
   "metadata": {
    "ExecuteTime": {
     "end_time": "2018-11-09T01:22:26.648781Z",
     "start_time": "2018-11-09T01:22:21.773774Z"
    }
   },
   "outputs": [
    {
     "data": {
      "text/html": [
       "<div>\n",
       "<style scoped>\n",
       "    .dataframe tbody tr th:only-of-type {\n",
       "        vertical-align: middle;\n",
       "    }\n",
       "\n",
       "    .dataframe tbody tr th {\n",
       "        vertical-align: top;\n",
       "    }\n",
       "\n",
       "    .dataframe thead th {\n",
       "        text-align: right;\n",
       "    }\n",
       "</style>\n",
       "<table border=\"1\" class=\"dataframe\">\n",
       "  <thead>\n",
       "    <tr style=\"text-align: right;\">\n",
       "      <th></th>\n",
       "      <th>id</th>\n",
       "      <th>ZJCX</th>\n",
       "      <th>LJJF</th>\n",
       "      <th>xb</th>\n",
       "      <th>jl</th>\n",
       "      <th>HPZL</th>\n",
       "      <th>WFJFS</th>\n",
       "      <th>WFSJ</th>\n",
       "      <th>hnum</th>\n",
       "      <th>age</th>\n",
       "      <th>child</th>\n",
       "      <th>marrige</th>\n",
       "      <th>whcd</th>\n",
       "      <th>cllx</th>\n",
       "      <th>cpid</th>\n",
       "      <th>SFSG</th>\n",
       "    </tr>\n",
       "  </thead>\n",
       "  <tbody>\n",
       "    <tr>\n",
       "      <th>0</th>\n",
       "      <td>108945</td>\n",
       "      <td>5.0</td>\n",
       "      <td>9</td>\n",
       "      <td>1</td>\n",
       "      <td>0</td>\n",
       "      <td>NaN</td>\n",
       "      <td>NaN</td>\n",
       "      <td>NaN</td>\n",
       "      <td>0</td>\n",
       "      <td>50</td>\n",
       "      <td>0.0</td>\n",
       "      <td>0.0</td>\n",
       "      <td>NaN</td>\n",
       "      <td>NaN</td>\n",
       "      <td>NaN</td>\n",
       "      <td>0</td>\n",
       "    </tr>\n",
       "    <tr>\n",
       "      <th>1</th>\n",
       "      <td>108946</td>\n",
       "      <td>5.0</td>\n",
       "      <td>0</td>\n",
       "      <td>2</td>\n",
       "      <td>0</td>\n",
       "      <td>NaN</td>\n",
       "      <td>NaN</td>\n",
       "      <td>NaN</td>\n",
       "      <td>0</td>\n",
       "      <td>26</td>\n",
       "      <td>0.0</td>\n",
       "      <td>0.0</td>\n",
       "      <td>NaN</td>\n",
       "      <td>NaN</td>\n",
       "      <td>NaN</td>\n",
       "      <td>0</td>\n",
       "    </tr>\n",
       "    <tr>\n",
       "      <th>2</th>\n",
       "      <td>108947</td>\n",
       "      <td>5.0</td>\n",
       "      <td>0</td>\n",
       "      <td>1</td>\n",
       "      <td>0</td>\n",
       "      <td>NaN</td>\n",
       "      <td>NaN</td>\n",
       "      <td>NaN</td>\n",
       "      <td>0</td>\n",
       "      <td>25</td>\n",
       "      <td>0.0</td>\n",
       "      <td>0.0</td>\n",
       "      <td>NaN</td>\n",
       "      <td>NaN</td>\n",
       "      <td>NaN</td>\n",
       "      <td>0</td>\n",
       "    </tr>\n",
       "    <tr>\n",
       "      <th>3</th>\n",
       "      <td>108948</td>\n",
       "      <td>5.0</td>\n",
       "      <td>0</td>\n",
       "      <td>1</td>\n",
       "      <td>0</td>\n",
       "      <td>NaN</td>\n",
       "      <td>NaN</td>\n",
       "      <td>NaN</td>\n",
       "      <td>0</td>\n",
       "      <td>33</td>\n",
       "      <td>0.0</td>\n",
       "      <td>0.0</td>\n",
       "      <td>NaN</td>\n",
       "      <td>NaN</td>\n",
       "      <td>NaN</td>\n",
       "      <td>0</td>\n",
       "    </tr>\n",
       "    <tr>\n",
       "      <th>4</th>\n",
       "      <td>108949</td>\n",
       "      <td>5.0</td>\n",
       "      <td>0</td>\n",
       "      <td>1</td>\n",
       "      <td>0</td>\n",
       "      <td>NaN</td>\n",
       "      <td>NaN</td>\n",
       "      <td>NaN</td>\n",
       "      <td>0</td>\n",
       "      <td>22</td>\n",
       "      <td>0.0</td>\n",
       "      <td>0.0</td>\n",
       "      <td>NaN</td>\n",
       "      <td>NaN</td>\n",
       "      <td>NaN</td>\n",
       "      <td>0</td>\n",
       "    </tr>\n",
       "  </tbody>\n",
       "</table>\n",
       "</div>"
      ],
      "text/plain": [
       "       id  ZJCX  LJJF  xb  jl  HPZL  WFJFS WFSJ  hnum  age  child  marrige  \\\n",
       "0  108945   5.0     9   1   0   NaN    NaN  NaN     0   50    0.0      0.0   \n",
       "1  108946   5.0     0   2   0   NaN    NaN  NaN     0   26    0.0      0.0   \n",
       "2  108947   5.0     0   1   0   NaN    NaN  NaN     0   25    0.0      0.0   \n",
       "3  108948   5.0     0   1   0   NaN    NaN  NaN     0   33    0.0      0.0   \n",
       "4  108949   5.0     0   1   0   NaN    NaN  NaN     0   22    0.0      0.0   \n",
       "\n",
       "   whcd  cllx  cpid  SFSG  \n",
       "0   NaN   NaN   NaN     0  \n",
       "1   NaN   NaN   NaN     0  \n",
       "2   NaN   NaN   NaN     0  \n",
       "3   NaN   NaN   NaN     0  \n",
       "4   NaN   NaN   NaN     0  "
      ]
     },
     "execution_count": 163,
     "metadata": {},
     "output_type": "execute_result"
    }
   ],
   "source": [
    "# 读取数据\n",
    "df_original = pd.DataFrame(pd.read_excel('personalroadriskassessv2.xlsx'))\n",
    "df_original.head(5)\n",
    "\n",
    "df_test_original = pd.DataFrame(pd.read_excel('personalroadriskassessv2test.xlsx'))\n",
    "df_test_original.head(5)"
   ]
  },
  {
   "cell_type": "code",
   "execution_count": 164,
   "metadata": {
    "ExecuteTime": {
     "end_time": "2018-11-09T01:22:26.672045Z",
     "start_time": "2018-11-09T01:22:26.650863Z"
    }
   },
   "outputs": [],
   "source": [
    "# 数据处理\n",
    "# 驾龄空值用平均值取代\n",
    "df_original['jl'] = df_original['jl'].fillna(df_original['jl'].mean())\n",
    "df_original['xb'] = df_original['xb'].fillna(method='ffill')\n",
    "df_original['WFJFS'] = df_original['WFJFS'].fillna(0)\n",
    "\n",
    "df_test_original['jl'] = df_test_original['jl'].fillna(df_test_original['jl'].mean())\n",
    "df_test_original['xb'] = df_test_original['xb'].fillna(method='ffill')\n",
    "df_test_original['WFJFS'] = df_test_original['WFJFS'].fillna(0)\n",
    "\n",
    "# 移除列\n",
    "df = df_original.drop(['WFSJ'],1)\n",
    "df_test = df_test_original.drop(['WFSJ'],1)"
   ]
  },
  {
   "cell_type": "code",
   "execution_count": 165,
   "metadata": {
    "ExecuteTime": {
     "end_time": "2018-11-09T01:22:26.700648Z",
     "start_time": "2018-11-09T01:22:26.673851Z"
    }
   },
   "outputs": [
    {
     "name": "stdout",
     "output_type": "stream",
     "text": [
      "<class 'pandas.core.frame.DataFrame'>\n",
      "RangeIndex: 46203 entries, 0 to 46202\n",
      "Data columns (total 15 columns):\n",
      "id         46203 non-null int64\n",
      "ZJCX       46203 non-null float64\n",
      "LJJF       46203 non-null int64\n",
      "xb         46203 non-null float64\n",
      "jl         46203 non-null float64\n",
      "HPZL       1250 non-null float64\n",
      "WFJFS      46203 non-null float64\n",
      "age        46203 non-null int64\n",
      "marrige    46203 non-null int64\n",
      "WHCD       2452 non-null float64\n",
      "cllx       22039 non-null float64\n",
      "cpid       22051 non-null float64\n",
      "child      46203 non-null int64\n",
      "hnum       46203 non-null int64\n",
      "SFSG       46203 non-null int64\n",
      "dtypes: float64(8), int64(7)\n",
      "memory usage: 5.3 MB\n",
      "None\n",
      "<class 'pandas.core.frame.DataFrame'>\n",
      "RangeIndex: 1535 entries, 0 to 1534\n",
      "Data columns (total 15 columns):\n",
      "id         1535 non-null int64\n",
      "ZJCX       1535 non-null float64\n",
      "LJJF       1535 non-null int64\n",
      "xb         1535 non-null int64\n",
      "jl         1535 non-null int64\n",
      "HPZL       16 non-null float64\n",
      "WFJFS      1535 non-null float64\n",
      "hnum       1535 non-null int64\n",
      "age        1535 non-null int64\n",
      "child      1274 non-null float64\n",
      "marrige    1392 non-null float64\n",
      "whcd       237 non-null float64\n",
      "cllx       444 non-null float64\n",
      "cpid       444 non-null float64\n",
      "SFSG       1535 non-null int64\n",
      "dtypes: float64(8), int64(7)\n",
      "memory usage: 180.0 KB\n",
      "None\n"
     ]
    }
   ],
   "source": [
    "# 打印 df 信息\n",
    "print(df.info())\n",
    "print(df_test.info())"
   ]
  },
  {
   "cell_type": "code",
   "execution_count": 166,
   "metadata": {
    "ExecuteTime": {
     "end_time": "2018-11-09T01:22:26.706309Z",
     "start_time": "2018-11-09T01:22:26.703250Z"
    }
   },
   "outputs": [],
   "source": [
    "# df.head(5)"
   ]
  },
  {
   "cell_type": "code",
   "execution_count": 167,
   "metadata": {
    "ExecuteTime": {
     "end_time": "2018-11-09T01:22:26.730357Z",
     "start_time": "2018-11-09T01:22:26.709519Z"
    }
   },
   "outputs": [],
   "source": [
    "part_df = df[[\n",
    "    'ZJCX', 'LJJF', 'xb', 'jl',  'marrige', 'child', 'hnum',\n",
    "    'age' ,'WFJFS', 'SFSG'\n",
    "]]\n",
    "\n",
    "part_df_test = df_test[[\n",
    "    'ZJCX', 'LJJF', 'xb', 'jl',  'marrige', 'child', 'hnum',\n",
    "    'age' ,'WFJFS', 'SFSG'\n",
    "]]\n",
    "\n",
    "\n",
    "\n",
    "# label_df = df[['SFSG']]\n",
    "# print('type(part_df)',type(part_df))\n",
    "# print('type(df)',type(df)) \n",
    "# df.head(2)\n",
    "\n",
    "# print('type(part_df)',type(part_df))\n",
    "# print('part_df.shape',part_df.shape)"
   ]
  },
  {
   "cell_type": "code",
   "execution_count": 168,
   "metadata": {
    "ExecuteTime": {
     "end_time": "2018-11-09T01:22:26.903077Z",
     "start_time": "2018-11-09T01:22:26.825655Z"
    }
   },
   "outputs": [
    {
     "name": "stdout",
     "output_type": "stream",
     "text": [
      "[False False False  True False  True False  True False]\n",
      "[3 5 7]\n",
      "<class 'numpy.ndarray'>\n",
      "[[ 8.  0. 49.]\n",
      " [ 2.  1. 46.]\n",
      " [ 2.  1. 46.]\n",
      " ...\n",
      " [ 0.  0. 27.]\n",
      " [ 0.  0. 24.]\n",
      " [ 0.  0. 24.]]\n"
     ]
    }
   ],
   "source": [
    "# 特征处理\n",
    "from sklearn.datasets import load_iris\n",
    "from sklearn.feature_selection import SelectKBest\n",
    "from sklearn.feature_selection import chi2\n",
    "\n",
    "# from sklearn_pandas import DataFrameMapper\n",
    "\n",
    "\n",
    "part_df.head(5)\n",
    "skb_x = part_df.drop(['SFSG'],1)\n",
    "skb_y = part_df['SFSG']\n",
    "                      \n",
    "    \n",
    "    \n",
    "X_new = SelectKBest(chi2, k=3).fit(skb_x, skb_y)\n",
    "print(X_new.get_support(indices=False))\n",
    "print(X_new.get_support(indices=True))\n",
    "print(type(X_new.get_support(indices=True)))\n",
    "print(X_new.fit_transform(skb_x, skb_y))\n",
    "\n",
    "# .fit(skb_x, skb_y)\n",
    "# aaa = X_new\n",
    "# X_new.get_feature_names()\n",
    "\n",
    "# X_new1 = SelectKBest(chi2, k=5).get_params(deep=True)\n",
    "\n",
    "# print(X_new)\n",
    "# print(X_new1)\n",
    "\n",
    "# vectorizer = TfidfVectorizer(sublinear_tf=True, \n",
    "#                              smooth_idf = True,\n",
    "#                              max_df=0.5,\n",
    "#                              stop_words='english')\n",
    "# feature_names = vectorizer.get_feature_names()\n",
    "# ch2 = SelectKBest(chi2, k=opts.select_chi2)\n",
    "# X_train = ch2.fit_transform(X_train, y_train)\n",
    "# X_test = ch2.transform(X_test)\n",
    "# selected_feature_names = [feature_names[i] for i in ch2.get_support(indices=True)]"
   ]
  },
  {
   "cell_type": "code",
   "execution_count": 169,
   "metadata": {
    "ExecuteTime": {
     "end_time": "2018-11-09T01:22:28.732133Z",
     "start_time": "2018-11-09T01:22:28.720412Z"
    }
   },
   "outputs": [],
   "source": [
    "#用 sklearn  分割训练集和测试集\n",
    "train_df, verify_df = train_test_split(part_df, test_size = 0.3)\n",
    "# print('type(part_df)',type(part_df))\n",
    "# print('type(train_df)',type(train_df)) \n",
    "# print('type(verify_df)',type(verify_df)) "
   ]
  },
  {
   "cell_type": "code",
   "execution_count": 182,
   "metadata": {
    "ExecuteTime": {
     "end_time": "2018-11-09T01:51:32.845466Z",
     "start_time": "2018-11-09T01:51:32.812603Z"
    }
   },
   "outputs": [
    {
     "name": "stdout",
     "output_type": "stream",
     "text": [
      "train_X.shape (32342, 9)\n",
      "verify_X.shape (13861, 9)\n",
      "test_X.shape (1535, 9)\n"
     ]
    }
   ],
   "source": [
    "# 读取需要的数据转换成 np\n",
    "#    'CLLX', 'marrige', 'hnum',\n",
    "# 选择参数列\n",
    "X_select_elements = ['LJJF','ZJCX', 'age', 'xb', 'jl', 'child', 'marrige','WFJFS', 'hnum']\n",
    "Y_select_elements = 'SFSG'\n",
    "\n",
    "   \n",
    "# 训练数据\n",
    "train_X = np.array(train_df[X_select_elements])\n",
    "train_Y = np.array(train_df[Y_select_elements])\n",
    "\n",
    "# 验证数据\n",
    "verify_X = np.array(verify_df[X_select_elements])\n",
    "verify_Y = np.array(verify_df[Y_select_elements])\n",
    "\n",
    "# 测试数据\n",
    "test_X = np.array(part_df_test[X_select_elements])\n",
    "\n",
    "print('train_X.shape',train_X.shape)\n",
    "print('verify_X.shape',verify_X.shape)\n",
    "print('test_X.shape',test_X.shape)"
   ]
  },
  {
   "cell_type": "code",
   "execution_count": 183,
   "metadata": {
    "ExecuteTime": {
     "end_time": "2018-11-09T01:51:39.970668Z",
     "start_time": "2018-11-09T01:51:39.964674Z"
    }
   },
   "outputs": [
    {
     "name": "stdout",
     "output_type": "stream",
     "text": [
      "验证数据 1的数量= 10727\n",
      "验证数据 0的数量= 3134\n"
     ]
    }
   ],
   "source": [
    "print(\"验证数据 1的数量=\",np.sum(verify_Y == 1 ))\n",
    "print(\"验证数据 0的数量=\",np.sum(verify_Y == 0 ))"
   ]
  },
  {
   "cell_type": "code",
   "execution_count": 184,
   "metadata": {
    "ExecuteTime": {
     "end_time": "2018-11-09T01:51:48.516107Z",
     "start_time": "2018-11-09T01:51:48.504263Z"
    }
   },
   "outputs": [],
   "source": [
    "# 均值化\n",
    "from sklearn.preprocessing import MinMaxScaler\n",
    "\n",
    "minMax = MinMaxScaler()\n",
    "train_X = minMax.fit_transform(train_X)\n",
    "verify_X = minMax.fit_transform(verify_X)\n",
    "test_X = minMax.fit_transform(test_X)\n"
   ]
  },
  {
   "cell_type": "code",
   "execution_count": 173,
   "metadata": {
    "ExecuteTime": {
     "end_time": "2018-11-09T01:22:32.287831Z",
     "start_time": "2018-11-09T01:22:32.284636Z"
    }
   },
   "outputs": [],
   "source": [
    "# train_X_tansor = tf.convert_to_tensor(train_X)\n",
    "# train_Y_tansor = tf.convert_to_tensor(train_Y)\n",
    "# verify_X_tansor = tf.convert_to_tensor(verify_X)\n",
    "# verify_Y_tansor = tf.convert_to_tensor(verify_Y)"
   ]
  },
  {
   "cell_type": "code",
   "execution_count": 174,
   "metadata": {
    "ExecuteTime": {
     "end_time": "2018-11-09T01:22:32.457887Z",
     "start_time": "2018-11-09T01:22:32.454229Z"
    }
   },
   "outputs": [],
   "source": [
    "# with tf.Session() as sess:\n",
    "#     sess.run(train_X_tansor)\n",
    "#     sess.run(train_Y_tansor)\n",
    "#     sess.run(verify_X_tansor)\n",
    "#     sess.run(verify_Y_tansor)\n",
    "#     print(train_X_tansor)\n",
    "#     print(train_Y_tansor)\n",
    "#     print(verify_X_tansor)\n",
    "#     print(verify_Y_tansor)"
   ]
  },
  {
   "cell_type": "code",
   "execution_count": 185,
   "metadata": {
    "ExecuteTime": {
     "end_time": "2018-11-09T01:51:58.396325Z",
     "start_time": "2018-11-09T01:51:58.376124Z"
    }
   },
   "outputs": [
    {
     "name": "stdout",
     "output_type": "stream",
     "text": [
      "[[0. 1.]\n",
      " [0. 1.]\n",
      " [1. 0.]\n",
      " ...\n",
      " [0. 1.]\n",
      " [0. 1.]\n",
      " [0. 1.]]\n",
      "[[1]\n",
      " [1]\n",
      " [0]\n",
      " ...\n",
      " [1]\n",
      " [1]\n",
      " [1]]\n",
      "(32342, 1)\n"
     ]
    }
   ],
   "source": [
    "# 独热编码\n",
    "train_Y_oh = (np.arange(2) == train_Y[:,None]).astype(np.float32)\n",
    "verify_Y_oh = (np.arange(2) == verify_Y[:,None]).astype(np.float32)\n",
    "print(train_Y_oh)\n",
    "\n",
    "# 二值化\n",
    "from sklearn.preprocessing import LabelBinarizer\n",
    "lb = LabelBinarizer()\n",
    "train_Y_lb = lb.fit_transform(train_Y)\n",
    "verify_Y_lb = lb.fit_transform(verify_Y)\n",
    "\n",
    "print(train_Y_lb)\n",
    "print(train_Y_lb.shape)"
   ]
  },
  {
   "cell_type": "code",
   "execution_count": 186,
   "metadata": {
    "ExecuteTime": {
     "end_time": "2018-11-09T01:52:01.763274Z",
     "start_time": "2018-11-09T01:52:01.760051Z"
    }
   },
   "outputs": [],
   "source": [
    "# 公用 shape 参数\n",
    "xs1 = train_X.shape[1]\n",
    "ys1 = train_Y_oh.shape[1]"
   ]
  },
  {
   "cell_type": "code",
   "execution_count": 177,
   "metadata": {
    "ExecuteTime": {
     "end_time": "2018-11-09T01:22:37.218716Z",
     "start_time": "2018-11-09T01:22:36.604097Z"
    }
   },
   "outputs": [
    {
     "data": {
      "image/png": "[encoded data removed]",
      "text/plain": [
       "<Figure size 864x864 with 2 Axes>"
      ]
     },
     "metadata": {},
     "output_type": "display_data"
    }
   ],
   "source": [
    "import matplotlib.pyplot as plt\n",
    "import seaborn as sns\n",
    "\n",
    "#  'ZJCX', 'LJJF', 'xb', 'jl', 'CLLX', 'marrige', 'child', 'hnum',\n",
    "#     'age', 'XZQH','SSRS','SWRS7','sghpzl'\n",
    "\n",
    "colormap = plt.cm.viridis\n",
    "plt.figure(figsize=(12,12))\n",
    "plt.title('Pearson Correlation of Features', y=1.05, size=15)\n",
    "sns.heatmap(part_df.astype(float).corr(),linewidths=0.1,vmax=1.0, square=True, cmap=colormap, linecolor='white', annot=True, xticklabels=True, yticklabels=True)\n",
    "plt.show()"
   ]
  },
  {
   "cell_type": "code",
   "execution_count": 178,
   "metadata": {
    "ExecuteTime": {
     "end_time": "2018-11-09T01:22:42.769709Z",
     "start_time": "2018-11-09T01:22:42.651092Z"
    }
   },
   "outputs": [],
   "source": [
    "# 二分类评价函数\n",
    "def tf_confusion_metrics(predict, real, session, feed_dict):\n",
    "    predictions = tf.argmax(predict, 1)\n",
    "    actuals = tf.argmax(real, 1)\n",
    "\n",
    "    ones_like_actuals = tf.ones_like(actuals)\n",
    "    zeros_like_actuals = tf.zeros_like(actuals)\n",
    "    ones_like_predictions = tf.ones_like(predictions)\n",
    "    zeros_like_predictions = tf.zeros_like(predictions)\n",
    "\n",
    "    tp_op = tf.reduce_sum(\n",
    "        tf.cast(\n",
    "            tf.logical_and(\n",
    "                tf.equal(actuals, ones_like_actuals),\n",
    "                tf.equal(predictions, ones_like_predictions)), \"float\"))\n",
    "\n",
    "    tn_op = tf.reduce_sum(\n",
    "        tf.cast(\n",
    "            tf.logical_and(\n",
    "                tf.equal(actuals, zeros_like_actuals),\n",
    "                tf.equal(predictions, zeros_like_predictions)), \"float\"))\n",
    "\n",
    "    fp_op = tf.reduce_sum(\n",
    "        tf.cast(\n",
    "            tf.logical_and(\n",
    "                tf.equal(actuals, zeros_like_actuals),\n",
    "                tf.equal(predictions, ones_like_predictions)), \"float\"))\n",
    "\n",
    "    fn_op = tf.reduce_sum(\n",
    "        tf.cast(\n",
    "            tf.logical_and(\n",
    "                tf.equal(actuals, ones_like_actuals),\n",
    "                tf.equal(predictions, zeros_like_predictions)), \"float\"))\n",
    "    tp, tn, fp, fn = session.run([tp_op, tn_op, fp_op, fn_op], feed_dict)\n",
    "\n",
    "    tpr = float(tp) / (float(tp) + float(fn))\n",
    "    fpr = float(fp) / (float(fp) + float(tn))\n",
    "    fnr = float(fn) / (float(tp) + float(fn))\n",
    "    # tp+fn = 所有真\n",
    "    # fp+tn = 所有假\n",
    "    # fpr = 实际是假，但预测成真占所有假的比例是多少\n",
    "    # fnr = 实际是真，但预测成假占所有真的比例是多少\n",
    "    \n",
    "    print('tpr=Recall 虚警率',tpr)\n",
    "    print('fnr 漏警率',tpr)\n",
    "    \n",
    "\n",
    "    accuracy = (float(tp) + float(tn)) / (\n",
    "        float(tp) + float(fp) + float(fn) + float(tn))\n",
    "\n",
    "    recall = tpr\n",
    "    precision = float(tp) / (float(tp) + float(fp))\n",
    "\n",
    "    f1_score = (2 * (precision * recall)) / (precision + recall)\n",
    "    # t,f()  true，false\n",
    "    # p(),n() 是预测的真假\n",
    "    # t 表示 程序成功\n",
    "    # f 表示 程序错误\n",
    "    # p 表示 预测真\n",
    "    # n 表示 预测假\n",
    "    print('tp(程序成功预测成真) = ', tp, ', tn(程序成功预测成假) = ', tn, ', fp(程序错误预测真) = ',\n",
    "          fp, ', fn(程序错误预测成假) = ', fn)\n",
    "    print('tpr = ', tpr, ', fpr = ', fpr, ', fnr = ', fnr)\n",
    "    print('F1 Score = ', f1_score, ', Precision = ', precision, ', Recall = ',\n",
    "          recall, ', Accuracy = ', accuracy)"
   ]
  },
  {
   "cell_type": "code",
   "execution_count": 291,
   "metadata": {
    "ExecuteTime": {
     "end_time": "2018-11-06T03:02:55.886608Z",
     "start_time": "2018-11-06T03:02:55.869928Z"
    }
   },
   "outputs": [],
   "source": [
    "# 定义超参数和placeholder\n",
    "learning_rate = 0.5\n",
    "epochs = 10\n",
    "batch_size = 100\n",
    "\n",
    "# placeholder\n",
    "x = tf.placeholder(tf.float32, [None, xs1])\n",
    "# 输出为0-1的one-hot编码\n",
    "y = tf.placeholder(tf.float32, [None, ys1])"
   ]
  },
  {
   "cell_type": "code",
   "execution_count": 292,
   "metadata": {
    "ExecuteTime": {
     "end_time": "2018-11-06T03:02:56.798803Z",
     "start_time": "2018-11-06T03:02:56.501554Z"
    }
   },
   "outputs": [],
   "source": [
    "# 定义参数w和b\n",
    "# hidden layer => w, b\n",
    "W1 = tf.Variable(tf.random_normal([xs1, xs1], stddev=0.03), name='W1')\n",
    "b1 = tf.Variable(tf.random_normal([xs1]), name='b1')\n",
    "# output layer => w, b\n",
    "W2 = tf.Variable(tf.random_normal([xs1, ys1], stddev=0.03), name='W2')\n",
    "b2 = tf.Variable(tf.random_normal([ys1]), name='b2')\n",
    "\n",
    "# 构造隐层网络\n",
    "hidden_out = tf.add(tf.matmul(x, W1), b1)\n",
    "hidden_out = tf.nn.relu(hidden_out)\n",
    "\n",
    "# 构造输出（预测值）\n",
    "# 计算输出\n",
    "y_ = tf.nn.softmax(tf.add(tf.matmul(hidden_out, W2), b2))\n",
    "\n",
    "# BP部分—定义loss \n",
    "# 对n个标签计算交叉熵\n",
    "# 对m个样本取平均\n",
    "y_clipped = tf.clip_by_value(y_, 1e-10, 0.9999999)\n",
    "cross_entropy = -tf.reduce_mean(tf.reduce_sum(y * tf.log(y_clipped) + (1 - y) * tf.log(1 - y_clipped), axis=1))\n",
    "\n",
    "# BP部分—定义优化算法\n",
    "# 创建优化器，确定优化目标\n",
    "optimizer = tf.train.GradientDescentOptimizer(learning_rate=learning_rate).minimize(cross_entropy)\n",
    "\n",
    "# 定义初始化operation和准确率node\n",
    "# init operator\n",
    "init_op = tf.global_variables_initializer()\n",
    "\n",
    "# 创建准确率节点\n",
    "correct_prediction = tf.equal(tf.argmax(y, 1), tf.argmax(y_, 1))\n",
    "accuracy = tf.reduce_mean(tf.cast(correct_prediction, tf.float32))"
   ]
  },
  {
   "cell_type": "code",
   "execution_count": 293,
   "metadata": {
    "ExecuteTime": {
     "end_time": "2018-11-06T03:03:03.572148Z",
     "start_time": "2018-11-06T03:02:57.059713Z"
    }
   },
   "outputs": [
    {
     "name": "stdout",
     "output_type": "stream",
     "text": [
      "67\n",
      "Epoch: 1 cost =  0.963\n",
      "Epoch: 2 cost =  0.791\n",
      "Epoch: 3 cost =  0.779\n",
      "Epoch: 4 cost =  0.765\n",
      "Epoch: 5 cost =  0.762\n",
      "Epoch: 6 cost =  0.759\n",
      "Epoch: 7 cost =  0.750\n",
      "Epoch: 8 cost =  0.749\n",
      "Epoch: 9 cost =  0.744\n",
      "Epoch: 10 cost =  0.745\n",
      "0.82363135\n"
     ]
    }
   ],
   "source": [
    "# 开始训练\n",
    "# 创建session\n",
    "with tf.Session() as sess:\n",
    "    # 变量初始化\n",
    "    sess.run(init_op)\n",
    "    total_batch = int(len(train_Y) / batch_size)\n",
    "    print(total_batch)\n",
    "    for epoch in range(epochs):\n",
    "        avg_cost = 0\n",
    "        for i in range(total_batch):\n",
    "#             batch_x, batch_y = mnist.train.next_batch(batch_size=batch_size)\n",
    "            _, c = sess.run([optimizer, cross_entropy], feed_dict={x: train_X, y: train_Y_oh})\n",
    "            avg_cost += c / total_batch\n",
    "        print(\"Epoch:\", (epoch + 1), \"cost = \", \"{:.3f}\".format(avg_cost))\n",
    "    print(sess.run(accuracy, feed_dict={x: verify_X, y: verify_Y_oh}))"
   ]
  },
  {
   "cell_type": "code",
   "execution_count": 187,
   "metadata": {
    "ExecuteTime": {
     "end_time": "2018-11-09T01:52:21.302766Z",
     "start_time": "2018-11-09T01:52:21.069283Z"
    }
   },
   "outputs": [
    {
     "name": "stdout",
     "output_type": "stream",
     "text": [
      "xs1 9\n",
      "ys1 2\n"
     ]
    }
   ],
   "source": [
    "# 程序3\n",
    "\n",
    "print('xs1',xs1)\n",
    "print('ys1',ys1)\n",
    "tf.reset_default_graph()\n",
    "\n",
    "x = tf.placeholder(tf.float32,shape = [None,xs1],name = 'input')\n",
    "y = tf.placeholder(tf.float32,shape = [None,ys1],name = 'label')\n",
    "weights1 = tf.Variable(tf.random_normal([xs1,xs1]),name = 'weights1')\n",
    "bias1 = tf.Variable(tf.zeros([xs1]),name = 'bias1')\n",
    "a = tf.nn.relu(tf.matmul(x,weights1) + bias1)\n",
    "tf.summary.histogram(\"relu1\", a)\n",
    "weights2 = tf.Variable(tf.random_normal([xs1,ys1]),name = 'weights2')\n",
    "bias2 = tf.Variable(tf.zeros([ys1]),name = 'bias2')\n",
    "z = tf.matmul(a,weights2) + bias2\n",
    "tf.summary.histogram(\"relu2\", z)\n",
    "\n",
    "y_pred = tf.nn.softmax(z)\n",
    "cost = tf.reduce_mean(tf.nn.softmax_cross_entropy_with_logits(labels=y,logits=z))\n",
    "# cost = tf.log(tf.clip_by_value(tf.reduce_mean(tf.nn.softmax_cross_entropy_with_logits(labels=y,logits=z)),1e-8,1.0))\n",
    "\n",
    "correct_pred = tf.equal(tf.argmax(y,1),tf.argmax(y_pred,1))\n",
    "acc_op = tf.reduce_mean(tf.cast(correct_pred,tf.float32))\n",
    "train_op = tf.train.AdamOptimizer(0.001).minimize(cost)\n",
    "# loss = tf.log(tf.clip_by_value(y,1e-8,1.0))\n",
    "# loss = tf.log(tf.clip_by_value(tf.sigmoid(self.scores),1e-8,1.0)\n",
    "\n",
    "# 图相关\n",
    "# Create a summary to monitor cost tensor\n",
    "tf.summary.scalar(\"loss\", cost)\n",
    "# Create a summary to monitor accuracy tensor\n",
    "tf.summary.scalar(\"accuracy\", acc_op)\n",
    "# Merge all summaries into a single op\n",
    "merged_summary_op = tf.summary.merge_all()\n"
   ]
  },
  {
   "cell_type": "code",
   "execution_count": 188,
   "metadata": {
    "ExecuteTime": {
     "end_time": "2018-11-09T02:08:46.010707Z",
     "start_time": "2018-11-09T01:52:30.649071Z"
    },
    "code_folding": []
   },
   "outputs": [
    {
     "name": "stdout",
     "output_type": "stream",
     "text": [
      "Epoch:    0, total loss = 2838.897596028603\n",
      "Accuracy on validation set: 0.974532843\n",
      "Epoch:    1, total loss = 2349.113478989097\n",
      "Epoch:    2, total loss = 2251.452762933866\n",
      "Epoch:    3, total loss = 2187.638938520300\n",
      "Epoch:    4, total loss = 2139.261941793594\n",
      "Epoch:    5, total loss = 2109.329274770981\n",
      "Epoch:    6, total loss = 2085.977743985734\n",
      "Epoch:    7, total loss = 2071.528086901066\n",
      "Epoch:    8, total loss = 2062.314761384866\n",
      "Epoch:    9, total loss = 2057.328496801078\n",
      "Epoch:   10, total loss = 2050.946673917462\n",
      "Accuracy on validation set: 0.979366541\n",
      "Epoch:   11, total loss = 2044.245285957274\n",
      "Epoch:   12, total loss = 2035.229752751784\n",
      "Epoch:   13, total loss = 2027.284611574848\n",
      "Epoch:   14, total loss = 2020.091866801041\n",
      "Epoch:   15, total loss = 2016.839192419254\n",
      "Epoch:   16, total loss = 2013.116269801847\n",
      "Epoch:   17, total loss = 2009.105429747304\n",
      "Epoch:   18, total loss = 2006.300921449260\n",
      "Epoch:   19, total loss = 2005.928288250342\n",
      "Epoch:   20, total loss = 1998.257935367541\n",
      "Accuracy on validation set: 0.980232298\n",
      "Epoch:   21, total loss = 2001.590474298784\n",
      "Epoch:   22, total loss = 1993.098123441691\n",
      "Epoch:   23, total loss = 1981.108769553622\n",
      "Epoch:   24, total loss = 1971.323363858515\n",
      "Epoch:   25, total loss = 1967.423963879135\n",
      "Epoch:   26, total loss = 1966.878046477696\n",
      "Epoch:   27, total loss = 1963.148751727965\n",
      "Epoch:   28, total loss = 1958.872729799264\n",
      "Epoch:   29, total loss = 1960.042812601681\n",
      "training complete!\n",
      "predictions [1 1 1 ... 1 1 1]\n",
      "Accuracy on validation set: 0.980304480\n",
      "Accuracy on validation set (numpy): 0.980304480\n",
      "Precision 0.9847894639213504\n",
      "Recall 0.9898387247133402\n",
      "f1_score 0.9873076386628853\n",
      "confusion_matrix\n",
      "[[ 2970   164]\n",
      " [  109 10618]]\n",
      "verify_Y_oh.shape (13861, 2)\n",
      "y_pred.shape (?, 2)\n",
      "y_true.shape (2888,)\n",
      "correct_num.shape (2888,)\n",
      "tpr=Recall 虚警率 0.9898387247133402\n",
      "fnr 漏警率 0.9898387247133402\n",
      "tp(程序成功预测成真) =  10618.0 , tn(程序成功预测成假) =  2970.0 , fp(程序错误预测真) =  164.0 , fn(程序错误预测成假) =  109.0\n",
      "tpr =  0.9898387247133402 , fpr =  0.05232929164007658 , fnr =  0.01016127528665983\n",
      "F1 Score =  0.9873076386628853 , Precision =  0.9847894639213504 , Recall =  0.9898387247133402 , Accuracy =  0.9803044513382873\n"
     ]
    }
   ],
   "source": [
    "import os\n",
    "from sklearn.ensemble import RandomForestRegressor\n",
    "import sklearn.metrics as metrics\n",
    "\n",
    "# 存档入口\n",
    "saver = tf.train.Saver()\n",
    "\n",
    "# 在Saver声明之后定义的变量将不会被存储\n",
    "# non_storable_variable = tf.Variable(777)\n",
    "\n",
    "ckpt_dir = './ckpt_dir'\n",
    "logs_path = './tensorflow_logs/example/'\n",
    "# print('train_X.shape',train_X.shape)\n",
    "if not os.path.exists(ckpt_dir):\n",
    "    os.makedirs(ckpt_dir)\n",
    "\n",
    "with tf.Session() as sess:\n",
    "    tf.global_variables_initializer().run()\n",
    "\n",
    "    # 操作写入到  Tensorboard\n",
    "    summary_writer = tf.summary.FileWriter(logs_path, graph=tf.get_default_graph())\n",
    "    \n",
    "    ckpt = tf.train.latest_checkpoint(ckpt_dir)\n",
    "    if ckpt:\n",
    "        print('Restoring from checkpoint: %s' % ckpt)\n",
    "        saver.restore(sess, ckpt)\n",
    "\n",
    "    for epoch in range(30):\n",
    "        total_loss = 0.\n",
    "        for i in range(len(train_X)):\n",
    "            feed_dict = {x: [train_X[i]],y:[train_Y_oh[i]]}\n",
    "            _,loss,summary = sess.run([train_op,cost,merged_summary_op],feed_dict=feed_dict)\n",
    "            total_loss +=loss\n",
    "            summary_writer.add_summary(summary, epoch * len(train_X) + i)\n",
    "        print('Epoch: %4d, total loss = %.12f' % (epoch,total_loss))\n",
    "        if epoch % 10 == 0:\n",
    "            accuracy = sess.run(acc_op,feed_dict={x:verify_X,y:verify_Y_oh})\n",
    "            print(\"Accuracy on validation set: %.9f\" % accuracy)\n",
    "            \n",
    "            \n",
    "            \n",
    "    saver.save(sess, ckpt_dir + '/logistic.ckpt')\n",
    "    print('training complete!')\n",
    "#     print('acc_op',acc_op)\n",
    "    accuracy = sess.run(acc_op,feed_dict={x:verify_X,y:verify_Y_oh})\n",
    "    pred = sess.run(y_pred,feed_dict={x:verify_X})\n",
    "\n",
    "#     沿轴拿最大值的索引\n",
    "    correct = np.equal(np.argmax(pred,1),np.argmax(verify_Y_oh,1))\n",
    "#     print('np.argmax(pred,1)',np.argmax(pred,1))\n",
    "#     print('np.argmax(pred,0)',np.argmax(pred,0))\n",
    "\n",
    "    predictions = np.argmax(pred, 1)\n",
    "    print('predictions',predictions)\n",
    "    \n",
    "    numpy_accuracy = np.mean(correct.astype(np.float32))\n",
    "    \n",
    "#     y_true = np.argmax(verify_Y_oh,1)\n",
    "#     print('y_true', y_true)\n",
    "#     print('pred', pred)\n",
    "#     print('correct', correct)\n",
    "#     print('correct.astype(np.float32)', correct.astype(np.float32))\n",
    "    \n",
    "    # 输出指标\n",
    "    \n",
    "    print(\"Accuracy on validation set: %.9f\" % accuracy)\n",
    "    print(\"Accuracy on validation set (numpy): %.9f\" % numpy_accuracy)\n",
    "    \n",
    "    print(\"Precision\", metrics.precision_score(verify_Y  , predictions))\n",
    "    print( \"Recall\", metrics.recall_score(verify_Y , predictions))\n",
    "    print( \"f1_score\", metrics.f1_score(verify_Y , predictions))\n",
    "    print( \"confusion_matrix\")\n",
    "    print( metrics.confusion_matrix(verify_Y , predictions))\n",
    "    fpr, tpr, tresholds = metrics.roc_curve(verify_Y , predictions)\n",
    "\n",
    "#     predictLabel = tf.constant(pred)\n",
    "#     print('predictLabel',predictLabel)\n",
    "#     predictLabel =  predictLabel.eval()   \n",
    "    \n",
    "    \n",
    "#     print('predictLabel.shape',predictLabel.shape)\n",
    "    print('verify_Y_oh.shape',verify_Y_oh.shape)\n",
    "    print('y_pred.shape',y_pred.shape)\n",
    "    print('y_true.shape',y_true.shape)\n",
    "    print('correct_num.shape',correct_num.shape)\n",
    "    metrics = tf_confusion_metrics(y_pred, verify_Y_oh, sess, feed_dict={x:verify_X,y:verify_Y_oh})\n",
    "    \n",
    "#     print('metrics.accuracy',metrics.accuracy)\n",
    "    \n",
    "    saver.save(sess, ckpt_dir + '/logistic.ckpt')\n",
    "    \n",
    "#     plt.plot(train_X, train_Y, 'ro', label='Original data')\n",
    "#     plt.plot(train_X, sess.run(W) * train_X + sess.run(b), label='Fitted line')\n",
    "#     plt.legend()\n",
    "#     plt.show()\n",
    "    \n",
    "#     '''\n",
    "#     测试数据的清洗和训练数据一样，两者可以共同完成\n",
    "#     '''\n",
    "    \n",
    "# #     评估模型  \n",
    "#     possibility = sess.run(y_pred, feed_dict={x: test_X})\n",
    "    \n",
    "#     possibility_array = np.array(possibility,dtype=float)\n",
    "    \n",
    "# #     print('possibility',possibility)\n",
    "# #     print('possibility.shape',possibility.shape)\n",
    "# #     print('possibility.shape',type(possibility.shape))\n",
    "    \n",
    "#     predictions = np.argmax(possibility, 1)\n",
    "    \n",
    "# #     print('possibility[0]',possibility[:,0])\n",
    "# #     print('possibility[0]',(possibility[:,0].shape))\n",
    "\n",
    "#     #保存结果  \n",
    "#     submission = pd.DataFrame({  \n",
    "#         \"id\": df_test_original[\"id\"],  \n",
    "#         \"SFSG\": predictions,\n",
    "#         \"possibility_0\": possibility[:,0],\n",
    "#         \"possibility_1\": possibility[:,1]\n",
    "#     })  \n",
    "#     submission.to_csv(\"SG-submission.csv\", index=False)  "
   ]
  },
  {
   "cell_type": "code",
   "execution_count": 190,
   "metadata": {
    "ExecuteTime": {
     "end_time": "2018-11-09T05:32:54.571012Z",
     "start_time": "2018-11-09T05:32:54.303554Z"
    }
   },
   "outputs": [
    {
     "name": "stdout",
     "output_type": "stream",
     "text": [
      "[[0.45       0.11111111 0.81967213 ... 0.         0.         0.        ]\n",
      " [0.         0.11111111 0.42622951 ... 0.         0.         0.        ]\n",
      " [0.         0.11111111 0.40983607 ... 0.         0.         0.        ]\n",
      " ...\n",
      " [0.3        0.11111111 0.         ...        nan 0.         0.73972603]\n",
      " [0.3        0.11111111 0.         ...        nan 0.         0.73972603]\n",
      " [0.3        0.11111111 0.         ...        nan 0.         0.73972603]]\n",
      "(1535, 9)\n",
      "Restoring from checkpoint: ./ckpt_dir/logistic.ckpt\n",
      "INFO:tensorflow:Restoring parameters from ./ckpt_dir/logistic.ckpt\n"
     ]
    }
   ],
   "source": [
    "# 恢复测试1\n",
    "ckpt_dir = './ckpt_dir'\n",
    "\n",
    "saver = tf.train.Saver()\n",
    "print(test_X)\n",
    "print(test_X.shape)\n",
    "with tf.Session() as sess:\n",
    "    ckpt = tf.train.latest_checkpoint(ckpt_dir)\n",
    "    if ckpt:\n",
    "        print('Restoring from checkpoint: %s' % ckpt)\n",
    "        saver.restore(sess, ckpt)\n",
    "    \n",
    "#     评估模型  \n",
    "    possibility = sess.run(y_pred, feed_dict={x: test_X})\n",
    "    \n",
    "    possibility_array = np.array(possibility,dtype=float)\n",
    "    \n",
    "#     print('possibility',possibility)\n",
    "#     print('possibility.shape',possibility.shape)\n",
    "#     print('possibility.shape',type(possibility.shape))\n",
    "    \n",
    "    predictions = np.argmax(possibility, 1)\n",
    "    \n",
    "#     print('possibility[0]',possibility[:,0])\n",
    "#     print('possibility[0]',(possibility[:,0].shape))\n",
    "\n",
    "    #保存结果  \n",
    "    submission = pd.DataFrame({  \n",
    "        \"id\": df_test_original[\"id\"],  \n",
    "        \"SFSG\": predictions,\n",
    "        \"possibility_0\": possibility[:,0],\n",
    "        \"possibility_1\": possibility[:,1]\n",
    "    })  \n",
    "    submission.to_csv(\"SG-submission.csv\", index=False)  \n",
    "    \n",
    "    "
   ]
  },
  {
   "cell_type": "code",
   "execution_count": 17,
   "metadata": {
    "ExecuteTime": {
     "end_time": "2018-11-07T01:26:09.445983Z",
     "start_time": "2018-11-07T01:25:39.925360Z"
    }
   },
   "outputs": [],
   "source": [
    "# 程序4\n",
    "from collections import namedtuple\n",
    "\n",
    "def build_neural_network(hidden_units=10):\n",
    "    tf.reset_default_graph()\n",
    "    inputs = tf.placeholder(tf.float32, shape=[None, train_X.shape[1]])\n",
    "    labels = tf.placeholder(tf.float32, shape=[None, 1])\n",
    "    learning_rate = tf.placeholder(tf.float32)\n",
    "    is_training=tf.Variable(True,dtype=tf.bool)\n",
    "    \n",
    "    initializer = tf.contrib.layers.xavier_initializer()\n",
    "    fc = tf.layers.dense(inputs, hidden_units, activation=None,kernel_initializer=initializer)\n",
    "    fc=tf.layers.batch_normalization(fc, training=is_training)\n",
    "    fc=tf.nn.relu(fc)\n",
    "    \n",
    "    logits = tf.layers.dense(fc, 1, activation=None)\n",
    "    cross_entropy = tf.nn.sigmoid_cross_entropy_with_logits(labels=labels, logits=logits)\n",
    "    cost = tf.reduce_mean(cross_entropy)\n",
    "    \n",
    "    with tf.control_dependencies(tf.get_collection(tf.GraphKeys.UPDATE_OPS)):\n",
    "        optimizer = tf.train.AdamOptimizer(learning_rate=learning_rate).minimize(cost)\n",
    "\n",
    "    predicted = tf.nn.sigmoid(logits)\n",
    "    correct_pred = tf.equal(tf.round(predicted), labels)\n",
    "    accuracy = tf.reduce_mean(tf.cast(correct_pred, tf.float32))\n",
    "\n",
    "    # Export the nodes \n",
    "    export_nodes = ['inputs', 'labels', 'learning_rate','is_training', 'logits',\n",
    "                    'cost', 'optimizer', 'predicted', 'accuracy']\n",
    "    Graph = namedtuple('Graph', export_nodes)\n",
    "    local_dict = locals()\n",
    "    graph = Graph(*[local_dict[each] for each in export_nodes])\n",
    "\n",
    "    return graph\n",
    "\n",
    "model = build_neural_network()"
   ]
  },
  {
   "cell_type": "code",
   "execution_count": 18,
   "metadata": {
    "ExecuteTime": {
     "end_time": "2018-11-07T01:26:25.694882Z",
     "start_time": "2018-11-07T01:26:25.686236Z"
    }
   },
   "outputs": [],
   "source": [
    "def get_batch(data_x,data_y,batch_size=32):\n",
    "    batch_n=len(data_x)//batch_size\n",
    "    for i in range(batch_n):\n",
    "        batch_x=data_x[i*batch_size:(i+1)*batch_size]\n",
    "        batch_y=data_y[i*batch_size:(i+1)*batch_size]\n",
    "        \n",
    "        yield batch_x,batch_y"
   ]
  },
  {
   "cell_type": "code",
   "execution_count": 22,
   "metadata": {
    "ExecuteTime": {
     "end_time": "2018-11-07T02:39:25.787263Z",
     "start_time": "2018-11-07T02:39:25.657962Z"
    },
    "code_folding": []
   },
   "outputs": [
    {
     "ename": "NameError",
     "evalue": "name 'get_batch' is not defined",
     "output_type": "error",
     "traceback": [
      "\u001b[0;31m---------------------------------------------------------------------------\u001b[0m",
      "\u001b[0;31mNameError\u001b[0m                                 Traceback (most recent call last)",
      "\u001b[0;32m<ipython-input-22-6d8093124b63>\u001b[0m in \u001b[0;36m<module>\u001b[0;34m()\u001b[0m\n\u001b[1;32m     17\u001b[0m     \u001b[0miteration\u001b[0m\u001b[0;34m=\u001b[0m\u001b[0;36m0\u001b[0m\u001b[0;34m\u001b[0m\u001b[0m\n\u001b[1;32m     18\u001b[0m     \u001b[0;32mfor\u001b[0m \u001b[0me\u001b[0m \u001b[0;32min\u001b[0m \u001b[0mrange\u001b[0m\u001b[0;34m(\u001b[0m\u001b[0mepochs\u001b[0m\u001b[0;34m)\u001b[0m\u001b[0;34m:\u001b[0m\u001b[0;34m\u001b[0m\u001b[0m\n\u001b[0;32m---> 19\u001b[0;31m         \u001b[0;32mfor\u001b[0m \u001b[0mbatch_x\u001b[0m\u001b[0;34m,\u001b[0m\u001b[0mbatch_y\u001b[0m \u001b[0;32min\u001b[0m \u001b[0mget_batch\u001b[0m\u001b[0;34m(\u001b[0m\u001b[0mtrain_X\u001b[0m\u001b[0;34m,\u001b[0m\u001b[0mtrain_Y\u001b[0m\u001b[0;34m,\u001b[0m\u001b[0mbatch_size\u001b[0m\u001b[0;34m)\u001b[0m\u001b[0;34m:\u001b[0m\u001b[0;34m\u001b[0m\u001b[0m\n\u001b[0m\u001b[1;32m     20\u001b[0m             \u001b[0miteration\u001b[0m\u001b[0;34m+=\u001b[0m\u001b[0;36m1\u001b[0m\u001b[0;34m\u001b[0m\u001b[0m\n\u001b[1;32m     21\u001b[0m             feed = {model.inputs: train_X,\n",
      "\u001b[0;31mNameError\u001b[0m: name 'get_batch' is not defined"
     ]
    }
   ],
   "source": [
    "epochs = 30\n",
    "train_collect = 50\n",
    "train_print=train_collect*2\n",
    "\n",
    "learning_rate_value = 0.001\n",
    "batch_size=16\n",
    "\n",
    "x_collect = []\n",
    "train_loss_collect = []\n",
    "train_acc_collect = []\n",
    "valid_loss_collect = []\n",
    "valid_acc_collect = []\n",
    "\n",
    "saver = tf.train.Saver()\n",
    "with tf.Session() as sess:\n",
    "    sess.run(tf.global_variables_initializer())\n",
    "    iteration=0\n",
    "    for e in range(epochs):\n",
    "        for batch_x,batch_y in get_batch(train_X,train_Y,batch_size):\n",
    "            iteration+=1\n",
    "            feed = {model.inputs: train_X,\n",
    "                    model.labels: train_Y_lb,\n",
    "                    model.learning_rate: learning_rate_value,\n",
    "                    model.is_training:True\n",
    "                   }\n",
    "\n",
    "            train_loss, _, train_acc = sess.run([model.cost, model.optimizer, model.accuracy], feed_dict=feed)\n",
    "            \n",
    "            if iteration % train_collect == 0:\n",
    "                x_collect.append(e)\n",
    "                train_loss_collect.append(train_loss)\n",
    "                train_acc_collect.append(train_acc)\n",
    "\n",
    "                if iteration % train_print==0:\n",
    "                     print(\"Epoch: {}/{}\".format(e + 1, epochs),\n",
    "                      \"Train Loss: {:.4f}\".format(train_loss),\n",
    "                      \"Train Acc: {:.4f}\".format(train_acc))\n",
    "                        \n",
    "                feed = {model.inputs: verify_X,\n",
    "                        model.labels: verify_Y_lb,\n",
    "                        model.is_training:False\n",
    "                       }\n",
    "                val_loss, val_acc = sess.run([model.cost, model.accuracy], feed_dict=feed)\n",
    "                valid_loss_collect.append(val_loss)\n",
    "                valid_acc_collect.append(val_acc)\n",
    "                \n",
    "                if iteration % train_print==0:\n",
    "                    print(\"Epoch: {}/{}\".format(e + 1, epochs),\n",
    "                      \"Validation Loss: {:.4f}\".format(val_loss),\n",
    "                      \"Validation Acc: {:.4f}\".format(val_acc))\n",
    "                \n",
    "\n",
    "    saver.save(sess, \"./checkpoint/titanic.ckpt\")"
   ]
  },
  {
   "cell_type": "code",
   "execution_count": 412,
   "metadata": {
    "ExecuteTime": {
     "end_time": "2018-11-06T14:17:02.222313Z",
     "start_time": "2018-11-06T14:17:01.879771Z"
    }
   },
   "outputs": [
    {
     "data": {
      "image/png": "[encoded data removed]",
      "text/plain": [
       "<matplotlib.figure.Figure at 0x1c42dbf080>"
      ]
     },
     "metadata": {},
     "output_type": "display_data"
    }
   ],
   "source": [
    "plt.plot(x_collect, train_loss_collect, \"r--\")\n",
    "plt.plot(x_collect, valid_loss_collect, \"g^\")\n",
    "plt.show()"
   ]
  },
  {
   "cell_type": "code",
   "execution_count": 413,
   "metadata": {
    "ExecuteTime": {
     "end_time": "2018-11-06T14:17:09.124614Z",
     "start_time": "2018-11-06T14:17:05.955755Z"
    }
   },
   "outputs": [
    {
     "data": {
      "image/png": "[encoded data removed]",
      "text/plain": [
       "<matplotlib.figure.Figure at 0x1c43a4b5f8>"
      ]
     },
     "metadata": {},
     "output_type": "display_data"
    }
   ],
   "source": [
    "plt.plot(x_collect, train_acc_collect, \"r--\")\n",
    "plt.plot(x_collect, valid_acc_collect, \"g^\")\n",
    "plt.show()"
   ]
  },
  {
   "cell_type": "code",
   "execution_count": null,
   "metadata": {},
   "outputs": [],
   "source": [
    "# 恢复结果并用测试集训练\n",
    "\n",
    "# model = build_neural_network()\n",
    "# restorer = tf.train.Saver()\n",
    "# with tf.Session() as sess:\n",
    "#     restorer.restore(sess, \"./checkpoint/titanic.ckpt\")\n",
    "#     feed = {\n",
    "#         model.inputs: test_data,\n",
    "#         model.is_training: False\n",
    "#     }\n",
    "#     test_predict = sess.run(model.predicted, feed_dict=feed)\n",
    "\n",
    "# print(test_predict[:10])\n",
    "\n",
    "# from sklearn.preprocessing import Binarizer\n",
    "\n",
    "# binarizer=Binarizer(0.5)\n",
    "# test_predict_result=binarizer.fit_transform(test_predict)\n",
    "# test_predict_result=test_predict_result.astype(np.int32)\n",
    "\n",
    "# print(test_predict_result[:10])\n",
    "\n",
    "\n",
    "# passenger_id=test_passenger_id.copy()\n",
    "# evaluation=passenger_id.to_frame()\n",
    "# evaluation[\"Survived\"]=test_predict_result\n",
    "\n",
    "# print(evaluation[:10])\n",
    "\n",
    "# evaluation.to_csv(\"evaluation_submission.csv\",index=False)"
   ]
  },
  {
   "cell_type": "code",
   "execution_count": null,
   "metadata": {},
   "outputs": [],
   "source": [
    "# 保存图形\n"
   ]
  }
 ],
 "metadata": {
  "kernelspec": {
   "display_name": "Python 3",
   "language": "python",
   "name": "python3"
  },
  "language_info": {
   "codemirror_mode": {
    "name": "ipython",
    "version": 3
   },
   "file_extension": ".py",
   "mimetype": "text/x-python",
   "name": "python",
   "nbconvert_exporter": "python",
   "pygments_lexer": "ipython3",
   "version": "3.6.8"
  },
  "toc": {
   "base_numbering": 1,
   "nav_menu": {},
   "number_sections": true,
   "sideBar": true,
   "skip_h1_title": false,
   "title_cell": "Table of Contents",
   "title_sidebar": "Contents",
   "toc_cell": false,
   "toc_position": {},
   "toc_section_display": true,
   "toc_window_display": false
  }
 },
 "nbformat": 4,
 "nbformat_minor": 2
}
