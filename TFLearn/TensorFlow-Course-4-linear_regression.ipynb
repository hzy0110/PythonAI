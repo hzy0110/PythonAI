{
 "cells": [
  {
   "cell_type": "code",
   "execution_count": 1,
   "metadata": {
    "ExecuteTime": {
     "end_time": "2018-11-01T11:28:02.639681Z",
     "start_time": "2018-11-01T11:27:26.585353Z"
    }
   },
   "outputs": [],
   "source": [
    "import numpy as np\n",
    "import matplotlib.pyplot as plt\n",
    "import tensorflow as tf\n",
    "import xlrd\n",
    "import os\n",
    "from sklearn.utils import check_random_state"
   ]
  },
  {
   "cell_type": "code",
   "execution_count": 3,
   "metadata": {
    "ExecuteTime": {
     "end_time": "2018-11-01T11:29:45.906420Z",
     "start_time": "2018-11-01T11:29:45.897513Z"
    }
   },
   "outputs": [
    {
     "name": "stdout",
     "output_type": "stream",
     "text": [
      "[ 0  1  2  3  4  5  6  7  8  9 10 11 12 13 14 15 16 17 18 19 20 21 22 23\n",
      " 24 25 26 27 28 29 30 31 32 33 34 35 36 37 38 39 40 41 42 43 44 45 46 47\n",
      " 48 49]\n",
      "[[ 0.  2.]\n",
      " [ 1.  7.]\n",
      " [ 2. -6.]\n",
      " [ 3. -1.]\n",
      " [ 4.  1.]\n",
      " [ 5.  7.]\n",
      " [ 6. 11.]\n",
      " [ 7. 23.]\n",
      " [ 8. 24.]\n",
      " [ 9. 12.]\n",
      " [10. 16.]\n",
      " [11. 24.]\n",
      " [12. 15.]\n",
      " [13. 22.]\n",
      " [14. 25.]\n",
      " [15. 34.]\n",
      " [16. 39.]\n",
      " [17. 29.]\n",
      " [18. 39.]\n",
      " [19. 36.]\n",
      " [20. 39.]\n",
      " [21. 51.]\n",
      " [22. 50.]\n",
      " [23. 55.]\n",
      " [24. 43.]\n",
      " [25. 55.]\n",
      " [26. 57.]\n",
      " [27. 44.]\n",
      " [28. 64.]\n",
      " [29. 51.]\n",
      " [30. 67.]\n",
      " [31. 71.]\n",
      " [32. 73.]\n",
      " [33. 75.]\n",
      " [34. 72.]\n",
      " [35. 67.]\n",
      " [36. 62.]\n",
      " [37. 65.]\n",
      " [38. 75.]\n",
      " [39. 68.]\n",
      " [40. 80.]\n",
      " [41. 75.]\n",
      " [42. 85.]\n",
      " [43. 94.]\n",
      " [44. 80.]\n",
      " [45. 80.]\n",
      " [46. 82.]\n",
      " [47. 88.]\n",
      " [48. 91.]\n",
      " [49. 94.]]\n"
     ]
    }
   ],
   "source": [
    "# Generating artificial data.\n",
    "n = 50\n",
    "XX = np.arange(n)\n",
    "print(XX)\n",
    "rs = check_random_state(0)\n",
    "YY = rs.randint(-10, 10, size=(n,)) + 2.0 * XX\n",
    "data = np.stack([XX,YY],axis = 1)\n",
    "print(data)\n"
   ]
  },
  {
   "cell_type": "code",
   "execution_count": 4,
   "metadata": {
    "ExecuteTime": {
     "end_time": "2018-11-01T11:40:22.891669Z",
     "start_time": "2018-11-01T11:40:22.888621Z"
    }
   },
   "outputs": [],
   "source": [
    "#######################\n",
    "## Defining flags #####\n",
    "#######################\n",
    "\n",
    "num_epochs = 50"
   ]
  },
  {
   "cell_type": "code",
   "execution_count": 5,
   "metadata": {
    "ExecuteTime": {
     "end_time": "2018-11-01T11:40:23.605896Z",
     "start_time": "2018-11-01T11:40:23.571515Z"
    }
   },
   "outputs": [],
   "source": [
    "# creating the weight and bias.\n",
    "# The defined variables will be initialized to zero.\n",
    "W = tf.Variable(0.0, name=\"weights\")\n",
    "b = tf.Variable(0.0, name=\"bias\")"
   ]
  },
  {
   "cell_type": "code",
   "execution_count": 6,
   "metadata": {
    "ExecuteTime": {
     "end_time": "2018-11-01T11:40:24.439911Z",
     "start_time": "2018-11-01T11:40:24.413451Z"
    }
   },
   "outputs": [],
   "source": [
    "###############################\n",
    "##### Necessary functions #####\n",
    "###############################\n",
    "\n",
    "\n",
    "#  Creating placeholders for input X and label Y.\n",
    "def inputs():\n",
    "    \"\"\"\n",
    "    Defining the place_holders.\n",
    "    :return:\n",
    "            Returning the data and label place holders.\n",
    "    \"\"\"\n",
    "    X = tf.placeholder(tf.float32, name=\"X\")\n",
    "    Y = tf.placeholder(tf.float32, name=\"Y\")\n",
    "    return X, Y\n",
    "\n",
    "\n",
    "def inference(X):\n",
    "    \"\"\"\n",
    "    Forward passing the X.\n",
    "    :param X: Input.\n",
    "    :return: X*W + b.\n",
    "    \"\"\"\n",
    "    return X * W + b\n",
    "\n",
    "\n",
    "def loss(X, Y):\n",
    "    '''\n",
    "    compute the loss by comparing the predicted value to the actual label.\n",
    "    :param X: The input.\n",
    "    :param Y: The label.\n",
    "    :return: The loss over the samples.\n",
    "    '''\n",
    "\n",
    "    # Making the prediction.\n",
    "    Y_predicted = inference(X)\n",
    "    return tf.reduce_sum(tf.squared_difference(\n",
    "        Y, Y_predicted)) / (2 * data.shape[0])\n",
    "\n",
    "\n",
    "# The training function.\n",
    "def train(loss):\n",
    "    learning_rate = 0.0001\n",
    "    return tf.train.GradientDescentOptimizer(learning_rate).minimize(loss)"
   ]
  },
  {
   "cell_type": "code",
   "execution_count": 7,
   "metadata": {
    "ExecuteTime": {
     "end_time": "2018-11-01T11:40:27.657083Z",
     "start_time": "2018-11-01T11:40:27.436516Z"
    }
   },
   "outputs": [
    {
     "name": "stdout",
     "output_type": "stream",
     "text": [
      "Tensor(\"X:0\", dtype=float32)\n",
      "Tensor(\"Y:0\", dtype=float32)\n",
      "epoch 1, loss=1573.599976\n",
      "epoch 2, loss=1332.513916\n",
      "epoch 3, loss=1128.868286\n",
      "epoch 4, loss=956.848938\n",
      "epoch 5, loss=811.544067\n",
      "epoch 6, loss=688.804993\n",
      "epoch 7, loss=585.127380\n",
      "epoch 8, loss=497.550781\n",
      "epoch 9, loss=423.574799\n",
      "epoch 10, loss=361.087372\n",
      "epoch 11, loss=308.304138\n",
      "epoch 12, loss=263.718170\n",
      "epoch 13, loss=226.056366\n",
      "epoch 14, loss=194.243408\n",
      "epoch 15, loss=167.371048\n",
      "epoch 16, loss=144.671936\n",
      "epoch 17, loss=125.497986\n",
      "epoch 18, loss=109.301773\n",
      "epoch 19, loss=95.620834\n",
      "epoch 20, loss=84.064507\n",
      "epoch 21, loss=74.302887\n",
      "epoch 22, loss=66.057228\n",
      "epoch 23, loss=59.092148\n",
      "epoch 24, loss=53.208710\n",
      "epoch 25, loss=48.238998\n",
      "epoch 26, loss=44.041073\n",
      "epoch 27, loss=40.495071\n",
      "epoch 28, loss=37.499771\n",
      "epoch 29, loss=34.969639\n",
      "epoch 30, loss=32.832432\n",
      "epoch 31, loss=31.027143\n",
      "epoch 32, loss=29.502199\n",
      "epoch 33, loss=28.214087\n",
      "epoch 34, loss=27.126015\n",
      "epoch 35, loss=26.206921\n",
      "epoch 36, loss=25.430567\n",
      "epoch 37, loss=24.774773\n",
      "epoch 38, loss=24.220827\n",
      "epoch 39, loss=23.752905\n",
      "epoch 40, loss=23.357645\n",
      "epoch 41, loss=23.023773\n",
      "epoch 42, loss=22.741753\n",
      "epoch 43, loss=22.503527\n",
      "epoch 44, loss=22.302298\n",
      "epoch 45, loss=22.132318\n",
      "epoch 46, loss=21.988735\n",
      "epoch 47, loss=21.867451\n",
      "epoch 48, loss=21.764999\n",
      "epoch 49, loss=21.678463\n",
      "epoch 50, loss=21.605358\n"
     ]
    }
   ],
   "source": [
    "with tf.Session() as sess:\n",
    "    # Initialize the variables[w and b].\n",
    "    sess.run(tf.global_variables_initializer())\n",
    "\n",
    "    # Get the input tensors\n",
    "    X, Y = inputs()\n",
    "    print(X)\n",
    "    print(Y)\n",
    "\n",
    "    # Return the train loss and create the train_op.\n",
    "    train_loss = loss(X, Y)\n",
    "    train_op = train(train_loss)\n",
    "\n",
    "    # Step 8: train the model\n",
    "    for epoch_num in range(num_epochs):\n",
    "        loss_value, _ = sess.run([train_loss, train_op],\n",
    "                                 feed_dict={\n",
    "                                     X: data[:, 0],\n",
    "                                     Y: data[:, 1]\n",
    "                                 })\n",
    "\n",
    "        # Displaying the loss per epoch.\n",
    "        print('epoch %d, loss=%f' % (epoch_num + 1, loss_value))\n",
    "\n",
    "        # save the values of weight and bias\n",
    "        wcoeff, bias = sess.run([W, b])"
   ]
  },
  {
   "cell_type": "code",
   "execution_count": 17,
   "metadata": {
    "ExecuteTime": {
     "end_time": "2018-10-22T07:26:05.801057Z",
     "start_time": "2018-10-22T07:26:05.557833Z"
    }
   },
   "outputs": [
    {
     "data": {
      "image/png": "[encoded data removed]",
      "text/plain": [
       "<matplotlib.figure.Figure at 0x18391826a0>"
      ]
     },
     "metadata": {},
     "output_type": "display_data"
    }
   ],
   "source": [
    "###############################\n",
    "#### Evaluate and plot ########\n",
    "###############################\n",
    "Input_values = data[:,0]\n",
    "Labels = data[:,1]\n",
    "Prediction_values = data[:,0] * wcoeff + bias\n",
    "\n",
    "# uncomment if plotting is desired!\n",
    "plt.plot(Input_values, Labels, 'ro', label='main')\n",
    "plt.plot(Input_values, Prediction_values, label='Predicted')\n",
    "\n",
    "# Saving the result.\n",
    "plt.legend()\n",
    "plt.show()\n",
    "plt.close()"
   ]
  },
  {
   "cell_type": "code",
   "execution_count": null,
   "metadata": {},
   "outputs": [],
   "source": []
  }
 ],
 "metadata": {
  "kernelspec": {
   "display_name": "Python 3",
   "language": "python",
   "name": "python3"
  },
  "language_info": {
   "codemirror_mode": {
    "name": "ipython",
    "version": 3
   },
   "file_extension": ".py",
   "mimetype": "text/x-python",
   "name": "python",
   "nbconvert_exporter": "python",
   "pygments_lexer": "ipython3",
   "version": "3.6.4"
  },
  "toc": {
   "base_numbering": 1,
   "nav_menu": {},
   "number_sections": true,
   "sideBar": true,
   "skip_h1_title": false,
   "title_cell": "Table of Contents",
   "title_sidebar": "Contents",
   "toc_cell": false,
   "toc_position": {},
   "toc_section_display": true,
   "toc_window_display": false
  }
 },
 "nbformat": 4,
 "nbformat_minor": 2
}
