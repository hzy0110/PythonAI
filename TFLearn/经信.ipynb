{
 "cells": [
  {
   "cell_type": "code",
   "execution_count": 1,
   "metadata": {
    "ExecuteTime": {
     "end_time": "2018-11-29T03:10:51.979576Z",
     "start_time": "2018-11-29T03:10:00.268470Z"
    }
   },
   "outputs": [],
   "source": [
    "import pandas as pd\n",
    "import tensorflow as tf\n",
    "import numpy as np\n",
    "import matplotlib.pyplot as plt\n",
    "import seaborn as sns"
   ]
  },
  {
   "cell_type": "code",
   "execution_count": 39,
   "metadata": {
    "ExecuteTime": {
     "end_time": "2018-11-29T08:09:51.565603Z",
     "start_time": "2018-11-29T08:09:50.472772Z"
    }
   },
   "outputs": [],
   "source": [
    "df_XWQY_CPXX = pd.read_table(\"./JXW_XWQYCPXX.txt\",low_memory=False)"
   ]
  },
  {
   "cell_type": "code",
   "execution_count": 40,
   "metadata": {
    "ExecuteTime": {
     "end_time": "2018-11-29T08:09:51.595743Z",
     "start_time": "2018-11-29T08:09:51.567979Z"
    }
   },
   "outputs": [
    {
     "name": "stdout",
     "output_type": "stream",
     "text": [
      "(147005, 29)\n"
     ]
    },
    {
     "data": {
      "text/html": [
       "<div>\n",
       "<style scoped>\n",
       "    .dataframe tbody tr th:only-of-type {\n",
       "        vertical-align: middle;\n",
       "    }\n",
       "\n",
       "    .dataframe tbody tr th {\n",
       "        vertical-align: top;\n",
       "    }\n",
       "\n",
       "    .dataframe thead th {\n",
       "        text-align: right;\n",
       "    }\n",
       "</style>\n",
       "<table border=\"1\" class=\"dataframe\">\n",
       "  <thead>\n",
       "    <tr style=\"text-align: right;\">\n",
       "      <th></th>\n",
       "      <th>ZH</th>\n",
       "      <th>MC</th>\n",
       "      <th>DQ_S</th>\n",
       "      <th>DQ_Q</th>\n",
       "      <th>DQ_XZ</th>\n",
       "      <th>HYDM1</th>\n",
       "      <th>HYDM2</th>\n",
       "      <th>HYDM3</th>\n",
       "      <th>HYMD4</th>\n",
       "      <th>SZDS</th>\n",
       "      <th>...</th>\n",
       "      <th>SCL_BYZLJ</th>\n",
       "      <th>SCL_QNBY</th>\n",
       "      <th>SCL_QNBYZLJ</th>\n",
       "      <th>XSL_BY</th>\n",
       "      <th>XSL_BYZLJ</th>\n",
       "      <th>XSL_QNBY</th>\n",
       "      <th>XSL_QNBYZLJ</th>\n",
       "      <th>QMKCL</th>\n",
       "      <th>RKRQ</th>\n",
       "      <th>SJRQ</th>\n",
       "    </tr>\n",
       "  </thead>\n",
       "  <tbody>\n",
       "    <tr>\n",
       "      <th>0</th>\n",
       "      <td>54218304</td>\n",
       "      <td>长兴艾尔诺纺织有限公司</td>\n",
       "      <td>湖州市</td>\n",
       "      <td>长兴县</td>\n",
       "      <td>NaN</td>\n",
       "      <td>制造业[C]</td>\n",
       "      <td>纺织业[17]</td>\n",
       "      <td>化纤织造及印染精加工[175]</td>\n",
       "      <td>化纤织造加工[1751]</td>\n",
       "      <td>湖州市[3305]</td>\n",
       "      <td>...</td>\n",
       "      <td>0.0</td>\n",
       "      <td>240.0</td>\n",
       "      <td>240.0</td>\n",
       "      <td>0.0</td>\n",
       "      <td>0.0</td>\n",
       "      <td>240.0</td>\n",
       "      <td>240.0</td>\n",
       "      <td>0.0</td>\n",
       "      <td>NaN</td>\n",
       "      <td>201801.0</td>\n",
       "    </tr>\n",
       "  </tbody>\n",
       "</table>\n",
       "<p>1 rows × 29 columns</p>\n",
       "</div>"
      ],
      "text/plain": [
       "         ZH           MC DQ_S DQ_Q DQ_XZ   HYDM1    HYDM2            HYDM3  \\\n",
       "0  54218304  长兴艾尔诺纺织有限公司  湖州市  长兴县   NaN  制造业[C]  纺织业[17]  化纤织造及印染精加工[175]   \n",
       "\n",
       "              HYMD4       SZDS    ...    SCL_BYZLJ SCL_QNBY SCL_QNBYZLJ  \\\n",
       "0      化纤织造加工[1751]  湖州市[3305]    ...          0.0    240.0       240.0   \n",
       "\n",
       "  XSL_BY XSL_BYZLJ XSL_QNBY XSL_QNBYZLJ QMKCL  RKRQ      SJRQ  \n",
       "0    0.0       0.0    240.0       240.0   0.0   NaN  201801.0  \n",
       "\n",
       "[1 rows x 29 columns]"
      ]
     },
     "execution_count": 40,
     "metadata": {},
     "output_type": "execute_result"
    }
   ],
   "source": [
    "print(df_XWQY_CPXX.shape)\n",
    "df_XWQY_CPXX.head(1)\n"
   ]
  },
  {
   "cell_type": "code",
   "execution_count": 41,
   "metadata": {
    "ExecuteTime": {
     "end_time": "2018-11-29T08:09:51.819753Z",
     "start_time": "2018-11-29T08:09:51.598133Z"
    }
   },
   "outputs": [
    {
     "name": "stdout",
     "output_type": "stream",
     "text": [
      "<class 'pandas.core.frame.DataFrame'>\n",
      "RangeIndex: 147005 entries, 0 to 147004\n",
      "Data columns (total 29 columns):\n",
      "ZH             135230 non-null object\n",
      "MC             147005 non-null object\n",
      "DQ_S           146791 non-null object\n",
      "DQ_Q           145070 non-null object\n",
      "DQ_XZ          12525 non-null object\n",
      "HYDM1          135499 non-null object\n",
      "HYDM2          131754 non-null object\n",
      "HYDM3          129691 non-null object\n",
      "HYMD4          128481 non-null object\n",
      "SZDS           134270 non-null object\n",
      "SZDQX          133044 non-null object\n",
      "SZDZJ          1698 non-null object\n",
      "ZCLX           132696 non-null object\n",
      "SFGS           127913 non-null object\n",
      "GSGM           129402 non-null object\n",
      "CPMC           127895 non-null object\n",
      "CPDM           56841 non-null object\n",
      "JLDW           126776 non-null object\n",
      "SCL_BY         115029 non-null float64\n",
      "SCL_BYZLJ      116865 non-null float64\n",
      "SCL_QNBY       115377 non-null float64\n",
      "SCL_QNBYZLJ    116436 non-null float64\n",
      "XSL_BY         114515 non-null float64\n",
      "XSL_BYZLJ      116326 non-null float64\n",
      "XSL_QNBY       114845 non-null float64\n",
      "XSL_QNBYZLJ    115984 non-null float64\n",
      "QMKCL          108252 non-null float64\n",
      "RKRQ           0 non-null float64\n",
      "SJRQ           147004 non-null float64\n",
      "dtypes: float64(11), object(18)\n",
      "memory usage: 32.5+ MB\n"
     ]
    }
   ],
   "source": [
    "df_XWQY_CPXX.info()"
   ]
  },
  {
   "cell_type": "code",
   "execution_count": 58,
   "metadata": {
    "ExecuteTime": {
     "end_time": "2018-11-29T08:11:36.812988Z",
     "start_time": "2018-11-29T08:11:36.689874Z"
    }
   },
   "outputs": [],
   "source": [
    "df_XWQY_CPXX_JS = df_XWQY_CPXX.drop([\n",
    "    'ZCLX','ZH', 'MC', 'DQ_S', 'DQ_Q', 'DQ_XZ', 'HYDM1', 'HYDM2', 'HYDM3', 'HYMD4',\n",
    "    'SZDS', 'SZDQX', 'SZDZJ','CPMC','CPDM','JLDW','RKRQ'\n",
    "], 1)\n",
    "QYGM_MAP = {\n",
    "    '微型企业':1,\n",
    "    '小型企业':2,\n",
    "    '中型企业':3,\n",
    "    '大型企业':4,\n",
    "    0:0\n",
    "}\n",
    "SFGS_MAP = {\n",
    "    '是':2,\n",
    "    '否':1,\n",
    "    0:0\n",
    "}\n",
    "\n",
    "df_XWQY_CPXX_JS['SFGS'] = df_XWQY_CPXX_JS['SFGS'].fillna(0)\n",
    "df_XWQY_CPXX_JS['GSGM'] = df_XWQY_CPXX_JS['GSGM'].fillna(0)\n",
    "df_XWQY_CPXX_JS['SCL_BY'] = df_XWQY_CPXX_JS['SCL_BY'].fillna(0)\n",
    "df_XWQY_CPXX_JS['SCL_BYZLJ'] = df_XWQY_CPXX_JS['SCL_BYZLJ'].fillna(0)\n",
    "df_XWQY_CPXX_JS['SCL_QNBY'] = df_XWQY_CPXX_JS['SCL_QNBY'].fillna(0)\n",
    "df_XWQY_CPXX_JS['SCL_QNBYZLJ'] = df_XWQY_CPXX_JS['SCL_QNBYZLJ'].fillna(0)\n",
    "df_XWQY_CPXX_JS['XSL_BY'] = df_XWQY_CPXX_JS['XSL_BY'].fillna(0)\n",
    "df_XWQY_CPXX_JS['XSL_BYZLJ'] = df_XWQY_CPXX_JS['XSL_BYZLJ'].fillna(0)\n",
    "df_XWQY_CPXX_JS['XSL_QNBY'] = df_XWQY_CPXX_JS['XSL_QNBY'].fillna(0)\n",
    "df_XWQY_CPXX_JS['XSL_QNBYZLJ'] = df_XWQY_CPXX_JS['XSL_QNBYZLJ'].fillna(0)\n",
    "df_XWQY_CPXX_JS['QMKCL'] = df_XWQY_CPXX_JS['QMKCL'].fillna(0)\n",
    "df_XWQY_CPXX_JS['QMKCL'] = df_XWQY_CPXX_JS['QMKCL'].fillna(0)\n",
    "\n",
    "df_XWQY_CPXX_JS['GSGM'] = df_XWQY_CPXX_JS['GSGM'].map(QYGM_MAP)\n",
    "df_XWQY_CPXX_JS['SFGS'] = df_XWQY_CPXX_JS['SFGS'].map(SFGS_MAP)\n"
   ]
  },
  {
   "cell_type": "code",
   "execution_count": 59,
   "metadata": {
    "ExecuteTime": {
     "end_time": "2018-11-29T08:11:37.368955Z",
     "start_time": "2018-11-29T08:11:37.326535Z"
    }
   },
   "outputs": [
    {
     "name": "stdout",
     "output_type": "stream",
     "text": [
      "(147005, 12)\n",
      "<class 'pandas.core.frame.DataFrame'>\n",
      "RangeIndex: 147005 entries, 0 to 147004\n",
      "Data columns (total 12 columns):\n",
      "SFGS           147005 non-null int64\n",
      "GSGM           147005 non-null int64\n",
      "SCL_BY         147005 non-null float64\n",
      "SCL_BYZLJ      147005 non-null float64\n",
      "SCL_QNBY       147005 non-null float64\n",
      "SCL_QNBYZLJ    147005 non-null float64\n",
      "XSL_BY         147005 non-null float64\n",
      "XSL_BYZLJ      147005 non-null float64\n",
      "XSL_QNBY       147005 non-null float64\n",
      "XSL_QNBYZLJ    147005 non-null float64\n",
      "QMKCL          147005 non-null float64\n",
      "SJRQ           147004 non-null float64\n",
      "dtypes: float64(10), int64(2)\n",
      "memory usage: 13.5 MB\n"
     ]
    }
   ],
   "source": [
    "print(df_XWQY_CPXX_JS.shape)\n",
    "df_XWQY_CPXX_JS.info()"
   ]
  },
  {
   "cell_type": "code",
   "execution_count": 61,
   "metadata": {
    "ExecuteTime": {
     "end_time": "2018-11-29T08:12:06.128809Z",
     "start_time": "2018-11-29T08:12:06.114276Z"
    }
   },
   "outputs": [
    {
     "data": {
      "text/html": [
       "<div>\n",
       "<style scoped>\n",
       "    .dataframe tbody tr th:only-of-type {\n",
       "        vertical-align: middle;\n",
       "    }\n",
       "\n",
       "    .dataframe tbody tr th {\n",
       "        vertical-align: top;\n",
       "    }\n",
       "\n",
       "    .dataframe thead th {\n",
       "        text-align: right;\n",
       "    }\n",
       "</style>\n",
       "<table border=\"1\" class=\"dataframe\">\n",
       "  <thead>\n",
       "    <tr style=\"text-align: right;\">\n",
       "      <th></th>\n",
       "      <th>SFGS</th>\n",
       "      <th>GSGM</th>\n",
       "      <th>SCL_BY</th>\n",
       "      <th>SCL_BYZLJ</th>\n",
       "      <th>SCL_QNBY</th>\n",
       "      <th>SCL_QNBYZLJ</th>\n",
       "      <th>XSL_BY</th>\n",
       "      <th>XSL_BYZLJ</th>\n",
       "      <th>XSL_QNBY</th>\n",
       "      <th>XSL_QNBYZLJ</th>\n",
       "      <th>QMKCL</th>\n",
       "      <th>SJRQ</th>\n",
       "    </tr>\n",
       "  </thead>\n",
       "  <tbody>\n",
       "    <tr>\n",
       "      <th>0</th>\n",
       "      <td>2</td>\n",
       "      <td>2</td>\n",
       "      <td>0.0</td>\n",
       "      <td>0.0</td>\n",
       "      <td>240.0</td>\n",
       "      <td>240.0</td>\n",
       "      <td>0.0</td>\n",
       "      <td>0.0</td>\n",
       "      <td>240.0</td>\n",
       "      <td>240.0</td>\n",
       "      <td>0.0</td>\n",
       "      <td>201801.0</td>\n",
       "    </tr>\n",
       "  </tbody>\n",
       "</table>\n",
       "</div>"
      ],
      "text/plain": [
       "   SFGS  GSGM  SCL_BY  SCL_BYZLJ  SCL_QNBY  SCL_QNBYZLJ  XSL_BY  XSL_BYZLJ  \\\n",
       "0     2     2     0.0        0.0     240.0        240.0     0.0        0.0   \n",
       "\n",
       "   XSL_QNBY  XSL_QNBYZLJ  QMKCL      SJRQ  \n",
       "0     240.0        240.0    0.0  201801.0  "
      ]
     },
     "execution_count": 61,
     "metadata": {},
     "output_type": "execute_result"
    }
   ],
   "source": [
    "df_XWQY_CPXX_JS.head(1)"
   ]
  },
  {
   "cell_type": "code",
   "execution_count": 85,
   "metadata": {
    "ExecuteTime": {
     "end_time": "2018-11-29T08:39:32.007855Z",
     "start_time": "2018-11-29T08:39:31.926763Z"
    }
   },
   "outputs": [
    {
     "data": {
      "text/plain": [
       "(147004, 12)"
      ]
     },
     "execution_count": 85,
     "metadata": {},
     "output_type": "execute_result"
    }
   ],
   "source": [
    "##删除错误数据\n",
    "df_XWQY_CPXX_JS.isnull().any()\n",
    "df_XWQY_CPXX_JS['SJRQ'] = df_XWQY_CPXX_JS['SJRQ'].fillna(9999)\n",
    "drop_list = df_XWQY_CPXX_JS[(df_XWQY_CPXX_JS['SJRQ']==9999)].index.tolist()\n",
    "df_XWQY_CPXX_JS[df_XWQY_CPXX_JS.isnull().values==True]\n",
    "df_XWQY_CPXX_JS = df_XWQY_CPXX_JS.drop(drop_list)\n",
    "df_XWQY_CPXX_JS.shape"
   ]
  },
  {
   "cell_type": "code",
   "execution_count": 93,
   "metadata": {
    "ExecuteTime": {
     "end_time": "2018-12-01T12:37:43.930698Z",
     "start_time": "2018-12-01T12:37:43.831890Z"
    }
   },
   "outputs": [],
   "source": [
    "#增加是否停产标志\n",
    "\n",
    "def sftc(x):\n",
    "    if x >0 :\n",
    "        return 1\n",
    "    else:\n",
    "        return 0\n",
    "pd_sftc = df_XWQY_CPXX_JS['SCL_BY'].apply(lambda x:sftc(x))\n",
    "df_XWQY_CPXX_JS['SFTC'] = pd_sftc"
   ]
  },
  {
   "cell_type": "code",
   "execution_count": 94,
   "metadata": {
    "ExecuteTime": {
     "end_time": "2018-12-01T12:37:56.104226Z",
     "start_time": "2018-12-01T12:37:55.939517Z"
    }
   },
   "outputs": [
    {
     "name": "stdout",
     "output_type": "stream",
     "text": [
      "<class 'pandas.core.frame.DataFrame'>\n",
      "Int64Index: 147004 entries, 0 to 147004\n",
      "Data columns (total 13 columns):\n",
      "SFGS           147004 non-null int64\n",
      "GSGM           147004 non-null int64\n",
      "SCL_BY         147004 non-null float64\n",
      "SCL_BYZLJ      147004 non-null float64\n",
      "SCL_QNBY       147004 non-null float64\n",
      "SCL_QNBYZLJ    147004 non-null float64\n",
      "XSL_BY         147004 non-null float64\n",
      "XSL_BYZLJ      147004 non-null float64\n",
      "XSL_QNBY       147004 non-null float64\n",
      "XSL_QNBYZLJ    147004 non-null float64\n",
      "QMKCL          147004 non-null float64\n",
      "SJRQ           147004 non-null float64\n",
      "SFTC           147004 non-null int64\n",
      "dtypes: float64(10), int64(3)\n",
      "memory usage: 20.7 MB\n"
     ]
    }
   ],
   "source": [
    "df_XWQY_CPXX_JS.info()"
   ]
  },
  {
   "cell_type": "code",
   "execution_count": 95,
   "metadata": {
    "ExecuteTime": {
     "end_time": "2018-12-01T13:05:16.686590Z",
     "start_time": "2018-12-01T13:05:12.437371Z"
    }
   },
   "outputs": [
    {
     "name": "stderr",
     "output_type": "stream",
     "text": [
      "/anaconda3/lib/python3.6/site-packages/sklearn/preprocessing/data.py:323: DataConversionWarning: Data with input dtype int64, float64 were all converted to float64 by MinMaxScaler.\n",
      "  return self.partial_fit(X, y)\n"
     ]
    }
   ],
   "source": [
    "#归一化\n",
    "from sklearn.preprocessing import MinMaxScaler\n",
    "minMax = MinMaxScaler()\n",
    "df_XWQY_CPXX_JS = minMax.fit_transform(df_XWQY_CPXX_JS)"
   ]
  },
  {
   "cell_type": "code",
   "execution_count": 97,
   "metadata": {
    "ExecuteTime": {
     "end_time": "2018-12-02T02:54:51.456020Z",
     "start_time": "2018-12-02T02:54:51.378290Z"
    }
   },
   "outputs": [],
   "source": [
    "BATCH_START = 0     # 建立 batch data 时候的 index\n",
    "TIME_STEPS = 10     # backpropagation through time 的 time_steps\n",
    "BATCH_SIZE = 30\n",
    "INPUT_SIZE = 13      # sin 数据输入 size\n",
    "OUTPUT_SIZE = 1     # cos 数据输出 size\n",
    "CELL_SIZE = 10      # RNN 的 hidden unit size\n",
    "LR = 0.006          # learning rate"
   ]
  },
  {
   "cell_type": "code",
   "execution_count": 98,
   "metadata": {
    "ExecuteTime": {
     "end_time": "2018-12-02T02:55:39.518213Z",
     "start_time": "2018-12-02T02:55:39.478594Z"
    }
   },
   "outputs": [],
   "source": [
    "def get_batch_xwqy():\n",
    "    global train_x, train_y,BATCH_START, TIME_STEPS\n",
    "    x_part1 = train_x[BATCH_START : BATCH_START+TIME_STEPS*BATCH_SIZE]\n",
    "    y_part1 = train_y[BATCH_START : BATCH_START+TIME_STEPS*BATCH_SIZE]\n",
    "    print('时间段=', BATCH_START, BATCH_START + TIME_STEPS * BATCH_SIZE)\n",
    " \n",
    " \n",
    "    seq =x_part1.reshape((BATCH_SIZE, TIME_STEPS ,INPUT_SIZE))\n",
    "    res =y_part1.reshape((BATCH_SIZE, TIME_STEPS ,1))\n",
    " \n",
    "    BATCH_START += TIME_STEPS\n",
    " \n",
    "    # returned seq, res and xs: shape (batch, step, input)\n",
    "    #np.newaxis 用来增加一个维度 变为三个维度，第三个维度将用来存上一批样本的状态\n",
    "    return [seq , res  ]"
   ]
  },
  {
   "cell_type": "code",
   "execution_count": 112,
   "metadata": {
    "ExecuteTime": {
     "end_time": "2018-12-04T06:04:12.388011Z",
     "start_time": "2018-12-04T06:04:12.239367Z"
    }
   },
   "outputs": [],
   "source": [
    "def get_batch():\n",
    "    global BATCH_START, TIME_STEPS\n",
    "    # xs shape (50batch, 20steps)\n",
    "    xs = np.arange(BATCH_START, BATCH_START+TIME_STEPS*BATCH_SIZE).reshape((BATCH_SIZE, TIME_STEPS)) / (10*np.pi)\n",
    "    print('xs.shape=',xs.shape)\n",
    "    seq = np.sin(xs)\n",
    "    res = np.cos(xs)\n",
    "    BATCH_START += TIME_STEPS\n",
    "    # import matplotlib.pyplot as plt\n",
    "    # plt.plot(xs[0, :], res[0, :], 'r', xs[0, :], seq[0, :], 'b--')\n",
    "    # plt.show()\n",
    "    print('增加维度前:',seq.shape)\n",
    "    print(  seq[:2])\n",
    "    print('增加维度后:',seq[:, :, np.newaxis].shape)\n",
    "    print(seq[:, :, np.newaxis][:2])\n",
    "    # returned seq, res and xs: shape (batch, step, input)\n",
    "    #np.newaxis 用来增加一个维度 变为三个维度，第三个维度将用来存上一批样本的状态\n",
    "    return [seq[:, :, np.newaxis], res[:, :, np.newaxis], xs]"
   ]
  },
  {
   "cell_type": "code",
   "execution_count": 113,
   "metadata": {
    "ExecuteTime": {
     "end_time": "2018-12-04T06:04:14.129888Z",
     "start_time": "2018-12-04T06:04:14.120277Z"
    }
   },
   "outputs": [
    {
     "name": "stdout",
     "output_type": "stream",
     "text": [
      "xs.shape= (30, 10)\n",
      "增加维度前: (30, 10)\n",
      "[[ 0.5606028   0.53396451  0.50678525  0.47909255  0.45091447  0.42227955\n",
      "   0.39321682  0.3637557   0.33392605  0.3037581 ]\n",
      " [ 0.2732824   0.24252983  0.21153155  0.18031896  0.14892368  0.11737752\n",
      "   0.08571245  0.05396054  0.02215396 -0.00967507]]\n",
      "增加维度后: (30, 10, 1)\n",
      "[[[ 0.5606028 ]\n",
      "  [ 0.53396451]\n",
      "  [ 0.50678525]\n",
      "  [ 0.47909255]\n",
      "  [ 0.45091447]\n",
      "  [ 0.42227955]\n",
      "  [ 0.39321682]\n",
      "  [ 0.3637557 ]\n",
      "  [ 0.33392605]\n",
      "  [ 0.3037581 ]]\n",
      "\n",
      " [[ 0.2732824 ]\n",
      "  [ 0.24252983]\n",
      "  [ 0.21153155]\n",
      "  [ 0.18031896]\n",
      "  [ 0.14892368]\n",
      "  [ 0.11737752]\n",
      "  [ 0.08571245]\n",
      "  [ 0.05396054]\n",
      "  [ 0.02215396]\n",
      "  [-0.00967507]]]\n"
     ]
    }
   ],
   "source": [
    "batch = get_batch()\n",
    "# print(batch[0])"
   ]
  },
  {
   "cell_type": "code",
   "execution_count": null,
   "metadata": {},
   "outputs": [],
   "source": []
  }
 ],
 "metadata": {
  "kernelspec": {
   "display_name": "Python 3",
   "language": "python",
   "name": "python3"
  },
  "language_info": {
   "codemirror_mode": {
    "name": "ipython",
    "version": 3
   },
   "file_extension": ".py",
   "mimetype": "text/x-python",
   "name": "python",
   "nbconvert_exporter": "python",
   "pygments_lexer": "ipython3",
   "version": "3.6.4"
  },
  "toc": {
   "base_numbering": 1,
   "nav_menu": {},
   "number_sections": true,
   "sideBar": true,
   "skip_h1_title": false,
   "title_cell": "Table of Contents",
   "title_sidebar": "Contents",
   "toc_cell": false,
   "toc_position": {},
   "toc_section_display": true,
   "toc_window_display": false
  }
 },
 "nbformat": 4,
 "nbformat_minor": 2
}
