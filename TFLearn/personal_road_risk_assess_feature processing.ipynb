{
 "cells": [
  {
   "cell_type": "code",
   "execution_count": 86,
   "metadata": {
    "ExecuteTime": {
     "end_time": "2018-11-08T09:21:54.576897Z",
     "start_time": "2018-11-08T09:21:54.555615Z"
    }
   },
   "outputs": [],
   "source": [
    "import tensorflow as tf\n",
    "import pandas as pd\n",
    "import numpy as np\n",
    "from sklearn.model_selection import train_test_split"
   ]
  },
  {
   "cell_type": "code",
   "execution_count": 87,
   "metadata": {
    "ExecuteTime": {
     "end_time": "2018-11-08T09:21:57.495662Z",
     "start_time": "2018-11-08T09:21:54.907856Z"
    }
   },
   "outputs": [
    {
     "data": {
      "text/html": [
       "<div>\n",
       "<style scoped>\n",
       "    .dataframe tbody tr th:only-of-type {\n",
       "        vertical-align: middle;\n",
       "    }\n",
       "\n",
       "    .dataframe tbody tr th {\n",
       "        vertical-align: top;\n",
       "    }\n",
       "\n",
       "    .dataframe thead th {\n",
       "        text-align: right;\n",
       "    }\n",
       "</style>\n",
       "<table border=\"1\" class=\"dataframe\">\n",
       "  <thead>\n",
       "    <tr style=\"text-align: right;\">\n",
       "      <th></th>\n",
       "      <th>id</th>\n",
       "      <th>ZJCX</th>\n",
       "      <th>LJJF</th>\n",
       "      <th>xb</th>\n",
       "      <th>jl</th>\n",
       "      <th>HPZL</th>\n",
       "      <th>WFJFS</th>\n",
       "      <th>WFSJ</th>\n",
       "      <th>hnum</th>\n",
       "      <th>age</th>\n",
       "      <th>child</th>\n",
       "      <th>marrige</th>\n",
       "      <th>whcd</th>\n",
       "      <th>cllx</th>\n",
       "      <th>cpid</th>\n",
       "      <th>SFSG</th>\n",
       "    </tr>\n",
       "  </thead>\n",
       "  <tbody>\n",
       "    <tr>\n",
       "      <th>0</th>\n",
       "      <td>108945</td>\n",
       "      <td>5.0</td>\n",
       "      <td>9</td>\n",
       "      <td>1.0</td>\n",
       "      <td>0.0</td>\n",
       "      <td>NaN</td>\n",
       "      <td>NaN</td>\n",
       "      <td>NaN</td>\n",
       "      <td>0</td>\n",
       "      <td>50</td>\n",
       "      <td>0</td>\n",
       "      <td>0</td>\n",
       "      <td>NaN</td>\n",
       "      <td>NaN</td>\n",
       "      <td>NaN</td>\n",
       "      <td>0</td>\n",
       "    </tr>\n",
       "    <tr>\n",
       "      <th>1</th>\n",
       "      <td>108946</td>\n",
       "      <td>5.0</td>\n",
       "      <td>0</td>\n",
       "      <td>2.0</td>\n",
       "      <td>0.0</td>\n",
       "      <td>NaN</td>\n",
       "      <td>NaN</td>\n",
       "      <td>NaN</td>\n",
       "      <td>0</td>\n",
       "      <td>26</td>\n",
       "      <td>0</td>\n",
       "      <td>0</td>\n",
       "      <td>NaN</td>\n",
       "      <td>NaN</td>\n",
       "      <td>NaN</td>\n",
       "      <td>0</td>\n",
       "    </tr>\n",
       "    <tr>\n",
       "      <th>2</th>\n",
       "      <td>108947</td>\n",
       "      <td>5.0</td>\n",
       "      <td>0</td>\n",
       "      <td>1.0</td>\n",
       "      <td>0.0</td>\n",
       "      <td>NaN</td>\n",
       "      <td>NaN</td>\n",
       "      <td>NaN</td>\n",
       "      <td>0</td>\n",
       "      <td>25</td>\n",
       "      <td>0</td>\n",
       "      <td>0</td>\n",
       "      <td>NaN</td>\n",
       "      <td>NaN</td>\n",
       "      <td>NaN</td>\n",
       "      <td>0</td>\n",
       "    </tr>\n",
       "    <tr>\n",
       "      <th>3</th>\n",
       "      <td>108948</td>\n",
       "      <td>5.0</td>\n",
       "      <td>0</td>\n",
       "      <td>1.0</td>\n",
       "      <td>0.0</td>\n",
       "      <td>NaN</td>\n",
       "      <td>NaN</td>\n",
       "      <td>NaN</td>\n",
       "      <td>0</td>\n",
       "      <td>33</td>\n",
       "      <td>0</td>\n",
       "      <td>0</td>\n",
       "      <td>NaN</td>\n",
       "      <td>NaN</td>\n",
       "      <td>NaN</td>\n",
       "      <td>0</td>\n",
       "    </tr>\n",
       "    <tr>\n",
       "      <th>4</th>\n",
       "      <td>108949</td>\n",
       "      <td>5.0</td>\n",
       "      <td>0</td>\n",
       "      <td>1.0</td>\n",
       "      <td>0.0</td>\n",
       "      <td>NaN</td>\n",
       "      <td>NaN</td>\n",
       "      <td>NaN</td>\n",
       "      <td>0</td>\n",
       "      <td>22</td>\n",
       "      <td>0</td>\n",
       "      <td>0</td>\n",
       "      <td>NaN</td>\n",
       "      <td>NaN</td>\n",
       "      <td>NaN</td>\n",
       "      <td>0</td>\n",
       "    </tr>\n",
       "  </tbody>\n",
       "</table>\n",
       "</div>"
      ],
      "text/plain": [
       "       id  ZJCX  LJJF   xb   jl  HPZL  WFJFS WFSJ  hnum  age  child  marrige  \\\n",
       "0  108945   5.0     9  1.0  0.0   NaN    NaN  NaN     0   50      0        0   \n",
       "1  108946   5.0     0  2.0  0.0   NaN    NaN  NaN     0   26      0        0   \n",
       "2  108947   5.0     0  1.0  0.0   NaN    NaN  NaN     0   25      0        0   \n",
       "3  108948   5.0     0  1.0  0.0   NaN    NaN  NaN     0   33      0        0   \n",
       "4  108949   5.0     0  1.0  0.0   NaN    NaN  NaN     0   22      0        0   \n",
       "\n",
       "   whcd  cllx  cpid  SFSG  \n",
       "0   NaN   NaN   NaN     0  \n",
       "1   NaN   NaN   NaN     0  \n",
       "2   NaN   NaN   NaN     0  \n",
       "3   NaN   NaN   NaN     0  \n",
       "4   NaN   NaN   NaN     0  "
      ]
     },
     "execution_count": 87,
     "metadata": {},
     "output_type": "execute_result"
    }
   ],
   "source": [
    "# 读取数据\n",
    "df_original = pd.DataFrame(pd.read_excel('personalroadriskassessv2.xlsx'))\n",
    "df_original.head(5)\n",
    "\n",
    "df_test_original = pd.DataFrame(pd.read_excel('personalroadriskassessv2test.xlsx'))\n",
    "df_test_original.head(5)"
   ]
  },
  {
   "cell_type": "code",
   "execution_count": 88,
   "metadata": {
    "ExecuteTime": {
     "end_time": "2018-11-08T09:21:57.522217Z",
     "start_time": "2018-11-08T09:21:57.498205Z"
    }
   },
   "outputs": [],
   "source": [
    "# 数据处理\n",
    "# 驾龄空值用平均值取代\n",
    "df_original['jl'] = df_original['jl'].fillna(df_original['jl'].mean())\n",
    "df_original['xb'] = df_original['xb'].fillna(method='ffill')\n",
    "df_original['WFJFS'] = df_original['WFJFS'].fillna(0)\n",
    "\n",
    "df_test_original['jl'] = df_test_original['jl'].fillna(df_test_original['jl'].mean())\n",
    "df_test_original['xb'] = df_test_original['xb'].fillna(method='ffill')\n",
    "df_test_original['WFJFS'] = df_test_original['WFJFS'].fillna(0)\n",
    "\n",
    "# 移除列\n",
    "df = df_original.drop(['WFSJ'],1)\n",
    "df_test = df_test_original.drop(['WFSJ'],1)"
   ]
  },
  {
   "cell_type": "code",
   "execution_count": 89,
   "metadata": {
    "ExecuteTime": {
     "end_time": "2018-11-08T09:21:57.547306Z",
     "start_time": "2018-11-08T09:21:57.525559Z"
    }
   },
   "outputs": [
    {
     "name": "stdout",
     "output_type": "stream",
     "text": [
      "<class 'pandas.core.frame.DataFrame'>\n",
      "RangeIndex: 9625 entries, 0 to 9624\n",
      "Data columns (total 15 columns):\n",
      "id         9625 non-null int64\n",
      "ZJCX       9625 non-null float64\n",
      "LJJF       9625 non-null int64\n",
      "xb         9625 non-null float64\n",
      "jl         9625 non-null float64\n",
      "HPZL       193 non-null float64\n",
      "WFJFS      9625 non-null float64\n",
      "hnum       9625 non-null int64\n",
      "age        9625 non-null int64\n",
      "child      9625 non-null int64\n",
      "marrige    9625 non-null int64\n",
      "WHCD       283 non-null float64\n",
      "CLLX       2705 non-null float64\n",
      "cpid       2707 non-null float64\n",
      "SFSG       9625 non-null int64\n",
      "dtypes: float64(8), int64(7)\n",
      "memory usage: 1.1 MB\n",
      "None\n",
      "<class 'pandas.core.frame.DataFrame'>\n",
      "RangeIndex: 2205 entries, 0 to 2204\n",
      "Data columns (total 15 columns):\n",
      "id         2205 non-null int64\n",
      "ZJCX       2205 non-null float64\n",
      "LJJF       2205 non-null int64\n",
      "xb         2205 non-null float64\n",
      "jl         2205 non-null float64\n",
      "HPZL       31 non-null float64\n",
      "WFJFS      2205 non-null float64\n",
      "hnum       2205 non-null int64\n",
      "age        2205 non-null int64\n",
      "child      2205 non-null int64\n",
      "marrige    2205 non-null int64\n",
      "whcd       67 non-null float64\n",
      "cllx       715 non-null float64\n",
      "cpid       716 non-null float64\n",
      "SFSG       2205 non-null int64\n",
      "dtypes: float64(8), int64(7)\n",
      "memory usage: 258.5 KB\n",
      "None\n"
     ]
    }
   ],
   "source": [
    "# 打印 df 信息\n",
    "print(df.info())\n",
    "print(df_test.info())"
   ]
  },
  {
   "cell_type": "code",
   "execution_count": 90,
   "metadata": {
    "ExecuteTime": {
     "end_time": "2018-11-08T09:21:57.555200Z",
     "start_time": "2018-11-08T09:21:57.550828Z"
    }
   },
   "outputs": [],
   "source": [
    "# df.head(5)"
   ]
  },
  {
   "cell_type": "code",
   "execution_count": 91,
   "metadata": {
    "ExecuteTime": {
     "end_time": "2018-11-08T09:21:57.581027Z",
     "start_time": "2018-11-08T09:21:57.558713Z"
    }
   },
   "outputs": [],
   "source": [
    "part_df = df[[\n",
    "    'ZJCX', 'LJJF', 'xb', 'jl',  'marrige', 'child', 'hnum',\n",
    "    'age' ,'WFJFS', 'SFSG'\n",
    "]]\n",
    "\n",
    "part_df_test = df_test[[\n",
    "    'ZJCX', 'LJJF', 'xb', 'jl',  'marrige', 'child', 'hnum',\n",
    "    'age' ,'WFJFS', 'SFSG'\n",
    "]]\n",
    "\n",
    "\n",
    "\n",
    "# label_df = df[['SFSG']]\n",
    "# print('type(part_df)',type(part_df))\n",
    "# print('type(df)',type(df)) \n",
    "# df.head(2)\n",
    "\n",
    "# print('type(part_df)',type(part_df))\n",
    "# print('part_df.shape',part_df.shape)"
   ]
  },
  {
   "cell_type": "code",
   "execution_count": 92,
   "metadata": {
    "ExecuteTime": {
     "end_time": "2018-11-08T09:21:57.597971Z",
     "start_time": "2018-11-08T09:21:57.584463Z"
    }
   },
   "outputs": [
    {
     "data": {
      "text/plain": [
       "SFSG       1.000000\n",
       "child      0.870793\n",
       "age        0.593849\n",
       "jl         0.584937\n",
       "hnum       0.382204\n",
       "ZJCX       0.343317\n",
       "LJJF       0.179828\n",
       "marrige    0.169450\n",
       "WFJFS      0.122853\n",
       "xb        -0.336699\n",
       "Name: SFSG, dtype: float64"
      ]
     },
     "execution_count": 92,
     "metadata": {},
     "output_type": "execute_result"
    }
   ],
   "source": [
    "corr_matrix = part_df.corr()\n",
    "corr_matrix['SFSG'].sort_values(ascending=False)"
   ]
  },
  {
   "cell_type": "code",
   "execution_count": 93,
   "metadata": {
    "ExecuteTime": {
     "end_time": "2018-11-08T09:21:59.336274Z",
     "start_time": "2018-11-08T09:21:57.602230Z"
    }
   },
   "outputs": [
    {
     "name": "stdout",
     "output_type": "stream",
     "text": [
      "   ZJCX  LJJF   xb   jl  marrige  child  hnum  age  WFJFS\n",
      "0   5.0     0  1.0  1.0        0      0     0   43    0.0\n",
      "1   5.0     3  1.0  1.0        0      0     0   37    0.0\n",
      "2   5.0     2  1.0  1.0        0      0     0   25    0.0\n",
      "3   5.0     0  2.0  1.0        0      0     0   42    0.0\n",
      "4   5.0     0  2.0  1.0        0      0     0   42    0.0\n",
      "df_KB [False False False  True False  True False  True False]\n",
      "df_KB [3 5 7]\n",
      "df_KB_xgxs [False False False  True False  True False  True False]\n",
      "df_KB_xgxs [3 5 7]\n",
      "df_KB_hxx [False False False  True False  True False  True False]\n",
      "df_KB_hxx [3 5 7]\n"
     ]
    }
   ],
   "source": [
    "# 特征处理\n",
    "from sklearn.datasets import load_iris\n",
    "from sklearn.feature_selection import SelectKBest\n",
    "from sklearn.feature_selection import chi2\n",
    "from sklearn.feature_selection import f_regression\n",
    "from numpy import vstack, array, nan\n",
    "from scipy.stats import pearsonr\n",
    "from minepy import MINE\n",
    "\n",
    "k = 3\n",
    "\n",
    "skb_x = part_df.drop(['SFSG'], 1)\n",
    "skb_y = part_df['SFSG']\n",
    "print(skb_x.head(5))\n",
    "# 卡方检验\n",
    "df_KB_kf = SelectKBest(chi2, k=k).fit(skb_x, skb_y)\n",
    "# print(type(df_KB.get_support(indices=True)))\n",
    "df_KB.fit_transform(skb_x, skb_y)\n",
    "print('df_KB',df_KB.get_support(indices=False))\n",
    "print('df_KB',df_KB.get_support(indices=True))\n",
    "\n",
    "# 相关系数法\n",
    "df_KB_xgxs = SelectKBest(lambda X, Y: array(list(map(lambda x:pearsonr(x, Y), X.T))).T[0], k=k).fit(skb_x, skb_y)\n",
    "df_KB_xgxs.fit_transform(skb_x, skb_y)\n",
    "print('df_KB_xgxs',df_KB_xgxs.get_support(indices=False))\n",
    "print('df_KB_xgxs',df_KB_xgxs.get_support(indices=True))\n",
    "\n",
    "\n",
    "# 互信息法\n",
    "#由于MINE的设计不是函数式的，定义mic方法将其为函数式的，返回一个二元组，二元组的第2项设置成固定的P值0.5\n",
    "def mic(x, y):\n",
    "    m = MINE()\n",
    "    m.compute_score(x, y)\n",
    "    return (m.mic(), 0.5)\n",
    "\n",
    "df_KB_hxx = SelectKBest(lambda X, Y: array(list(map(lambda x:mic(x, Y), X.T))).T[0], k=k).fit(skb_x, skb_y)\n",
    "df_KB_hxx.fit_transform(skb_x, skb_y)\n",
    "print('df_KB_hxx',df_KB_hxx.get_support(indices=False))\n",
    "print('df_KB_hxx',df_KB_hxx.get_support(indices=True))\n",
    "# SelectKBest(lambda X,Y:np.array(list(map(lambda x:pearsonr(x, Y), X.T))).T[0], k=2).fit_transform(skb_x, skb_y)\n"
   ]
  },
  {
   "cell_type": "code",
   "execution_count": 94,
   "metadata": {
    "ExecuteTime": {
     "end_time": "2018-11-08T09:22:02.695411Z",
     "start_time": "2018-11-08T09:22:02.416796Z"
    }
   },
   "outputs": [
    {
     "name": "stdout",
     "output_type": "stream",
     "text": [
      "df_rfe [False False  True False False  True  True False False]\n",
      "df_rfe [2 5 6]\n",
      "df_rfe [4 5 1 3 2 1 1 7 6]\n"
     ]
    }
   ],
   "source": [
    "from sklearn.feature_selection import RFE\n",
    "from sklearn.linear_model import LogisticRegression\n",
    " \n",
    "#递归特征消除法，返回特征选择后的数据|\n",
    "#参数estimator为基模型\n",
    "#参数n_features_to_select为选择的特征个数\n",
    "df_rfe = RFE(estimator=LogisticRegression(solver='liblinear'), n_features_to_select=3).fit(skb_x, skb_y)\n",
    "df_rfe.fit_transform(skb_x, skb_y)\n",
    "print('df_rfe',df_rfe.get_support(indices=False))\n",
    "print('df_rfe',df_rfe.get_support(indices=True))\n",
    "print('df_rfe',df_rfe.ranking_)\n",
    "\n",
    "# ##输出选择后的特征\n",
    "# def featureTop(feature_array,rank_array,TopK):\n",
    "#     indexTop=rank_array[0:TopK]\n",
    "#     re=[]\n",
    "#     for i in range(feature_array.shape[0]):\n",
    "#         t=feature_array[i][list(indexTop)]\n",
    "#         re.append(list(t))\n",
    "#     return np.array(re)\n",
    "\n",
    "# tm=featureTop(skb_x,df_rfe.ranking_,5)\n"
   ]
  },
  {
   "cell_type": "code",
   "execution_count": 96,
   "metadata": {
    "ExecuteTime": {
     "end_time": "2018-11-08T09:22:11.014016Z",
     "start_time": "2018-11-08T09:22:11.007386Z"
    }
   },
   "outputs": [],
   "source": [
    "# from sklearn.svm import SVC\n",
    "# from sklearn.datasets import load_digits\n",
    "# from sklearn.feature_selection import RFECV\n",
    "# from sklearn.model_selection import StratifiedKFold\n",
    "\n",
    "# svc = SVC(kernel=\"linear\", C=1)\n",
    "# ##estimator模型，step每次迭代时删除的（整数）特征数，cv交叉验证(可为整数cv=3)，scoring评估函数\n",
    "# rfecv = RFECV(estimator=svc, step=1, cv=StratifiedKFold(skb_y, 2), scoring='accuracy')\n",
    "# rfecv.fit(skb_x, skb_y)\n",
    "# #查看每列是否选中\n",
    "# rfecv.support_ \n",
    "# ##查看特征的排序\n",
    "# rfecv.ranking_\n",
    "# ##交叉验证的成绩\n",
    "# rfecv.grid_scores_ \n"
   ]
  },
  {
   "cell_type": "code",
   "execution_count": 97,
   "metadata": {
    "ExecuteTime": {
     "end_time": "2018-11-08T09:22:16.655694Z",
     "start_time": "2018-11-08T09:22:12.999689Z"
    }
   },
   "outputs": [
    {
     "name": "stderr",
     "output_type": "stream",
     "text": [
      "/anaconda3/lib/python3.6/site-packages/sklearn/utils/deprecation.py:58: DeprecationWarning: Class RandomizedLogisticRegression is deprecated; The class RandomizedLogisticRegression is deprecated in 0.19 and will be removed in 0.21.\n",
      "  warnings.warn(msg, category=DeprecationWarning)\n"
     ]
    },
    {
     "data": {
      "text/plain": [
       "array([1.   , 0.46 , 0.885, 1.   , 0.075, 1.   , 1.   , 0.965, 0.1  ])"
      ]
     },
     "execution_count": 97,
     "metadata": {},
     "output_type": "execute_result"
    }
   ],
   "source": [
    "# 随机稀疏模型(Randomized sparse models) 0.19 已弃用\n",
    "from sklearn.linear_model import RandomizedLogisticRegression\n",
    "randomized_logistic = RandomizedLogisticRegression().fit(skb_x, skb_y)\n",
    "randomized_logistic.scores_"
   ]
  },
  {
   "cell_type": "code",
   "execution_count": 98,
   "metadata": {
    "ExecuteTime": {
     "end_time": "2018-11-08T09:22:25.084024Z",
     "start_time": "2018-11-08T09:22:17.903015Z"
    }
   },
   "outputs": [
    {
     "name": "stderr",
     "output_type": "stream",
     "text": [
      "/anaconda3/lib/python3.6/site-packages/sklearn/svm/base.py:922: ConvergenceWarning: Liblinear failed to converge, increase the number of iterations.\n",
      "  \"the number of iterations.\", ConvergenceWarning)\n",
      "/anaconda3/lib/python3.6/site-packages/sklearn/svm/base.py:922: ConvergenceWarning: Liblinear failed to converge, increase the number of iterations.\n",
      "  \"the number of iterations.\", ConvergenceWarning)\n",
      "/anaconda3/lib/python3.6/site-packages/sklearn/svm/base.py:922: ConvergenceWarning: Liblinear failed to converge, increase the number of iterations.\n",
      "  \"the number of iterations.\", ConvergenceWarning)\n",
      "/anaconda3/lib/python3.6/site-packages/sklearn/svm/base.py:922: ConvergenceWarning: Liblinear failed to converge, increase the number of iterations.\n",
      "  \"the number of iterations.\", ConvergenceWarning)\n",
      "/anaconda3/lib/python3.6/site-packages/sklearn/svm/base.py:922: ConvergenceWarning: Liblinear failed to converge, increase the number of iterations.\n",
      "  \"the number of iterations.\", ConvergenceWarning)\n",
      "/anaconda3/lib/python3.6/site-packages/sklearn/svm/base.py:922: ConvergenceWarning: Liblinear failed to converge, increase the number of iterations.\n",
      "  \"the number of iterations.\", ConvergenceWarning)\n",
      "/anaconda3/lib/python3.6/site-packages/sklearn/svm/base.py:922: ConvergenceWarning: Liblinear failed to converge, increase the number of iterations.\n",
      "  \"the number of iterations.\", ConvergenceWarning)\n",
      "/anaconda3/lib/python3.6/site-packages/sklearn/svm/base.py:922: ConvergenceWarning: Liblinear failed to converge, increase the number of iterations.\n",
      "  \"the number of iterations.\", ConvergenceWarning)\n",
      "/anaconda3/lib/python3.6/site-packages/sklearn/svm/base.py:922: ConvergenceWarning: Liblinear failed to converge, increase the number of iterations.\n",
      "  \"the number of iterations.\", ConvergenceWarning)\n",
      "/anaconda3/lib/python3.6/site-packages/sklearn/svm/base.py:922: ConvergenceWarning: Liblinear failed to converge, increase the number of iterations.\n",
      "  \"the number of iterations.\", ConvergenceWarning)\n",
      "/anaconda3/lib/python3.6/site-packages/sklearn/svm/base.py:922: ConvergenceWarning: Liblinear failed to converge, increase the number of iterations.\n",
      "  \"the number of iterations.\", ConvergenceWarning)\n",
      "/anaconda3/lib/python3.6/site-packages/sklearn/svm/base.py:922: ConvergenceWarning: Liblinear failed to converge, increase the number of iterations.\n",
      "  \"the number of iterations.\", ConvergenceWarning)\n",
      "/anaconda3/lib/python3.6/site-packages/sklearn/svm/base.py:922: ConvergenceWarning: Liblinear failed to converge, increase the number of iterations.\n",
      "  \"the number of iterations.\", ConvergenceWarning)\n",
      "/anaconda3/lib/python3.6/site-packages/sklearn/svm/base.py:922: ConvergenceWarning: Liblinear failed to converge, increase the number of iterations.\n",
      "  \"the number of iterations.\", ConvergenceWarning)\n",
      "/anaconda3/lib/python3.6/site-packages/sklearn/svm/base.py:922: ConvergenceWarning: Liblinear failed to converge, increase the number of iterations.\n",
      "  \"the number of iterations.\", ConvergenceWarning)\n",
      "/anaconda3/lib/python3.6/site-packages/sklearn/svm/base.py:922: ConvergenceWarning: Liblinear failed to converge, increase the number of iterations.\n",
      "  \"the number of iterations.\", ConvergenceWarning)\n",
      "/anaconda3/lib/python3.6/site-packages/sklearn/svm/base.py:922: ConvergenceWarning: Liblinear failed to converge, increase the number of iterations.\n",
      "  \"the number of iterations.\", ConvergenceWarning)\n",
      "/anaconda3/lib/python3.6/site-packages/sklearn/svm/base.py:922: ConvergenceWarning: Liblinear failed to converge, increase the number of iterations.\n",
      "  \"the number of iterations.\", ConvergenceWarning)\n",
      "/anaconda3/lib/python3.6/site-packages/sklearn/svm/base.py:922: ConvergenceWarning: Liblinear failed to converge, increase the number of iterations.\n",
      "  \"the number of iterations.\", ConvergenceWarning)\n"
     ]
    },
    {
     "name": "stdout",
     "output_type": "stream",
     "text": [
      "N_features 7\n",
      "Support is [ True False  True  True  True  True  True False  True]\n",
      "Ranking [1 2 1 1 1 1 1 3 1]\n",
      "Grid Scores [0.93849702 0.93569241 0.93673115 0.94202895 0.94462607 0.94545707\n",
      " 0.94680744 0.88614478 0.92322922]\n"
     ]
    },
    {
     "name": "stderr",
     "output_type": "stream",
     "text": [
      "/anaconda3/lib/python3.6/site-packages/sklearn/svm/base.py:922: ConvergenceWarning: Liblinear failed to converge, increase the number of iterations.\n",
      "  \"the number of iterations.\", ConvergenceWarning)\n"
     ]
    }
   ],
   "source": [
    "# RFECV 1\n",
    "iris = load_iris()\n",
    "X = iris.data\n",
    "y = iris.target\n",
    "estimator = LinearSVC()\n",
    "selector = RFECV(estimator=estimator, cv=3)\n",
    "selector.fit(skb_x, skb_y)\n",
    "print(\"N_features %s\" % selector.n_features_)\n",
    "print(\"Support is %s\" % selector.support_)\n",
    "print(\"Ranking %s\" % selector.ranking_)\n",
    "print(\"Grid Scores %s\" % selector.grid_scores_)\n"
   ]
  },
  {
   "cell_type": "code",
   "execution_count": 99,
   "metadata": {
    "ExecuteTime": {
     "end_time": "2018-11-08T09:22:56.822215Z",
     "start_time": "2018-11-08T09:22:25.087149Z"
    }
   },
   "outputs": [
    {
     "name": "stdout",
     "output_type": "stream",
     "text": [
      "Optimal number of features : 7\n",
      "Ranking of features : [1 1 1 1 1 1 1 2 3]\n"
     ]
    },
    {
     "data": {
      "image/png": "[encoded data removed]",
      "text/plain": [
       "<Figure size 432x288 with 1 Axes>"
      ]
     },
     "metadata": {},
     "output_type": "display_data"
    }
   ],
   "source": [
    "# RFECV 2\n",
    "import matplotlib.pyplot as plt\n",
    "from sklearn.svm import SVC\n",
    "from sklearn.model_selection import StratifiedKFold\n",
    "from sklearn.feature_selection import RFECV\n",
    "from sklearn.datasets import make_classification\n",
    "\n",
    "\n",
    "# Create the RFE object and compute a cross-validated score.\n",
    "svc = SVC(kernel=\"linear\")\n",
    "# The \"accuracy\" scoring is proportional to the number of correct\n",
    "# classifications\n",
    "rfecv = RFECV(estimator=svc, step=1, cv=StratifiedKFold(2),\n",
    "              scoring='accuracy')\n",
    "rfecv.fit(skb_x, skb_y)\n",
    "\n",
    "print(\"Optimal number of features : %d\" % rfecv.n_features_)\n",
    "print(\"Ranking of features : %s\" % rfecv.ranking_)\n",
    "\n",
    "# Plot number of features VS. cross-validation scores\n",
    "plt.figure()\n",
    "plt.xlabel(\"Number of features selected\")\n",
    "plt.ylabel(\"Cross validation score (nb of correct classifications)\")\n",
    "plt.plot(range(1, len(rfecv.grid_scores_) + 1), rfecv.grid_scores_)\n",
    "plt.show()\n",
    "# 通过RFECV我们得知，原来9个特征都需要\n",
    "# 同时这也向我们展示了RFECV的强大潜力"
   ]
  },
  {
   "cell_type": "code",
   "execution_count": 84,
   "metadata": {
    "ExecuteTime": {
     "end_time": "2018-11-08T08:05:51.050563Z",
     "start_time": "2018-11-08T08:05:50.306145Z"
    }
   },
   "outputs": [
    {
     "name": "stdout",
     "output_type": "stream",
     "text": [
      "\n",
      "Scores of features [0.20536967 0.02214124 0.04940274 0.38350163 0.01151801 0.12358721\n",
      " 0.         0.23518946 0.00092893]\n",
      "p-values of feature scores is None\n",
      "\n",
      "Scores of features [1.41828452e+03 2.91593660e+02 1.11017334e+03 4.95106188e+03\n",
      " 1.45835340e+02 3.04256235e+03 7.77860833e-01 6.27050093e+03\n",
      " 1.07246113e+02]\n",
      "p-values of feature scores is [1.18853716e-289 1.97994886e-064 1.81447193e-230 0.00000000e+000\n",
      " 2.45629682e-033 0.00000000e+000 3.77818213e-001 0.00000000e+000\n",
      " 5.31950321e-025]\n",
      "Shape after transform is  (9620, 5)\n",
      "\n",
      "Scores of features [1.39052019e+03 2.25747231e+03 1.64432322e+02 1.12435448e+04\n",
      " 1.40729593e+02 1.80262611e+03 7.76018810e-01 1.50047686e+04\n",
      " 1.26138087e+03]\n",
      "p-values of feature scores is [2.41222289e-304 0.00000000e+000 1.21708028e-037 0.00000000e+000\n",
      " 1.84361994e-032 0.00000000e+000 3.78361501e-001 0.00000000e+000\n",
      " 2.79124770e-276]\n",
      "Shape after transform is  (9620, 8)\n"
     ]
    }
   ],
   "source": [
    "# 三个特殊的多类比较特征选择\n",
    "# 假阳性率（false positive rate） SelectFpr\n",
    "\n",
    "# 伪发现率（false discovery rate） SelectFdr\n",
    "\n",
    "# 或者族系误差（family wise error） SelectFwe\n",
    "\n",
    "from sklearn.feature_selection import SelectFdr,f_classif,SelectFpr,SelectFwe,chi2,mutual_info_classif\n",
    "\n",
    "\n",
    "selector1 = SelectFpr(score_func = mutual_info_classif,alpha=0.5)\n",
    "# alpha是预期错误发现率的上限,默认是0.5,score_func 默认为 f_classif\n",
    "selector1.fit(skb_x, skb_y)\n",
    "print(\"\\nScores of features %s\" % selector1.scores_)\n",
    "print(\"p-values of feature scores is %s\" % selector1.pvalues_)\n",
    "# print(\"Shape after transform is \",selector1.transform(X).shape)\n",
    "\n",
    "\n",
    "selector2 = SelectFdr(score_func = f_classif,alpha=4.37695696e-80) # alpha是预期错误发现率的上限\n",
    "selector2.fit(skb_x, skb_y)\n",
    "print(\"\\nScores of features %s\" % selector2.scores_)\n",
    "print(\"p-values of feature scores is %s\" % selector2.pvalues_)\n",
    "print(\"Shape after transform is \",selector2.transform(skb_x).shape)\n",
    "\n",
    "selector3 = SelectFwe(score_func = chi2,alpha=1) # alpha是预期错误发现率的上限\n",
    "selector3.fit(skb_x, skb_y)\n",
    "print(\"\\nScores of features %s\" % selector3.scores_)\n",
    "print(\"p-values of feature scores is %s\" % selector3.pvalues_)\n",
    "print(\"Shape after transform is \",selector3.transform(skb_x).shape)\n"
   ]
  },
  {
   "cell_type": "code",
   "execution_count": 85,
   "metadata": {
    "ExecuteTime": {
     "end_time": "2018-11-08T08:09:03.932309Z",
     "start_time": "2018-11-08T08:09:03.915896Z"
    }
   },
   "outputs": [
    {
     "name": "stdout",
     "output_type": "stream",
     "text": [
      "\n",
      "Scores of features [1.41828452e+03 2.91593660e+02 1.11017334e+03 4.95106188e+03\n",
      " 1.45835340e+02 3.04256235e+03 7.77860833e-01 6.27050093e+03\n",
      " 1.07246113e+02]\n",
      "p-values of feature scores is [1.18853716e-289 1.97994886e-064 1.81447193e-230 0.00000000e+000\n",
      " 2.45629682e-033 0.00000000e+000 3.77818213e-001 0.00000000e+000\n",
      " 5.31950321e-025]\n",
      "Shape after transform is  (9620, 9)\n",
      "Support is  [ True  True  True  True  True  True  True  True  True]\n",
      "Params is  {'mode': 'fpr', 'param': 0.5, 'score_func': <function f_classif at 0x1a30558840>}\n"
     ]
    }
   ],
   "source": [
    "# 可以使用一个可配置的策略来进行单变量特征选择\n",
    "from sklearn.feature_selection import GenericUnivariateSelect\n",
    "\n",
    "estimator = LinearSVC()\n",
    "selector = GenericUnivariateSelect(score_func=f_classif,mode='fpr',param= 0.5)\n",
    "# mode : {'percentile', 'k_best', 'fpr', 'fdr', 'fwe'}\n",
    "selector.fit(skb_x, skb_y)\n",
    "print(\"\\nScores of features %s\" % selector.scores_)\n",
    "print(\"p-values of feature scores is %s\" % selector.pvalues_)\n",
    "print(\"Shape after transform is \",selector.transform(skb_x).shape)\n",
    "print(\"Support is \",selector.get_support())\n",
    "print(\"Params is \",selector.get_params())\n"
   ]
  },
  {
   "cell_type": "code",
   "execution_count": 55,
   "metadata": {
    "ExecuteTime": {
     "end_time": "2018-11-08T07:27:54.464759Z",
     "start_time": "2018-11-08T07:27:54.378924Z"
    }
   },
   "outputs": [
    {
     "name": "stdout",
     "output_type": "stream",
     "text": [
      "[[ 5.   6.   1.  ...  0.  36.   0. ]\n",
      " [ 5.   6.   1.  ...  0.  41.   0. ]\n",
      " [13.   0.   1.  ...  0.  40.  12. ]\n",
      " ...\n",
      " [ 5.   0.   1.  ...  0.  32.   0. ]\n",
      " [ 5.   0.   2.  ...  0.  30.   0. ]\n",
      " [ 4.5  0.   2.  ...  0.  23.   0. ]]\n"
     ]
    }
   ],
   "source": [
    "from sklearn.feature_selection import SelectFromModel\n",
    "\n",
    "#带L1惩罚项的逻辑回归作为基模型的特征选择\n",
    "df_lr = SelectFromModel(LogisticRegression(penalty=\"l1\", C=0.1, solver='liblinear')).fit_transform(skb_x, skb_y)\n",
    "print(df_lr)"
   ]
  },
  {
   "cell_type": "code",
   "execution_count": 59,
   "metadata": {
    "ExecuteTime": {
     "end_time": "2018-11-08T07:30:26.526428Z",
     "start_time": "2018-11-08T07:30:26.178983Z"
    }
   },
   "outputs": [
    {
     "name": "stdout",
     "output_type": "stream",
     "text": [
      "[[ 5.          8.        ]\n",
      " [ 5.          0.        ]\n",
      " [13.          2.09237996]\n",
      " ...\n",
      " [ 5.          0.        ]\n",
      " [ 5.          0.        ]\n",
      " [ 4.5         0.        ]]\n"
     ]
    }
   ],
   "source": [
    "# 基于树模型的特征选择法\n",
    "from sklearn.ensemble import GradientBoostingClassifier\n",
    "\n",
    "#GBDT作为基模型的特征选择\n",
    "df_gbdt = SelectFromModel(GradientBoostingClassifier()).fit_transform(skb_x, skb_y)\n",
    "print(df_gbdt)"
   ]
  },
  {
   "cell_type": "code",
   "execution_count": 64,
   "metadata": {
    "ExecuteTime": {
     "end_time": "2018-11-08T07:43:07.884858Z",
     "start_time": "2018-11-08T07:43:07.852233Z"
    }
   },
   "outputs": [
    {
     "name": "stdout",
     "output_type": "stream",
     "text": [
      "[[  1.2260992    5.45434605   2.5621658 ]\n",
      " [  5.38118524   4.08441644  -3.08037117]\n",
      " [  4.99579959  -0.64669984   5.2913401 ]\n",
      " ...\n",
      " [ -3.65284304  -1.52577392  -1.32728024]\n",
      " [ -5.64836016  -1.46752726  -1.14237928]\n",
      " [-12.6263633   -1.25005497  -0.78030276]]\n",
      "[[ 1.70302958]\n",
      " [ 0.07611805]\n",
      " [ 1.93278774]\n",
      " ...\n",
      " [-0.84896254]\n",
      " [-1.44814716]\n",
      " [-1.9296405 ]]\n"
     ]
    }
   ],
   "source": [
    "# PCA\n",
    "from sklearn.decomposition import PCA\n",
    "\n",
    "#主成分分析法，返回降维后的数据\n",
    "#参数n_components为主成分数目\n",
    "print(PCA(n_components=3).fit_transform(skb_x))\n",
    "\n",
    "# LDA\n",
    "from sklearn.discriminant_analysis import LinearDiscriminantAnalysis as LDA\n",
    "\n",
    "#线性判别分析法，返回降维后的数据\n",
    "#参数n_components为降维后的维数\n",
    "print(LDA(n_components=3).fit_transform(skb_x, skb_y))"
   ]
  },
  {
   "cell_type": "code",
   "execution_count": 52,
   "metadata": {
    "ExecuteTime": {
     "end_time": "2018-11-08T01:47:15.514274Z",
     "start_time": "2018-11-08T01:47:15.508135Z"
    }
   },
   "outputs": [],
   "source": [
    "#用 sklearn  分割训练集和测试集\n",
    "train_df, verify_df = train_test_split(part_df, test_size = 0.3)\n",
    "# print('type(part_df)',type(part_df))\n",
    "# print('type(train_df)',type(train_df)) \n",
    "# print('type(verify_df)',type(verify_df)) "
   ]
  },
  {
   "cell_type": "code",
   "execution_count": null,
   "metadata": {},
   "outputs": [],
   "source": []
  },
  {
   "cell_type": "code",
   "execution_count": 53,
   "metadata": {
    "ExecuteTime": {
     "end_time": "2018-11-08T01:47:16.090126Z",
     "start_time": "2018-11-08T01:47:16.071596Z"
    }
   },
   "outputs": [
    {
     "name": "stdout",
     "output_type": "stream",
     "text": [
      "train_X.shape (6734, 7)\n",
      "verify_X.shape (2886, 7)\n",
      "test_X.shape (2205, 7)\n"
     ]
    }
   ],
   "source": [
    "# 读取需要的数据转换成 np\n",
    "#    'CLLX', 'marrige', 'hnum',\n",
    "# 选择参数列\n",
    "X_select_elements = ['LJJF','ZJCX', 'age', 'xb', 'jl', 'child', 'marrige','WFJFS']\n",
    "Y_select_elements = 'SFSG'\n",
    "\n",
    "# 训练数据\n",
    "train_X = np.array(train_df[X_select_elements])\n",
    "train_Y = np.array(train_df[Y_select_elements])\n",
    "\n",
    "# 验证数据\n",
    "verify_X = np.array(verify_df[X_select_elements])\n",
    "verify_Y = np.array(verify_df[Y_select_elements])\n",
    "\n",
    "# 测试数据\n",
    "test_X = np.array(part_df_test[X_select_elements])\n",
    "\n",
    "print('train_X.shape',train_X.shape)\n",
    "print('verify_X.shape',verify_X.shape)\n",
    "print('test_X.shape',test_X.shape)"
   ]
  },
  {
   "cell_type": "code",
   "execution_count": 54,
   "metadata": {
    "ExecuteTime": {
     "end_time": "2018-11-08T01:47:48.869163Z",
     "start_time": "2018-11-08T01:47:48.861918Z"
    }
   },
   "outputs": [],
   "source": [
    "# 均值化\n",
    "from sklearn.preprocessing import MinMaxScaler\n",
    "\n",
    "minMax = MinMaxScaler()\n",
    "train_X = minMax.fit_transform(train_X)\n",
    "verify_X = minMax.fit_transform(verify_X)\n",
    "test_X = minMax.fit_transform(test_X)\n"
   ]
  },
  {
   "cell_type": "code",
   "execution_count": 12,
   "metadata": {
    "ExecuteTime": {
     "end_time": "2018-11-07T15:16:59.530268Z",
     "start_time": "2018-11-07T15:16:59.527571Z"
    }
   },
   "outputs": [],
   "source": [
    "# train_X_tansor = tf.convert_to_tensor(train_X)\n",
    "# train_Y_tansor = tf.convert_to_tensor(train_Y)\n",
    "# verify_X_tansor = tf.convert_to_tensor(verify_X)\n",
    "# verify_Y_tansor = tf.convert_to_tensor(verify_Y)"
   ]
  },
  {
   "cell_type": "code",
   "execution_count": 13,
   "metadata": {
    "ExecuteTime": {
     "end_time": "2018-11-07T15:16:59.723153Z",
     "start_time": "2018-11-07T15:16:59.719393Z"
    }
   },
   "outputs": [],
   "source": [
    "# with tf.Session() as sess:\n",
    "#     sess.run(train_X_tansor)\n",
    "#     sess.run(train_Y_tansor)\n",
    "#     sess.run(verify_X_tansor)\n",
    "#     sess.run(verify_Y_tansor)\n",
    "#     print(train_X_tansor)\n",
    "#     print(train_Y_tansor)\n",
    "#     print(verify_X_tansor)\n",
    "#     print(verify_Y_tansor)"
   ]
  },
  {
   "cell_type": "code",
   "execution_count": 55,
   "metadata": {
    "ExecuteTime": {
     "end_time": "2018-11-08T01:47:51.023475Z",
     "start_time": "2018-11-08T01:47:51.006689Z"
    }
   },
   "outputs": [
    {
     "name": "stdout",
     "output_type": "stream",
     "text": [
      "[[0. 1.]\n",
      " [1. 0.]\n",
      " [1. 0.]\n",
      " ...\n",
      " [1. 0.]\n",
      " [1. 0.]\n",
      " [1. 0.]]\n",
      "[[1]\n",
      " [0]\n",
      " [0]\n",
      " ...\n",
      " [0]\n",
      " [0]\n",
      " [0]]\n",
      "(6734, 1)\n"
     ]
    }
   ],
   "source": [
    "# 独热编码\n",
    "train_Y_oh = (np.arange(2) == train_Y[:,None]).astype(np.float32)\n",
    "verify_Y_oh = (np.arange(2) == verify_Y[:,None]).astype(np.float32)\n",
    "print(train_Y_oh)\n",
    "\n",
    "# 二值化\n",
    "from sklearn.preprocessing import LabelBinarizer\n",
    "lb = LabelBinarizer()\n",
    "train_Y_lb = lb.fit_transform(train_Y)\n",
    "verify_Y_lb = lb.fit_transform(verify_Y)\n",
    "\n",
    "print(train_Y_lb)\n",
    "print(train_Y_lb.shape)"
   ]
  },
  {
   "cell_type": "code",
   "execution_count": 56,
   "metadata": {
    "ExecuteTime": {
     "end_time": "2018-11-08T01:47:56.475739Z",
     "start_time": "2018-11-08T01:47:56.472666Z"
    }
   },
   "outputs": [],
   "source": [
    "# 公用 shape 参数\n",
    "xs1 = train_X.shape[1]\n",
    "ys1 = train_Y_oh.shape[1]"
   ]
  },
  {
   "cell_type": "code",
   "execution_count": 58,
   "metadata": {
    "ExecuteTime": {
     "end_time": "2018-11-08T01:48:35.881966Z",
     "start_time": "2018-11-08T01:48:35.152301Z"
    }
   },
   "outputs": [
    {
     "data": {
      "image/png": "[encoded data removed]",
      "text/plain": [
       "<Figure size 864x864 with 2 Axes>"
      ]
     },
     "metadata": {},
     "output_type": "display_data"
    }
   ],
   "source": [
    "import matplotlib.pyplot as plt\n",
    "import seaborn as sns\n",
    "\n",
    "#  'ZJCX', 'LJJF', 'xb', 'jl', 'CLLX', 'marrige', 'child', 'hnum',\n",
    "#     'age', 'XZQH','SSRS','SWRS7','sghpzl'\n",
    "\n",
    "colormap = plt.cm.viridis\n",
    "plt.figure(figsize=(12,12))\n",
    "plt.title('Pearson Correlation of Features', y=1.05, size=15)\n",
    "sns.heatmap(part_df.astype(float).corr(),linewidths=0.1,vmax=1.0, square=True, cmap=colormap, linecolor='white', annot=True, xticklabels=True, yticklabels=True)\n",
    "plt.show()"
   ]
  }
 ],
 "metadata": {
  "kernelspec": {
   "display_name": "Python 3",
   "language": "python",
   "name": "python3"
  },
  "language_info": {
   "codemirror_mode": {
    "name": "ipython",
    "version": 3
   },
   "file_extension": ".py",
   "mimetype": "text/x-python",
   "name": "python",
   "nbconvert_exporter": "python",
   "pygments_lexer": "ipython3",
   "version": "3.6.4"
  },
  "toc": {
   "base_numbering": 1,
   "nav_menu": {},
   "number_sections": true,
   "sideBar": true,
   "skip_h1_title": false,
   "title_cell": "Table of Contents",
   "title_sidebar": "Contents",
   "toc_cell": false,
   "toc_position": {},
   "toc_section_display": true,
   "toc_window_display": false
  }
 },
 "nbformat": 4,
 "nbformat_minor": 2
}
