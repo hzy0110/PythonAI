{
 "cells": [
  {
   "cell_type": "code",
   "execution_count": 105,
   "metadata": {
    "ExecuteTime": {
     "end_time": "2019-01-25T04:27:10.441745Z",
     "start_time": "2019-01-25T04:27:10.436197Z"
    }
   },
   "outputs": [],
   "source": [
    "import numpy as np\n",
    "import pandas as pd\n",
    "import matplotlib as mpl\n",
    "import matplotlib.pyplot as plt\n",
    "from sklearn.model_selection import train_test_split\n",
    "from sklearn.linear_model import LogisticRegressionCV\n",
    "from sklearn import metrics\n",
    "from sklearn.preprocessing import label_binarize\n",
    "from sklearn.datasets import load_iris\n",
    "from sklearn.preprocessing import StandardScaler,MinMaxScaler\n",
    "from sklearn.metrics import r2_score,f1_score,accuracy_score,roc_auc_score,recall_score,mean_squared_error,roc_curve"
   ]
  },
  {
   "cell_type": "code",
   "execution_count": 88,
   "metadata": {
    "ExecuteTime": {
     "end_time": "2019-01-25T04:21:13.124789Z",
     "start_time": "2019-01-25T04:21:12.299526Z"
    },
    "scrolled": false
   },
   "outputs": [
    {
     "name": "stdout",
     "output_type": "stream",
     "text": [
      "<class 'pandas.core.frame.DataFrame'>\n",
      "(150, 5)\n",
      "iris_types [0 1 2]\n",
      "y [0 0 0 0 0 0 0 0 0 0 0 0 0 0 0 0 0 0 0 0 0 0 0 0 0 0 0 0 0 0 0 0 0 0 0 0 0\n",
      " 0 0 0 0 0 0 0 0 0 0 0 0 0 1 1 1 1 1 1 1 1 1 1 1 1 1 1 1 1 1 1 1 1 1 1 1 1\n",
      " 1 1 1 1 1 1 1 1 1 1 1 1 1 1 1 1 1 1 1 1 1 1 1 1 1 1 2 2 2 2 2 2 2 2 2 2 2\n",
      " 2 2 2 2 2 2 2 2 2 2 2 2 2 2 2 2 2 2 2 2 2 2 2 2 2 2 2 2 2 2 2 2 2 2 2 2 2\n",
      " 2 2]\n"
     ]
    },
    {
     "name": "stderr",
     "output_type": "stream",
     "text": [
      "/anaconda3/lib/python3.6/site-packages/sklearn/model_selection/_split.py:2179: FutureWarning: From version 0.21, test_size will always complement train_size unless both are specified.\n",
      "  FutureWarning)\n",
      "/anaconda3/lib/python3.6/site-packages/sklearn/linear_model/logistic.py:460: FutureWarning: Default multi_class will be changed to 'auto' in 0.22. Specify the multi_class option to silence this warning.\n",
      "  \"this warning.\", FutureWarning)\n"
     ]
    },
    {
     "name": "stdout",
     "output_type": "stream",
     "text": [
      "超参数： [2.06913808 2.06913808 0.11288379]\n",
      "y_p_log (60, 3)\n",
      "调用函数auc： 0.89125\n",
      "手动计算auc： 0.89125\n"
     ]
    },
    {
     "data": {
      "image/png": "[encoded data removed]",
      "text/plain": [
       "<Figure size 432x288 with 1 Axes>"
      ]
     },
     "metadata": {
      "needs_background": "light"
     },
     "output_type": "display_data"
    }
   ],
   "source": [
    "iris = load_iris()\n",
    "d = pd.DataFrame(iris.data)\n",
    "t = pd.DataFrame(iris.target)\n",
    "data = pd.concat([d,t],axis=1)\n",
    "print(type(data))\n",
    "print(data.shape)\n",
    "\n",
    "# data = data.reindex(columns=list([\"0\",\"1\",\"2\",\"3\",\"4\"]))\n",
    "data.columns = [\"0\",\"1\",\"2\",\"3\",\"4\"]\n",
    "# data.info()\n",
    "np.random.seed(0)\n",
    "# data = pd.read_csv('iris.data', header = None)  #读取数据\n",
    "\n",
    "\n",
    "iris_types = data[\"4\"].unique()\n",
    "print(\"iris_types\",iris_types)\n",
    "n_class = iris_types.size\n",
    "x = data.iloc[:, :2]  #只取前面两个特征\n",
    "y = pd.Categorical(data[\"4\"]).codes  #将标签转换0,1,...\n",
    "print(\"y\",y)\n",
    "x_train, x_test, y_train, y_test = train_test_split(x, y, train_size = 0.6, random_state = 0)\n",
    "y_one_hot = label_binarize(y_test, np.arange(n_class))  #装换成one_hot\n",
    "# print(\"y_one_hot\",y_one_hot)\n",
    "alpha = np.logspace(-2, 2, 20)  #设置超参数范围\n",
    "model = LogisticRegressionCV(Cs = alpha, cv = 3, penalty = 'l2')  #使用L2正则化\n",
    "model.fit(x_train, y_train)\n",
    "print('超参数：', model.C_)\n",
    "# 计算属于各个类别的概率，返回值的shape = [n_samples, n_classes]\n",
    "y_score = model.predict_proba(x_test)\n",
    "y_pre = model.predict(x_test)\n",
    "\n",
    "y_p_log = model.predict_log_proba(x_test)\n",
    "print(\"y_p_log\",y_p_log.shape)\n",
    "# print(\"y_score\",y_score.shape,y_score)\n",
    "# print(\"predict.shape\",model.predict(x_test).shape,model.predict(x_test))\n",
    "# print(\"predict_log_proba.shape\",y_p_log.shape,y_p_log)\n",
    "# 1、调用函数计算micro类型的AUC\n",
    "print('调用函数auc：', metrics.roc_auc_score(y_one_hot, y_p_log, average='micro'))\n",
    "# 2、手动计算micro类型的AUC\n",
    "#首先将矩阵y_one_hot和y_score展开，然后计算假正例率FPR和真正例率TPR\n",
    "fpr, tpr, thresholds = metrics.roc_curve(y_one_hot.ravel(),y_p_log.ravel())\n",
    "auc = metrics.auc(fpr, tpr)\n",
    "print('手动计算auc：', auc)\n",
    "#绘图\n",
    "mpl.rcParams['font.sans-serif'] = u'SimHei'\n",
    "mpl.rcParams['axes.unicode_minus'] = False\n",
    "#FPR就是横坐标,TPR就是纵坐标\n",
    "plt.plot(fpr, tpr, c = 'r', lw = 2, alpha = 0.7, label = u'AUC=%.3f' % auc)\n",
    "plt.plot((0, 1), (0, 1), c = '#808080', lw = 1, ls = '--', alpha = 0.7)\n",
    "plt.xlim((-0.01, 1.02))\n",
    "plt.ylim((-0.01, 1.02))\n",
    "plt.xticks(np.arange(0, 1.1, 0.1))\n",
    "plt.yticks(np.arange(0, 1.1, 0.1))\n",
    "plt.xlabel('False Positive Rate', fontsize=13)\n",
    "plt.ylabel('True Positive Rate', fontsize=13)\n",
    "plt.grid(b=True, ls=':')\n",
    "plt.legend(loc='lower right', fancybox=True, framealpha=0.8, fontsize=12)\n",
    "plt.title(u'鸢尾花数据Logistic分类后的ROC和AUC', fontsize=17)\n",
    "plt.show()\n"
   ]
  },
  {
   "cell_type": "code",
   "execution_count": 80,
   "metadata": {
    "ExecuteTime": {
     "end_time": "2019-01-25T03:38:45.682619Z",
     "start_time": "2019-01-25T03:38:45.663959Z"
    }
   },
   "outputs": [
    {
     "name": "stdout",
     "output_type": "stream",
     "text": [
      "recall_score 0.7094547964113181\n",
      "(60,)\n",
      "(60,)\n",
      "f1_score 0.6833333333333333\n",
      "f1_score 0.7027525523766126\n",
      "f1_score 0.6774902624526685\n",
      "accuracy_score 0.6833333333333333\n",
      "r2_score 0.48063781321184507\n",
      "r2_score -28.807931903755332\n",
      "roc_auc_score 0.89125\n",
      "mean_squared_error 0.31666666666666665\n",
      "mean_squared_error 6.6239848675011865\n"
     ]
    }
   ],
   "source": [
    "\n",
    "# 多分类模式下有部分计算不支持\n",
    "print('recall_score',recall_score(y_test,y_pre,average='macro'))\n",
    "# print('recall_score',recall_score(y_one_hot,y_p_log))\n",
    "# print(y_one_hot.ravel().shape)\n",
    "# print(y_p_log.ravel().shape)\n",
    "print(y_test.shape)\n",
    "print(y_pre.shape)\n",
    "print('f1_score',f1_score(y_test,y_pre,average='micro'))\n",
    "print('f1_score',f1_score(y_test,y_pre,average='macro'))\n",
    "print('f1_score',f1_score(y_test,y_pre,average='weighted'))\n",
    "# print('f1_score',f1_score(y_test,y_pre,average='binary'))\n",
    "# print('f1_score',f1_score(y_test,y_pre,average='samples'))\n",
    "# print('f1_score',f1_score(y_one_hot.ravel(),y_p_log.ravel()))\n",
    "# print('accuracy_score',accuracy_score(df_wf_y.ravel(),Y_pred.ravel()))\n",
    "print('accuracy_score',accuracy_score(y_test,y_pre))\n",
    "print('r2_score',r2_score(y_test,y_pre))\n",
    "print('r2_score',r2_score(y_one_hot.ravel(),y_p_log.ravel()))\n",
    "# print('roc_auc_score',roc_auc_score(y_test,y_pre))\n",
    "print('roc_auc_score',roc_auc_score(y_one_hot.ravel(),y_p_log.ravel()))\n",
    "print('mean_squared_error',mean_squared_error(y_test,y_pre))\n",
    "print('mean_squared_error',mean_squared_error(y_one_hot.ravel(),y_p_log.ravel()))"
   ]
  },
  {
   "cell_type": "code",
   "execution_count": 89,
   "metadata": {
    "ExecuteTime": {
     "end_time": "2019-01-25T04:21:49.324107Z",
     "start_time": "2019-01-25T04:21:48.081245Z"
    }
   },
   "outputs": [
    {
     "name": "stdout",
     "output_type": "stream",
     "text": [
      "超参数： [61.58482111]\n",
      "y_p_log.shape (14002, 2)\n"
     ]
    },
    {
     "data": {
      "image/png": "[encoded data removed]",
      "text/plain": [
       "<Figure size 432x288 with 1 Axes>"
      ]
     },
     "metadata": {
      "needs_background": "light"
     },
     "output_type": "display_data"
    }
   ],
   "source": [
    "\n",
    "#二分类\n",
    "# 处理原始数据，然后合并\n",
    "# 读取\n",
    "df_wf = pd.read_table('../Data/House_ShangYu/wufang.txt', low_memory=False, dtype=float)\n",
    "df_yf = pd.read_csv('../Data/House_ShangYu/youfang.csv', low_memory=False, dtype=float)\n",
    "# 填充原始nan\n",
    "df_wf = df_wf.fillna(0)\n",
    "df_yf = df_yf.fillna(0)\n",
    "# 处理顺序\n",
    "df_wf = df_wf.reindex(columns=list([\"ID\",\"SB\",\"GJJ\",\"NL\",\"CL\",\"HY\",\"GS\",\"SS\",\"Y\"]))\n",
    "df_yf = df_yf.reindex(columns=list([\"ID\",\"SB\",\"GJJ\",\"NL\",\"CL\",\"HY\",\"GS\",\"SS\",\"Y\"]))\n",
    "# 填充 Y 列的目标值\n",
    "df_wf[\"Y\"] = df_wf[\"Y\"].fillna(0)\n",
    "df_yf[\"Y\"] = df_yf[\"Y\"].fillna(1)\n",
    "# 合并，有房+0.3无房\n",
    "df_wf_train, df_wf_test = train_test_split(\n",
    "    df_wf, test_size=0.7)\n",
    "\n",
    "df_house = pd.concat([df_wf_train,df_yf])\n",
    "df_house = df_house.sample(frac=1)\n",
    "\n",
    "df_house_x = df_house.drop([\"Y\", \"ID\"],axis=1)\n",
    "df_house_view  = df_house_x;\n",
    "df_house_y = df_house['Y']\n",
    "\n",
    "df_wf_x = df_wf.drop([\"Y\", \"ID\"],axis=1)\n",
    "df_wf_view  = df_wf_x;\n",
    "df_wf_y = df_wf['Y']\n",
    "\n",
    "ss = StandardScaler()\n",
    "mm = MinMaxScaler()\n",
    "np_house_x = mm.fit_transform(df_house_x)\n",
    "df_house_x = pd.DataFrame(np_house_x)\n",
    "np_wf_x = mm.fit_transform(df_wf_x)\n",
    "df_wf_x = pd.DataFrame(np_wf_x)\n",
    "\n",
    "df_wf_y_oh = (np.arange(2) == df_wf_y[:,None]).astype(np.float32)\n",
    "\n",
    "\n",
    "# print(\"y_one_hot\",y_one_hot)\n",
    "alpha = np.logspace(-2, 2, 20)  #设置超参数范围\n",
    "model = LogisticRegressionCV(Cs = alpha, cv = 3, penalty = 'l2')  #使用L2正则化\n",
    "model.fit(df_house_x, df_house_y)\n",
    "print('超参数：', model.C_)\n",
    "# 计算属于各个类别的概率，返回值的shape = [n_samples, n_classes]\n",
    "y_score = model.predict_proba(df_wf_x)\n",
    "y_pre = model.predict(df_wf_x)\n",
    "y_p_log = model.predict_log_proba(df_wf_x)\n",
    "print(\"y_p_log.shape\",y_p_log.shape)\n",
    "\n",
    "# print(\"y_score\",y_score.shape,y_score)\n",
    "# print(\"predict.shape\",model.predict(x_test).shape,model.predict(x_test))\n",
    "# print(\"predict_log_proba.shape\",y_p_log.shape,y_p_log)\n",
    "# 1、调用函数计算micro类型的AUC\n",
    "# print('调用函数auc：', metrics.roc_auc_score(y_one_hot, y_p_log, average='micro'))\n",
    "# 2、手动计算micro类型的AUC\n",
    "#首先将矩阵y_one_hot和y_score展开，然后计算假正例率FPR和真正例率TPR\n",
    "fpr, tpr, thresholds = metrics.roc_curve(df_wf_y_oh.ravel(),y_p_log.ravel())\n",
    "# auc = metrics.auc(fpr, tpr)\n",
    "# print('手动计算auc：', auc)\n",
    "#绘图\n",
    "mpl.rcParams['font.sans-serif'] = u'SimHei'\n",
    "mpl.rcParams['axes.unicode_minus'] = False\n",
    "#FPR就是横坐标,TPR就是纵坐标\n",
    "plt.plot(fpr, tpr, c = 'r', lw = 2, alpha = 0.7, label = u'AUC=%.3f' % auc)\n",
    "plt.plot((0, 1), (0, 1), c = '#808080', lw = 1, ls = '--', alpha = 0.7)\n",
    "plt.xlim((-0.01, 1.02))\n",
    "plt.ylim((-0.01, 1.02))\n",
    "plt.xticks(np.arange(0, 1.1, 0.1))\n",
    "plt.yticks(np.arange(0, 1.1, 0.1))\n",
    "plt.xlabel('False Positive Rate', fontsize=13)\n",
    "plt.ylabel('True Positive Rate', fontsize=13)\n",
    "plt.grid(b=True, ls=':')\n",
    "plt.legend(loc='lower right', fancybox=True, framealpha=0.8, fontsize=12)\n",
    "plt.title(u'SY_HOUSE的Logistic分类后的ROC和AUC', fontsize=17)\n",
    "plt.show()"
   ]
  },
  {
   "cell_type": "code",
   "execution_count": 99,
   "metadata": {
    "ExecuteTime": {
     "end_time": "2019-01-25T04:24:01.736441Z",
     "start_time": "2019-01-25T04:24:01.650902Z"
    }
   },
   "outputs": [
    {
     "name": "stdout",
     "output_type": "stream",
     "text": [
      "recall_score 0.4627910298528782\n",
      "recall_score 0.9255820597057564\n",
      "recall_score 0.9255820597057564\n",
      "recall_score 0.0\n",
      "(60,)\n",
      "(14002,)\n",
      "f1_score 0.0\n",
      "f1_score 0.9255820597057564\n",
      "f1_score 0.48067650767747205\n",
      "f1_score 0.9613530153549441\n",
      "f1_score 0.0\n",
      "accuracy_score 0.9255820597057564\n",
      "r2_score 0.0\n",
      "r2_score -27.991486815180497\n",
      "roc_auc_score 0.973237799950263\n",
      "mean_squared_error 0.07441794029424367\n",
      "mean_squared_error 7.247871703795124\n"
     ]
    },
    {
     "name": "stderr",
     "output_type": "stream",
     "text": [
      "/anaconda3/lib/python3.6/site-packages/sklearn/metrics/classification.py:1145: UndefinedMetricWarning: Recall is ill-defined and being set to 0.0 in labels with no true samples.\n",
      "  'recall', 'true', average, warn_for)\n",
      "/anaconda3/lib/python3.6/site-packages/sklearn/metrics/classification.py:1145: UndefinedMetricWarning: Recall is ill-defined and being set to 0.0 due to no true samples.\n",
      "  'recall', 'true', average, warn_for)\n",
      "/anaconda3/lib/python3.6/site-packages/sklearn/metrics/classification.py:1145: UndefinedMetricWarning: F-score is ill-defined and being set to 0.0 due to no true samples.\n",
      "  'recall', 'true', average, warn_for)\n",
      "/anaconda3/lib/python3.6/site-packages/sklearn/metrics/classification.py:1145: UndefinedMetricWarning: F-score is ill-defined and being set to 0.0 in labels with no true samples.\n",
      "  'recall', 'true', average, warn_for)\n"
     ]
    }
   ],
   "source": [
    "print('recall_score',recall_score(df_wf_y,y_pre,average='macro'))\n",
    "print('recall_score',recall_score(df_wf_y,y_pre,average='micro'))\n",
    "print('recall_score',recall_score(df_wf_y,y_pre,average='weighted'))\n",
    "print('recall_score',recall_score(df_wf_y,y_pre))\n",
    "# print('recall_score',recall_score(y_one_hot,y_p_log))\n",
    "# print(y_one_hot.ravel().shape)\n",
    "# print(y_p_log.ravel().shape)\n",
    "print(y_test.shape)\n",
    "print(y_pre.shape)\n",
    "print('f1_score',f1_score(df_wf_y,y_pre))\n",
    "print('f1_score',f1_score(df_wf_y,y_pre,average='micro'))\n",
    "print('f1_score',f1_score(df_wf_y,y_pre,average='macro'))\n",
    "print('f1_score',f1_score(df_wf_y,y_pre,average='weighted'))\n",
    "print('f1_score',f1_score(df_wf_y,y_pre,average='binary'))\n",
    "# print('f1_score',f1_score(df_wf_y,y_pre,average='samples'))\n",
    "# print('f1_score',f1_score(y_one_hot.ravel(),y_p_log.ravel()))\n",
    "# print('accuracy_score',accuracy_score(df_wf_y.ravel(),Y_pred.ravel()))\n",
    "print('accuracy_score',accuracy_score(df_wf_y,y_pre))\n",
    "print('r2_score',r2_score(df_wf_y,y_pre))\n",
    "print('r2_score',r2_score(df_wf_y_oh.ravel(),y_p_log.ravel()))\n",
    "# print('roc_auc_score',roc_auc_score(y_test,y_pre))\n",
    "print('roc_auc_score',roc_auc_score(df_wf_y_oh.ravel(),y_p_log.ravel()))\n",
    "print('mean_squared_error',mean_squared_error(df_wf_y,y_pre))\n",
    "print('mean_squared_error',mean_squared_error(df_wf_y_oh.ravel(),y_p_log.ravel()))"
   ]
  },
  {
   "cell_type": "code",
   "execution_count": 103,
   "metadata": {
    "ExecuteTime": {
     "end_time": "2019-01-25T04:26:17.180554Z",
     "start_time": "2019-01-25T04:26:16.407633Z"
    }
   },
   "outputs": [
    {
     "name": "stdout",
     "output_type": "stream",
     "text": [
      "accuracy_score 0.9593629481502642\n",
      "accuracy_score 13433\n",
      "s2 0.0\n",
      "roc_auc 0.9593629481502641\n",
      "fpr,tpr [0.         0.95936295 1.        ]\n",
      "fpr.shape (3,)\n"
     ]
    },
    {
     "data": {
      "image/png": "[encoded data removed]",
      "text/plain": [
       "<Figure size 720x720 with 1 Axes>"
      ]
     },
     "metadata": {
      "needs_background": "dark"
     },
     "output_type": "display_data"
    }
   ],
   "source": [
    "import xgboost as xgb\n",
    "from sklearn.metrics import accuracy_score, auc\n",
    "# 回归\n",
    "model_xgb = xgb.XGBRegressor(\n",
    "    booster='gbtree',\n",
    "    colsample_bytree=0.8,\n",
    "    gamma=0.1,\n",
    "    learning_rate=0.02,\n",
    "    max_depth=5,\n",
    "#     n_estimators=500,\n",
    "    min_child_weight=0.8,\n",
    "#     reg_alpha=0,\n",
    "#     reg_lambda=1,\n",
    "    subsample=0.8,\n",
    "    silent=1,\n",
    "#     random_state=42,\n",
    "    nthread=2)\n",
    "\n",
    "model_xgb.fit(df_house_x, df_house_y)\n",
    "\n",
    "Y_pred = model_xgb.predict(df_wf_x)\n",
    "threshold = 0.5\n",
    "y_pre = np.array([int(item>threshold) for  item in Y_pred])\n",
    "\n",
    "print('accuracy_score',accuracy_score(df_wf_y, y_pre))\n",
    "# normalize：默认值为True，返回正确分类的比例；如果为False，返回正确分类的样本数\n",
    "print('accuracy_score',accuracy_score(df_wf_y, y_pre , normalize=False))\n",
    "s2 = model_xgb.score(df_wf_x, df_wf_y)\n",
    "print('s2',s2)\n",
    "\n",
    "\n",
    "df_wf_y_oh = (np.arange(2) == df_wf_y[:,None]).astype(np.float32)\n",
    "y_pre_oh = (np.arange(2) == y_pre[:,None]).astype(np.float32)\n",
    "\n",
    "\n",
    "\n",
    "# print(Y_pred)\n",
    "\n",
    "# Y_pred.itemset(1, 2)\n",
    "# Y_pred.itemset(0, 1)\n",
    "# Y_pred.itemset(2, 0)\n",
    "# Y_pred = 1 - Y_pred\n",
    "# np_wf_y = np.array(df_wf_y)\n",
    "# np_wf_y.itemset(0, 1)\n",
    "\n",
    "fpr,tpr,threshold = roc_curve(df_wf_y_oh.ravel(), y_pre_oh.ravel())\n",
    "roc_auc = auc(fpr,tpr)\n",
    "print('roc_auc',roc_auc)\n",
    "print('fpr,tpr',tpr)\n",
    "print('fpr.shape',fpr.shape)\n",
    "\n",
    "lw = 2\n",
    "fig = plt.figure(figsize=(10,10))\n",
    "ax=fig.add_subplot(111)\n",
    "ax.set_facecolor('gray')\n",
    "# ax.set_xlabel('fpr') \n",
    "# ax.set_ylabel('tpr') \n",
    "\n",
    "# 边框颜色\n",
    "# ax.spines['bottom'].set_color('red') \n",
    "# ax.spines['top'].set_color('g') \n",
    "# 标签颜色\n",
    "ax.xaxis.label.set_color('w') \n",
    "ax.yaxis.label.set_color('w') \n",
    "\n",
    "# 坐标轴颜色\n",
    "ax.tick_params(axis='x', colors='w') \n",
    "ax.tick_params(axis='y', colors='w') \n",
    "# fig.patch.set_facecolor('black')\n",
    "\n",
    "plt.plot(fpr, tpr, color='darkorange',\n",
    "         lw=lw, label='ROC curve (area = %0.2f)' % roc_auc) ###假正率为横坐标，真正率为纵坐标做曲线\n",
    "plt.plot([0, 1], [0, 1], color='navy', lw=lw, linestyle='--')\n",
    "plt.xlim([0.0, 1.0])\n",
    "plt.ylim([0.0, 1.05])\n",
    "plt.xlabel('False Positive Rate')\n",
    "plt.ylabel('True Positive Rate')\n",
    "plt.title('Receiver operating characteristic example')\n",
    "plt.legend(loc=\"lower right\")\n",
    "plt.show()\n"
   ]
  },
  {
   "cell_type": "code",
   "execution_count": 104,
   "metadata": {
    "ExecuteTime": {
     "end_time": "2019-01-25T04:26:25.172796Z",
     "start_time": "2019-01-25T04:26:25.099783Z"
    }
   },
   "outputs": [
    {
     "name": "stdout",
     "output_type": "stream",
     "text": [
      "recall_score 0.4796814740751321\n",
      "recall_score 0.9593629481502642\n",
      "recall_score 0.9593629481502642\n",
      "recall_score 0.0\n",
      "(60,)\n",
      "(14002,)\n",
      "f1_score 0.0\n",
      "f1_score 0.9593629481502642\n",
      "f1_score 0.4896300346273009\n",
      "f1_score 0.979260069254602\n",
      "f1_score 0.0\n",
      "accuracy_score 0.9593629481502642\n",
      "r2_score 0.0\n",
      "r2_score -27.991486815180497\n",
      "roc_auc_score 0.973237799950263\n",
      "mean_squared_error 0.040637051849735754\n",
      "mean_squared_error 7.247871703795124\n"
     ]
    },
    {
     "name": "stderr",
     "output_type": "stream",
     "text": [
      "/anaconda3/lib/python3.6/site-packages/sklearn/metrics/classification.py:1145: UndefinedMetricWarning: Recall is ill-defined and being set to 0.0 in labels with no true samples.\n",
      "  'recall', 'true', average, warn_for)\n",
      "/anaconda3/lib/python3.6/site-packages/sklearn/metrics/classification.py:1145: UndefinedMetricWarning: Recall is ill-defined and being set to 0.0 due to no true samples.\n",
      "  'recall', 'true', average, warn_for)\n",
      "/anaconda3/lib/python3.6/site-packages/sklearn/metrics/classification.py:1145: UndefinedMetricWarning: F-score is ill-defined and being set to 0.0 due to no true samples.\n",
      "  'recall', 'true', average, warn_for)\n",
      "/anaconda3/lib/python3.6/site-packages/sklearn/metrics/classification.py:1145: UndefinedMetricWarning: F-score is ill-defined and being set to 0.0 in labels with no true samples.\n",
      "  'recall', 'true', average, warn_for)\n"
     ]
    }
   ],
   "source": [
    "print('recall_score',recall_score(df_wf_y,y_pre,average='macro'))\n",
    "print('recall_score',recall_score(df_wf_y,y_pre,average='micro'))\n",
    "print('recall_score',recall_score(df_wf_y,y_pre,average='weighted'))\n",
    "print('recall_score',recall_score(df_wf_y,y_pre))\n",
    "# print('recall_score',recall_score(y_one_hot,y_p_log))\n",
    "# print(y_one_hot.ravel().shape)\n",
    "# print(y_p_log.ravel().shape)\n",
    "print(y_test.shape)\n",
    "print(y_pre.shape)\n",
    "print('f1_score',f1_score(df_wf_y,y_pre))\n",
    "print('f1_score',f1_score(df_wf_y,y_pre,average='micro'))\n",
    "print('f1_score',f1_score(df_wf_y,y_pre,average='macro'))\n",
    "print('f1_score',f1_score(df_wf_y,y_pre,average='weighted'))\n",
    "print('f1_score',f1_score(df_wf_y,y_pre,average='binary'))\n",
    "# print('f1_score',f1_score(df_wf_y,y_pre,average='samples'))\n",
    "# print('f1_score',f1_score(y_one_hot.ravel(),y_p_log.ravel()))\n",
    "# print('accuracy_score',accuracy_score(df_wf_y.ravel(),Y_pred.ravel()))\n",
    "print('accuracy_score',accuracy_score(df_wf_y,y_pre))\n",
    "print('r2_score',r2_score(df_wf_y,y_pre))\n",
    "print('r2_score',r2_score(df_wf_y_oh.ravel(),y_p_log.ravel()))\n",
    "# print('roc_auc_score',roc_auc_score(y_test,y_pre))\n",
    "print('roc_auc_score',roc_auc_score(df_wf_y_oh.ravel(),y_p_log.ravel()))\n",
    "print('mean_squared_error',mean_squared_error(df_wf_y,y_pre))\n",
    "print('mean_squared_error',mean_squared_error(df_wf_y_oh.ravel(),y_p_log.ravel()))"
   ]
  },
  {
   "cell_type": "code",
   "execution_count": null,
   "metadata": {},
   "outputs": [],
   "source": []
  }
 ],
 "metadata": {
  "kernelspec": {
   "display_name": "Python 3",
   "language": "python",
   "name": "python3"
  },
  "language_info": {
   "codemirror_mode": {
    "name": "ipython",
    "version": 3
   },
   "file_extension": ".py",
   "mimetype": "text/x-python",
   "name": "python",
   "nbconvert_exporter": "python",
   "pygments_lexer": "ipython3",
   "version": "3.6.8"
  },
  "toc": {
   "base_numbering": 1,
   "nav_menu": {},
   "number_sections": true,
   "sideBar": true,
   "skip_h1_title": false,
   "title_cell": "Table of Contents",
   "title_sidebar": "Contents",
   "toc_cell": false,
   "toc_position": {},
   "toc_section_display": true,
   "toc_window_display": false
  }
 },
 "nbformat": 4,
 "nbformat_minor": 2
}
