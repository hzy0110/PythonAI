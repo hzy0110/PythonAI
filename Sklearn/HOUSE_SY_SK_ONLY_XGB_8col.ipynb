{
 "cells": [
  {
   "cell_type": "markdown",
   "metadata": {},
   "source": [
    "## 基于XGBoost原生接口的回归"
   ]
  },
  {
   "cell_type": "code",
   "execution_count": 1,
   "metadata": {
    "ExecuteTime": {
     "end_time": "2019-01-22T08:43:41.708589Z",
     "start_time": "2019-01-22T08:43:04.012587Z"
    }
   },
   "outputs": [
    {
     "name": "stdout",
     "output_type": "stream",
     "text": [
      "Accuracy: 96.67 % \n"
     ]
    },
    {
     "data": {
      "text/plain": [
       "<Figure size 640x480 with 1 Axes>"
      ]
     },
     "metadata": {},
     "output_type": "display_data"
    }
   ],
   "source": [
    "from sklearn.datasets import load_iris\n",
    "import xgboost as xgb\n",
    "from xgboost import plot_importance\n",
    "from matplotlib import pyplot as plt\n",
    "from sklearn.model_selection import train_test_split\n",
    "\n",
    "# read in the iris data\n",
    "iris = load_iris()\n",
    "\n",
    "X = iris.data\n",
    "y = iris.target\n",
    "\n",
    "X_train, X_test, y_train, y_test = train_test_split(X, y, test_size=0.2, random_state=1234565)\n",
    "\n",
    "params = {\n",
    "    'booster': 'gbtree',\n",
    "    'objective': 'multi:softmax',\n",
    "    'num_class': 3,\n",
    "    'gamma': 0.1,\n",
    "    'max_depth': 6,\n",
    "    'lambda': 2,\n",
    "    'subsample': 0.7,\n",
    "    'colsample_bytree': 0.7,\n",
    "    'min_child_weight': 3,\n",
    "    'silent': 1,\n",
    "    'eta': 0.1,\n",
    "    'seed': 1000,\n",
    "    'nthread': 4,\n",
    "}\n",
    "\n",
    "plst = params.items()\n",
    "\n",
    "\n",
    "dtrain = xgb.DMatrix(X_train, y_train)\n",
    "num_rounds = 500\n",
    "model = xgb.train(plst, dtrain, num_rounds)\n",
    "\n",
    "# 对测试集进行预测\n",
    "dtest = xgb.DMatrix(X_test)\n",
    "ans = model.predict(dtest)\n",
    "\n",
    "# 计算准确率\n",
    "cnt1 = 0\n",
    "cnt2 = 0\n",
    "for i in range(len(y_test)):\n",
    "    if ans[i] == y_test[i]:\n",
    "        cnt1 += 1\n",
    "    else:\n",
    "        cnt2 += 1\n",
    "\n",
    "print(\"Accuracy: %.2f %% \" % (100 * cnt1 / (cnt1 + cnt2)))\n",
    "\n",
    "# 显示重要特征\n",
    "plot_importance(model)\n",
    "plt.show()"
   ]
  },
  {
   "cell_type": "markdown",
   "metadata": {},
   "source": [
    "## 基于Scikit-learn的分类"
   ]
  },
  {
   "cell_type": "code",
   "execution_count": 2,
   "metadata": {
    "ExecuteTime": {
     "end_time": "2019-01-22T08:45:05.696194Z",
     "start_time": "2019-01-22T08:45:05.423266Z"
    }
   },
   "outputs": [
    {
     "name": "stdout",
     "output_type": "stream",
     "text": [
      "Accuracy: 100.00 % \n"
     ]
    },
    {
     "data": {
      "image/png": "[encoded data removed]",
      "text/plain": [
       "<Figure size 432x288 with 1 Axes>"
      ]
     },
     "metadata": {
      "needs_background": "light"
     },
     "output_type": "display_data"
    }
   ],
   "source": [
    "from sklearn.datasets import load_iris\n",
    "import xgboost as xgb\n",
    "from xgboost import plot_importance\n",
    "from matplotlib import pyplot as plt\n",
    "from sklearn.model_selection import train_test_split\n",
    "\n",
    "# read in the iris data\n",
    "iris = load_iris()\n",
    "\n",
    "X = iris.data\n",
    "y = iris.target\n",
    "\n",
    "X_train, X_test, y_train, y_test = train_test_split(X, y, test_size=0.2, random_state=0)\n",
    "\n",
    "# 训练模型\n",
    "model = xgb.XGBClassifier(max_depth=5, learning_rate=0.1, n_estimators=160, silent=True, objective='multi:softmax')\n",
    "model.fit(X_train, y_train)\n",
    "\n",
    "# 对测试集进行预测\n",
    "ans = model.predict(X_test)\n",
    "\n",
    "# 计算准确率\n",
    "cnt1 = 0\n",
    "cnt2 = 0\n",
    "for i in range(len(y_test)):\n",
    "    if ans[i] == y_test[i]:\n",
    "        cnt1 += 1\n",
    "    else:\n",
    "        cnt2 += 1\n",
    "\n",
    "print(\"Accuracy: %.2f %% \" % (100 * cnt1 / (cnt1 + cnt2)))\n",
    "\n",
    "# 显示重要特征\n",
    "plot_importance(model)\n",
    "plt.show()"
   ]
  },
  {
   "cell_type": "markdown",
   "metadata": {},
   "source": [
    "## 基于 Scikit-Learn的回归"
   ]
  },
  {
   "cell_type": "code",
   "execution_count": 6,
   "metadata": {
    "ExecuteTime": {
     "end_time": "2019-01-22T08:58:09.180600Z",
     "start_time": "2019-01-22T08:58:08.739118Z"
    }
   },
   "outputs": [
    {
     "data": {
      "image/png": "[encoded data removed]",
      "text/plain": [
       "<Figure size 432x288 with 1 Axes>"
      ]
     },
     "metadata": {
      "needs_background": "light"
     },
     "output_type": "display_data"
    }
   ],
   "source": [
    "import xgboost as xgb\n",
    "from xgboost import plot_importance\n",
    "from matplotlib import pyplot as plt\n",
    "from sklearn.model_selection import train_test_split\n",
    "from sklearn.datasets import load_boston\n",
    "\n",
    "boston = load_boston()\n",
    "X = boston.data\n",
    "y = boston.target\n",
    "\n",
    "\n",
    "# # 读取文件原始数据\n",
    "# data = []\n",
    "# labels = []\n",
    "# labels2 = []\n",
    "# with open(\"lppz5.csv\", encoding='UTF-8') as fileObject:\n",
    "#     for line in fileObject:\n",
    "#         line_split = line.split(',')\n",
    "#         data.append(line_split[10:])\n",
    "#         labels.append(line_split[8])\n",
    "\n",
    "# X = []\n",
    "# for row in data:\n",
    "#     row = [float(x) for x in row]\n",
    "#     X.append(row)\n",
    "\n",
    "# y = [float(x) for x in labels]\n",
    "\n",
    "# XGBoost训练过程\n",
    "X_train, X_test, y_train, y_test = train_test_split(X, y, test_size=0.2, random_state=0)\n",
    "\n",
    "model = xgb.XGBRegressor(max_depth=5, learning_rate=0.1, n_estimators=160, silent=True, objective='reg:gamma')\n",
    "model.fit(X_train, y_train)\n",
    "\n",
    "# 对测试集进行预测\n",
    "ans = model.predict(X_test)\n",
    "\n",
    "# 显示重要特征\n",
    "plot_importance(model)\n",
    "plt.show() "
   ]
  },
  {
   "cell_type": "markdown",
   "metadata": {},
   "source": [
    "## SK 根据文件"
   ]
  },
  {
   "cell_type": "code",
   "execution_count": 24,
   "metadata": {
    "ExecuteTime": {
     "end_time": "2019-01-24T02:43:44.180758Z",
     "start_time": "2019-01-24T02:43:42.894483Z"
    }
   },
   "outputs": [
    {
     "name": "stdout",
     "output_type": "stream",
     "text": [
      "<class 'pandas.core.frame.DataFrame'>\n",
      "Int64Index: 17665 entries, 6827 to 2763\n",
      "Data columns (total 7 columns):\n",
      "SB     17665 non-null float64\n",
      "GJJ    17665 non-null float64\n",
      "NL     17665 non-null float64\n",
      "CL     17665 non-null float64\n",
      "HY     17665 non-null float64\n",
      "GS     17665 non-null float64\n",
      "SS     17665 non-null float64\n",
      "dtypes: float64(7)\n",
      "memory usage: 1.1 MB\n",
      "Accuracy: 0.52% \n"
     ]
    },
    {
     "data": {
      "image/png": "[encoded data removed]",
      "text/plain": [
       "<Figure size 432x288 with 1 Axes>"
      ]
     },
     "metadata": {
      "needs_background": "dark"
     },
     "output_type": "display_data"
    },
    {
     "name": "stderr",
     "output_type": "stream",
     "text": [
      "/anaconda3/lib/python3.6/site-packages/sklearn/metrics/ranking.py:656: UndefinedMetricWarning: No positive samples in y_true, true positive value should be meaningless\n",
      "  UndefinedMetricWarning)\n"
     ]
    },
    {
     "name": "stdout",
     "output_type": "stream",
     "text": [
      "roc_auc nan\n",
      "fpr,tpr [0.00000000e+00 7.14183688e-05 3.57091844e-04 ... 9.99714327e-01\n",
      " 9.99928582e-01 1.00000000e+00] [nan nan nan ... nan nan nan]\n",
      "threshold (2893,)\n"
     ]
    },
    {
     "data": {
      "image/png": "[encoded data removed]",
      "text/plain": [
       "<Figure size 720x720 with 1 Axes>"
      ]
     },
     "metadata": {
      "needs_background": "dark"
     },
     "output_type": "display_data"
    }
   ],
   "source": [
    "import xgboost as xgb\n",
    "import pandas as pd\n",
    "import numpy as np\n",
    "from xgboost import plot_importance\n",
    "from matplotlib import pyplot as plt\n",
    "from sklearn.metrics import accuracy_score,roc_curve,auc\n",
    "from sklearn.model_selection import train_test_split\n",
    "from sklearn.preprocessing import StandardScaler,MinMaxScaler\n",
    "# 处理原始数据，然后合并\n",
    "# 读取\n",
    "df_wf = pd.read_table('../Data/House_ShangYu/wufang.txt', low_memory=False, dtype=float)\n",
    "df_yf = pd.read_csv('../Data/House_ShangYu/youfang.csv', low_memory=False, dtype=float)\n",
    "# 填充原始nan\n",
    "df_wf = df_wf.fillna(0)\n",
    "df_yf = df_yf.fillna(0)\n",
    "# 处理顺序\n",
    "df_wf = df_wf.reindex(columns=list([\"ID\",\"SB\",\"GJJ\",\"NL\",\"CL\",\"HY\",\"GS\",\"SS\",\"Y\"]))\n",
    "df_yf = df_yf.reindex(columns=list([\"ID\",\"SB\",\"GJJ\",\"NL\",\"CL\",\"HY\",\"GS\",\"SS\",\"Y\"]))\n",
    "# 填充 Y 列的目标值\n",
    "df_wf[\"Y\"] = df_wf[\"Y\"].fillna(0)\n",
    "df_yf[\"Y\"] = df_yf[\"Y\"].fillna(1)\n",
    "\n",
    "\n",
    "\n",
    "# 合并，有房+0.3无房\n",
    "df_wf_train, df_wf_test = train_test_split(\n",
    "    df_wf, test_size=0.7)\n",
    "\n",
    "df_house = pd.concat([df_wf_train,df_yf])\n",
    "df_house = df_house.sample(frac=1)\n",
    "\n",
    "X = df_house.drop([\"Y\",\"ID\"],axis=1)\n",
    "y = df_house['Y']\n",
    "wf_X = df_wf.drop([\"Y\",\"ID\"],axis=1)\n",
    "wf_y = df_wf['Y']\n",
    "X.info()\n",
    "ss = StandardScaler()\n",
    "mm = MinMaxScaler()\n",
    "X = mm.fit_transform(X)\n",
    "X = pd.DataFrame(X)\n",
    "wf_X = mm.fit_transform(wf_X)\n",
    "wf_X = pd.DataFrame(wf_X)\n",
    "\n",
    "# X_train, X_test, y_train, y_test = train_test_split(X, y, test_size=0.2, random_state=0)\n",
    "# 训练模型\n",
    "# model = xgb.XGBClassifier(num_class=2,max_depth=5, learning_rate=0.1, n_estimators=160, silent=True, objective='multi:softmax')\n",
    "model = xgb.XGBRegressor(\n",
    "    booster='gbtree',\n",
    "#     objective='multi:softmax',\n",
    "#     num_class= 2,\n",
    "    colsample_bytree=0.8,\n",
    "    gamma=0.1,\n",
    "    learning_rate=0.02,\n",
    "    max_depth=5,\n",
    "#     n_estimators=500,\n",
    "    min_child_weight=0.8,\n",
    "#     reg_alpha=0,\n",
    "#     reg_lambda=1,\n",
    "    subsample=0.8,\n",
    "    silent=1,\n",
    "#     random_state=42,\n",
    "    nthread=2)\n",
    "\n",
    "\n",
    "# model_xgb.fit(df_house_x, df_house_y)\n",
    "model.fit(X, y)\n",
    "\n",
    "# 对测试集进行预测\n",
    "ans = model.predict(wf_X)\n",
    "# 计算准确率\n",
    "cnt1 = 0\n",
    "cnt2 = 0\n",
    "# for i in range(len(y_test)):\n",
    "#     if ans[i] == y_test[i]:\n",
    "#         cnt1 += 1\n",
    "#     else:\n",
    "#         cnt2 += 1\n",
    "\n",
    "\n",
    "# 分类模式计算准确度\n",
    "# print(\"Accuracy: %.2f %% \" % (100 * cnt1 / (cnt1 + cnt2)))\n",
    "# 回归模式计算准确度\n",
    "threshold = 0.5\n",
    "y_pre = np.array([int(item>threshold) for  item in ans])\n",
    "\n",
    "print(\"Accuracy: %.2f%% \" % accuracy_score(wf_y,y_pre))\n",
    "# 显示重要特征\n",
    "\n",
    "ax=plot_importance(model)\n",
    "# print(\"typeppp\",type(ppp))\n",
    "# print(\"fig\",type(fig))\n",
    "# print(\"ax\",type(ax))\n",
    "ax.set_facecolor('gray')\n",
    "# 标签颜色\n",
    "ax.xaxis.label.set_color('w') \n",
    "ax.yaxis.label.set_color('w') \n",
    "\n",
    "# 坐标轴颜色\n",
    "ax.tick_params(axis='x', colors='w') \n",
    "ax.tick_params(axis='y', colors='w') \n",
    "plt.show()\n",
    "\n",
    "\n",
    "\n",
    "\n",
    "fpr,tpr,threshold = roc_curve(wf_y, ans)\n",
    "roc_auc = auc(fpr,tpr)\n",
    "print('roc_auc',roc_auc)\n",
    "print('fpr,tpr',fpr,tpr)\n",
    "print('threshold',threshold.shape)\n",
    "\n",
    "lw = 2\n",
    "fig = plt.figure(figsize=(10,10))\n",
    "ax=fig.add_subplot(111)\n",
    "ax.set_facecolor('gray')\n",
    "# ax.set_xlabel('fpr') \n",
    "# ax.set_ylabel('tpr') \n",
    "\n",
    "# 边框颜色\n",
    "# ax.spines['bottom'].set_color('red') \n",
    "# ax.spines['top'].set_color('g') \n",
    "# 标签颜色\n",
    "ax.xaxis.label.set_color('w') \n",
    "ax.yaxis.label.set_color('w') \n",
    "\n",
    "# 坐标轴颜色\n",
    "ax.tick_params(axis='x', colors='w') \n",
    "ax.tick_params(axis='y', colors='w') \n",
    "# fig.patch.set_facecolor('black')\n",
    "\n",
    "plt.plot(fpr, tpr, color='darkorange',\n",
    "         lw=lw, label='ROC curve (area = %0.2f)' % roc_auc) ###假正率为横坐标，真正率为纵坐标做曲线\n",
    "plt.plot([0, 1], [0, 1], color='navy', lw=lw, linestyle='--')\n",
    "plt.xlim([0.0, 1.0])\n",
    "plt.ylim([0.0, 1.05])\n",
    "plt.xlabel('False Positive Rate')\n",
    "plt.ylabel('True Positive Rate')\n",
    "plt.title('Receiver operating characteristic example')\n",
    "plt.legend(loc=\"lower right\")\n",
    "plt.show()"
   ]
  },
  {
   "cell_type": "code",
   "execution_count": null,
   "metadata": {},
   "outputs": [],
   "source": []
  }
 ],
 "metadata": {
  "kernelspec": {
   "display_name": "Python 3",
   "language": "python",
   "name": "python3"
  },
  "language_info": {
   "codemirror_mode": {
    "name": "ipython",
    "version": 3
   },
   "file_extension": ".py",
   "mimetype": "text/x-python",
   "name": "python",
   "nbconvert_exporter": "python",
   "pygments_lexer": "ipython3",
   "version": "3.6.6"
  },
  "toc": {
   "base_numbering": 1,
   "nav_menu": {},
   "number_sections": true,
   "sideBar": true,
   "skip_h1_title": false,
   "title_cell": "Table of Contents",
   "title_sidebar": "Contents",
   "toc_cell": false,
   "toc_position": {},
   "toc_section_display": true,
   "toc_window_display": false
  }
 },
 "nbformat": 4,
 "nbformat_minor": 2
}
