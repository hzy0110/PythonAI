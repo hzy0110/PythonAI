{
 "cells": [
  {
   "cell_type": "code",
   "execution_count": 130,
   "metadata": {
    "ExecuteTime": {
     "end_time": "2019-01-08T08:28:58.372067Z",
     "start_time": "2019-01-08T08:28:58.368726Z"
    }
   },
   "outputs": [],
   "source": [
    "from sklearn.metrics import mean_squared_error #均方误差\n",
    "from sklearn.metrics import mean_absolute_error #平方绝对误差\n",
    "from sklearn.metrics import r2_score#R square\n",
    "import numpy as np\n",
    "import scipy"
   ]
  },
  {
   "cell_type": "code",
   "execution_count": 108,
   "metadata": {
    "ExecuteTime": {
     "end_time": "2019-01-08T08:18:41.340007Z",
     "start_time": "2019-01-08T08:18:41.334689Z"
    }
   },
   "outputs": [
    {
     "name": "stdout",
     "output_type": "stream",
     "text": [
      "6.0\n",
      "13.0\n"
     ]
    }
   ],
   "source": [
    "y_test = np.array([3,6,9])\n",
    "y_predict = np.array([3,9,27])\n",
    "print(y_test.mean())\n",
    "print(y_predict.mean())\n"
   ]
  },
  {
   "cell_type": "code",
   "execution_count": 109,
   "metadata": {
    "ExecuteTime": {
     "end_time": "2019-01-08T08:18:41.717135Z",
     "start_time": "2019-01-08T08:18:41.711435Z"
    }
   },
   "outputs": [
    {
     "data": {
      "text/plain": [
       "333.0"
      ]
     },
     "execution_count": 109,
     "metadata": {},
     "output_type": "execute_result"
    }
   ],
   "source": [
    "mean_squared_error(y_test,y_predict)*3"
   ]
  },
  {
   "cell_type": "code",
   "execution_count": 271,
   "metadata": {
    "ExecuteTime": {
     "end_time": "2019-01-09T03:14:01.638284Z",
     "start_time": "2019-01-09T03:14:01.626669Z"
    }
   },
   "outputs": [
    {
     "name": "stdout",
     "output_type": "stream",
     "text": [
      "156.0\n",
      "104.0\n",
      "10.198039027185569\n"
     ]
    }
   ],
   "source": [
    "print(np.var(y_predict,ddof=1)) #样本方差\n",
    "print(np.var(y_predict)) #方差\n",
    "\n",
    "sigma = np.std(y_predict, axis=0) #标准差\n",
    "print(sigma)"
   ]
  },
  {
   "cell_type": "code",
   "execution_count": 111,
   "metadata": {
    "ExecuteTime": {
     "end_time": "2019-01-08T08:18:42.267936Z",
     "start_time": "2019-01-08T08:18:42.262694Z"
    }
   },
   "outputs": [
    {
     "data": {
      "text/plain": [
       "array([[  9.,  36.],\n",
       "       [ 36., 156.]])"
      ]
     },
     "execution_count": 111,
     "metadata": {},
     "output_type": "execute_result"
    }
   ],
   "source": [
    "np.cov(y_test, y_predict) #协方差"
   ]
  },
  {
   "cell_type": "code",
   "execution_count": 112,
   "metadata": {
    "ExecuteTime": {
     "end_time": "2019-01-08T08:18:42.843100Z",
     "start_time": "2019-01-08T08:18:42.834900Z"
    }
   },
   "outputs": [
    {
     "name": "stdout",
     "output_type": "stream",
     "text": [
      "mse_test 111.0\n",
      "rmse_test 10.535653752852738\n",
      "mean_squared_error 111.0\n",
      "mean_absolute_error 7.0\n",
      "r_source -17.5\n",
      "r2_score -17.5\n"
     ]
    }
   ],
   "source": [
    "#调用\n",
    "\n",
    "mse_test = np.sum((y_predict-y_test)**2)/len(y_test)\n",
    "r_source = 1- mean_squared_error(y_test,y_predict)/ np.var(y_test)\n",
    "print('mse_test',mse_test)\n",
    "print('rmse_test',mse_test ** 0.5)\n",
    "print('mean_squared_error',mean_squared_error(y_test,y_predict))\n",
    "print('mean_absolute_error',mean_absolute_error(y_test,y_predict))\n",
    "print('r_source',r_source)\n",
    "print('r2_score',r2_score(y_test,y_predict))"
   ]
  },
  {
   "cell_type": "code",
   "execution_count": 32,
   "metadata": {
    "ExecuteTime": {
     "end_time": "2019-01-08T05:50:25.850152Z",
     "start_time": "2019-01-08T05:50:25.845236Z"
    }
   },
   "outputs": [
    {
     "data": {
      "text/plain": [
       "1.0"
      ]
     },
     "execution_count": 32,
     "metadata": {},
     "output_type": "execute_result"
    }
   ],
   "source": [
    "np.var(y_test,ddof=1)"
   ]
  },
  {
   "cell_type": "code",
   "execution_count": 38,
   "metadata": {
    "ExecuteTime": {
     "end_time": "2019-01-08T05:55:26.578698Z",
     "start_time": "2019-01-08T05:55:26.574819Z"
    }
   },
   "outputs": [
    {
     "name": "stdout",
     "output_type": "stream",
     "text": [
      "1.0\n"
     ]
    }
   ],
   "source": [
    "# x = np.array([1,2,3,4,5,6,7,8,9])\n",
    "# print(x)\n",
    "# y = np.array([9,8,7,6,5,4,3,2,1])\n",
    "# print(y)\n",
    "Sigma = np.cov(y_test, y_predict)[0,1]\n",
    "print(Sigma)\n"
   ]
  },
  {
   "cell_type": "code",
   "execution_count": 39,
   "metadata": {
    "ExecuteTime": {
     "end_time": "2019-01-08T05:55:44.558725Z",
     "start_time": "2019-01-08T05:55:44.554218Z"
    }
   },
   "outputs": [
    {
     "name": "stdout",
     "output_type": "stream",
     "text": [
      "(2, 2)\n"
     ]
    }
   ],
   "source": [
    "print(np.cov(y_test, y_predict).shape)"
   ]
  },
  {
   "cell_type": "code",
   "execution_count": 145,
   "metadata": {
    "ExecuteTime": {
     "end_time": "2019-01-08T08:36:39.774007Z",
     "start_time": "2019-01-08T08:36:39.770229Z"
    }
   },
   "outputs": [],
   "source": [
    "\n"
   ]
  },
  {
   "cell_type": "code",
   "execution_count": 185,
   "metadata": {
    "ExecuteTime": {
     "end_time": "2019-01-08T10:41:08.128723Z",
     "start_time": "2019-01-08T10:41:08.116497Z"
    }
   },
   "outputs": [
    {
     "name": "stdout",
     "output_type": "stream",
     "text": [
      "6.0\n",
      "13.0\n",
      "x1,sse，预-原 333\n",
      "x2,sst，原-均 18.0\n",
      "x3,ssr 预-均 312.0\n",
      "x1/x2 18.5\n",
      "cov [[  9.  36.]\n",
      " [ 36. 156.]]\n"
     ]
    }
   ],
   "source": [
    "import numpy as np\n",
    "from scipy import stats\n",
    "import statsmodels.api as sm\n",
    "import math\n",
    "\n",
    "# n=1000\n",
    "# x = np.random.rand(1000)*10\n",
    "# x.sort()\n",
    "# y = 10 * x + (5+np.random.randn(1000)*10-5)\n",
    "\n",
    "x = np.array([3,6,9])\n",
    "y = np.array([3,9,27])\n",
    "\n",
    "coeffs = np.polyfit(x, y,2)\n",
    "\n",
    " # Polynomial Coefficients\n",
    "cl = coeffs.tolist()\n",
    "\n",
    "# r-squared\n",
    "p = np.poly1d(coeffs)\n",
    "# fit values, and mean\n",
    "yhat = p(x)                         # or [p(z) for z in x]\n",
    "# ybar = np.sum(y)/len(y)          # or sum(y)/len(y\n",
    "ybar = np.sum(x)/len(x)   \n",
    "# ssreg = np.sum((yhat-ybar)**2)   # or sum([ (yihat - ybar)**2 for yihat in yhat])\n",
    "# sstot = np.sum((y - ybar)**2)    # or sum([ (yi - ybar)**2 for yi in y])\n",
    "\n",
    "print(x.mean())\n",
    "print(y.mean())\n",
    "mx = x.mean()\n",
    "my = y.mean()\n",
    "\n",
    "\n",
    "# x1，预-原\n",
    "x1 = np.sum((x-y)**2) \n",
    "print('x1,sse，预-原',x1)\n",
    "# x2，原-x均\n",
    "x2 = np.sum((mx -x)**2) \n",
    "print('x2,sst，原-均',x2)\n",
    "# x3 预-x均\n",
    "x3 = np.sum((y - my)**2)  \n",
    "print('x3,ssr 预-均',x3)\n",
    "print('x1/x2',x1/x2)\n",
    "Sigma = np.cov(x, y)\n",
    "print('cov',Sigma)\n",
    "# # x4 预-y均\n",
    "# x4 = np.sum((y - my)**2)  \n",
    "# print('x4 预-y均',x4)\n",
    "# # x5，原-y均\n",
    "# x5 = np.sum((x - my)**2) \n",
    "# print('x5，原-y均',x5)\n",
    "\n",
    "\n",
    "# # ssreg，预-原\n",
    "# ssreg = np.sum((y-x)**2) \n",
    "# print('ssreg，预-原',ssreg)\n",
    "# # sstot，原-均\n",
    "# sstot = np.sum((x - m)**2) \n",
    "# print('sstot，原-均',sstot)\n",
    "# # sse 预-均\n",
    "# sse = np.sum((y - m)**2)  \n",
    "# print('sse 预-均',sse)\n",
    "# results = ssreg / sstot\n",
    "# x- xm = 18\n",
    "# y - x = 333\n",
    "# y - xm = 459\n",
    "# x- ym = 165\n",
    "# y - ym = 312"
   ]
  },
  {
   "cell_type": "code",
   "execution_count": 155,
   "metadata": {
    "ExecuteTime": {
     "end_time": "2019-01-08T09:00:47.396119Z",
     "start_time": "2019-01-08T09:00:47.390423Z"
    }
   },
   "outputs": [
    {
     "name": "stdout",
     "output_type": "stream",
     "text": [
      "[ 3.  9. 27.]\n",
      "6.0\n",
      "ssreg 333\n",
      "sstot 459.0\n",
      "sse 333\n",
      "0.7254901960784313\n",
      "[ 0.66666667 -4.          9.        ]\n"
     ]
    }
   ],
   "source": [
    "print(yhat)\n",
    "print(ybar)\n",
    "\n",
    "print('sstot',sstot)\n",
    "print('sse',sse)\n",
    "print(results)\n",
    "print(coeffs)"
   ]
  },
  {
   "cell_type": "code",
   "execution_count": 148,
   "metadata": {
    "ExecuteTime": {
     "end_time": "2019-01-08T08:36:44.533039Z",
     "start_time": "2019-01-08T08:36:44.528945Z"
    }
   },
   "outputs": [],
   "source": [
    "slope, intercept, r_value, p_value, std_err = scipy.stats.linregress(x, y)\n",
    "r2 = r_value ** 2"
   ]
  },
  {
   "cell_type": "code",
   "execution_count": 151,
   "metadata": {
    "ExecuteTime": {
     "end_time": "2019-01-08T08:37:56.930149Z",
     "start_time": "2019-01-08T08:37:56.923629Z"
    }
   },
   "outputs": [
    {
     "name": "stdout",
     "output_type": "stream",
     "text": [
      "4.0\n",
      "-11.0\n",
      "0.9607689228305227\n",
      "0.17891237502206694\n",
      "1.1547005383792528\n",
      "0.9230769230769229\n",
      "r2_score -17.5\n",
      "mean_squared_error 111.0\n",
      "mean_absolute_error 7.0\n"
     ]
    }
   ],
   "source": [
    "print(slope)\n",
    "print(intercept)\n",
    "print(r_value)\n",
    "print(p_value)\n",
    "print(std_err)\n",
    "print(r2)\n",
    "print('r2_score',r2_score(x,y))\n",
    "print('mean_squared_error',mean_squared_error(x,y))\n",
    "print('mean_absolute_error',mean_absolute_error(x,y))"
   ]
  },
  {
   "cell_type": "code",
   "execution_count": null,
   "metadata": {},
   "outputs": [],
   "source": []
  },
  {
   "cell_type": "code",
   "execution_count": null,
   "metadata": {},
   "outputs": [],
   "source": []
  },
  {
   "cell_type": "code",
   "execution_count": 206,
   "metadata": {
    "ExecuteTime": {
     "end_time": "2019-01-08T11:07:59.694269Z",
     "start_time": "2019-01-08T11:07:59.682579Z"
    }
   },
   "outputs": [
    {
     "name": "stdout",
     "output_type": "stream",
     "text": [
      "m 4.0\n",
      "b -11.0\n",
      "squared_error 333\n",
      "squared_error_regr 333\n",
      "y_mean_line [6.0, 6.0, 6.0]\n",
      "squared_error_y_mean 18.0\n"
     ]
    }
   ],
   "source": [
    "xs = np.array([3,6,9])\n",
    "ys = np.array([3,9,27])\n",
    "\n",
    "m = (np.mean(xs)*np.mean(ys) - np.mean(xs*ys)) / (np.mean(xs)**2 - np.mean(xs**2))\n",
    "#实现b参数\n",
    "b = np.mean(ys)-m*np.mean(xs)\n",
    "\n",
    "print('m',m)\n",
    "print('b',b)\n",
    "\n",
    "# squared_error\n",
    "def squared_error(ys_orig, ys_line):\n",
    "    return sum((ys_line-ys_orig)**2)\n",
    "\n",
    "se = sum((xs-ys)**2)\n",
    "print('squared_error',se)\n",
    "# sse\n",
    "squared_error_regr = squared_error(xs,ys)\n",
    "print('squared_error_regr',se)\n",
    "\n",
    "\n",
    "y_mean_line = [np.mean(xs) for y in xs]\n",
    "print('y_mean_line',y_mean_line)\n",
    "squared_error_y_mean = squared_error(y_mean_line, xs) #SST\n",
    "print('squared_error_y_mean',squared_error_y_mean)"
   ]
  },
  {
   "cell_type": "code",
   "execution_count": 264,
   "metadata": {
    "ExecuteTime": {
     "end_time": "2019-01-08T16:00:37.655713Z",
     "start_time": "2019-01-08T16:00:37.379953Z"
    }
   },
   "outputs": [
    {
     "name": "stdout",
     "output_type": "stream",
     "text": [
      "X_train (70, 804)\n",
      "X_test (30, 804)\n",
      "y_pred (30, 1)\n",
      "y_test (30, 1)\n",
      "score2 0.7333333333333333 0.7333333333333333 0.0\n",
      "auc 0.8133333333333334\n"
     ]
    },
    {
     "data": {
      "text/plain": [
       "<Figure size 432x288 with 0 Axes>"
      ]
     },
     "metadata": {},
     "output_type": "display_data"
    },
    {
     "data": {
      "image/png": "[encoded data removed]",
      "text/plain": [
       "<Figure size 720x720 with 1 Axes>"
      ]
     },
     "metadata": {
      "needs_background": "light"
     },
     "output_type": "display_data"
    }
   ],
   "source": [
    "import numpy as np\n",
    "import matplotlib.pyplot as plt\n",
    "from sklearn import svm, datasets\n",
    "from sklearn.metrics import roc_curve, auc  ###计算roc和auc\n",
    "from sklearn.model_selection import train_test_split\n",
    " \n",
    "# Import some data to play with\n",
    "iris = datasets.load_iris()\n",
    "X = iris.data\n",
    "y = iris.target\n",
    " \n",
    "##变为2分类\n",
    "X, y = X[y != 2], y[y != 2]\n",
    " \n",
    "# Add noisy features to make the problem harder\n",
    "random_state = np.random.RandomState(0)\n",
    "n_samples, n_features = X.shape\n",
    "X = np.c_[X, random_state.randn(n_samples, 200 * n_features)]\n",
    " \n",
    "# shuffle and split training and test sets\n",
    "X_train, X_test, y_train, y_test = train_test_split(X, y, test_size=.3,random_state=0)\n",
    "print('X_train',X_train.shape)\n",
    "print('X_test',X_test.shape)\n",
    "# print('y_train',y_train.shape)\n",
    "# print('y_test',y_test.shape)\n",
    "# Learn to predict each class against the other\n",
    "svm = svm.SVC(kernel='linear', probability=True,random_state=random_state)\n",
    " \n",
    "###通过decision_function()计算得到的y_score的值，用在roc_curve()函数中\n",
    "y_score = svm.fit(X_train, y_train).decision_function(X_test)\n",
    "y_pred = svm.predict(X_test)\n",
    "\n",
    "y_pred = y_pred.reshape(-1,1)\n",
    "y_test = y_test.reshape(-1,1)\n",
    "print('y_pred',y_pred.shape)\n",
    "print('y_test',y_test.shape)\n",
    "score2 = svm.score(X_test, y_test)\n",
    "print('score2',score2,score2.mean(), score2.std())\n",
    "# print('X_test',X_test.shape)\n",
    "# print('y_score',y_score.shape,y_score)\n",
    "# print('y_test',y_test.shape)\n",
    "# Compute ROC curve and ROC area for each class\n",
    "fpr,tpr,threshold = roc_curve(y_test, y_score) ###计算真正率和假正率\n",
    "# print('fpr',fpr.shape,fpr)\n",
    "# print('tpr',tpr.shape,tpr)\n",
    "# print('threshold',threshold.shape,threshold)\n",
    "\n",
    "roc_auc = auc(fpr,tpr) ###计算auc的值\n",
    "print('auc',roc_auc)\n",
    "plt.figure()\n",
    "lw = 2\n",
    "plt.figure(figsize=(10,10))\n",
    "plt.plot(fpr, tpr, color='darkorange',\n",
    "         lw=lw, label='ROC curve (area = %0.2f)' % roc_auc) ###假正率为横坐标，真正率为纵坐标做曲线\n",
    "plt.plot([0, 1], [0, 1], color='navy', lw=lw, linestyle='--')\n",
    "plt.xlim([0.0, 1.0])\n",
    "plt.ylim([0.0, 1.05])\n",
    "plt.xlabel('False Positive Rate')\n",
    "plt.ylabel('True Positive Rate')\n",
    "plt.title('Receiver operating characteristic example')\n",
    "plt.legend(loc=\"lower right\")\n",
    "plt.show()\n",
    "# --------------------- \n",
    "# 作者：dt_lizhen \n",
    "# 来源：CSDN \n",
    "# 原文：https://blog.csdn.net/lz_peter/article/details/78054914 \n",
    "# 版权声明：本文为博主原创文章，转载请附上博文链接！"
   ]
  },
  {
   "cell_type": "code",
   "execution_count": 239,
   "metadata": {
    "ExecuteTime": {
     "end_time": "2019-01-08T15:38:38.135702Z",
     "start_time": "2019-01-08T15:38:38.120934Z"
    }
   },
   "outputs": [
    {
     "name": "stdout",
     "output_type": "stream",
     "text": [
      "df [-1.00052254 -1.00006594  1.00029424  1.00029424]\n",
      "pre [1 1 2 2]\n"
     ]
    }
   ],
   "source": [
    "import numpy as np\n",
    "X = np.array([[-1, -1], [-2, -1], [1, 1], [2, 1]])\n",
    "y = np.array([1, 1, 2, 2])\n",
    "from sklearn.svm import SVC\n",
    "clf = SVC(gamma='auto')\n",
    "clf.fit(X, y) \n",
    "df = clf.decision_function(X)\n",
    "pre = clf.predict(X)\n",
    "print('df',df)\n",
    "print('pre',pre)"
   ]
  },
  {
   "cell_type": "code",
   "execution_count": null,
   "metadata": {},
   "outputs": [],
   "source": []
  }
 ],
 "metadata": {
  "kernelspec": {
   "display_name": "Python 3",
   "language": "python",
   "name": "python3"
  },
  "language_info": {
   "codemirror_mode": {
    "name": "ipython",
    "version": 3
   },
   "file_extension": ".py",
   "mimetype": "text/x-python",
   "name": "python",
   "nbconvert_exporter": "python",
   "pygments_lexer": "ipython3",
   "version": "3.6.8"
  },
  "toc": {
   "base_numbering": 1,
   "nav_menu": {},
   "number_sections": true,
   "sideBar": true,
   "skip_h1_title": false,
   "title_cell": "Table of Contents",
   "title_sidebar": "Contents",
   "toc_cell": false,
   "toc_position": {},
   "toc_section_display": true,
   "toc_window_display": false
  }
 },
 "nbformat": 4,
 "nbformat_minor": 2
}
