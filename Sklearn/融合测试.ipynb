{
 "cells": [
  {
   "cell_type": "code",
   "execution_count": 91,
   "metadata": {
    "ExecuteTime": {
     "end_time": "2019-01-16T06:28:49.445384Z",
     "start_time": "2019-01-16T06:28:49.241205Z"
    }
   },
   "outputs": [
    {
     "name": "stdout",
     "output_type": "stream",
     "text": [
      "the classifier is : decision_tree\n",
      "score =0.9497850262872065\n",
      "the classifier is : K_neighbor\n",
      "score =0.9897046053081161\n",
      "the classifier is : bagging_knn\n",
      "score =0.9923589826162946\n",
      "the classifier is : bagging_tree\n",
      "score =0.9854769771289044\n",
      "the classifier is : random_forest\n",
      "score =0.9838840209801661\n",
      "the classifier is : adaboost\n",
      "score =0.9681805394700704\n",
      "the classifier is : gradient_boost\n",
      "score =0.9622114284550636\n"
     ]
    }
   ],
   "source": [
    "import numpy as np\n",
    "import matplotlib.pyplot as plt\n",
    "from sklearn.metrics import accuracy_score\n",
    "from sklearn.metrics import roc_curve,auc\n",
    "from sklearn.preprocessing import StandardScaler\n",
    "from sklearn.preprocessing import MinMaxScaler\n",
    "# machine learning\n",
    "from sklearn.svm import SVC\n",
    "from sklearn.tree import DecisionTreeRegressor\n",
    "# from sklearn.naive_bayes import GaussianNB,MultinomialNB\n",
    "from sklearn.neighbors import KNeighborsRegressor\n",
    "# from sklearn.ensemble import  BaggingClassifier,RandomForestClassifier,AdaBoostClassifier,GradientBoostingClassifier\n",
    "from sklearn.ensemble import BaggingRegressor,RandomForestRegressor,AdaBoostRegressor,GradientBoostingRegressor\n",
    "\n",
    "\n",
    "\n",
    "def f(x1, x2):\n",
    "    y = 0.5 * np.sin(x1) + 0.5 * np.cos(x2) + 3 + 0.1 * x1 \n",
    "    return y\n",
    "\n",
    "def load_data():\n",
    "    x1_train = np.linspace(0,50,500)\n",
    "    x2_train = np.linspace(-10,10,500)\n",
    "    data_train = np.array([[x1,x2,f(x1,x2) + (np.random.random(1)-0.5)] for x1,x2 in zip(x1_train, x2_train)])\n",
    "    x1_test = np.linspace(0,50,100)+ 0.5 * np.random.random(100)\n",
    "    x2_test = np.linspace(-10,10,100) + 0.02 * np.random.random(100)\n",
    "    data_test = np.array([[x1,x2,f(x1,x2)] for x1,x2 in zip(x1_test, x2_test)])\n",
    "    return data_train, data_test\n",
    "\n",
    "train, test = load_data()\n",
    "ss = StandardScaler()\n",
    "train = ss.fit_transform(train)\n",
    "test = ss.fit_transform(test)\n",
    "x_train, y_train = train[:,:2], train[:,2] #数据前两列是x1,x2 第三列是y,这里的y有随机噪声\n",
    "x_test ,y_test = test[:,:2], test[:,2] # 同上,不过这里的y没有噪声\n",
    "\n",
    "\n",
    "\n",
    "clfs = {\n",
    "#     'svm': SVC(),\\\n",
    "    'decision_tree':DecisionTreeRegressor(),\n",
    "#     'naive_gaussian': GaussianNB(), \\\n",
    "#     'naive_mul':MultinomialNB(),\\\n",
    "    'K_neighbor' : KNeighborsRegressor(),\\\n",
    "    'bagging_knn' : BaggingRegressor(KNeighborsRegressor(), max_samples=0.5,max_features=0.5), \\\n",
    "    'bagging_tree': BaggingRegressor(DecisionTreeRegressor(), max_samples=0.5,max_features=0.5),\n",
    "    'random_forest' : RandomForestRegressor(n_estimators=50),\\\n",
    "    'adaboost':AdaBoostRegressor(n_estimators=50),\\\n",
    "    'gradient_boost' : GradientBoostingRegressor(n_estimators=50, learning_rate=1.0,max_depth=1, random_state=0)\n",
    "        }\n",
    "\n",
    "# def try_different_method(clf):\n",
    "#     clf.fit(x_train,y_train.ravel())\n",
    "#     score = clf.score(x_test,y_test.ravel())\n",
    "#     print('the score is :', score)\n",
    "\n",
    "for clf_key in clfs.keys():\n",
    "    print('the classifier is :',clf_key)\n",
    "    clf = clfs[clf_key]\n",
    "    try_different_method(clf)\n",
    "\n",
    "\n",
    "def try_different_method(clf):\n",
    "    clf.fit(x_train,y_train)\n",
    "    score = clf.score(x_test, y_test)\n",
    "    result = clf.predict(x_test)\n",
    "#     print(result.shape)\n",
    "#     print(y_test.shape)\n",
    "#     print(result)\n",
    "    score = clf.score(x_test,y_test.ravel())\n",
    "#     score = clf.sorre(x_test,y_test.reshape(-1,1))\n",
    "#     print(\"score =\",score)\n",
    "    print(\"score ={0}\".format(score))\n",
    "    \n",
    "#     fpr,tpr,threshold = roc_curve(y_test, result)\n",
    "#     accuracy_score仅适用分类\n",
    "#     print(\"accuracy_score=\",accuracy_score(result.reshape(-1,1), y_test.reshape(-1,1)))\n",
    "#      绘图\n",
    "#     plt.figure()\n",
    "#     plt.plot(np.arange(len(result)), y_test,'go-',label='true value')\n",
    "#     plt.plot(np.arange(len(result)),result,'ro-',label='predict value')\n",
    "#     plt.title('score: %f'%score)\n",
    "#     plt.legend()\n",
    "#     plt.show()"
   ]
  },
  {
   "cell_type": "code",
   "execution_count": 163,
   "metadata": {
    "ExecuteTime": {
     "end_time": "2019-01-16T09:26:32.635100Z",
     "start_time": "2019-01-16T09:26:32.624546Z"
    }
   },
   "outputs": [],
   "source": [
    "#自定义处理方法\n",
    "from sklearn.base import BaseEstimator, TransformerMixin, RegressorMixin, clone\n",
    "class AveragingModels(BaseEstimator, RegressorMixin, TransformerMixin):\n",
    "    def __init__(self, models):\n",
    "        self.models = models\n",
    "        \n",
    "    # 遍历所有模型，你和数据\n",
    "    def fit(self, X, y):\n",
    "        \n",
    "        self.models_ = [clone(x) for x in self.models]\n",
    "        \n",
    "        for model in self.models_:\n",
    "#             print('model',model)\n",
    "            model.fit(X, y)\n",
    "\n",
    "        return self\n",
    "    \n",
    "    # 预估，并对预估结果值做average\n",
    "    def predict(self, X):\n",
    "        print('self',self)\n",
    "        predictions = np.column_stack([\n",
    "            model.predict(X) for model in self.models_\n",
    "                \n",
    "        ])\n",
    "        for model in self.models_:\n",
    "            print('model',model)\n",
    "        #return 0.85*predictions[:,0]+0.15*predictions[:,1]\n",
    "        #return 0.7*predictions[:,0]+0.15*predictions[:,1]+0.15*predictions[:,2]\n",
    "        return np.mean(predictions, axis=1)   \n",
    "    \n",
    "    "
   ]
  },
  {
   "cell_type": "code",
   "execution_count": 164,
   "metadata": {
    "ExecuteTime": {
     "end_time": "2019-01-16T09:26:33.438762Z",
     "start_time": "2019-01-16T09:26:33.393211Z"
    }
   },
   "outputs": [
    {
     "name": "stdout",
     "output_type": "stream",
     "text": [
      "self AveragingModels(models=(BaggingRegressor(base_estimator=KNeighborsRegressor(algorithm='auto', leaf_size=30, metric='minkowski',\n",
      "          metric_params=None, n_jobs=None, n_neighbors=5, p=2,\n",
      "          weights='uniform'),\n",
      "         bootstrap=True, bootstrap_features=False, max_features=0.5,\n",
      "         max_samples=0.5, ...owski',\n",
      "          metric_params=None, n_jobs=None, n_neighbors=5, p=2,\n",
      "          weights='uniform')))\n",
      "model BaggingRegressor(base_estimator=KNeighborsRegressor(algorithm='auto', leaf_size=30, metric='minkowski',\n",
      "          metric_params=None, n_jobs=None, n_neighbors=5, p=2,\n",
      "          weights='uniform'),\n",
      "         bootstrap=True, bootstrap_features=False, max_features=0.5,\n",
      "         max_samples=0.5, n_estimators=10, n_jobs=None, oob_score=False,\n",
      "         random_state=None, verbose=0, warm_start=False)\n",
      "model KNeighborsRegressor(algorithm='auto', leaf_size=30, metric='minkowski',\n",
      "          metric_params=None, n_jobs=None, n_neighbors=5, p=2,\n",
      "          weights='uniform')\n",
      "self AveragingModels(models=(BaggingRegressor(base_estimator=KNeighborsRegressor(algorithm='auto', leaf_size=30, metric='minkowski',\n",
      "          metric_params=None, n_jobs=None, n_neighbors=5, p=2,\n",
      "          weights='uniform'),\n",
      "         bootstrap=True, bootstrap_features=False, max_features=0.5,\n",
      "         max_samples=0.5, ...owski',\n",
      "          metric_params=None, n_jobs=None, n_neighbors=5, p=2,\n",
      "          weights='uniform')))\n",
      "model BaggingRegressor(base_estimator=KNeighborsRegressor(algorithm='auto', leaf_size=30, metric='minkowski',\n",
      "          metric_params=None, n_jobs=None, n_neighbors=5, p=2,\n",
      "          weights='uniform'),\n",
      "         bootstrap=True, bootstrap_features=False, max_features=0.5,\n",
      "         max_samples=0.5, n_estimators=10, n_jobs=None, oob_score=False,\n",
      "         random_state=None, verbose=0, warm_start=False)\n",
      "model KNeighborsRegressor(algorithm='auto', leaf_size=30, metric='minkowski',\n",
      "          metric_params=None, n_jobs=None, n_neighbors=5, p=2,\n",
      "          weights='uniform')\n",
      "0.9923391621352315\n"
     ]
    }
   ],
   "source": [
    "averaged_models = AveragingModels(models = (clfs['bagging_knn'],clfs['K_neighbor']))\n",
    "averaged_models.fit(x_train,y_train)\n",
    "p = averaged_models.predict(x_test)\n",
    "score = averaged_models.score(x_test,y_test.ravel())\n",
    "print(score)"
   ]
  },
  {
   "cell_type": "code",
   "execution_count": 98,
   "metadata": {
    "ExecuteTime": {
     "end_time": "2019-01-16T07:07:17.492266Z",
     "start_time": "2019-01-16T07:07:17.468499Z"
    },
    "code_folding": [
     0
    ],
    "collapsed": true
   },
   "outputs": [
    {
     "name": "stdout",
     "output_type": "stream",
     "text": [
      "continuous\n",
      "multiclass\n",
      "(500,)\n",
      "(500,)\n"
     ]
    },
    {
     "data": {
      "text/plain": [
       "<function dict.values>"
      ]
     },
     "execution_count": 98,
     "metadata": {},
     "output_type": "execute_result"
    }
   ],
   "source": [
    "# Debug\n",
    "from sklearn import utils\n",
    "print(utils.multiclass.type_of_target(y_train))\n",
    "print(utils.multiclass.type_of_target(y_train.astype('int')))\n",
    "\n",
    "print(y_train.shape)\n",
    "print(y_train.ravel().shape)\n"
   ]
  },
  {
   "cell_type": "code",
   "execution_count": null,
   "metadata": {},
   "outputs": [],
   "source": []
  },
  {
   "cell_type": "code",
   "execution_count": 64,
   "metadata": {
    "ExecuteTime": {
     "end_time": "2019-01-16T02:46:02.224707Z",
     "start_time": "2019-01-16T02:46:02.184752Z"
    }
   },
   "outputs": [
    {
     "name": "stdout",
     "output_type": "stream",
     "text": [
      "score = 0.9882536093498375\n"
     ]
    }
   ],
   "source": [
    "from sklearn.ensemble import GradientBoostingRegressor\n",
    "gbrt = GradientBoostingRegressor(n_estimators=100)\n",
    "try_different_method(gbrt)"
   ]
  },
  {
   "cell_type": "code",
   "execution_count": 65,
   "metadata": {
    "ExecuteTime": {
     "end_time": "2019-01-16T02:46:02.357548Z",
     "start_time": "2019-01-16T02:46:02.350611Z"
    }
   },
   "outputs": [
    {
     "name": "stdout",
     "output_type": "stream",
     "text": [
      "score = 0.8893080881790152\n"
     ]
    }
   ],
   "source": [
    "from sklearn.linear_model import LinearRegression\n",
    "linear_reg = LinearRegression()\n",
    "try_different_method(linear_reg)"
   ]
  },
  {
   "cell_type": "code",
   "execution_count": 24,
   "metadata": {
    "ExecuteTime": {
     "end_time": "2019-01-16T02:32:28.034325Z",
     "start_time": "2019-01-16T02:32:27.856231Z"
    },
    "collapsed": true
   },
   "outputs": [
    {
     "name": "stdout",
     "output_type": "stream",
     "text": [
      "0.8541048584911679\n"
     ]
    },
    {
     "data": {
      "image/png": "[encoded data removed]",
      "text/plain": [
       "<Figure size 432x288 with 1 Axes>"
      ]
     },
     "metadata": {
      "needs_background": "light"
     },
     "output_type": "display_data"
    }
   ],
   "source": [
    "from sklearn.pipeline import make_pipeline\n",
    "line = make_pipeline(LinearRegression())\n",
    "try_different_method(linear_reg)"
   ]
  },
  {
   "cell_type": "code",
   "execution_count": null,
   "metadata": {},
   "outputs": [],
   "source": [
    "# 待实现\n",
    "# GridSearchCV，cross_val_score\n",
    "# 待了解\n",
    "# BaseEstimator提供除其他事项外为get_params和set_params方法的默认实现\n",
    "# 对于使用GridSearchCV进行自动化参数调整时可以搜索模型网格非常有用\n",
    "# 在Pipeline中组合时可以与其他人一起良好地执行。\n",
    "# ensemble\n",
    "# base(BaseEstimator, TransformerMixin, RegressorMixin)\n"
   ]
  }
 ],
 "metadata": {
  "kernelspec": {
   "display_name": "Python 3",
   "language": "python",
   "name": "python3"
  },
  "language_info": {
   "codemirror_mode": {
    "name": "ipython",
    "version": 3
   },
   "file_extension": ".py",
   "mimetype": "text/x-python",
   "name": "python",
   "nbconvert_exporter": "python",
   "pygments_lexer": "ipython3",
   "version": "3.6.8"
  },
  "toc": {
   "base_numbering": 1,
   "nav_menu": {},
   "number_sections": true,
   "sideBar": true,
   "skip_h1_title": false,
   "title_cell": "Table of Contents",
   "title_sidebar": "Contents",
   "toc_cell": false,
   "toc_position": {},
   "toc_section_display": true,
   "toc_window_display": false
  }
 },
 "nbformat": 4,
 "nbformat_minor": 2
}
