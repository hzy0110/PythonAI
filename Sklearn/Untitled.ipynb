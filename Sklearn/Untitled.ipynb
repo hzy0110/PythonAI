{
 "cells": [
  {
   "cell_type": "code",
   "execution_count": 1,
   "metadata": {
    "ExecuteTime": {
     "end_time": "2018-11-01T03:30:41.630374Z",
     "start_time": "2018-11-01T03:30:41.210282Z"
    }
   },
   "outputs": [],
   "source": [
    "import xlrd"
   ]
  },
  {
   "cell_type": "code",
   "execution_count": 21,
   "metadata": {
    "ExecuteTime": {
     "end_time": "2018-11-01T06:30:28.448976Z",
     "start_time": "2018-11-01T06:30:28.143173Z"
    }
   },
   "outputs": [],
   "source": [
    "data = xlrd.open_workbook('personalroadriskassess.xls')"
   ]
  },
  {
   "cell_type": "code",
   "execution_count": 22,
   "metadata": {
    "ExecuteTime": {
     "end_time": "2018-11-01T06:30:28.564997Z",
     "start_time": "2018-11-01T06:30:28.562030Z"
    }
   },
   "outputs": [],
   "source": [
    "table = data.sheets()[0] "
   ]
  },
  {
   "cell_type": "code",
   "execution_count": 23,
   "metadata": {
    "ExecuteTime": {
     "end_time": "2018-11-01T06:30:29.093927Z",
     "start_time": "2018-11-01T06:30:29.089731Z"
    }
   },
   "outputs": [
    {
     "name": "stdout",
     "output_type": "stream",
     "text": [
      "7625\n",
      "19\n"
     ]
    }
   ],
   "source": [
    "# 行数\n",
    "print(table.nrows) \n",
    "# 列数\n",
    "print(table.ncols)"
   ]
  },
  {
   "cell_type": "code",
   "execution_count": 70,
   "metadata": {
    "ExecuteTime": {
     "end_time": "2018-11-01T07:19:16.163460Z",
     "start_time": "2018-11-01T07:19:15.696925Z"
    }
   },
   "outputs": [],
   "source": [
    "import pandas as pd\n",
    "import numpy as np\n",
    "test_df = pd.DataFrame(pd.read_excel('personalroadriskassess.xls'))"
   ]
  },
  {
   "cell_type": "code",
   "execution_count": 84,
   "metadata": {
    "ExecuteTime": {
     "end_time": "2018-11-01T07:23:08.695591Z",
     "start_time": "2018-11-01T07:23:08.691183Z"
    }
   },
   "outputs": [],
   "source": [
    "# test_df.fillna({'jl':test_df['jl'].mean()})\n",
    "\n",
    "test_df['jl'] = test_df['jl'].fillna(test_df['jl'].mean())\n",
    "# test_df['jl'].mean()\n",
    "# test_df.mean()"
   ]
  },
  {
   "cell_type": "code",
   "execution_count": 85,
   "metadata": {
    "ExecuteTime": {
     "end_time": "2018-11-01T07:23:10.980852Z",
     "start_time": "2018-11-01T07:23:10.969834Z"
    }
   },
   "outputs": [
    {
     "name": "stdout",
     "output_type": "stream",
     "text": [
      "<class 'pandas.core.frame.DataFrame'>\n",
      "RangeIndex: 7624 entries, 0 to 7623\n",
      "Data columns (total 19 columns):\n",
      "id          7624 non-null int64\n",
      "ZJCX        7624 non-null float64\n",
      "LJJF        7624 non-null int64\n",
      "xb          7624 non-null int64\n",
      "jl          7624 non-null float64\n",
      "SGFSSJ      7624 non-null datetime64[ns]\n",
      "SSRS        7624 non-null int64\n",
      "SWRS7       7624 non-null int64\n",
      "HPZL        6705 non-null float64\n",
      "hpzl2       234 non-null float64\n",
      "WFJFS       242 non-null float64\n",
      "WFSJ        242 non-null datetime64[ns]\n",
      "CLLX        7624 non-null int64\n",
      "marriage    7624 non-null int64\n",
      "edu         7624 non-null int64\n",
      "child       7624 non-null int64\n",
      "age         3811 non-null float64\n",
      "house       7624 non-null int64\n",
      "cp          7624 non-null int64\n",
      "dtypes: datetime64[ns](2), float64(6), int64(11)\n",
      "memory usage: 1.1 MB\n",
      "None\n"
     ]
    }
   ],
   "source": [
    "print(test_df.info())"
   ]
  },
  {
   "cell_type": "code",
   "execution_count": 102,
   "metadata": {
    "ExecuteTime": {
     "end_time": "2018-11-01T07:38:49.183154Z",
     "start_time": "2018-11-01T07:38:49.176076Z"
    }
   },
   "outputs": [],
   "source": [
    "X = np.array(test_df[[\n",
    "    'ZJCX', 'LJJF', 'xb', 'jl', 'CLLX',  'marriage', 'edu', 'child', 'house', 'cp'\n",
    "]])\n",
    "#, 'HPZL', 'hpzl2', 'WFJFS', 'WFSJ'\n",
    "#  , 'age'\n",
    "y = np.array(test_df['SSRS'])"
   ]
  },
  {
   "cell_type": "code",
   "execution_count": 105,
   "metadata": {
    "ExecuteTime": {
     "end_time": "2018-11-01T07:39:10.159687Z",
     "start_time": "2018-11-01T07:39:10.155215Z"
    }
   },
   "outputs": [
    {
     "data": {
      "text/plain": [
       "(7624, 10)"
      ]
     },
     "execution_count": 105,
     "metadata": {},
     "output_type": "execute_result"
    }
   ],
   "source": [
    "# print(type(X_scaler))\n",
    "# print(X_scaler.size)\n",
    "# print(np.prod(X.shape))\n",
    "# X_scaler.shape\n",
    "X.shape"
   ]
  },
  {
   "cell_type": "code",
   "execution_count": 106,
   "metadata": {
    "ExecuteTime": {
     "end_time": "2018-11-01T07:39:12.171155Z",
     "start_time": "2018-11-01T07:39:12.164855Z"
    }
   },
   "outputs": [
    {
     "name": "stdout",
     "output_type": "stream",
     "text": [
      "(7624, 10)\n"
     ]
    }
   ],
   "source": [
    "#导入数据预处理库\n",
    "from sklearn import preprocessing\n",
    "#范围0-1缩放标准化\n",
    "min_max_scaler = preprocessing.MinMaxScaler()\n",
    "X_scaler=min_max_scaler.fit_transform(X)\n",
    "#查看特征的维度\n",
    "print(X_scaler.shape)\n"
   ]
  },
  {
   "cell_type": "code",
   "execution_count": 111,
   "metadata": {
    "ExecuteTime": {
     "end_time": "2018-11-01T07:45:42.605022Z",
     "start_time": "2018-11-01T07:45:42.599986Z"
    }
   },
   "outputs": [
    {
     "data": {
      "text/plain": [
       "array([0.19939563, 0.02732656, 0.10663694, 0.46564549, 0.08999919,\n",
       "       0.03711962, 0.02311123, 0.49986884, 0.00314795, 0.20564446])"
      ]
     },
     "execution_count": 111,
     "metadata": {},
     "output_type": "execute_result"
    }
   ],
   "source": [
    "X_scaler.mean(axis=0)"
   ]
  },
  {
   "cell_type": "code",
   "execution_count": 112,
   "metadata": {
    "ExecuteTime": {
     "end_time": "2018-11-01T07:46:08.505281Z",
     "start_time": "2018-11-01T07:46:08.498606Z"
    }
   },
   "outputs": [
    {
     "name": "stdout",
     "output_type": "stream",
     "text": [
      "(7624, 3)\n"
     ]
    }
   ],
   "source": [
    "#导入sklearn库中的VarianceThreshold\n",
    "from sklearn.feature_selection import VarianceThreshold\n",
    "#设置方差的阈值为0.8\n",
    "sel = VarianceThreshold(threshold=.08)\n",
    "#选择方差大于0.8的特征\n",
    "X_sel=sel.fit_transform(X_scaler)\n",
    "print(X_sel.shape)"
   ]
  },
  {
   "cell_type": "code",
   "execution_count": 113,
   "metadata": {
    "ExecuteTime": {
     "end_time": "2018-11-01T07:46:13.602557Z",
     "start_time": "2018-11-01T07:46:13.598274Z"
    }
   },
   "outputs": [
    {
     "data": {
      "text/plain": [
       "array([0.10663694, 0.46564549, 0.49986884])"
      ]
     },
     "execution_count": 113,
     "metadata": {},
     "output_type": "execute_result"
    }
   ],
   "source": [
    "X_sel.mean(axis=0)"
   ]
  },
  {
   "cell_type": "code",
   "execution_count": null,
   "metadata": {},
   "outputs": [],
   "source": []
  }
 ],
 "metadata": {
  "kernelspec": {
   "display_name": "Python 3",
   "language": "python",
   "name": "python3"
  },
  "language_info": {
   "codemirror_mode": {
    "name": "ipython",
    "version": 3
   },
   "file_extension": ".py",
   "mimetype": "text/x-python",
   "name": "python",
   "nbconvert_exporter": "python",
   "pygments_lexer": "ipython3",
   "version": "3.6.4"
  },
  "toc": {
   "base_numbering": 1,
   "nav_menu": {},
   "number_sections": true,
   "sideBar": true,
   "skip_h1_title": false,
   "title_cell": "Table of Contents",
   "title_sidebar": "Contents",
   "toc_cell": false,
   "toc_position": {},
   "toc_section_display": true,
   "toc_window_display": false
  }
 },
 "nbformat": 4,
 "nbformat_minor": 2
}
