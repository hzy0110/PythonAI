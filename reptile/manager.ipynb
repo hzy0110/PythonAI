{
 "cells": [
  {
   "cell_type": "code",
   "execution_count": 161,
   "metadata": {
    "ExecuteTime": {
     "end_time": "2019-09-21T01:36:29.730112Z",
     "start_time": "2019-09-21T01:36:29.683406Z"
    }
   },
   "outputs": [],
   "source": [
    "import pandas as pd\n",
    "import numpy as np\n",
    "import time\n",
    "import requests\n",
    "import execjs"
   ]
  },
  {
   "cell_type": "code",
   "execution_count": 39,
   "metadata": {
    "ExecuteTime": {
     "end_time": "2019-09-20T02:19:56.046171Z",
     "start_time": "2019-09-20T02:19:55.888941Z"
    }
   },
   "outputs": [],
   "source": [
    "# 读取基金文件\n",
    "manager_history_pd = pd.read_csv('./data/manager/manager_history_pd.csv',low_memory=False)\n",
    "manager_current_pd = pd.read_csv('./data/manager/manager_current_pd.csv',low_memory=False)\n",
    "allManager_pd = pd.read_csv('./data/manager/allManager_pd.csv',low_memory=False)\n"
   ]
  },
  {
   "cell_type": "code",
   "execution_count": 106,
   "metadata": {
    "ExecuteTime": {
     "end_time": "2019-09-20T03:02:51.675015Z",
     "start_time": "2019-09-20T03:02:44.761892Z"
    }
   },
   "outputs": [
    {
     "name": "stdout",
     "output_type": "stream",
     "text": [
      "2062\n",
      "2062\n"
     ]
    }
   ],
   "source": [
    "# 计算经理擅长的类型，并保存\n",
    "allManager_id_s = allManager_pd['manageID']\n",
    "m_id = []\n",
    "m_gat = []\n",
    "for manage_id in allManager_id_s:\n",
    "    fund_type_history_s = manager_history_pd.loc[manager_history_pd['经理ID'] ==\n",
    "                                                 manage_id]['基金类型']\n",
    "    fund_type_current_s = manager_current_pd.loc[manager_current_pd['经理ID'] ==\n",
    "                                                 manage_id]['基金类型']\n",
    "    # 合并类型\n",
    "    fund_type_all_s = fund_type_history_s.append(fund_type_current_s)\n",
    "#     print(manage_id,fund_type_all_s.shape)\n",
    "    # 获取类型最多的，作为擅长类型\n",
    "    if len(fund_type_all_s)  > 0:\n",
    "        manager_goo_at_type = fund_type_all_s.groupby(\n",
    "            fund_type_all_s).count().idxmax()\n",
    "        m_id.append(manage_id)\n",
    "        m_gat.append(manager_goo_at_type)\n",
    "\n",
    "manager_goo_at_type_pd = pd.DataFrame(columns=['manageID', 'good_at_type'])\n",
    "manager_goo_at_type_pd['manageID'] = m_id\n",
    "manager_goo_at_type_pd['good_at_type'] = m_gat\n",
    "allManager_good_at_type_pd = pd.merge(\n",
    "    allManager_pd, manager_goo_at_type_pd, how='left', on='manageID')\n",
    "allManager_good_at_type_pd.to_csv(\n",
    "    './data/manager/allManager_pd.csv',\n",
    "    encoding='utf_8_sig',\n",
    "    index=False)\n",
    "allManager_pd = pd.read_csv('./data/manager/allManager_pd.csv',low_memory=False)"
   ]
  },
  {
   "cell_type": "code",
   "execution_count": 232,
   "metadata": {
    "ExecuteTime": {
     "end_time": "2019-09-21T07:41:56.591981Z",
     "start_time": "2019-09-21T07:41:56.153934Z"
    }
   },
   "outputs": [
    {
     "name": "stdout",
     "output_type": "stream",
     "text": [
      "(19068, 9)\n",
      "(19118, 10)\n",
      "(19118, 13)\n",
      "       经理ID    基金代码         基金名称 基金类型        起始时间 截止时间     任职天数    任职回报  \\\n",
      "0  30198442    5774     华夏产业升级混合  混合型  2018-08-24   至今   1年又28天  0.1533   \n",
      "1  30198442    5886      华夏鼎沛债券A  债券型  2018-06-26   至今   1年又87天  0.1963   \n",
      "2  30198442    5887      华夏鼎沛债券C  债券型  2018-06-26   至今   1年又87天  0.1904   \n",
      "3  30198442  160324  华夏磐晟混合(LOF)  混合型  2018-01-17   至今  1年又247天  0.1142   \n",
      "4  30198442    2411      华夏新机遇混合  混合型  2017-09-08   至今   2年又13天  0.2328   \n",
      "\n",
      "     同类平均       同类排名                  相关链接 规模（亿元）             任职时间  \n",
      "0  0.1703  1339|2757  ['估值图', '基金吧', '档案']   0.49  2018-08-24 ~ 至今  \n",
      "1  0.0800    21|1260  ['估值图', '基金吧', '档案']   2.04  2018-06-26 ~ 至今  \n",
      "2  0.0800    24|1260  ['估值图', '基金吧', '档案']   2.33  2018-06-26 ~ 至今  \n",
      "3  0.0538   594|2311  ['估值图', '基金吧', '档案']   1.75  2018-01-17 ~ 至今  \n",
      "4  0.1021   342|2255  ['估值图', '基金吧', '档案']   3.11  2017-09-08 ~ 至今  \n"
     ]
    }
   ],
   "source": [
    "# 合并 2 个不同的历史数据，变成新的\n",
    "manager_history_pd = pd.read_csv('./data/manager/manager_history_pd.csv',low_memory=False)\n",
    "manager_history_similar_pd = pd.read_csv('./data/manager/manager_history_similar_pd.csv',low_memory=False)\n",
    "print(manager_history_pd.shape)\n",
    "print(manager_history_similar_pd.shape)\n",
    "manager_history_all_pd = pd.merge(\n",
    "    manager_history_similar_pd,\n",
    "    manager_history_pd,\n",
    "    how='left',\n",
    "    on=['经理ID', '基金代码','基金名称','基金类型','任职天数','任职回报'])\n",
    "\n",
    "manager_history_all_pd['任职回报'] = manager_history_all_pd['任职回报'].str.strip('%').astype(float)/100\n",
    "manager_history_all_pd['同类平均'] = manager_history_all_pd['同类平均'].str.strip('%').astype(float)/100\n",
    "print(manager_history_all_pd.shape)\n",
    "print(manager_history_all_pd.head())\n",
    "manager_history_all_pd.to_csv('./data/manager/manager_history_all_pd.csv', index=False, encoding='utf_8_sig')"
   ]
  },
  {
   "cell_type": "code",
   "execution_count": 302,
   "metadata": {
    "ExecuteTime": {
     "end_time": "2019-09-21T12:15:23.086641Z",
     "start_time": "2019-09-21T12:15:20.315867Z"
    }
   },
   "outputs": [],
   "source": [
    "# 计算经理数据\n",
    "manager_history_all_pd = pd.read_csv(\n",
    "    './data/manager/manager_history_all_pd.csv', low_memory=False)\n",
    "\n",
    "\n",
    "# manager_history_all_pd['任职同类回报比'] = manager_history_all_pd.apply(\n",
    "#     lambda x: divide(x['任职回报'],x['同类平均']) , axis=1)\n",
    "\n",
    "manager_history_all_pd['同类排名比'] = manager_history_all_pd.apply(\n",
    "    lambda x: similarPer(x['同类排名']) , axis=1)\n",
    "\n",
    "manager_history_all_pd['任职同类差'] = manager_history_all_pd.apply(\n",
    "    lambda x: x['任职回报'] - x['同类平均'] , axis=1)\n",
    "\n",
    "manager_history_all_pd['同类差比和'] = manager_history_all_pd.apply(\n",
    "    lambda x: x['同类排名比'] + x['任职同类差'] , axis=1)\n",
    "\n",
    "manager_history_all_pd['同类差比乘'] = manager_history_all_pd.apply(\n",
    "    lambda x: x['同类排名比'] * x['任职同类差'] , axis=1)\n",
    "\n",
    "manager_history_all_pd['任职天数'] = manager_history_all_pd.apply(\n",
    "    lambda x: workDay(x['任职天数']) , axis=1)\n",
    "\n",
    "\n",
    "\n",
    "# manager_history_all_pd.info()\n",
    "manager_history_all_pd.to_csv('./data/manager/manager_history_all_1_pd.csv', index=False, encoding='utf_8_sig')"
   ]
  },
  {
   "cell_type": "code",
   "execution_count": 352,
   "metadata": {
    "ExecuteTime": {
     "end_time": "2019-09-21T13:43:43.924106Z",
     "start_time": "2019-09-21T13:43:16.037768Z"
    }
   },
   "outputs": [
    {
     "name": "stdout",
     "output_type": "stream",
     "text": [
      "执行到 2 年\n",
      "执行到 3 年\n",
      "执行到 4 年\n",
      "执行到 5 年\n"
     ]
    }
   ],
   "source": [
    "# 把个年内的指标放到总表\n",
    "allManager_pd = pd.read_csv('./data/manager/allManager_pd.csv',low_memory=False)\n",
    "mID_s = allManager_pd['manageID']\n",
    "manager_history_all_pd = pd.read_csv(\n",
    "    './data/manager/manager_history_all_1_pd.csv', low_memory=False)\n",
    "for y in range(2, 6, 1):\n",
    "    print(\"执行到\",y,\"年\")\n",
    "    m_history_1_list = []\n",
    "    m_history_2_list = []\n",
    "    m_history_3_list = []\n",
    "    m_history_4_list = []\n",
    "    for mID in mID_s:\n",
    "        m_history = manager_history_all_pd.loc[manager_history_all_pd['经理ID'] ==\n",
    "                                               mID]\n",
    "\n",
    "\n",
    "        m_history_1 = m_history.loc[m_history['任职天数'] > y * 365]['同类排名比'].sum()\n",
    "        m_history_1_list.append(m_history_1)\n",
    "        m_history_2 = m_history.loc[m_history['任职天数'] > y * 365]['任职同类差'].sum()\n",
    "        m_history_2_list.append(m_history_2)\n",
    "        m_history_3 = m_history.loc[m_history['任职天数'] > y * 365]['同类差比和'].sum()\n",
    "        m_history_3_list.append(m_history_3)\n",
    "        m_history_4 = m_history.loc[m_history['任职天数'] > y * 365]['同类差比乘'].sum()\n",
    "        m_history_4_list.append(m_history_4)\n",
    "\n",
    "    allManager_pd.insert(allManager_pd.shape[1],'近' + str(y) + '年内同类排名比',m_history_1_list)\n",
    "    allManager_pd.insert(allManager_pd.shape[1],'近' + str(y) + '年内任职同类差',m_history_2_list)\n",
    "    allManager_pd.insert(allManager_pd.shape[1],'近' + str(y) + '年内同类差比和',m_history_3_list)\n",
    "    allManager_pd.insert(allManager_pd.shape[1],'近' + str(y) + '年内同类差比乘',m_history_4_list)\n",
    "allManager_pd.to_csv('./data/manager/allManager_1_pd.csv', index=False, encoding='utf_8_sig')"
   ]
  },
  {
   "cell_type": "code",
   "execution_count": 270,
   "metadata": {
    "ExecuteTime": {
     "end_time": "2019-09-21T09:58:21.067001Z",
     "start_time": "2019-09-21T09:58:20.940345Z"
    }
   },
   "outputs": [
    {
     "name": "stdout",
     "output_type": "stream",
     "text": [
      "        经理ID    基金代码            基金名称  基金类型        起始时间        截止时间  任职天数  \\\n",
      "4   30198442    2411         华夏新机遇混合   混合型  2017-09-08          至今   743   \n",
      "5   30198442    3300          华夏圆和混合   混合型  2016-12-29          至今   996   \n",
      "6   30198442       1          华夏成长混合   混合型  2015-01-07          至今  1718   \n",
      "7   30198442  160311     华夏蓝筹混合(LOF)   混合型  2013-03-11  2017-02-24  1446   \n",
      "12  30507477  502000  西部利得中证500等权重分级  股票指数  2016-11-24          至今  1031   \n",
      "\n",
      "      任职回报    同类平均      同类排名                  相关链接 规模（亿元）  \\\n",
      "4   0.2328  0.1021  342|2255  ['估值图', '基金吧', '档案']   3.11   \n",
      "5   0.1722  0.1914  874|1787  ['估值图', '基金吧', '档案']   5.81   \n",
      "6   0.1237  0.4737   614|746  ['估值图', '基金吧', '档案']  47.14   \n",
      "7   0.6583  0.7101   281|550  ['估值图', '基金吧', '档案']  39.36   \n",
      "12 -0.0036  0.0917   400|632  ['估值图', '基金吧', '档案']   2.32   \n",
      "\n",
      "                       任职时间   经理任职同类比  经理任职同类差  \n",
      "4           2017-09-08 ~ 至今  2.280118   0.1307  \n",
      "5           2016-12-29 ~ 至今  0.899687  -0.0192  \n",
      "6           2015-01-07 ~ 至今  0.261136  -0.3500  \n",
      "7   2013-03-11 ~ 2017-02-24  0.927053  -0.0518  \n",
      "12          2016-11-24 ~ 至今 -0.039258  -0.0953  \n"
     ]
    }
   ],
   "source": [
    "# 查找大于 2 年，总差最大的\n",
    "manager_history_all_pd = pd.read_csv(\n",
    "    './data/manager/manager_history_all_1_pd.csv', low_memory=False)\n",
    "# manager_history_all_pd.info()\n",
    "manager_top_pd = manager_history_all_pd.loc[manager_history_all_pd['任职天数'] > 2* 365]\n",
    "print(manager_top_pd.head())"
   ]
  },
  {
   "cell_type": "code",
   "execution_count": 328,
   "metadata": {
    "ExecuteTime": {
     "end_time": "2019-09-21T12:59:35.052439Z",
     "start_time": "2019-09-21T12:59:35.047688Z"
    },
    "code_folding": [
     0
    ]
   },
   "outputs": [],
   "source": [
    "# 计算任职时间\n",
    "def workDay(dayStr):\n",
    "    manage_wordDay = dayStr.split('又')\n",
    "    if len(manage_wordDay) > 1:\n",
    "        manage_word_year = manage_wordDay[0].split('年')[0]\n",
    "        manage_word_day = manage_wordDay[1].split('天')[0]\n",
    "        manage_wordDay_Total = int(manage_word_year) * 365 + int(\n",
    "            manage_word_day)\n",
    "    else:\n",
    "        manage_wordDay_Total = dayStr.split('天')[0]\n",
    "    return manage_wordDay_Total"
   ]
  },
  {
   "cell_type": "code",
   "execution_count": 280,
   "metadata": {
    "ExecuteTime": {
     "end_time": "2019-09-21T10:10:58.769569Z",
     "start_time": "2019-09-21T10:10:58.765295Z"
    },
    "code_folding": [
     0
    ]
   },
   "outputs": [],
   "source": [
    "# 计算相似比率\n",
    "def similarPer(similarStr):\n",
    "    x = similarStr.split('|')[0]\n",
    "    y = similarStr.split('|')[1]\n",
    "    if x != '-' and y != '-':\n",
    "        return 1 - int(x)/int(y)\n",
    "    else:\n",
    "        return 0\n",
    "    "
   ]
  },
  {
   "cell_type": "code",
   "execution_count": null,
   "metadata": {},
   "outputs": [],
   "source": []
  }
 ],
 "metadata": {
  "kernelspec": {
   "display_name": "Python 3",
   "language": "python",
   "name": "python3"
  },
  "language_info": {
   "codemirror_mode": {
    "name": "ipython",
    "version": 3
   },
   "file_extension": ".py",
   "mimetype": "text/x-python",
   "name": "python",
   "nbconvert_exporter": "python",
   "pygments_lexer": "ipython3",
   "version": "3.6.8"
  },
  "toc": {
   "base_numbering": 1,
   "nav_menu": {},
   "number_sections": true,
   "sideBar": true,
   "skip_h1_title": false,
   "title_cell": "Table of Contents",
   "title_sidebar": "Contents",
   "toc_cell": false,
   "toc_position": {},
   "toc_section_display": true,
   "toc_window_display": false
  }
 },
 "nbformat": 4,
 "nbformat_minor": 2
}
