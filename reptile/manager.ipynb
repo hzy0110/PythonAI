{
 "cells": [
  {
   "cell_type": "code",
   "execution_count": 161,
   "metadata": {
    "ExecuteTime": {
     "end_time": "2019-09-21T01:36:29.730112Z",
     "start_time": "2019-09-21T01:36:29.683406Z"
    }
   },
   "outputs": [],
   "source": [
    "import pandas as pd\n",
    "import numpy as np\n",
    "import time\n",
    "import requests\n",
    "import execjs"
   ]
  },
  {
   "cell_type": "code",
   "execution_count": 447,
   "metadata": {
    "ExecuteTime": {
     "end_time": "2019-09-21T15:33:28.300236Z",
     "start_time": "2019-09-21T15:33:28.104231Z"
    }
   },
   "outputs": [],
   "source": [
    "# 读取基金文件\n",
    "manager_history_pd = pd.read_csv('./data/manager/manager_history_pd.csv',low_memory=False)\n",
    "manager_current_pd = pd.read_csv('./data/manager/manager_current_pd.csv',low_memory=False)\n",
    "allManager_pd = pd.read_csv('./data/manager/allManager_pd.csv',low_memory=False)\n"
   ]
  },
  {
   "cell_type": "code",
   "execution_count": 448,
   "metadata": {
    "ExecuteTime": {
     "end_time": "2019-09-21T15:33:34.702960Z",
     "start_time": "2019-09-21T15:33:29.062773Z"
    }
   },
   "outputs": [],
   "source": [
    "# 计算经理擅长的类型，并保存\n",
    "allManager_id_s = allManager_pd['manageID']\n",
    "m_id = []\n",
    "m_gat = []\n",
    "for manage_id in allManager_id_s:\n",
    "    fund_type_history_s = manager_history_pd.loc[manager_history_pd['经理ID'] ==\n",
    "                                                 manage_id]['基金类型']\n",
    "    fund_type_current_s = manager_current_pd.loc[manager_current_pd['经理ID'] ==\n",
    "                                                 manage_id]['基金类型']\n",
    "    # 合并类型\n",
    "    fund_type_all_s = fund_type_history_s.append(fund_type_current_s)\n",
    "#     print(manage_id,fund_type_all_s.shape)\n",
    "    # 获取类型最多的，作为擅长类型\n",
    "    if len(fund_type_all_s)  > 0:\n",
    "        manager_goo_at_type = fund_type_all_s.groupby(\n",
    "            fund_type_all_s).count().idxmax()\n",
    "        m_id.append(manage_id)\n",
    "        m_gat.append(manager_goo_at_type)\n",
    "\n",
    "manager_goo_at_type_pd = pd.DataFrame(columns=['manageID', 'good_at_type'])\n",
    "manager_goo_at_type_pd['manageID'] = m_id\n",
    "manager_goo_at_type_pd['good_at_type'] = m_gat\n",
    "allManager_good_at_type_pd = pd.merge(\n",
    "    allManager_pd, manager_goo_at_type_pd, how='left', on='manageID')\n",
    "allManager_good_at_type_pd.to_csv(\n",
    "    './data/manager/allManager_pd.csv',\n",
    "    encoding='utf_8_sig',\n",
    "    index=False)\n",
    "allManager_pd = pd.read_csv('./data/manager/allManager_pd.csv',low_memory=False)"
   ]
  },
  {
   "cell_type": "code",
   "execution_count": 449,
   "metadata": {
    "ExecuteTime": {
     "end_time": "2019-09-21T15:33:56.312129Z",
     "start_time": "2019-09-21T15:33:55.837582Z"
    }
   },
   "outputs": [
    {
     "name": "stdout",
     "output_type": "stream",
     "text": [
      "(19068, 9)\n",
      "(19118, 10)\n",
      "(19118, 13)\n"
     ]
    }
   ],
   "source": [
    "# 合并 2 个不同的历史数据，变成新的\n",
    "manager_history_pd = pd.read_csv('./data/manager/manager_history_pd.csv',low_memory=False)\n",
    "manager_history_similar_pd = pd.read_csv('./data/manager/manager_history_similar_pd.csv',low_memory=False)\n",
    "print(manager_history_pd.shape)\n",
    "print(manager_history_similar_pd.shape)\n",
    "manager_history_all_pd = pd.merge(\n",
    "    manager_history_similar_pd,\n",
    "    manager_history_pd,\n",
    "    how='left',\n",
    "    on=['经理ID', '基金代码','基金名称','基金类型','任职天数','任职回报'])\n",
    "\n",
    "manager_history_all_pd['任职回报'] = manager_history_all_pd['任职回报'].str.strip('%').astype(float)/100\n",
    "manager_history_all_pd['同类平均'] = manager_history_all_pd['同类平均'].str.strip('%').astype(float)/100\n",
    "print(manager_history_all_pd.shape)\n",
    "# print(manager_history_all_pd.head())\n",
    "manager_history_all_pd.to_csv('./data/manager/manager_history_all_pd.csv', index=False, encoding='utf_8_sig')"
   ]
  },
  {
   "cell_type": "code",
   "execution_count": 328,
   "metadata": {
    "ExecuteTime": {
     "end_time": "2019-09-21T12:59:35.052439Z",
     "start_time": "2019-09-21T12:59:35.047688Z"
    },
    "code_folding": [
     0
    ]
   },
   "outputs": [],
   "source": [
    "# 计算任职时间\n",
    "def workDay(dayStr):\n",
    "    manage_wordDay = dayStr.split('又')\n",
    "    if len(manage_wordDay) > 1:\n",
    "        manage_word_year = manage_wordDay[0].split('年')[0]\n",
    "        manage_word_day = manage_wordDay[1].split('天')[0]\n",
    "        manage_wordDay_Total = int(manage_word_year) * 365 + int(\n",
    "            manage_word_day)\n",
    "    else:\n",
    "        manage_wordDay_Total = dayStr.split('天')[0]\n",
    "    return manage_wordDay_Total"
   ]
  },
  {
   "cell_type": "code",
   "execution_count": 280,
   "metadata": {
    "ExecuteTime": {
     "end_time": "2019-09-21T10:10:58.769569Z",
     "start_time": "2019-09-21T10:10:58.765295Z"
    },
    "code_folding": [
     0
    ]
   },
   "outputs": [],
   "source": [
    "# 计算相似比率\n",
    "def similarPer(similarStr):\n",
    "    x = similarStr.split('|')[0]\n",
    "    y = similarStr.split('|')[1]\n",
    "    if x != '-' and y != '-':\n",
    "        return 1 - int(x)/int(y)\n",
    "    else:\n",
    "        return 0\n",
    "    "
   ]
  },
  {
   "cell_type": "code",
   "execution_count": 450,
   "metadata": {
    "ExecuteTime": {
     "end_time": "2019-09-21T15:34:19.991520Z",
     "start_time": "2019-09-21T15:34:17.496267Z"
    }
   },
   "outputs": [],
   "source": [
    "# 计算经理数据\n",
    "manager_history_all_pd = pd.read_csv(\n",
    "    './data/manager/manager_history_all_pd.csv', low_memory=False)\n",
    "\n",
    "\n",
    "# manager_history_all_pd['任职同类回报比'] = manager_history_all_pd.apply(\n",
    "#     lambda x: divide(x['任职回报'],x['同类平均']) , axis=1)\n",
    "\n",
    "manager_history_all_pd['同类排名比'] = manager_history_all_pd.apply(\n",
    "    lambda x: similarPer(x['同类排名']) , axis=1)\n",
    "\n",
    "manager_history_all_pd['任职同类差'] = manager_history_all_pd.apply(\n",
    "    lambda x: x['任职回报'] - x['同类平均'] , axis=1)\n",
    "\n",
    "manager_history_all_pd['同类差比和'] = manager_history_all_pd.apply(\n",
    "    lambda x: x['同类排名比'] + x['任职同类差'] , axis=1)\n",
    "\n",
    "manager_history_all_pd['同类差比乘'] = manager_history_all_pd.apply(\n",
    "    lambda x: x['同类排名比'] * x['任职同类差'] , axis=1)\n",
    "\n",
    "manager_history_all_pd['任职天数'] = manager_history_all_pd.apply(\n",
    "    lambda x: workDay(x['任职天数']) , axis=1)\n",
    "\n",
    "\n",
    "\n",
    "# manager_history_all_pd.info()\n",
    "manager_history_all_pd.to_csv('./data/manager/manager_history_all_1_pd.csv', index=False, encoding='utf_8_sig')"
   ]
  },
  {
   "cell_type": "code",
   "execution_count": 451,
   "metadata": {
    "ExecuteTime": {
     "end_time": "2019-09-21T15:34:57.218876Z",
     "start_time": "2019-09-21T15:34:30.274889Z"
    }
   },
   "outputs": [
    {
     "name": "stdout",
     "output_type": "stream",
     "text": [
      "执行到 2 年\n",
      "执行到 3 年\n",
      "执行到 4 年\n",
      "执行到 5 年\n"
     ]
    }
   ],
   "source": [
    "# 把个年内的指标放到总表\n",
    "allManager_pd = pd.read_csv('./data/manager/allManager_pd.csv',low_memory=False)\n",
    "mID_s = allManager_pd['manageID']\n",
    "manager_history_all_pd = pd.read_csv(\n",
    "    './data/manager/manager_history_all_1_pd.csv', low_memory=False)\n",
    "for y in range(2, 6, 1):\n",
    "    print(\"执行到\",y,\"年\")\n",
    "    m_history_1_list = []\n",
    "    m_history_2_list = []\n",
    "    m_history_3_list = []\n",
    "    m_history_4_list = []\n",
    "    for mID in mID_s:\n",
    "        m_history = manager_history_all_pd.loc[manager_history_all_pd['经理ID'] ==\n",
    "                                               mID]\n",
    "\n",
    "\n",
    "        m_history_1 = m_history.loc[m_history['任职天数'] > y * 365]['同类排名比'].sum()\n",
    "        m_history_1_list.append(m_history_1)\n",
    "        m_history_2 = m_history.loc[m_history['任职天数'] > y * 365]['任职同类差'].sum()\n",
    "        m_history_2_list.append(m_history_2)\n",
    "        m_history_3 = m_history.loc[m_history['任职天数'] > y * 365]['同类差比和'].sum()\n",
    "        m_history_3_list.append(m_history_3)\n",
    "        m_history_4 = m_history.loc[m_history['任职天数'] > y * 365]['同类差比乘'].sum()\n",
    "        m_history_4_list.append(m_history_4)\n",
    "\n",
    "    allManager_pd.insert(allManager_pd.shape[1],'近' + str(y) + '年内同类排名比',m_history_1_list)\n",
    "    allManager_pd.insert(allManager_pd.shape[1],'近' + str(y) + '年内任职同类差',m_history_2_list)\n",
    "    allManager_pd.insert(allManager_pd.shape[1],'近' + str(y) + '年内同类差比和',m_history_3_list)\n",
    "    allManager_pd.insert(allManager_pd.shape[1],'近' + str(y) + '年内同类差比乘',m_history_4_list)\n",
    "allManager_pd.to_csv('./data/manager/allManager_1_pd.csv', index=False, encoding='utf_8_sig')"
   ]
  },
  {
   "cell_type": "code",
   "execution_count": 452,
   "metadata": {
    "ExecuteTime": {
     "end_time": "2019-09-21T15:35:03.517690Z",
     "start_time": "2019-09-21T15:35:02.965906Z"
    }
   },
   "outputs": [],
   "source": [
    "# 总表计算各年的总和\n",
    "allManager_pd = pd.read_csv('./data/manager/allManager_1_pd.csv',low_memory=False)\n",
    "for y in range(2, 6, 1):\n",
    "    allManager_pd['近' + str(y) + '年内总分'] = allManager_pd.apply(\n",
    "        lambda r: \n",
    "        r['近' + str(y) + '年内同类排名比'] +\n",
    "        r['近' + str(y) + '年内任职同类差'] + \n",
    "        r['近' + str(y) + '年内同类差比和'] + \n",
    "        r['近' + str(y) + '年内同类差比乘'], axis=1)\n",
    "allManager_pd.to_csv('./data/manager/allManager_2_pd.csv', index=False, encoding='utf_8_sig')"
   ]
  },
  {
   "cell_type": "code",
   "execution_count": 536,
   "metadata": {
    "ExecuteTime": {
     "end_time": "2019-09-22T07:45:19.084232Z",
     "start_time": "2019-09-22T07:45:18.889707Z"
    }
   },
   "outputs": [
    {
     "name": "stdout",
     "output_type": "stream",
     "text": [
      "(237, 5)\n"
     ]
    }
   ],
   "source": [
    "# 查找 N 年内，总分都在前 30%的\n",
    "top = 0.3\n",
    "# name = '同类排名比'\n",
    "# csv_name = 'similar_rank_per'\n",
    "name_list = ['同类排名比','任职同类差','同类差比和','同类差比乘','总分']\n",
    "csv_name_list = ['similar_rank_per','office_similar_diff','sum(srp_osd)','mult(srp_osd)','total']\n",
    "\n",
    "allManager_pd = pd.read_csv('./data/manager/allManager_2_pd.csv',low_memory=False)\n",
    "for name,csv_name in zip(name_list,csv_name_list):\n",
    "    allManager_pd_top_2y_pd = allManager_pd.loc[:,['manageID','近2年内' + name]]\n",
    "    allManager_pd_top_2y_pd.sort_values(by = '近2年内' + name, inplace=True, ascending=False)\n",
    "    allManager_pd_top_2y_pd = allManager_pd_top_2y_pd.head(round(allManager_pd.shape[0] * top))\n",
    "\n",
    "    allManager_pd_top_3y_pd = allManager_pd.loc[:,['manageID','近3年内' + name]]\n",
    "    allManager_pd_top_3y_pd.sort_values(by = '近3年内' + name, inplace=True, ascending=False)\n",
    "    allManager_pd_top_3y_pd = allManager_pd_top_3y_pd.head(round(allManager_pd.shape[0] * top))\n",
    "\n",
    "    allManager_pd_top_4y_pd = allManager_pd.loc[:,['manageID','近4年内' + name]]\n",
    "    allManager_pd_top_4y_pd.sort_values(by = '近4年内' + name, inplace=True, ascending=False)\n",
    "    allManager_pd_top_4y_pd = allManager_pd_top_4y_pd.head(round(allManager_pd.shape[0] * top))\n",
    "\n",
    "    allManager_pd_top_5y_pd = allManager_pd.loc[:,['manageID','近5年内' + name]]\n",
    "    allManager_pd_top_5y_pd.sort_values(by = '近5年内' + name, inplace=True, ascending=False)\n",
    "    allManager_pd_top_5y_pd = allManager_pd_top_5y_pd.head(round(allManager_pd.shape[0] * top))\n",
    "\n",
    "    m3 = pd.merge(allManager_pd_top_2y_pd,allManager_pd_top_3y_pd,how='inner',on = 'manageID')\n",
    "    m4 = pd.merge(m3,allManager_pd_top_4y_pd,how='inner',on = 'manageID')\n",
    "    m5 = pd.merge(m4,allManager_pd_top_5y_pd,how='inner',on = 'manageID')\n",
    "    m5.to_csv(\"./data/manager/allManager_\" + csv_name+ \"_2y_5y_pd.csv\", encoding='utf_8_sig', index=False)\n",
    "print(m5.shape)"
   ]
  },
  {
   "cell_type": "code",
   "execution_count": 529,
   "metadata": {
    "ExecuteTime": {
     "end_time": "2019-09-22T06:16:12.376350Z",
     "start_time": "2019-09-22T06:16:11.980364Z"
    }
   },
   "outputs": [
    {
     "name": "stdout",
     "output_type": "stream",
     "text": [
      "77\n"
     ]
    }
   ],
   "source": [
    "# 通过基金找经理\n",
    "fund_similar_top_6m_5y_pd = pd.read_csv('./data/fund/fund_similar_top_6m_5y_pd.csv',low_memory=False)\n",
    "allManager_pd = pd.read_csv('./data/manager/allManager_2_pd.csv',low_memory=False)\n",
    "fund_code = fund_similar_top_6m_5y_pd.loc[:,'code']\n",
    "manager_list = []\n",
    "# print(allManager_pd.info())\n",
    "for code in fund_code:\n",
    "#     print(type(code))\n",
    "# 找包含基金 code 的经理\n",
    "    m = allManager_pd[allManager_pd['fundID'].str.contains(str(code))]['manageID'].values[0]\n",
    "    if m not in manager_list:\n",
    "        manager_list.append(m)\n",
    "#     m = allManager_pd.loc[allManager_pd[:,'fundID'].str.contains(code)]\n",
    "print(len(manager_list))\n",
    "fund_similar_top_manager_pd = pd.DataFrame(manager_list,columns=['manageID'])\n"
   ]
  },
  {
   "cell_type": "code",
   "execution_count": null,
   "metadata": {
    "ExecuteTime": {
     "end_time": "2019-09-22T06:14:53.379607Z",
     "start_time": "2019-09-22T06:14:53.352047Z"
    }
   },
   "outputs": [],
   "source": []
  },
  {
   "cell_type": "code",
   "execution_count": 537,
   "metadata": {
    "ExecuteTime": {
     "end_time": "2019-09-22T07:49:25.743124Z",
     "start_time": "2019-09-22T07:49:25.650075Z"
    }
   },
   "outputs": [
    {
     "name": "stdout",
     "output_type": "stream",
     "text": [
      "(29, 5)\n",
      "(12, 5)\n",
      "(22, 5)\n",
      "(21, 5)\n",
      "(22, 5)\n"
     ]
    }
   ],
   "source": [
    "csv_name_list = ['similar_rank_per','office_similar_diff','sum(srp_osd)','mult(srp_osd)','total']\n",
    "for csv_name in csv_name_list:\n",
    "    allManager_2y_5y_pd = pd.read_csv('./data/manager/allManager_'+csv_name+'_2y_5y_pd.csv',low_memory=False)\n",
    "    mm = pd.merge(fund_similar_top_manager_pd,allManager_2y_5y_pd,how='inner',on='manageID')\n",
    "    print(mm.shape)\n"
   ]
  },
  {
   "cell_type": "code",
   "execution_count": 539,
   "metadata": {
    "ExecuteTime": {
     "end_time": "2019-09-22T08:20:40.055404Z",
     "start_time": "2019-09-22T08:20:39.451258Z"
    }
   },
   "outputs": [
    {
     "name": "stdout",
     "output_type": "stream",
     "text": [
      "(43, 2)\n"
     ]
    }
   ],
   "source": [
    "# 通过经理找基金，不理想\n",
    "allManager_top_2y_5y_pd = pd.read_csv('./data/manager/allManager_top_2y_5y_pd.csv',low_memory=False)\n",
    "fund_similar_top_6m_5y_pd = pd.read_csv('./data/fund/fund_similar_top_6m_5y_pd.csv',low_memory=False)\n",
    "allManager_pd = pd.read_csv('./data/manager/allManager_2_pd.csv',low_memory=False)\n",
    "fund_wide_pd = pd.read_csv('./data/fund/fund_wide_pd.csv',low_memory=False)\n",
    "fund_wide_pd = fund_wide_pd.loc[:,['code','类型']]\n",
    "m_id_s = allManager_top_2y_5y_pd.loc[:,'manageID']\n",
    "code =fund_similar_top_6m_5y_pd.loc[:,'code']\n",
    "code_list = []\n",
    "for mID in m_id_s:\n",
    "    fundID = allManager_pd.loc[allManager_pd['manageID'] == mID]['fundID'].values\n",
    "    for i in fundID:\n",
    "        name_list = list(map(int, i.split(',')))\n",
    "        for j in name_list:\n",
    "#             print(j)\n",
    "            if j not in code_list:\n",
    "                code_list.append(j)\n",
    "        \n",
    "# print(len(code_list))\n",
    "# print(len(code))\n",
    "m_code = pd.DataFrame(code_list,columns=['code'])\n",
    "# print(m_code)\n",
    "code = pd.DataFrame(code,columns=['code'])\n",
    "# print(code)\n",
    "# print(m_code.info())\n",
    "# print(code.info())\n",
    "mc = pd.merge(code,m_code,how='inner',on = 'code')\n",
    "mc = pd.merge(mc,fund_wide_pd,how='inner',on = 'code')\n",
    "print(mc.shape)\n",
    "mc.to_csv('./mc.csv',encoding='utf_8_sig',index=False)"
   ]
  },
  {
   "cell_type": "code",
   "execution_count": null,
   "metadata": {},
   "outputs": [],
   "source": []
  },
  {
   "cell_type": "code",
   "execution_count": null,
   "metadata": {},
   "outputs": [],
   "source": [
    "# 测试部分"
   ]
  },
  {
   "cell_type": "code",
   "execution_count": 578,
   "metadata": {
    "ExecuteTime": {
     "end_time": "2019-09-23T07:40:48.327897Z",
     "start_time": "2019-09-23T07:40:48.319364Z"
    }
   },
   "outputs": [
    {
     "name": "stdout",
     "output_type": "stream",
     "text": [
      "0\n"
     ]
    }
   ],
   "source": [
    "for t in range(1):\n",
    "\n",
    "    print(t)"
   ]
  },
  {
   "cell_type": "code",
   "execution_count": 576,
   "metadata": {
    "ExecuteTime": {
     "end_time": "2019-09-23T07:16:17.894954Z",
     "start_time": "2019-09-23T07:16:17.808194Z"
    }
   },
   "outputs": [
    {
     "name": "stdout",
     "output_type": "stream",
     "text": [
      "<class 'list'>\n",
      "(1, 4, 2342)\n"
     ]
    }
   ],
   "source": [
    "import codecs\n",
    "with open(\"/Users/hzy/Downloads/wr_s5_np1.json\") as f:\n",
    "     result=json.load(f)\n",
    "print(type(result))\n",
    "np1 = np.array(result)\n",
    "np2 = np1/3\n",
    "print(np2.shape)\n",
    "json.dump(np2.tolist(), codecs.open('/Users/hzy/Downloads/wr_s5_np.json', 'w', encoding='utf-8'), separators=(',', ':'), sort_keys=True,\n",
    "          indent=4)\n",
    "\n",
    "# np.savetxt('/Users/hzy/Downloads/wr_s5_np.json',np2)"
   ]
  },
  {
   "cell_type": "code",
   "execution_count": 486,
   "metadata": {
    "ExecuteTime": {
     "end_time": "2019-09-21T15:57:01.558318Z",
     "start_time": "2019-09-21T15:57:01.288356Z"
    }
   },
   "outputs": [
    {
     "name": "stdout",
     "output_type": "stream",
     "text": [
      "<class 'pandas.core.frame.DataFrame'>\n",
      "RangeIndex: 6672 entries, 0 to 6671\n",
      "Data columns (total 32 columns):\n",
      "中海可转债债券A                                                                                                                                                                                                                                                                                                                                                           6672 non-null object\n",
      "000003                                                                                                                                                                                                                                                                                                                                                             6672 non-null int64\n",
      "债券型                                                                                                                                                                                                                                                                                                                                                                6672 non-null object\n",
      "0.80                                                                                                                                                                                                                                                                                                                                                               5197 non-null float64\n",
      "0.08                                                                                                                                                                                                                                                                                                                                                               5191 non-null float64\n",
      "100                                                                                                                                                                                                                                                                                                                                                                5193 non-null float64\n",
      "18.2662                                                                                                                                                                                                                                                                                                                                                            5898 non-null float64\n",
      "0.9247                                                                                                                                                                                                                                                                                                                                                             6129 non-null float64\n",
      "13.6904                                                                                                                                                                                                                                                                                                                                                            6217 non-null float64\n",
      "6.1111                                                                                                                                                                                                                                                                                                                                                             6369 non-null float64\n",
      "['6000301', '0023842', '6008371', '6009581', '3000592', '6016881']                                                                                                                                                                                                                                                                                                 6671 non-null object\n",
      "['1130221', '1270052', '1130131', '1130081', '1230212']                                                                                                                                                                                                                                                                                                            6672 non-null object\n",
      "['2018-06-30', '2018-09-30', '2018-12-31', '2019-03-31', '2019-06-30']                                                                                                                                                                                                                                                                                             6672 non-null object\n",
      "[0.28, 0.25, 0.45, 0.52, 0.78]                                                                                                                                                                                                                                                                                                                                     6672 non-null object\n",
      "['-4.83%', '-9.32%', '79.81%', '15.98%', '49.64%']                                                                                                                                                                                                                                                                                                                 6672 non-null object\n",
      "        持有比名称     比例\n",
      "0  2017-12-31   1.94\n",
      "1  2018-06-30  31.25\n",
      "2  2018-12-31  61.37\n",
      "3  2019-06-30  71.13                                                                                                                                                                                                                                                           6672 non-null object\n",
      "        持有比名称     比例\n",
      "0  2017-12-31  98.06\n",
      "1  2018-06-30  68.75\n",
      "2  2018-12-31  38.63\n",
      "3  2019-06-30  28.87                                                                                                                                                                                                                                                           6672 non-null object\n",
      "        持有比名称      比例\n",
      "0  2017-12-31  0.0001\n",
      "1  2018-06-30  0.0001\n",
      "2  2018-12-31  0.0217\n",
      "3  2019-06-30  0.0159                                                                                                                                                                                                                                                      6672 non-null object\n",
      "           时间     比例\n",
      "0  2018-09-30  19.62\n",
      "1  2018-12-31  15.56\n",
      "2  2019-03-31  16.53\n",
      "3  2019-06-30  19.84                                                                                                                                                                                                                                                           6672 non-null object\n",
      "           时间      比例\n",
      "0  2018-09-30   79.79\n",
      "1  2018-12-31   83.60\n",
      "2  2019-03-31   81.90\n",
      "3  2019-06-30  113.94                                                                                                                                                                                                                                                      6672 non-null object\n",
      "           时间    比例\n",
      "0  2018-09-30  0.64\n",
      "1  2018-12-31  0.73\n",
      "2  2019-03-31  1.92\n",
      "3  2019-06-30  4.06                                                                                                                                                                                                                                                                6672 non-null object\n",
      "           时间        比例\n",
      "0  2018-09-30  0.414769\n",
      "1  2018-12-31  0.702768\n",
      "2  2019-03-31  0.997913\n",
      "3  2019-06-30  1.197469                                                                                                                                                                                                                                            6672 non-null object\n",
      "43.00                                                                                                                                                                                                                                                                                                                                                              6672 non-null object\n",
      "60                                                                                                                                                                                                                                                                                                                                                                 4764 non-null float64\n",
      "70                                                                                                                                                                                                                                                                                                                                                                 4749 non-null float64\n",
      "10                                                                                                                                                                                                                                                                                                                                                                 4764 non-null float64\n",
      "10.1                                                                                                                                                                                                                                                                                                                                                               4749 non-null float64\n",
      "50                                                                                                                                                                                                                                                                                                                                                                 4749 non-null float64\n",
      "                    0\n",
      "id           30197761\n",
      "姓名                彭海平\n",
      "星级                  2\n",
      "工作时间          6年又254天\n",
      "资金/基金数    7.09亿(5只基金)\n",
      "平均分             36.71\n",
      "截止日期       2019-09-17\n",
      "(经验值,)           85.6\n",
      "(收益率,)           40.3\n",
      "(抗风险,)            0.6\n",
      "(稳定性,)            6.5\n",
      "(择时能力,)          54.8\n",
      "(任期收益,)       15.9331\n",
      "(同类平均,)          6.69\n",
      "(沪深300,)        21.52    6672 non-null object\n",
      "           时间    份额\n",
      "0  2018-09-30  0.13\n",
      "1  2018-12-31  0.50\n",
      "2  2019-03-31  0.66\n",
      "3  2019-06-30  0.74                                                                                                                                                                                                                                                                6672 non-null object\n",
      "           时间    份额\n",
      "0  2018-09-30  0.17\n",
      "1  2018-12-31  0.17\n",
      "2  2019-03-31  0.69\n",
      "3  2019-06-30  0.32                                                                                                                                                                                                                                                                6672 non-null object\n",
      "           时间    份额\n",
      "0  2018-09-30  0.38\n",
      "1  2018-12-31  0.71\n",
      "2  2019-03-31  0.68\n",
      "3  2019-06-30  1.10                                                                                                                                                                                                                                                                6672 non-null object\n",
      "dtypes: float64(12), int64(1), object(19)\n",
      "memory usage: 1.6+ MB\n",
      "None\n"
     ]
    }
   ],
   "source": [
    "fund_wide_pd = pd.read_csv('./data/fund/fund_wide_pd.csv',low_memory=False)\n",
    "print(fund_wide_pd.info())\n",
    "# for code in fund_wide_pd['code']:\n",
    "#     print(code)\n",
    "#     print(int(code))"
   ]
  },
  {
   "cell_type": "code",
   "execution_count": 464,
   "metadata": {
    "ExecuteTime": {
     "end_time": "2019-09-21T15:40:17.275466Z",
     "start_time": "2019-09-21T15:40:17.272325Z"
    }
   },
   "outputs": [
    {
     "name": "stdout",
     "output_type": "stream",
     "text": [
      "['1,2,3,4'] <class 'list'>\n"
     ]
    }
   ],
   "source": [
    "# l1 = eval('[1,2,3,4]')\n",
    "l1 = eval(\"['1,2,3,4']\")\n",
    "print(l1,type(l1))\n",
    "# Out[1]: [1, 2, 3, 4]"
   ]
  },
  {
   "cell_type": "code",
   "execution_count": null,
   "metadata": {},
   "outputs": [],
   "source": []
  }
 ],
 "metadata": {
  "kernelspec": {
   "display_name": "Python 3",
   "language": "python",
   "name": "python3"
  },
  "language_info": {
   "codemirror_mode": {
    "name": "ipython",
    "version": 3
   },
   "file_extension": ".py",
   "mimetype": "text/x-python",
   "name": "python",
   "nbconvert_exporter": "python",
   "pygments_lexer": "ipython3",
   "version": "3.6.8"
  },
  "toc": {
   "base_numbering": 1,
   "nav_menu": {},
   "number_sections": true,
   "sideBar": true,
   "skip_h1_title": false,
   "title_cell": "Table of Contents",
   "title_sidebar": "Contents",
   "toc_cell": false,
   "toc_position": {},
   "toc_section_display": true,
   "toc_window_display": false
  }
 },
 "nbformat": 4,
 "nbformat_minor": 2
}
