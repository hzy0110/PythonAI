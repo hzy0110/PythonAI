{
 "cells": [
  {
   "cell_type": "code",
   "execution_count": 1,
   "metadata": {
    "ExecuteTime": {
     "end_time": "2019-09-18T15:15:24.517881Z",
     "start_time": "2019-09-18T15:15:22.732216Z"
    }
   },
   "outputs": [],
   "source": [
    "import requests\n",
    "import time\n",
    "import execjs\n",
    "import matplotlib.pyplot as plt\n",
    "import pandas as pd\n",
    "import numpy as np\n",
    "import os\n",
    "import math\n",
    "from multiprocessing import Process\n"
   ]
  },
  {
   "cell_type": "code",
   "execution_count": 78,
   "metadata": {
    "ExecuteTime": {
     "end_time": "2019-09-22T14:27:26.752757Z",
     "start_time": "2019-09-22T14:27:26.736802Z"
    }
   },
   "outputs": [],
   "source": [
    "pd.set_option('expand_frame_repr', False)\n",
    "pd.set_option('display.max_rows',500)\n",
    "pd.set_option('display.max_columns',500)\n",
    "pd.set_option('display.width',1000)"
   ]
  },
  {
   "cell_type": "code",
   "execution_count": 3,
   "metadata": {
    "ExecuteTime": {
     "end_time": "2019-09-18T15:15:26.723171Z",
     "start_time": "2019-09-18T15:15:26.717585Z"
    },
    "code_folding": []
   },
   "outputs": [],
   "source": [
    "def getAllCode():\n",
    "    url = 'http://fund.eastmoney.com/js/fundcode_search.js'\n",
    "    content = requests.get(url)\n",
    "    jsContent = execjs.compile(content.text)\n",
    "    rawData = jsContent.eval('r')\n",
    "    allCode = []\n",
    "    for code in rawData:\n",
    "        allCode.append(code[0])\n",
    "    return allCode\n"
   ]
  },
  {
   "cell_type": "code",
   "execution_count": 79,
   "metadata": {
    "ExecuteTime": {
     "end_time": "2019-09-22T14:28:31.029318Z",
     "start_time": "2019-09-22T14:27:38.097544Z"
    },
    "code_folding": []
   },
   "outputs": [
    {
     "name": "stdout",
     "output_type": "stream",
     "text": [
      "<class 'pandas.core.frame.DataFrame'>\n",
      "RangeIndex: 25780 entries, 0 to 25779\n",
      "Columns: 134 entries, 0 to 133\n",
      "dtypes: float64(132), int64(1), object(1)\n",
      "memory usage: 26.4+ MB\n",
      "None\n",
      "<class 'pandas.core.frame.DataFrame'>\n",
      "RangeIndex: 26692 entries, 0 to 26691\n",
      "Columns: 4306 entries, 0 to 4305\n",
      "dtypes: float64(4304), int64(1), object(1)\n",
      "memory usage: 876.9+ MB\n",
      "None\n",
      "<class 'pandas.core.frame.DataFrame'>\n",
      "RangeIndex: 33365 entries, 0 to 33364\n",
      "Columns: 4348 entries, 0 to 4347\n",
      "dtypes: float64(4346), int64(1), object(1)\n",
      "memory usage: 1.1+ GB\n",
      "None\n",
      "<class 'pandas.core.frame.DataFrame'>\n",
      "RangeIndex: 6680 entries, 0 to 6679\n",
      "Data columns (total 32 columns):\n",
      "name           6680 non-null object\n",
      "code           6680 non-null object\n",
      "类型             6680 non-null object\n",
      "原费率            5205 non-null object\n",
      "现费率            5199 non-null object\n",
      "最小申购金额         5201 non-null object\n",
      "近一年收益率         5906 non-null object\n",
      "近6月收益率         6137 non-null object\n",
      "近三月收益率         6225 non-null object\n",
      "近一月收益率         6377 non-null object\n",
      "基金持仓股票代码       6679 non-null object\n",
      "基金持仓债券代码       6680 non-null object\n",
      "规模变动日期         6680 non-null object\n",
      "规模变动净资产亿元      6680 non-null object\n",
      "规模变动较上期环比      6680 non-null object\n",
      "('机构持有比例',)    6680 non-null object\n",
      "('个人持有比例',)    6680 non-null object\n",
      "('内部持有比例',)    6680 non-null object\n",
      "('股票占净比',)     6680 non-null object\n",
      "('债券占净比',)     6680 non-null object\n",
      "('现金占净比',)     6680 non-null object\n",
      "('净资产',)       6680 non-null object\n",
      "('平均值',)       6680 non-null object\n",
      "('选证能力',)      4772 non-null object\n",
      "('收益率',)       4757 non-null object\n",
      "('抗风险',)       4772 non-null object\n",
      "('稳定性',)       4757 non-null object\n",
      "('管理规模',)      4757 non-null object\n",
      "经理             6680 non-null object\n",
      "('期间申购',)      6680 non-null object\n",
      "('期间赎回',)      6680 non-null object\n",
      "('总份额',)       6680 non-null object\n",
      "dtypes: object(32)\n",
      "memory usage: 1.6+ MB\n",
      "None\n"
     ]
    }
   ],
   "source": [
    "# 文件加载和处理\n",
    "# fund_narrow_pd=pd.read_csv('./narrow/fund_narrow_pd.csv',low_memory=False, header = None)\n",
    "# worth_pd文件 最长是 202001\n",
    "# rateInSimilar_pd最长是040001\n",
    "# grandTotal_pd 最长是 005503\n",
    "# 470060\n",
    "grandTotal_pd=pd.read_csv('./grandTotal/grandTotal_pd.csv',low_memory=False, header = None)\n",
    "# 040001\n",
    "rateInSimilar_pd=pd.read_csv('./rateInSimilar/rateInSimilar_pd.csv',low_memory=False, header = None)\n",
    "# 202001\n",
    "worth_pd = pd.read_csv(open('./worth/worth_pd.csv','r'),low_memory=False, header = None)\n",
    "fund_wide_pd=pd.read_csv('./wide/fund_wide_pd.csv',low_memory=False)\n",
    "\n",
    "worth_pd = worth_pd.fillna(0)\n",
    "grandTotal_pd = grandTotal_pd.fillna(0)\n",
    "rateInSimilar_pd = rateInSimilar_pd.fillna(0)\n",
    "\n",
    "print(grandTotal_pd.info())\n",
    "print(rateInSimilar_pd.info())\n",
    "print(worth_pd.info())\n",
    "print(fund_wide_pd.info())"
   ]
  },
  {
   "cell_type": "code",
   "execution_count": 81,
   "metadata": {
    "ExecuteTime": {
     "end_time": "2019-09-22T14:28:36.378869Z",
     "start_time": "2019-09-22T14:28:36.367454Z"
    },
    "code_folding": [
     1
    ]
   },
   "outputs": [],
   "source": [
    "# 近 x 年来的均值\n",
    "def get_recent_year_mean(code, colName, target_pd,isChange = False):\n",
    "    fund_data = target_pd.loc[(target_pd[0] == colName)\n",
    "                              & (target_pd[1] == code)]\n",
    "    if fund_data.shape[0] > 0:\n",
    "        # 排除前两列\n",
    "        fund_data = fund_data.iloc[:, 2:]\n",
    "        fund_data = fund_data.T\n",
    "        fund_data = fund_data[fund_data.iloc[:, 0] > 0]\n",
    "        day = fund_data.shape[0]\n",
    "        #     获取年份，向下取整\n",
    "        year = math.floor(day / 365)\n",
    "        yd = 365\n",
    "        for_year = [5 * yd, 4 * yd, 3 * yd, 2 * yd, 1 * yd, 180, 30]\n",
    "        year_mean = []\n",
    "        if isChange:\n",
    "            year_mean_pd = pd.DataFrame([[0,0,0,0,0,0,0]],columns=[\n",
    "                'GT各自类型累计收益率' + '5年平均值',\n",
    "                'GT各自类型累计收益率' + '4年平均值',\n",
    "                'GT各自类型累计收益率' + '3年平均值',\n",
    "                'GT各自类型累计收益率' + '2年平均值',\n",
    "                'GT各自类型累计收益率' + '1年平均值',\n",
    "                'GT各自类型累计收益率' + '180天平均值',\n",
    "                'GT各自类型累计收益率' + '30天平均值'\n",
    "            ])\n",
    "        else:\n",
    "            year_mean_pd = pd.DataFrame([[0,0,0,0,0,0,0]],columns=[\n",
    "                colName + '5年平均值',\n",
    "                colName + '4年平均值',\n",
    "                colName + '3年平均值',\n",
    "                colName + '2年平均值',\n",
    "                colName + '1年平均值',\n",
    "                colName + '180天平均值',\n",
    "                colName + '30天平均值'\n",
    "            ])\n",
    "        #     循环年份，不足的标记0\n",
    "        i = 0;\n",
    "        for y in for_year:\n",
    "            fund_data = fund_data.iloc[0:round(y), :]\n",
    "            mean = fund_data.mean(0)  # 求平均\n",
    "            if fund_data.shape[0] == y:\n",
    "                year_mean_pd.iloc[:,i] = mean.values[0]\n",
    "    #         else:\n",
    "    #             year_mean_pd.iloc[:,i] = 0\n",
    "            i += 1\n",
    "    #     print(year_mean)\n",
    "    #     print(year_mean_pd)\n",
    "        return year_mean_pd\n",
    "    else:\n",
    "        return None"
   ]
  },
  {
   "cell_type": "code",
   "execution_count": 85,
   "metadata": {
    "ExecuteTime": {
     "end_time": "2019-09-22T15:03:12.208902Z",
     "start_time": "2019-09-22T14:52:52.718823Z"
    },
    "code_folding": [],
    "scrolled": true
   },
   "outputs": [
    {
     "name": "stdout",
     "output_type": "stream",
     "text": [
      "fund_wide_pd (6680, 48)\n",
      "fund_wide_pd (6680, 48)\n",
      "mean_pd (6667, 8)\n",
      "完成第 0 步\n",
      "fund_wide_pd (6680, 48)\n",
      "fund_wide_pd (6680, 48)\n",
      "mean_pd (6667, 8)\n",
      "完成第 1 步\n",
      "fund_wide_pd (6680, 48)\n",
      "fund_wide_pd (6680, 48)\n",
      "mean_pd (6667, 8)\n",
      "完成第 2 步\n",
      "fund_wide_pd (6680, 48)\n",
      "fund_wide_pd (6680, 48)\n",
      "mean_pd (6667, 8)\n",
      "完成第 3 步\n",
      "fund_wide_pd (6680, 48)\n",
      "fund_wide_pd (6680, 48)\n",
      "mean_pd (6667, 8)\n",
      "完成第 4 步\n",
      "fund_wide_pd (6680, 48)\n",
      "fund_wide_pd (6680, 48)\n",
      "mean_pd (6496, 8)\n",
      "完成第 5 步\n",
      "fund_wide_pd (6680, 48)\n",
      "fund_wide_pd (6680, 48)\n",
      "mean_pd (6272, 8)\n",
      "完成第 6 步\n"
     ]
    },
    {
     "ename": "TypeError",
     "evalue": "parser_f() got an unexpected keyword argument 'index'",
     "output_type": "error",
     "traceback": [
      "\u001b[0;31m-------------------------------------------------------------------\u001b[0m",
      "\u001b[0;31mTypeError\u001b[0m                         Traceback (most recent call last)",
      "\u001b[0;32m<ipython-input-85-02855344342a>\u001b[0m in \u001b[0;36m<module>\u001b[0;34m\u001b[0m\n\u001b[1;32m     26\u001b[0m     \u001b[0mprint\u001b[0m\u001b[0;34m(\u001b[0m\u001b[0;34m'完成第'\u001b[0m\u001b[0;34m,\u001b[0m\u001b[0mi\u001b[0m\u001b[0;34m,\u001b[0m\u001b[0;34m'步'\u001b[0m\u001b[0;34m)\u001b[0m\u001b[0;34m\u001b[0m\u001b[0;34m\u001b[0m\u001b[0m\n\u001b[1;32m     27\u001b[0m \u001b[0mfund_wide_avg_pd\u001b[0m\u001b[0;34m.\u001b[0m\u001b[0mto_csv\u001b[0m\u001b[0;34m(\u001b[0m\u001b[0;34m\"./data/fund/fund_wide_avg_pd.csv\"\u001b[0m\u001b[0;34m,\u001b[0m \u001b[0mencoding\u001b[0m\u001b[0;34m=\u001b[0m\u001b[0;34m'utf_8_sig'\u001b[0m\u001b[0;34m)\u001b[0m\u001b[0;34m\u001b[0m\u001b[0;34m\u001b[0m\u001b[0m\n\u001b[0;32m---> 28\u001b[0;31m \u001b[0mfund_wide_avg_pd\u001b[0m\u001b[0;34m=\u001b[0m\u001b[0mpd\u001b[0m\u001b[0;34m.\u001b[0m\u001b[0mread_csv\u001b[0m\u001b[0;34m(\u001b[0m\u001b[0;34m'./data/fund/fund_wide_avg_pd.csv'\u001b[0m\u001b[0;34m,\u001b[0m\u001b[0mlow_memory\u001b[0m\u001b[0;34m=\u001b[0m\u001b[0;32mFalse\u001b[0m\u001b[0;34m,\u001b[0m \u001b[0mindex\u001b[0m\u001b[0;34m=\u001b[0m\u001b[0;32mFalse\u001b[0m\u001b[0;34m)\u001b[0m\u001b[0;34m\u001b[0m\u001b[0;34m\u001b[0m\u001b[0m\n\u001b[0m\u001b[1;32m     29\u001b[0m \u001b[0;31m# get_recent_year_mean(4,'净值回报',worth_pd)\u001b[0m\u001b[0;34m\u001b[0m\u001b[0;34m\u001b[0m\u001b[0;34m\u001b[0m\u001b[0m\n",
      "\u001b[0;31mTypeError\u001b[0m: parser_f() got an unexpected keyword argument 'index'"
     ]
    }
   ],
   "source": [
    "# 添加各窄表集合的均值\n",
    "fund_wide_avg_pd=pd.read_csv('./wide/fund_wide_pd.csv',low_memory=False)\n",
    "allCode = getAllCode()\n",
    "# print(allCode[0],type(allCode[0]))\n",
    "# allCode = ['1'.zfill(6),'40001'.zfill(6),'3150'.zfill(6)]\n",
    "\n",
    "\n",
    "pd_list = [worth_pd,worth_pd,rateInSimilar_pd,rateInSimilar_pd,rateInSimilar_pd,grandTotal_pd,grandTotal_pd]\n",
    "colname_list = ['净值回报','每份派送金','同类排名数','sc','同类排名百分比','沪深300累计收益率','同类平均累计收益率']\n",
    "# pd_list = [worth_pd,worth_pd]\n",
    "# colname_list = ['净值回报','每份派送金']\n",
    "for i in range(len(pd_list)):\n",
    "    mean_pd = pd.DataFrame()\n",
    "    for code in allCode:\n",
    "        m_pd = get_recent_year_mean(int(code),colname_list[i],pd_list[i])\n",
    "        if m_pd is not None:\n",
    "            m_pd.insert(0,'code',code)\n",
    "            mean_pd = mean_pd.append(m_pd, ignore_index=True)\n",
    "    # 合并均值和原始 wide 并保存\n",
    "    print(\"fund_wide_pd\",fund_wide_pd.shape)\n",
    "#     print(\"mean_pd\",mean_pd.info())\n",
    "#     print(\"fund_wide_pd\",fund_wide_pd.info())\n",
    "    fund_wide_avg_pd = pd.merge(fund_wide_avg_pd,mean_pd,how='left',on = 'code')\n",
    "    print(\"fund_wide_pd\",fund_wide_pd.shape)\n",
    "    print(\"mean_pd\",mean_pd.shape)\n",
    "    print('完成第',i,'步')\n",
    "fund_wide_avg_pd.to_csv(\"./data/fund/fund_wide_avg_pd.csv\", encoding='utf_8_sig', index=False)\n",
    "fund_wide_avg_pd=pd.read_csv('./data/fund/fund_wide_avg_pd.csv',low_memory=False)\n",
    "# get_recent_year_mean(4,'净值回报',worth_pd)\n"
   ]
  },
  {
   "cell_type": "code",
   "execution_count": 87,
   "metadata": {
    "ExecuteTime": {
     "end_time": "2019-09-22T15:07:16.823385Z",
     "start_time": "2019-09-22T15:07:15.432789Z"
    }
   },
   "outputs": [],
   "source": []
  },
  {
   "cell_type": "code",
   "execution_count": 88,
   "metadata": {
    "ExecuteTime": {
     "end_time": "2019-09-22T15:09:29.488465Z",
     "start_time": "2019-09-22T15:08:19.596276Z"
    }
   },
   "outputs": [
    {
     "name": "stdout",
     "output_type": "stream",
     "text": [
      "fund_wide_pd (6680, 48)\n",
      "mean_pd (6496, 8)\n",
      "fund_wide_pd (6680, 48)\n"
     ]
    }
   ],
   "source": [
    "# 计算grandTotal_pd最后行不定名称\n",
    "fund_wide_avg_gt_pd=pd.read_csv('./data/fund/fund_wide_avg_pd.csv',low_memory=False)\n",
    "\n",
    "# print(fund_data.shape)\n",
    "# print(type(name))\n",
    "allCode = getAllCode()\n",
    "# allCode = ['040001','003150']\n",
    "mean_pd = pd.DataFrame()\n",
    "for code in allCode:\n",
    "    fund_data = grandTotal_pd.loc[grandTotal_pd[1] == int(code)]\n",
    "    if fund_data.shape[0] > 0:\n",
    "        name = fund_data.iloc[fund_data.shape[0] - 1,0]\n",
    "        m_pd = get_recent_year_mean(int(code),name,grandTotal_pd,True)\n",
    "        if m_pd is not None:\n",
    "            m_pd.insert(0,'code',code)\n",
    "            mean_pd = mean_pd.append(m_pd, ignore_index=True)\n",
    "# 合并均值和原始 wide 并保存\n",
    "print(\"fund_wide_pd\",fund_wide_pd.shape)\n",
    "print(\"mean_pd\",mean_pd.shape)\n",
    "# print(\"mean_pd\",mean_pd)\n",
    "fund_wide_avg_gt_pd = pd.merge(fund_wide_avg_gt_pd,mean_pd,how='left',on = 'code')\n",
    "print(\"fund_wide_pd\",fund_wide_pd.shape)\n",
    "fund_wide_avg_gt_pd.to_csv(\"./data/fund/fund_wide_avg_gt_pd.csv\", encoding='utf_8_sig', index=False)\n",
    "fund_wide_avg_gt_pd=pd.read_csv('./data/fund/fund_wide_avg_gt_pd.csv',low_memory=False)\n"
   ]
  },
  {
   "cell_type": "code",
   "execution_count": 90,
   "metadata": {
    "ExecuteTime": {
     "end_time": "2019-09-22T15:22:44.698103Z",
     "start_time": "2019-09-22T15:17:35.739383Z"
    },
    "code_folding": [
     2
    ]
   },
   "outputs": [
    {
     "name": "stdout",
     "output_type": "stream",
     "text": [
      "空经理 code 001729\n",
      "(6680, 65)\n",
      "(6680, 65)\n",
      "(6376, 18)\n"
     ]
    }
   ],
   "source": [
    "# 处理基金经理\n",
    "# 统计指标，成立以来有过 N 名经理，最近更换经理到现在的天数\n",
    "def get_recent_manage_info(code):\n",
    "    manage_single_pd = pd.DataFrame(columns=[\n",
    "        '经理ID', ' 经理星级', '经理在这个基金工作时间', '经理资金数', '经理基金数', '经理平均分', '经理经验值',\n",
    "        '经理收益率', '经理抗风险', '经理稳定性', '经理择时能力', '经理任期收益', '经理同类平均', '经理沪深300',\n",
    "        '经理跟踪误差', '经理超额收益', '经理管理规模'\n",
    "    ])\n",
    "    manages = fund_wide_pd.loc[fund_wide_pd['code'] == code]['经理']\n",
    "    if manages.shape[0] > 0:\n",
    "        manage_list = fund_wide_pd.loc[fund_wide_pd['code'] ==\n",
    "                                            code]['经理'].values[0].split('\\n')\n",
    "        manage_pd = pd.DataFrame()\n",
    "        manage_c = len(manage_list[0].split())  # 经理人数\n",
    "\n",
    "        manage_list[0] = '列名 ' + manage_list[0]\n",
    "        # 把经理恢复成 pd，可操作\n",
    "        for row in manage_list:\n",
    "            row_s = row.split()\n",
    "            series = pd.Series(row_s[1:], name=row_s[0]).T\n",
    "            manage_pd = manage_pd.append(series)\n",
    "#         print(manage_pd)\n",
    "\n",
    "#         print(manage_pd.shape)\n",
    "#         print(manage_pd)\n",
    "        if manage_pd.shape[0] == 3:\n",
    "            print(\"空经理 code\", code)\n",
    "            return manage_single_pd\n",
    "        manage_wordDay_Total = 0\n",
    "        manage_id = '0'\n",
    "        target = -1\n",
    "        #收益率\n",
    "        #     找出时间最长的经理\n",
    "        #     workDay_s = manage_pd.loc[manage_pd[0] == '工作时间']\n",
    "        #     print(\"manage_c\",manage_c)\n",
    "        for i in range(manage_c):\n",
    "            #             try:\n",
    "            workDay_s = manage_pd.loc[['工作时间'], i]\n",
    "            #             except:\n",
    "            #                 return []\n",
    "            manage_wordDay = workDay_s[0].split('又')\n",
    "            #     起码1 年以上经历\n",
    "            if len(manage_wordDay) > 1:\n",
    "                manage_word_year = manage_wordDay[0].split('年')[0]\n",
    "                manage_word_day = manage_wordDay[1].split('天')[0]\n",
    "                manage_wordDay_Total_new = int(manage_word_year) * 365 + int(\n",
    "                    manage_word_day)\n",
    "                if manage_wordDay_Total_new > manage_wordDay_Total:\n",
    "                    manage_wordDay_Total = manage_wordDay_Total_new\n",
    "                    target = i\n",
    "\n",
    "    #     根据最长经理所在列取数据\n",
    "\n",
    "        if target != -1:\n",
    "            target_s = manage_pd.loc[:, target]\n",
    "            manage_id = target_s['id']\n",
    "            manage_star = target_s['星级']\n",
    "            if str(target_s['资金/基金数']) != 'nan':\n",
    "                manage_fund_money_total = target_s['资金/基金数'].split('亿')[\n",
    "                    0]  #管理总基金额\n",
    "                manage_funds_total = target_s['资金/基金数'].split('(')[1].split(\n",
    "                    '只')[0]  # 管理总基金数量\n",
    "            else:\n",
    "                manage_fund_money_total = 0\n",
    "                manage_funds_total = 0\n",
    "            manage_point_avg = target_s['平均分']\n",
    "            manage_exp = target_s['(经验值,)']\n",
    "            manage_earn_per = target_s['(收益率,)']\n",
    "            try:\n",
    "                manage_resist_risk = target_s['(抗风险,)']\n",
    "            except:\n",
    "                manage_resist_risk = 0\n",
    "\n",
    "            try:\n",
    "                manage_stable = target_s['(稳定性,)']\n",
    "            except:\n",
    "                manage_stable = 0\n",
    "\n",
    "            try:\n",
    "                manage_choice = target_s['(择时能力,)']\n",
    "            except:\n",
    "                manage_choice = 0\n",
    "\n",
    "            try:\n",
    "                manage_eran_term = target_s['(任期收益,)']\n",
    "            except:\n",
    "                manage_eran_term = 0\n",
    "\n",
    "            try:\n",
    "                manage_similar_avg = target_s['(同类平均,)']\n",
    "            except:\n",
    "                manage_similar_avg = 0\n",
    "\n",
    "            try:\n",
    "                manage_hs300 = target_s['(沪深300,)']\n",
    "            except:\n",
    "                manage_hs300 = 0\n",
    "\n",
    "            try:\n",
    "                manage_track_error = target_s['(跟踪误差,)']\n",
    "            except:\n",
    "                manage_track_error = 0\n",
    "\n",
    "            try:\n",
    "                manage_eran_excess = target_s['(超额收益,)']\n",
    "            except:\n",
    "                manage_eran_excess = 0\n",
    "\n",
    "            try:\n",
    "                manage_manage_scale = target_s['(管理规模,)']\n",
    "            except:\n",
    "                manage_manage_scale = 0\n",
    "\n",
    "            insertRow = pd.DataFrame(\n",
    "                [[\n",
    "                    manage_id, manage_star, manage_wordDay_Total,\n",
    "                    manage_fund_money_total, manage_funds_total,\n",
    "                    manage_point_avg, manage_exp, manage_earn_per,\n",
    "                    manage_resist_risk, manage_stable, manage_choice,\n",
    "                    manage_eran_term, manage_similar_avg, manage_hs300,\n",
    "                    manage_track_error, manage_eran_excess, manage_manage_scale\n",
    "                ]],\n",
    "                columns=[\n",
    "                    '经理ID', ' 经理星级', '经理在这个基金工作时间', '经理资金数', '经理基金数', '经理平均分',\n",
    "                    '经理经验值', '经理收益率', '经理抗风险', '经理稳定性', '经理择时能力', '经理任期收益',\n",
    "                    '经理同类平均', '经理沪深300', '经理跟踪误差', '经理超额收益', '经理管理规模'\n",
    "                ])\n",
    "            manage_single_pd = manage_single_pd.append(\n",
    "                insertRow, ignore_index=True)\n",
    "            return manage_single_pd\n",
    "        else:\n",
    "#             print(\"target=-1,code=\",code)\n",
    "            return manage_single_pd\n",
    "    else:\n",
    "#         print(\"manages.shape[0]=0,code=\",code)\n",
    "        return manage_single_pd\n",
    "\n",
    "fund_wide_manage_pd=pd.read_csv('./data/fund/fund_wide_avg_gt_pd.csv',low_memory=False)\n",
    "allCode = getAllCode()\n",
    "# allCode = ['040001','003150']\n",
    "manages_pd = pd.DataFrame()\n",
    "for code in allCode:\n",
    "    manage_s_pd = get_recent_manage_info(code)\n",
    "    manage_s_pd.insert(0,'code',code)\n",
    "    manages_pd = manages_pd.append(manage_s_pd, ignore_index=True)\n",
    "    \n",
    "# 合并经理和原始 wide 并保存\n",
    "print(fund_wide_pd.shape)\n",
    "fund_wide_manage_pd = pd.merge(fund_wide_manage_pd,manages_pd,how='left',on = 'code')\n",
    "print(fund_wide_pd.shape)\n",
    "print(manages_pd.shape)\n",
    "fund_wide_manage_pd.to_csv(\"./data/fund/fund_wide_manage_pd.csv\", encoding='utf_8_sig', index=False)\n",
    "fund_wide_manage_pd=pd.read_csv('./data/fund/fund_wide_manage_pd.csv',low_memory=False)"
   ]
  },
  {
   "cell_type": "code",
   "execution_count": 100,
   "metadata": {
    "ExecuteTime": {
     "end_time": "2019-09-22T15:33:29.971412Z",
     "start_time": "2019-09-22T15:33:29.061165Z"
    }
   },
   "outputs": [
    {
     "name": "stdout",
     "output_type": "stream",
     "text": [
      "<class 'pandas.core.frame.DataFrame'>\n",
      "RangeIndex: 6673 entries, 0 to 6672\n",
      "Columns: 105 entries, name to 经理管理规模\n",
      "dtypes: float64(76), int64(1), object(28)\n",
      "memory usage: 5.3+ MB\n",
      "None\n",
      "<class 'pandas.core.frame.DataFrame'>\n",
      "RangeIndex: 6680 entries, 0 to 6679\n",
      "Data columns (total 88 columns):\n",
      "name                  6680 non-null object\n",
      "code                  6680 non-null object\n",
      "类型                    6680 non-null object\n",
      "原费率                   5205 non-null object\n",
      "现费率                   5199 non-null object\n",
      "最小申购金额                5201 non-null object\n",
      "近一年收益率                5906 non-null object\n",
      "近6月收益率                6137 non-null object\n",
      "近三月收益率                6225 non-null object\n",
      "近一月收益率                6377 non-null object\n",
      "基金持仓股票代码              6679 non-null object\n",
      "基金持仓债券代码              6680 non-null object\n",
      "规模变动日期                6680 non-null object\n",
      "规模变动净资产亿元             6680 non-null object\n",
      "规模变动较上期环比             6680 non-null object\n",
      "('机构持有比例',)           6680 non-null object\n",
      "('个人持有比例',)           6680 non-null object\n",
      "('内部持有比例',)           6680 non-null object\n",
      "('股票占净比',)            6680 non-null object\n",
      "('债券占净比',)            6680 non-null object\n",
      "('现金占净比',)            6680 non-null object\n",
      "('净资产',)              6680 non-null object\n",
      "('平均值',)              6680 non-null object\n",
      "('选证能力',)             4772 non-null object\n",
      "('收益率',)              4757 non-null object\n",
      "('抗风险',)              4772 non-null object\n",
      "('稳定性',)              4757 non-null object\n",
      "('管理规模',)             4757 non-null object\n",
      "经理                    6680 non-null object\n",
      "('期间申购',)             6680 non-null object\n",
      "('期间赎回',)             6680 non-null object\n",
      "('总份额',)              6680 non-null object\n",
      "净值回报5年平均值             6672 non-null float64\n",
      "净值回报4年平均值             6672 non-null float64\n",
      "净值回报3年平均值             6672 non-null float64\n",
      "净值回报2年平均值             6672 non-null float64\n",
      "净值回报1年平均值             6672 non-null float64\n",
      "净值回报180天平均值           6672 non-null float64\n",
      "净值回报30天平均值            6672 non-null float64\n",
      "每份派送金5年平均值            6672 non-null float64\n",
      "每份派送金4年平均值            6672 non-null float64\n",
      "每份派送金3年平均值            6672 non-null float64\n",
      "每份派送金2年平均值            6672 non-null float64\n",
      "每份派送金1年平均值            6672 non-null float64\n",
      "每份派送金180天平均值          6672 non-null float64\n",
      "每份派送金30天平均值           6672 non-null float64\n",
      "同类排名数5年平均值            6672 non-null float64\n",
      "同类排名数4年平均值            6672 non-null float64\n",
      "同类排名数3年平均值            6672 non-null float64\n",
      "同类排名数2年平均值            6672 non-null float64\n",
      "同类排名数1年平均值            6672 non-null float64\n",
      "同类排名数180天平均值          6672 non-null float64\n",
      "同类排名数30天平均值           6672 non-null float64\n",
      "sc5年平均值               6672 non-null float64\n",
      "sc4年平均值               6672 non-null float64\n",
      "sc3年平均值               6672 non-null float64\n",
      "sc2年平均值               6672 non-null float64\n",
      "sc1年平均值               6672 non-null float64\n",
      "sc180天平均值             6672 non-null float64\n",
      "sc30天平均值              6672 non-null float64\n",
      "同类排名百分比5年平均值          6672 non-null float64\n",
      "同类排名百分比4年平均值          6672 non-null float64\n",
      "同类排名百分比3年平均值          6672 non-null float64\n",
      "同类排名百分比2年平均值          6672 non-null float64\n",
      "同类排名百分比1年平均值          6672 non-null float64\n",
      "同类排名百分比180天平均值        6672 non-null float64\n",
      "同类排名百分比30天平均值         6672 non-null float64\n",
      "沪深300累计收益率5年平均值       6501 non-null float64\n",
      "沪深300累计收益率4年平均值       6501 non-null float64\n",
      "沪深300累计收益率3年平均值       6501 non-null float64\n",
      "沪深300累计收益率2年平均值       6501 non-null float64\n",
      "沪深300累计收益率1年平均值       6501 non-null float64\n",
      "沪深300累计收益率180天平均值     6501 non-null float64\n",
      "沪深300累计收益率30天平均值      6501 non-null float64\n",
      "同类平均累计收益率5年平均值        6277 non-null float64\n",
      "同类平均累计收益率4年平均值        6277 non-null float64\n",
      "同类平均累计收益率3年平均值        6277 non-null float64\n",
      "同类平均累计收益率2年平均值        6277 non-null float64\n",
      "同类平均累计收益率1年平均值        6277 non-null float64\n",
      "同类平均累计收益率180天平均值      6277 non-null float64\n",
      "同类平均累计收益率30天平均值       6277 non-null float64\n",
      "GT各自类型累计收益率5年平均值      6501 non-null float64\n",
      "GT各自类型累计收益率4年平均值      6501 non-null float64\n",
      "GT各自类型累计收益率3年平均值      6501 non-null float64\n",
      "GT各自类型累计收益率2年平均值      6501 non-null float64\n",
      "GT各自类型累计收益率1年平均值      6501 non-null float64\n",
      "GT各自类型累计收益率180天平均值    6501 non-null float64\n",
      "GT各自类型累计收益率30天平均值     6501 non-null float64\n",
      "dtypes: float64(56), object(32)\n",
      "memory usage: 4.5+ MB\n",
      "None\n"
     ]
    }
   ],
   "source": [
    "# feature_data_pd=pd.read_csv('./data/fund/feature_data_pd.csv',low_memory=False)\n",
    "fund_wide_manage_pd=pd.read_csv('./data/fund/fund_wide_manage_pd.csv',low_memory=False)\n",
    "fund_wide_avg_gt_pd=pd.read_csv('./data/fund/fund_wide_avg_gt_pd.csv',low_memory=False)\n",
    "# print(feature_data_pd.info())\n",
    "print(fund_wide_manage_pd.info())\n",
    "print(fund_wide_avg_gt_pd.info())\n"
   ]
  },
  {
   "cell_type": "code",
   "execution_count": 114,
   "metadata": {
    "ExecuteTime": {
     "end_time": "2019-09-23T05:33:49.884363Z",
     "start_time": "2019-09-23T05:33:47.976569Z"
    }
   },
   "outputs": [],
   "source": [
    "# 合并特色数据\n",
    "feature_data_pd=pd.read_csv('./data/fund/feature_data_pd.csv',low_memory=False)\n",
    "fund_wide_manage_pd=pd.read_csv('./data/fund/fund_wide_manage_pd.csv',low_memory=False)\n",
    "\n",
    "feature_data_pd = pd.merge(fund_wide_manage_pd,feature_data_pd,how='left',on='code')\n",
    "feature_data_pd.to_csv(\"./data/fund/fund_wide_feature_data_pd.csv\", encoding='utf_8_sig', index=False)"
   ]
  },
  {
   "cell_type": "code",
   "execution_count": 115,
   "metadata": {
    "ExecuteTime": {
     "end_time": "2019-09-23T05:33:56.716069Z",
     "start_time": "2019-09-23T05:33:54.869695Z"
    }
   },
   "outputs": [],
   "source": [
    "# 合并综合评级\n",
    "fund_wide_feature_data_pd=pd.read_csv('./data/fund/fund_wide_feature_data_pd.csv',low_memory=False)\n",
    "fund_rating_pd=pd.read_csv('./data/fund/fund_rating_pd.csv',low_memory=False)\n",
    "fund_rating_pd = pd.merge(fund_wide_feature_data_pd,fund_rating_pd,how='left',on='code')\n",
    "fund_rating_pd.to_csv(\"./data/fund/fund_wide_rating_data_pd.csv\", encoding='utf_8_sig', index=False)"
   ]
  },
  {
   "cell_type": "code",
   "execution_count": 116,
   "metadata": {
    "ExecuteTime": {
     "end_time": "2019-09-23T06:21:29.193230Z",
     "start_time": "2019-09-23T06:21:27.484491Z"
    }
   },
   "outputs": [],
   "source": [
    "# 合并3家评级\n",
    "fund_rating_pd=pd.read_csv('./data/fund/fund_wide_rating_data_pd.csv',low_memory=False)\n",
    "fund_shzq_rating_pd=pd.read_csv('./data/fund/fund_shzq_rating_pd.csv',low_memory=False)\n",
    "fund_zszq_rating_pd=pd.read_csv('./data/fund/fund_zszq_rating_pd.csv',low_memory=False)\n",
    "fund_jajx_rating_pd=pd.read_csv('./data/fund/fund_jajx_rating_pd.csv',low_memory=False)\n",
    "\n",
    "fund_rating_pd = pd.merge(fund_rating_pd,fund_shzq_rating_pd,how='left',on='code')\n",
    "fund_rating_pd = pd.merge(fund_rating_pd,fund_zszq_rating_pd,how='left',on='code')\n",
    "fund_rating_pd = pd.merge(fund_rating_pd,fund_jajx_rating_pd,how='left',on='code')\n",
    "\n",
    "fund_rating_pd.to_csv(\"./data/fund/fund_wide_rating_1_data_pd.csv\", encoding='utf_8_sig', index=False)"
   ]
  },
  {
   "cell_type": "code",
   "execution_count": null,
   "metadata": {},
   "outputs": [],
   "source": [
    "# 淘汰方法，但保留"
   ]
  },
  {
   "cell_type": "code",
   "execution_count": 14,
   "metadata": {
    "ExecuteTime": {
     "end_time": "2019-09-18T08:27:17.103071Z",
     "start_time": "2019-09-18T08:27:17.089498Z"
    },
    "code_folding": [
     1
    ]
   },
   "outputs": [],
   "source": [
    "# 找 N 年以上的基金\n",
    "def get_year_funds(years, allCode):\n",
    "    funds_year = []\n",
    "#     allCode = ['000008']\n",
    "    for code in allCode:\n",
    "#         print(code)\n",
    "        fund_day = rateInSimilar_pd.loc[(rateInSimilar_pd[0] == \"时间戳\") & (rateInSimilar_pd[1] ==  int(code))]\n",
    "        if fund_day.shape[0] > 0:\n",
    "            fund_day = fund_day.T\n",
    "#             print(fund_day.shape)\n",
    "#             print(fund_day)\n",
    "            day_c = fund_day[fund_day.iloc[:,0] != 0].shape[0]\n",
    "            if day_c >= 365 * years + 10:\n",
    "#                 print(\"code\",code,\"day_c\",day_c)\n",
    "                funds_year.append(code)\n",
    "    return funds_year"
   ]
  },
  {
   "cell_type": "code",
   "execution_count": 15,
   "metadata": {
    "ExecuteTime": {
     "end_time": "2019-09-18T08:28:31.062001Z",
     "start_time": "2019-09-18T08:27:21.522969Z"
    },
    "code_folding": [
     0
    ]
   },
   "outputs": [],
   "source": [
    "# 找出有 5 年和 3 年的基金\n",
    "allCode = getAllCode()\n",
    "funds_5y = get_year_funds(5,allCode)\n",
    "pd.DataFrame(funds_5y).to_csv(\"./funds_5y.csv\", header=False, index=False)\n",
    "funds_3y = get_year_funds(3,allCode)\n",
    "pd.DataFrame(funds_3y).to_csv(\"./funds_3y.csv\", header=False, index=False)"
   ]
  },
  {
   "cell_type": "code",
   "execution_count": 16,
   "metadata": {
    "ExecuteTime": {
     "end_time": "2019-09-18T08:32:53.705605Z",
     "start_time": "2019-09-18T08:32:53.664135Z"
    },
    "code_folding": [
     2
    ]
   },
   "outputs": [],
   "source": [
    "# 近 N 年 同类绩效均值 n(0-1)\n",
    "# 数值越大越好，表示收益率\n",
    "def get_similar_per_mean(year):\n",
    "    if year <= 3:\n",
    "        file_year = 3\n",
    "    if year >3 and year <= 5:\n",
    "        file_year = 5\n",
    "    fund_similar_mean_list = []\n",
    "    fund_similar_code_list = []\n",
    "    fund_year_pd = pd.read_csv(\n",
    "        './funds_' + str(file_year) + 'y.csv', low_memory=False, header=None)\n",
    "    fund_year_list = fund_year_pd.values.tolist()\n",
    "    \n",
    "#     fund_year_list = [1,11]\n",
    "    for code in fund_year_list:\n",
    "#         start1 = time.time()\n",
    "        code = code[0]\n",
    "#         print(code)\n",
    "        fund_similar = rateInSimilar_pd.loc[(rateInSimilar_pd[0] == \"同类排名百分比\")\n",
    "                                          & (rateInSimilar_pd[1] == code)]\n",
    "#         fund_similar.drop([0, 1, 2], axis=1, inplace=True) # 删除前三列无用数据\n",
    "        fund_similar = fund_similar.T\n",
    "        fund_similar = fund_similar.iloc[2:,:]\n",
    "        fund_similar = fund_similar[fund_similar.iloc[:, 0] > 0] # 只要有效数据\n",
    "        if fund_similar.shape[0] >= year * 365:\n",
    "            fund_similar = fund_similar.iloc[0: round(year*365) , :]  # 找 x 天内的数据,取前 n 行\n",
    "#             print(fund_similar.shape)\n",
    "            mean = fund_similar.mean(0).iloc[0] # 求平均\n",
    "            fund_similar_code_list.append(code)\n",
    "            fund_similar_mean_list.append(mean)\n",
    "            fund_similar_mean_dict = {\n",
    "                \"code\" : fund_similar_code_list,\n",
    "               \"同类排名百分比平均值\" : fund_similar_mean_list\n",
    "            } \n",
    "#         end1 = time.time()\n",
    "#         print(\"for 用时{}\".format((end1-start1)))\n",
    "    fund_similar_mean_pd =  pd.DataFrame(fund_similar_mean_dict)\n",
    "    \n",
    "    return fund_similar_mean_pd\n",
    "\n",
    "def get_similar_per_top(similar_mean,top):\n",
    "#     排序\n",
    "    similar_mean.sort_values(by = '同类排名百分比平均值', inplace=True, ascending=False)\n",
    "#     获取长度\n",
    "    pd_len = similar_mean.shape[0]\n",
    "#     取前三分之一\n",
    "    similar_top = similar_mean.head(round(pd_len * top))\n",
    "    return similar_top"
   ]
  },
  {
   "cell_type": "code",
   "execution_count": 17,
   "metadata": {
    "ExecuteTime": {
     "end_time": "2019-09-18T08:32:54.216641Z",
     "start_time": "2019-09-18T08:32:54.205225Z"
    },
    "code_folding": [
     1,
     39
    ]
   },
   "outputs": [],
   "source": [
    "# 近 N 年 同类绩效均值 n(0-1)\n",
    "def get_similar_mean(year):\n",
    "    if year <= 3:\n",
    "        file_year = 3\n",
    "    if year >3 and year <= 5:\n",
    "        file_year = 5\n",
    "    fund_similar_mean_list = []\n",
    "    fund_similar_code_list = []\n",
    "    fund_year_pd = pd.read_csv(\n",
    "        './funds_' + str(file_year) + 'y.csv', low_memory=False, header=None)\n",
    "    fund_year_list = fund_year_pd.values.tolist()\n",
    "    \n",
    "#     fund_year_list = [1,11]\n",
    "    for code in fund_year_list:\n",
    "#         start1 = time.time()\n",
    "        code = code[0]\n",
    "#         print(code)\n",
    "        fund_similar = rateInSimilar_pd.loc[(rateInSimilar_pd[0] == \"同类排名数\")\n",
    "                                          & (rateInSimilar_pd[1] == code)]\n",
    "#         fund_similar.drop([0, 1, 2], axis=1, inplace=True) # 删除前三列无用数据\n",
    "        fund_similar = fund_similar.T\n",
    "        fund_similar = fund_similar.iloc[2:,:]\n",
    "        fund_similar = fund_similar[fund_similar.iloc[:, 0] > 0] # 只要有效数据\n",
    "        if fund_similar.shape[0] >= year * 365:\n",
    "            fund_similar = fund_similar.iloc[0: round(year*365) , :]  # 找 x 天内的数据,取前 n 行\n",
    "#             print(fund_similar.shape)\n",
    "            mean = fund_similar.mean(0).iloc[0] # 求平均\n",
    "            fund_similar_code_list.append(code)\n",
    "            fund_similar_mean_list.append(mean)\n",
    "            fund_similar_mean_dict = {\n",
    "                \"code\" : fund_similar_code_list,\n",
    "               \"同类排名数平均值\" : fund_similar_mean_list\n",
    "            } \n",
    "#         end1 = time.time()\n",
    "#         print(\"for 用时{}\".format((end1-start1)))\n",
    "    fund_similar_mean_pd =  pd.DataFrame(fund_similar_mean_dict)\n",
    "    \n",
    "    return fund_similar_mean_pd\n",
    "\n",
    "def get_similar_top(similar_mean,top):\n",
    "#     排序\n",
    "    similar_mean.sort_values(by = '同类排名数平均值', inplace=True, ascending=True)\n",
    "#     获取长度\n",
    "    pd_len = similar_mean.shape[0]\n",
    "#     取前三分之一\n",
    "    similar_top = similar_mean.head(round(pd_len * top))\n",
    "    return similar_top"
   ]
  },
  {
   "cell_type": "code",
   "execution_count": 18,
   "metadata": {
    "ExecuteTime": {
     "end_time": "2019-09-18T08:33:50.399897Z",
     "start_time": "2019-09-18T08:33:05.214082Z"
    },
    "code_folding": []
   },
   "outputs": [],
   "source": [
    "# 统计5 年来同类排名百分比平均值前 30%的基金\n",
    "for i in range(1,6,1):\n",
    "    fund_similar_mean_pd = get_similar_per_mean(i)\n",
    "    fund_similar_top_pd = get_similar_per_top(fund_similar_mean_pd, 0.3)\n",
    "    fund_similar_top_pd.to_csv(\"./fund_similar_top_per_\" + str(i) +\"y_pd.csv\", index=False, encoding='utf_8_sig')\n",
    "# print(fund_similar_mean_pd)\n",
    "# 半年\n",
    "fund_similar_mean_pd = get_similar_per_mean(0.5)\n",
    "fund_similar_top_pd = get_similar_per_top(fund_similar_mean_pd, 0.3)\n",
    "fund_similar_top_pd.to_csv(\"./fund_similar_top_per_\" + str(0.5) +\"y_pd.csv\", index=False, encoding='utf_8_sig')"
   ]
  },
  {
   "cell_type": "code",
   "execution_count": 19,
   "metadata": {
    "ExecuteTime": {
     "end_time": "2019-09-18T08:34:33.933223Z",
     "start_time": "2019-09-18T08:33:50.402317Z"
    },
    "code_folding": [
     1
    ]
   },
   "outputs": [],
   "source": [
    "# 统计5 年来同类排名数平均值前 30%的基金\n",
    "for i in range(1,6,1):\n",
    "    fund_similar_mean_pd = get_similar_mean(i)\n",
    "    fund_similar_top_pd = get_similar_top(fund_similar_mean_pd, 0.3)\n",
    "    fund_similar_top_pd.to_csv(\"./fund_similar_top_\" + str(i) +\"y_pd.csv\", index=False, encoding='utf_8_sig')\n",
    "# print(fund_similar_mean_pd)\n",
    "# 半年\n",
    "fund_similar_mean_pd = get_similar_mean(0.5)\n",
    "fund_similar_top_pd = get_similar_top(fund_similar_mean_pd, 0.3)\n",
    "fund_similar_top_pd.to_csv(\"./fund_similar_top_\" + str(0.5) +\"y_pd.csv\", index=False, encoding='utf_8_sig')"
   ]
  },
  {
   "cell_type": "code",
   "execution_count": 20,
   "metadata": {
    "ExecuteTime": {
     "end_time": "2019-09-18T08:34:33.994571Z",
     "start_time": "2019-09-18T08:34:33.935445Z"
    },
    "code_folding": [
     0
    ]
   },
   "outputs": [
    {
     "name": "stdout",
     "output_type": "stream",
     "text": [
      "(56, 7)\n"
     ]
    }
   ],
   "source": [
    "# 找出 5 年同类百分比平均值都处于前 30% 的基金\n",
    "fund_similar_top_6m_pd = pd.read_csv('./fund_similar_top_per_0.5y_pd.csv',low_memory=False, header=None)\n",
    "fund_similar_top_1y_pd = pd.read_csv('./fund_similar_top_per_1y_pd.csv',low_memory=False, header=None)\n",
    "fund_similar_top_2y_pd = pd.read_csv('./fund_similar_top_per_2y_pd.csv',low_memory=False, header=None)\n",
    "fund_similar_top_3y_pd = pd.read_csv('./fund_similar_top_per_3y_pd.csv',low_memory=False, header=None)\n",
    "fund_similar_top_4y_pd = pd.read_csv('./fund_similar_top_per_4y_pd.csv',low_memory=False, header=None)\n",
    "fund_similar_top_5y_pd = pd.read_csv('./fund_similar_top_per_5y_pd.csv',low_memory=False, header=None)\n",
    "# print(fund_similar_top_1y_pd.shape)\n",
    "# print(fund_similar_top_2y_pd.shape)\n",
    "m1 = pd.merge(fund_similar_top_6m_pd,fund_similar_top_1y_pd,how='inner',on = 0)\n",
    "m2 = pd.merge(m1,fund_similar_top_2y_pd,how='inner',on = 0)\n",
    "m3 = pd.merge(m2,fund_similar_top_3y_pd,how='inner',on = 0)\n",
    "m4 = pd.merge(m3,fund_similar_top_4y_pd,how='inner',on = 0)\n",
    "m5 = pd.merge(m4,fund_similar_top_5y_pd,how='inner',on = 0)\n",
    "m5.to_csv(\"./fund_similar_top_per_6m-5y_pd.csv\", encoding='utf_8_sig', index=False, header=False)\n",
    "print(m5.shape)"
   ]
  },
  {
   "cell_type": "code",
   "execution_count": 21,
   "metadata": {
    "ExecuteTime": {
     "end_time": "2019-09-18T08:34:34.058292Z",
     "start_time": "2019-09-18T08:34:33.999212Z"
    },
    "code_folding": []
   },
   "outputs": [
    {
     "name": "stdout",
     "output_type": "stream",
     "text": [
      "(124, 7)\n"
     ]
    }
   ],
   "source": [
    "# 找出 5 年同类排名数平均值都处于前 30% 的基金\n",
    "fund_similar_top_6m_pd = pd.read_csv('./fund_similar_top_0.5y_pd.csv',low_memory=False, header=None)\n",
    "fund_similar_top_1y_pd = pd.read_csv('./fund_similar_top_1y_pd.csv',low_memory=False, header=None)\n",
    "fund_similar_top_2y_pd = pd.read_csv('./fund_similar_top_2y_pd.csv',low_memory=False, header=None)\n",
    "fund_similar_top_3y_pd = pd.read_csv('./fund_similar_top_3y_pd.csv',low_memory=False, header=None)\n",
    "fund_similar_top_4y_pd = pd.read_csv('./fund_similar_top_4y_pd.csv',low_memory=False, header=None)\n",
    "fund_similar_top_5y_pd = pd.read_csv('./fund_similar_top_5y_pd.csv',low_memory=False, header=None)\n",
    "# print(fund_similar_top_1y_pd.shape)\n",
    "# print(fund_similar_top_2y_pd.shape)\n",
    "m1 = pd.merge(fund_similar_top_6m_pd,fund_similar_top_1y_pd,how='inner',on = 0)\n",
    "m2 = pd.merge(m1,fund_similar_top_2y_pd,how='inner',on = 0)\n",
    "m3 = pd.merge(m2,fund_similar_top_3y_pd,how='inner',on = 0)\n",
    "m4 = pd.merge(m3,fund_similar_top_4y_pd,how='inner',on = 0)\n",
    "m5 = pd.merge(m4,fund_similar_top_5y_pd,how='inner',on = 0)\n",
    "m5.to_csv(\"./fund_similar_top_6m-5y_pd.csv\", encoding='utf_8_sig', index=False, header=False)\n",
    "print(m5.shape)"
   ]
  },
  {
   "cell_type": "code",
   "execution_count": 22,
   "metadata": {
    "ExecuteTime": {
     "end_time": "2019-09-18T08:34:34.068877Z",
     "start_time": "2019-09-18T08:34:34.060626Z"
    },
    "code_folding": [
     1
    ]
   },
   "outputs": [],
   "source": [
    "# 获取 code 对应的类型\n",
    "def get_fund_type_name(code):\n",
    "    try:\n",
    "        type_name = fund_wide_pd_type.loc[fund_wide_pd_type['code'] == code]['类型']\n",
    "    #     print(len(type_name))\n",
    "        if(len(type_name) > 0):\n",
    "            return type_name.values[0]\n",
    "        else:\n",
    "            return \"\"\n",
    "    except:\n",
    "        return \"111\""
   ]
  },
  {
   "cell_type": "code",
   "execution_count": 23,
   "metadata": {
    "ExecuteTime": {
     "end_time": "2019-09-18T08:34:34.094699Z",
     "start_time": "2019-09-18T08:34:34.072832Z"
    },
    "code_folding": []
   },
   "outputs": [
    {
     "name": "stdout",
     "output_type": "stream",
     "text": [
      "(30, 13)\n"
     ]
    }
   ],
   "source": [
    "# 同时满足五年内同类排名数和同类排名百分比都 30%的基金\n",
    "fund_similar_top_per_6m_5y_pd = pd.read_csv(\"./fund_similar_top_per_6m-5y_pd.csv\", encoding='utf_8_sig',low_memory=False)\n",
    "fund_similar_top_6m_5y_pd = pd.read_csv(\"./fund_similar_top_6m-5y_pd.csv\", encoding='utf_8_sig',low_memory=False)\n",
    "similar_top_all = pd.merge(fund_similar_top_per_6m_5y_pd,fund_similar_top_6m_5y_pd,how='inner',on = 'code')\n",
    "similar_top_all.to_csv(\"./similar_top_all_6m-5y_pd.csv\", encoding='utf_8_sig')\n",
    "print(similar_top_all.shape)"
   ]
  },
  {
   "cell_type": "code",
   "execution_count": 24,
   "metadata": {
    "ExecuteTime": {
     "end_time": "2019-09-18T08:34:39.008432Z",
     "start_time": "2019-09-18T08:34:38.906968Z"
    },
    "code_folding": [
     5
    ]
   },
   "outputs": [],
   "source": [
    "# 读取相同类型排名书 top 30% 的文件并添加类型\n",
    "fund_similar_top_6m_5y_pd = pd.read_csv(\"./similar_top_all_6m-5y_pd.csv\", encoding='utf_8_sig')\n",
    "# 创建空列，dtype = object 可以存多个字符\n",
    "type_name_np = np.empty(fund_similar_top_6m_5y_pd.shape[0], dtype = object)\n",
    "# 遍历 df\n",
    "for i in range(0, len(fund_similar_top_6m_5y_pd)):\n",
    "# for i in range(0, 3):\n",
    "    code = fund_similar_top_6m_5y_pd.iloc[i]['code'].astype(int) # 获取 code\n",
    "    type_name = get_fund_type_name(str(code).zfill(6)) # 获取 类型\n",
    "    type_name_np[i] = type_name # 保存名称\n",
    "# 插入type_name列\n",
    "fund_similar_top_6m_5y_pd.insert(1,'type_name', type_name_np)\n",
    "# 保存文件\n",
    "fund_similar_top_6m_5y_pd.to_csv(\"./similar_top_all_6m-5y_pd_type_name.csv\", encoding='utf_8_sig',index=False)\n"
   ]
  },
  {
   "cell_type": "code",
   "execution_count": 258,
   "metadata": {
    "ExecuteTime": {
     "end_time": "2019-09-18T14:47:29.536174Z",
     "start_time": "2019-09-18T14:47:29.533949Z"
    }
   },
   "outputs": [],
   "source": [
    "# get_recent_year_mean(4,'净值回报',worth_pd)"
   ]
  },
  {
   "cell_type": "code",
   "execution_count": 115,
   "metadata": {
    "ExecuteTime": {
     "end_time": "2019-09-18T11:48:54.424125Z",
     "start_time": "2019-09-18T11:43:36.130637Z"
    },
    "code_folding": [],
    "scrolled": true
   },
   "outputs": [
    {
     "name": "stdout",
     "output_type": "stream",
     "text": [
      "空经理 code 001729\n"
     ]
    }
   ],
   "source": []
  },
  {
   "cell_type": "code",
   "execution_count": 122,
   "metadata": {
    "ExecuteTime": {
     "end_time": "2019-09-18T12:26:59.671896Z",
     "start_time": "2019-09-18T12:26:59.160526Z"
    }
   },
   "outputs": [
    {
     "name": "stdout",
     "output_type": "stream",
     "text": [
      "(6680, 49)\n",
      "(6680, 32)\n",
      "(6377, 18)\n"
     ]
    }
   ],
   "source": []
  },
  {
   "cell_type": "code",
   "execution_count": 346,
   "metadata": {
    "ExecuteTime": {
     "end_time": "2019-09-17T13:16:19.136719Z",
     "start_time": "2019-09-17T13:16:18.538974Z"
    }
   },
   "outputs": [
    {
     "name": "stdout",
     "output_type": "stream",
     "text": [
      "<class 'pandas.core.frame.DataFrame'>\n",
      "RangeIndex: 7623 entries, 0 to 7622\n",
      "Data columns (total 32 columns):\n",
      "name           7623 non-null object\n",
      "code           7623 non-null object\n",
      "类型             7623 non-null object\n",
      "原费率            5857 non-null object\n",
      "现费率            5851 non-null object\n",
      "最小申购金额         5853 non-null object\n",
      "近一年收益率         5911 non-null object\n",
      "近6月收益率         6575 non-null object\n",
      "近三月收益率         6991 non-null object\n",
      "近一月收益率         7231 non-null object\n",
      "基金持仓股票代码       7622 non-null object\n",
      "基金持仓债券代码       7623 non-null object\n",
      "规模变动日期         7623 non-null object\n",
      "规模变动净资产亿元      7623 non-null object\n",
      "规模变动较上期环比      7623 non-null object\n",
      "('机构持有比例',)    7623 non-null object\n",
      "('个人持有比例',)    7623 non-null object\n",
      "('内部持有比例',)    7623 non-null object\n",
      "('股票占净比',)     7623 non-null object\n",
      "('债券占净比',)     7623 non-null object\n",
      "('现金占净比',)     7623 non-null object\n",
      "('净资产',)       7623 non-null object\n",
      "('平均值',)       7623 non-null object\n",
      "('选证能力',)      4772 non-null object\n",
      "('收益率',)       4772 non-null object\n",
      "('抗风险',)       4772 non-null object\n",
      "('稳定性',)       4787 non-null object\n",
      "('择时能力',)      4787 non-null object\n",
      "经理             7623 non-null object\n",
      "('期间申购',)      7623 non-null object\n",
      "('期间赎回',)      7605 non-null object\n",
      "('总份额',)       7605 non-null object\n",
      "dtypes: object(32)\n",
      "memory usage: 1.9+ MB\n",
      "None\n"
     ]
    }
   ],
   "source": [
    "print(fund_wide_pd.info())"
   ]
  },
  {
   "cell_type": "code",
   "execution_count": null,
   "metadata": {},
   "outputs": [],
   "source": []
  },
  {
   "cell_type": "code",
   "execution_count": null,
   "metadata": {},
   "outputs": [],
   "source": [
    "# 测试代码分割线"
   ]
  },
  {
   "cell_type": "code",
   "execution_count": 35,
   "metadata": {
    "ExecuteTime": {
     "end_time": "2019-09-19T00:04:25.335653Z",
     "start_time": "2019-09-19T00:04:16.578844Z"
    }
   },
   "outputs": [
    {
     "name": "stdout",
     "output_type": "stream",
     "text": [
      "150008\n",
      "150009\n",
      "150012\n",
      "150013\n",
      "150018\n",
      "150019\n",
      "150022\n",
      "150023\n",
      "150028\n",
      "150029\n",
      "150030\n",
      "150031\n",
      "150051\n",
      "150052\n",
      "150053\n",
      "150054\n",
      "150055\n",
      "150056\n",
      "150059\n",
      "150060\n",
      "150064\n",
      "150065\n",
      "150083\n",
      "150084\n",
      "150092\n",
      "150093\n",
      "150094\n",
      "150095\n",
      "150100\n",
      "150101\n",
      "150104\n",
      "150105\n",
      "150106\n",
      "150107\n",
      "150117\n",
      "150118\n",
      "150123\n",
      "150124\n",
      "150130\n",
      "150131\n",
      "150135\n",
      "150136\n",
      "150143\n",
      "150144\n",
      "150145\n",
      "150146\n",
      "150148\n",
      "150149\n",
      "150150\n",
      "150151\n",
      "150152\n",
      "150153\n",
      "150157\n",
      "150158\n",
      "150164\n",
      "150165\n",
      "150167\n",
      "150168\n",
      "150171\n",
      "150172\n",
      "150173\n",
      "150174\n",
      "150177\n",
      "150178\n",
      "150179\n",
      "150180\n",
      "150181\n",
      "150182\n",
      "150184\n",
      "150185\n",
      "150186\n",
      "150187\n",
      "150190\n",
      "150191\n",
      "150192\n",
      "150193\n",
      "150194\n",
      "150195\n",
      "150196\n",
      "150197\n",
      "150198\n",
      "150199\n",
      "150200\n",
      "150201\n",
      "150203\n",
      "150204\n",
      "150205\n",
      "150206\n",
      "150207\n",
      "150208\n",
      "150209\n",
      "150210\n",
      "150211\n",
      "150212\n",
      "150213\n",
      "150214\n",
      "150215\n",
      "150216\n",
      "150217\n",
      "150218\n",
      "150219\n",
      "150220\n",
      "150221\n",
      "150222\n",
      "150223\n",
      "150224\n",
      "150225\n",
      "150226\n",
      "150227\n",
      "150228\n",
      "150229\n",
      "150230\n",
      "150231\n",
      "150232\n",
      "150235\n",
      "150236\n",
      "150237\n",
      "150238\n",
      "150243\n",
      "150244\n",
      "150245\n",
      "150246\n",
      "150247\n",
      "150248\n",
      "150249\n",
      "150250\n",
      "150251\n",
      "150252\n",
      "150255\n",
      "150256\n",
      "150257\n",
      "150258\n",
      "150259\n",
      "150260\n",
      "150261\n",
      "150262\n",
      "150263\n",
      "150264\n",
      "150265\n",
      "150266\n",
      "150267\n",
      "150268\n",
      "150269\n",
      "150270\n",
      "150271\n",
      "150272\n",
      "150273\n",
      "150274\n",
      "150275\n",
      "150276\n",
      "150277\n",
      "150278\n",
      "150279\n",
      "150280\n",
      "150281\n",
      "150282\n",
      "150283\n",
      "150284\n",
      "150287\n",
      "150288\n",
      "150289\n",
      "150290\n",
      "150291\n",
      "150292\n",
      "150293\n",
      "150294\n",
      "150295\n",
      "150296\n",
      "150297\n",
      "150298\n",
      "150299\n",
      "150300\n",
      "150301\n",
      "150302\n",
      "150303\n",
      "150304\n",
      "150307\n",
      "150308\n",
      "150309\n",
      "150310\n",
      "150311\n",
      "150312\n",
      "150315\n",
      "150316\n",
      "150317\n",
      "150318\n",
      "150321\n",
      "150322\n",
      "150323\n",
      "150324\n",
      "150325\n",
      "150326\n",
      "150327\n",
      "150328\n",
      "150329\n",
      "150330\n",
      "150335\n",
      "150336\n",
      "150343\n",
      "150344\n",
      "502001\n",
      "502002\n",
      "502004\n",
      "502005\n",
      "502007\n",
      "502008\n",
      "502011\n",
      "502012\n",
      "502014\n",
      "502015\n",
      "502021\n",
      "502022\n",
      "502024\n",
      "502025\n",
      "502037\n",
      "502038\n",
      "502041\n",
      "502042\n",
      "502049\n",
      "502050\n",
      "502054\n",
      "502055\n",
      "502057\n",
      "502058\n"
     ]
    }
   ],
   "source": [
    "allCode = getAllCode()\n",
    "# allCode = ['040001','003150']\n",
    "for code in allCode:\n",
    "    fund_data = grandTotal_pd.loc[grandTotal_pd[1] == int(code)]\n",
    "#     print(\"fund_data\",fund_data.shape)\n",
    "    if fund_data.shape[0] > 0:\n",
    "            \n",
    "        fund_data1 = fund_data.loc[fund_data[0] == '同类平均累计收益率']\n",
    "#         print(\"fund_data1\",fund_data1.shape)\n",
    "        if fund_data1.shape[0] == 0:\n",
    "            print(code)\n",
    "            \n"
   ]
  },
  {
   "cell_type": "code",
   "execution_count": 127,
   "metadata": {
    "ExecuteTime": {
     "end_time": "2019-09-18T12:37:09.972217Z",
     "start_time": "2019-09-18T12:37:09.865428Z"
    }
   },
   "outputs": [
    {
     "name": "stdout",
     "output_type": "stream",
     "text": [
      "     code      经理ID  经理星级 经理在这个基金工作时间  经理资金数 经理基金数 经理平均分 经理经验值 经理收益率 经理抗风险 经理稳定性 经理择时能力   经理任期收益 经理同类平均 经理沪深300 经理跟踪误差 经理超额收益 经理管理规模\n",
      "0  003150  30289498     0        1881  23.52     4  暂无数据  None  None  None  None      0  16.5779  20.52       0      0      0   None\n"
     ]
    }
   ],
   "source": [
    "a = get_recent_manage_info('000086')\n",
    "a.insert(0,'code','003150')\n",
    "# fund_wide_pd.loc[fund_wide_pd['code'] == code]\n",
    "# print(a)\n",
    "# b = get_recent_manage_info('003150')\n",
    "# b.insert(0,'code','003150')\n",
    "\n",
    "# a = a.append(b, ignore_index=True)\n",
    "print(a)\n",
    "# 003150 需要重新爬、已解决"
   ]
  },
  {
   "cell_type": "code",
   "execution_count": 500,
   "metadata": {
    "ExecuteTime": {
     "end_time": "2019-09-18T01:24:28.296727Z",
     "start_time": "2019-09-18T01:24:28.241887Z"
    }
   },
   "outputs": [
    {
     "name": "stdout",
     "output_type": "stream",
     "text": [
      "3\n",
      "                      0              1\n",
      "列名                    0              1\n",
      "id             30364517       30568351\n",
      "姓名                   张洋             李昱\n",
      "星级                    4              4\n",
      "工作时间             4年又27天        1年又232天\n",
      "资金/基金数    44.10亿(16只基金)  18.70亿(11只基金)\n",
      "平均分               64.57          60.63\n",
      "截止日期         2019-09-11     2019-09-11\n",
      "(经验值,)             60.3           28.4\n",
      "(收益率,)             22.9           34.7\n",
      "(抗风险,)             97.8           87.3\n",
      "(稳定性,)             98.3           91.3\n",
      "(择时能力,)            99.8           85.6\n",
      "(任期收益,)         -1.0348        -4.4132\n",
      "(同类平均,)            6.42           8.09\n",
      "(沪深300,)          15.59         -10.33\n"
     ]
    }
   ],
   "source": [
    "# a1 = fund_wide_pd.loc[fund_wide_pd['code'] == '000184']['经理'].values[i].split( )\n",
    "# print(len(a1))\n",
    "# print(a1)\n",
    "# print(fund_wide_pd.loc[fund_wide_pd['code'] == '000184']['经理'].values[i])\n",
    "\n",
    "# a3 = fund_wide_pd.loc[fund_wide_pd['code'] == '000184']['经理'].values[i].split('\\t')\n",
    "a1 = fund_wide_pd.loc[fund_wide_pd['code'] == '000184']['经理'].values[0].split('\\n')\n",
    "# print(len(a1))\n",
    "# \n",
    "col_num = len(a1[0].split()) + 1\n",
    "print(col_num)\n",
    "manage_pd = pd.DataFrame()\n",
    "a1[0]  = '列名 ' + a1[0]\n",
    "# aaa= cname.append()\n",
    "# print(aaa)\n",
    "# 把经理恢复成 pd，可操作\n",
    "for row in a1:\n",
    "    row_s = row.split()\n",
    "    series = pd.Series(row_s[1:],name=row_s[0]).T\n",
    "    manage_pd = manage_pd.append(series)\n",
    "    \n",
    "#     manage_pd = manage_pd.append(a,name=\"a\")\n",
    "    \n",
    "print(manage_pd)\n",
    "#     b = np.array([b, r])\n",
    "#     print()\n",
    "#     print(len(r.split()))\n",
    "# a2 = a1.split('\\n')\n",
    "\n",
    "# print(len(a3))\n",
    "# print(a3)\n",
    "# aaa = pd.DataFrame(fund_wide_pd.loc[fund_wide_pd['code'] == '000184']['经理'].values[i].split( ))\n",
    "# bbb = np.array(fund_wide_pd.loc[fund_wide_pd['code'] == '000184']['经理'].values[i].split( ))\n",
    "# ccc = bbb.reshape[:,2]\n",
    "# print(bbb.shape)\n",
    "# print(bbb)\n",
    "# print(manages_list[4])"
   ]
  },
  {
   "cell_type": "code",
   "execution_count": 338,
   "metadata": {
    "ExecuteTime": {
     "end_time": "2019-09-11T11:54:01.431949Z",
     "start_time": "2019-09-11T11:54:01.419485Z"
    },
    "scrolled": true
   },
   "outputs": [
    {
     "name": "stdout",
     "output_type": "stream",
     "text": [
      "251.7\n",
      "(839, 2)\n",
      "(252, 2)\n"
     ]
    }
   ],
   "source": [
    "# mean = fund_similar_mean_pd.iloc[0,:].mean(0)\n",
    "# print(fund_similar_mean_pd)\n",
    "fund_similar_mean_pd_t = fund_similar_mean_pd\n",
    "fund_similar_mean_pd_t.sort_values(by = '同类平均值', inplace=True, ascending=False)\n",
    "pd_len = fund_similar_mean_pd_t.shape[0]\n",
    "print(pd_len * 0.3)\n",
    "\n",
    "print(fund_similar_mean_pd_t.shape)\n",
    "# fund_similar_mean_pd_t = fund_similar_mean_pd_t.iloc[0:round(pd_len * 0.3)]\n",
    "fund_similar_mean_pd_t = fund_similar_mean_pd_t.head(round(pd_len * 0.3))\n",
    "print(fund_similar_mean_pd_t.shape)\n",
    "# round(pd_len * 0.3)\n",
    "# .head(3)\n"
   ]
  },
  {
   "cell_type": "code",
   "execution_count": 119,
   "metadata": {
    "ExecuteTime": {
     "end_time": "2019-09-17T07:31:54.311606Z",
     "start_time": "2019-09-17T07:31:54.264505Z"
    },
    "collapsed": true
   },
   "outputs": [
    {
     "name": "stdout",
     "output_type": "stream",
     "text": [
      "        22711\n",
      "0     同类排名百分比\n",
      "1      100022\n",
      "2        74.5\n",
      "3       75.32\n",
      "4          79\n",
      "5       79.68\n",
      "6       81.57\n",
      "7        81.6\n",
      "8       82.19\n",
      "9       82.47\n",
      "10      80.34\n",
      "11       81.1\n",
      "12      80.62\n",
      "13      79.99\n",
      "14      82.29\n",
      "15      83.11\n",
      "16      74.74\n",
      "17      73.45\n",
      "18      71.62\n",
      "19       70.6\n",
      "20      66.37\n",
      "21      63.83\n",
      "22      72.37\n",
      "23      69.59\n",
      "24      66.45\n",
      "25      71.47\n",
      "26      61.11\n",
      "27      57.23\n",
      "28      66.52\n",
      "29      33.52\n",
      "...       ...\n",
      "4273        0\n",
      "4274        0\n",
      "4275        0\n",
      "4276        0\n",
      "4277        0\n",
      "4278        0\n",
      "4279        0\n",
      "4280        0\n",
      "4281        0\n",
      "4282        0\n",
      "4283        0\n",
      "4284        0\n",
      "4285        0\n",
      "4286        0\n",
      "4287        0\n",
      "4288        0\n",
      "4289        0\n",
      "4290        0\n",
      "4291        0\n",
      "4292        0\n",
      "4293        0\n",
      "4294        0\n",
      "4295        0\n",
      "4296        0\n",
      "4297        0\n",
      "4298        0\n",
      "4299        0\n",
      "4300        0\n",
      "4301        0\n",
      "4302        0\n",
      "\n",
      "[4303 rows x 1 columns]\n",
      "(1825, 1)\n"
     ]
    },
    {
     "ename": "IndexError",
     "evalue": "single positional indexer is out-of-bounds",
     "output_type": "error",
     "traceback": [
      "\u001b[0;31m---------------------------------------------------------------------------\u001b[0m",
      "\u001b[0;31mIndexError\u001b[0m                                Traceback (most recent call last)",
      "\u001b[0;32m<ipython-input-119-8e32fd80b4c9>\u001b[0m in \u001b[0;36m<module>\u001b[0;34m\u001b[0m\n\u001b[1;32m     11\u001b[0m \u001b[0;31m# fund_similar = fund_similar.iloc[5*365,:]\u001b[0m\u001b[0;34m\u001b[0m\u001b[0;34m\u001b[0m\u001b[0;34m\u001b[0m\u001b[0m\n\u001b[1;32m     12\u001b[0m \u001b[0mprint\u001b[0m\u001b[0;34m(\u001b[0m\u001b[0mfund_similar\u001b[0m\u001b[0;34m.\u001b[0m\u001b[0miloc\u001b[0m\u001b[0;34m[\u001b[0m\u001b[0;36m0\u001b[0m\u001b[0;34m:\u001b[0m\u001b[0;36m5\u001b[0m\u001b[0;34m*\u001b[0m\u001b[0;36m365\u001b[0m\u001b[0;34m,\u001b[0m\u001b[0;34m:\u001b[0m\u001b[0;34m]\u001b[0m\u001b[0;34m.\u001b[0m\u001b[0mshape\u001b[0m\u001b[0;34m)\u001b[0m\u001b[0;34m\u001b[0m\u001b[0;34m\u001b[0m\u001b[0m\n\u001b[0;32m---> 13\u001b[0;31m \u001b[0mmean\u001b[0m \u001b[0;34m=\u001b[0m \u001b[0mfund_similar\u001b[0m\u001b[0;34m.\u001b[0m\u001b[0mmean\u001b[0m\u001b[0;34m(\u001b[0m\u001b[0;36m0\u001b[0m\u001b[0;34m)\u001b[0m\u001b[0;34m.\u001b[0m\u001b[0miloc\u001b[0m\u001b[0;34m[\u001b[0m\u001b[0;36m0\u001b[0m\u001b[0;34m]\u001b[0m  \u001b[0;31m# 求平均\u001b[0m\u001b[0;34m\u001b[0m\u001b[0;34m\u001b[0m\u001b[0m\n\u001b[0m\u001b[1;32m     14\u001b[0m \u001b[0mprint\u001b[0m\u001b[0;34m(\u001b[0m\u001b[0mmean\u001b[0m\u001b[0;34m.\u001b[0m\u001b[0mshape\u001b[0m\u001b[0;34m)\u001b[0m\u001b[0;34m\u001b[0m\u001b[0;34m\u001b[0m\u001b[0m\n\u001b[1;32m     15\u001b[0m \u001b[0mprint\u001b[0m\u001b[0;34m(\u001b[0m\u001b[0mmean\u001b[0m\u001b[0;34m)\u001b[0m\u001b[0;34m\u001b[0m\u001b[0;34m\u001b[0m\u001b[0m\n",
      "\u001b[0;32m/anaconda3/lib/python3.6/site-packages/pandas/core/indexing.py\u001b[0m in \u001b[0;36m__getitem__\u001b[0;34m(self, key)\u001b[0m\n\u001b[1;32m   1476\u001b[0m \u001b[0;34m\u001b[0m\u001b[0m\n\u001b[1;32m   1477\u001b[0m             \u001b[0mmaybe_callable\u001b[0m \u001b[0;34m=\u001b[0m \u001b[0mcom\u001b[0m\u001b[0;34m.\u001b[0m\u001b[0m_apply_if_callable\u001b[0m\u001b[0;34m(\u001b[0m\u001b[0mkey\u001b[0m\u001b[0;34m,\u001b[0m \u001b[0mself\u001b[0m\u001b[0;34m.\u001b[0m\u001b[0mobj\u001b[0m\u001b[0;34m)\u001b[0m\u001b[0;34m\u001b[0m\u001b[0;34m\u001b[0m\u001b[0m\n\u001b[0;32m-> 1478\u001b[0;31m             \u001b[0;32mreturn\u001b[0m \u001b[0mself\u001b[0m\u001b[0;34m.\u001b[0m\u001b[0m_getitem_axis\u001b[0m\u001b[0;34m(\u001b[0m\u001b[0mmaybe_callable\u001b[0m\u001b[0;34m,\u001b[0m \u001b[0maxis\u001b[0m\u001b[0;34m=\u001b[0m\u001b[0maxis\u001b[0m\u001b[0;34m)\u001b[0m\u001b[0;34m\u001b[0m\u001b[0;34m\u001b[0m\u001b[0m\n\u001b[0m\u001b[1;32m   1479\u001b[0m \u001b[0;34m\u001b[0m\u001b[0m\n\u001b[1;32m   1480\u001b[0m     \u001b[0;32mdef\u001b[0m \u001b[0m_is_scalar_access\u001b[0m\u001b[0;34m(\u001b[0m\u001b[0mself\u001b[0m\u001b[0;34m,\u001b[0m \u001b[0mkey\u001b[0m\u001b[0;34m)\u001b[0m\u001b[0;34m:\u001b[0m\u001b[0;34m\u001b[0m\u001b[0;34m\u001b[0m\u001b[0m\n",
      "\u001b[0;32m/anaconda3/lib/python3.6/site-packages/pandas/core/indexing.py\u001b[0m in \u001b[0;36m_getitem_axis\u001b[0;34m(self, key, axis)\u001b[0m\n\u001b[1;32m   2100\u001b[0m \u001b[0;34m\u001b[0m\u001b[0m\n\u001b[1;32m   2101\u001b[0m             \u001b[0;31m# validate the location\u001b[0m\u001b[0;34m\u001b[0m\u001b[0;34m\u001b[0m\u001b[0;34m\u001b[0m\u001b[0m\n\u001b[0;32m-> 2102\u001b[0;31m             \u001b[0mself\u001b[0m\u001b[0;34m.\u001b[0m\u001b[0m_validate_integer\u001b[0m\u001b[0;34m(\u001b[0m\u001b[0mkey\u001b[0m\u001b[0;34m,\u001b[0m \u001b[0maxis\u001b[0m\u001b[0;34m)\u001b[0m\u001b[0;34m\u001b[0m\u001b[0;34m\u001b[0m\u001b[0m\n\u001b[0m\u001b[1;32m   2103\u001b[0m \u001b[0;34m\u001b[0m\u001b[0m\n\u001b[1;32m   2104\u001b[0m             \u001b[0;32mreturn\u001b[0m \u001b[0mself\u001b[0m\u001b[0;34m.\u001b[0m\u001b[0m_get_loc\u001b[0m\u001b[0;34m(\u001b[0m\u001b[0mkey\u001b[0m\u001b[0;34m,\u001b[0m \u001b[0maxis\u001b[0m\u001b[0;34m=\u001b[0m\u001b[0maxis\u001b[0m\u001b[0;34m)\u001b[0m\u001b[0;34m\u001b[0m\u001b[0;34m\u001b[0m\u001b[0m\n",
      "\u001b[0;32m/anaconda3/lib/python3.6/site-packages/pandas/core/indexing.py\u001b[0m in \u001b[0;36m_validate_integer\u001b[0;34m(self, key, axis)\u001b[0m\n\u001b[1;32m   2007\u001b[0m         \u001b[0ml\u001b[0m \u001b[0;34m=\u001b[0m \u001b[0mlen\u001b[0m\u001b[0;34m(\u001b[0m\u001b[0max\u001b[0m\u001b[0;34m)\u001b[0m\u001b[0;34m\u001b[0m\u001b[0;34m\u001b[0m\u001b[0m\n\u001b[1;32m   2008\u001b[0m         \u001b[0;32mif\u001b[0m \u001b[0mkey\u001b[0m \u001b[0;34m>=\u001b[0m \u001b[0ml\u001b[0m \u001b[0;32mor\u001b[0m \u001b[0mkey\u001b[0m \u001b[0;34m<\u001b[0m \u001b[0;34m-\u001b[0m\u001b[0ml\u001b[0m\u001b[0;34m:\u001b[0m\u001b[0;34m\u001b[0m\u001b[0;34m\u001b[0m\u001b[0m\n\u001b[0;32m-> 2009\u001b[0;31m             \u001b[0;32mraise\u001b[0m \u001b[0mIndexError\u001b[0m\u001b[0;34m(\u001b[0m\u001b[0;34m\"single positional indexer is out-of-bounds\"\u001b[0m\u001b[0;34m)\u001b[0m\u001b[0;34m\u001b[0m\u001b[0;34m\u001b[0m\u001b[0m\n\u001b[0m\u001b[1;32m   2010\u001b[0m \u001b[0;34m\u001b[0m\u001b[0m\n\u001b[1;32m   2011\u001b[0m     \u001b[0;32mdef\u001b[0m \u001b[0m_getitem_tuple\u001b[0m\u001b[0;34m(\u001b[0m\u001b[0mself\u001b[0m\u001b[0;34m,\u001b[0m \u001b[0mtup\u001b[0m\u001b[0;34m)\u001b[0m\u001b[0;34m:\u001b[0m\u001b[0;34m\u001b[0m\u001b[0;34m\u001b[0m\u001b[0m\n",
      "\u001b[0;31mIndexError\u001b[0m: single positional indexer is out-of-bounds"
     ]
    }
   ],
   "source": [
    "fund_similar = rateInSimilar_pd.loc[(rateInSimilar_pd[0] == \"同类排名百分比\")\n",
    "                                  & (rateInSimilar_pd[1] == 100022)]\n",
    "# fund_similar.drop([0, 1, 2], axis=1, inplace=True)  # 删除前三列无用数据\n",
    "fund_similar = fund_similar.T\n",
    "# fund_similar = fund_similar.iloc[2:,:]\n",
    "print(fund_similar)\n",
    "fund_similar = fund_similar[fund_similar.iloc[:, 0] > 0]  # 只要有效数据\n",
    "#         还需要找 x 天内的数据\n",
    "# print(fund_similar)\n",
    "# print(fund_similar.iloc[:,5*365].shape)\n",
    "# fund_similar = fund_similar.iloc[5*365,:]\n",
    "print(fund_similar.iloc[0:5*365,:].shape)\n",
    "mean = fund_similar.mean(0).iloc[0]  # 求平均\n",
    "print(mean.shape)\n",
    "print(mean)\n",
    "print(type(mean))"
   ]
  },
  {
   "cell_type": "code",
   "execution_count": 239,
   "metadata": {
    "ExecuteTime": {
     "end_time": "2019-09-11T10:34:52.498199Z",
     "start_time": "2019-09-11T10:34:52.481480Z"
    }
   },
   "outputs": [
    {
     "name": "stdout",
     "output_type": "stream",
     "text": [
      "fund_day (4344, 1)\n",
      "(2002, 1)\n"
     ]
    }
   ],
   "source": [
    "\n",
    "fund_day = fund_narrow_pd.loc[(fund_narrow_pd[0] == \"时间戳\") & (fund_narrow_pd[1] ==  int(\"040023\"))]\n",
    "fund_day = fund_day.T\n",
    "print(\"fund_day\", fund_day.shape)\n",
    "\n",
    "x1 = fund_day[fund_day.iloc[:,0] != 0]\n",
    "print(x1.shape)\n",
    "# print(x1)\n",
    "\n",
    "\n"
   ]
  },
  {
   "cell_type": "code",
   "execution_count": 147,
   "metadata": {
    "ExecuteTime": {
     "end_time": "2019-09-11T07:03:26.670950Z",
     "start_time": "2019-09-11T07:03:26.653431Z"
    }
   },
   "outputs": [
    {
     "name": "stdout",
     "output_type": "stream",
     "text": [
      "Empty DataFrame\n",
      "Columns: [0, 1, 2, 3, 4, 5, 6, 7, 8, 9, 10, 11, 12, 13, 14, 15, 16, 17, 18, 19, 20, 21, 22, 23, 24, 25, 26, 27, 28, 29, 30, 31, 32, 33, 34, 35, 36, 37, 38, 39, 40, 41, 42, 43, 44, 45, 46, 47, 48, 49, 50, 51, 52, 53, 54, 55, 56, 57, 58, 59, 60, 61, 62, 63, 64, 65, 66, 67, 68, 69, 70, 71, 72, 73, 74, 75, 76, 77, 78, 79, 80, 81, 82, 83, 84, 85, 86, 87, 88, 89, 90, 91, 92, 93, 94, 95, 96, 97, 98, 99, ...]\n",
      "Index: []\n",
      "\n",
      "[0 rows x 4344 columns]\n"
     ]
    }
   ],
   "source": []
  },
  {
   "cell_type": "code",
   "execution_count": null,
   "metadata": {},
   "outputs": [],
   "source": []
  }
 ],
 "metadata": {
  "kernelspec": {
   "display_name": "Python 3",
   "language": "python",
   "name": "python3"
  },
  "language_info": {
   "codemirror_mode": {
    "name": "ipython",
    "version": 3
   },
   "file_extension": ".py",
   "mimetype": "text/x-python",
   "name": "python",
   "nbconvert_exporter": "python",
   "pygments_lexer": "ipython3",
   "version": "3.6.8"
  },
  "toc": {
   "base_numbering": 1,
   "nav_menu": {},
   "number_sections": true,
   "sideBar": true,
   "skip_h1_title": false,
   "title_cell": "Table of Contents",
   "title_sidebar": "Contents",
   "toc_cell": false,
   "toc_position": {},
   "toc_section_display": true,
   "toc_window_display": false
  }
 },
 "nbformat": 4,
 "nbformat_minor": 2
}
