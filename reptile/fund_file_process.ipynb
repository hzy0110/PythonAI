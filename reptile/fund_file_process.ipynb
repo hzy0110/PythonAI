{
 "cells": [
  {
   "cell_type": "code",
   "execution_count": 2,
   "metadata": {
    "ExecuteTime": {
     "end_time": "2019-09-12T07:58:05.722165Z",
     "start_time": "2019-09-12T07:58:04.460651Z"
    }
   },
   "outputs": [],
   "source": [
    "import requests\n",
    "import time\n",
    "import execjs\n",
    "import matplotlib.pyplot as plt\n",
    "import pandas as pd\n",
    "import numpy as np\n",
    "import os\n",
    "from multiprocessing import Process"
   ]
  },
  {
   "cell_type": "code",
   "execution_count": 4,
   "metadata": {
    "ExecuteTime": {
     "end_time": "2019-09-12T07:58:15.423294Z",
     "start_time": "2019-09-12T07:58:15.418401Z"
    }
   },
   "outputs": [],
   "source": [
    "def getAllCode():\n",
    "    url = 'http://fund.eastmoney.com/js/fundcode_search.js'\n",
    "    content = requests.get(url)\n",
    "    jsContent = execjs.compile(content.text)\n",
    "    rawData = jsContent.eval('r')\n",
    "    allCode = []\n",
    "    for code in rawData:\n",
    "        allCode.append(code[0])\n",
    "    return allCode\n"
   ]
  },
  {
   "cell_type": "code",
   "execution_count": 44,
   "metadata": {
    "ExecuteTime": {
     "end_time": "2019-09-12T12:48:56.973095Z",
     "start_time": "2019-09-12T12:48:07.814166Z"
    }
   },
   "outputs": [],
   "source": [
    "# fund_narrow_pd=pd.read_csv('./narrow/fund_narrow_pd.csv',low_memory=False, header = None)\n",
    "# worth_pd文件 最长是 202001\n",
    "# rateInSimilar_pd最长是040001\n",
    "# grandTotal_pd 最长是 005503\n",
    "grandTotal_pd=pd.read_csv('./narrow/grandTotal_pd.csv',low_memory=False, header = None)\n",
    "rateInSimilar_pd=pd.read_csv('./narrow/rateInSimilar_pd.csv',low_memory=False, header = None)\n",
    "worth_pd = pd.read_csv(open('./1-8926/san/worth_pd.csv','r'),low_memory=False, header = None)"
   ]
  },
  {
   "cell_type": "code",
   "execution_count": 66,
   "metadata": {
    "ExecuteTime": {
     "end_time": "2019-09-12T13:22:16.031540Z",
     "start_time": "2019-09-12T13:22:09.385845Z"
    }
   },
   "outputs": [
    {
     "name": "stdout",
     "output_type": "stream",
     "text": [
      "<class 'pandas.core.frame.DataFrame'>\n",
      "RangeIndex: 29316 entries, 0 to 29315\n",
      "Columns: 136 entries, 0 to 135\n",
      "dtypes: float64(134), int64(1), object(1)\n",
      "memory usage: 30.4+ MB\n",
      "None\n",
      "<class 'pandas.core.frame.DataFrame'>\n",
      "RangeIndex: 30452 entries, 0 to 30451\n",
      "Columns: 4303 entries, 0 to 4302\n",
      "dtypes: float64(4301), int64(1), object(1)\n",
      "memory usage: 999.7+ MB\n",
      "None\n",
      "<class 'pandas.core.frame.DataFrame'>\n",
      "RangeIndex: 38075 entries, 0 to 38074\n",
      "Columns: 4345 entries, 0 to 4344\n",
      "dtypes: float64(4343), int64(1), object(1)\n",
      "memory usage: 1.2+ GB\n",
      "None\n"
     ]
    }
   ],
   "source": [
    "# df.iloc = df['col2'].astype('float64')\n",
    "worth_pd = worth_pd.fillna(0)\n",
    "grandTotal_pd = grandTotal_pd.fillna(0)\n",
    "rateInSimilar_pd = rateInSimilar_pd.fillna(0)\n",
    "\n",
    "print(grandTotal_pd.info())\n",
    "print(rateInSimilar_pd.info())\n",
    "print(worth_pd.info())\n",
    "# 拆分：每份基金份额分拆\n",
    "# 拆分：每份基金份额折算\n",
    "# 分红：每份派现金\n",
    "# worth_pd.loc[:,2:].astype('float')"
   ]
  },
  {
   "cell_type": "code",
   "execution_count": 70,
   "metadata": {
    "ExecuteTime": {
     "end_time": "2019-09-12T13:22:32.584061Z",
     "start_time": "2019-09-12T13:22:32.578578Z"
    },
    "code_folding": []
   },
   "outputs": [],
   "source": [
    "# 找 N 年以上的基金\n",
    "def get_year_funds(years, allCode):\n",
    "    funds_year = []\n",
    "#     allCode = ['000008']\n",
    "    for code in allCode:\n",
    "#         print(code)\n",
    "        fund_day = rateInSimilar_pd.loc[(rateInSimilar_pd[0] == \"时间戳\") & (rateInSimilar_pd[1] ==  int(code))]\n",
    "        if fund_day.shape[0] > 0:\n",
    "            fund_day = fund_day.T\n",
    "#             print(fund_day.shape)\n",
    "#             print(fund_day)\n",
    "            day_c = fund_day[fund_day.iloc[:,0] != 0].shape[0]\n",
    "            if day_c >= 365 * years + 10:\n",
    "#                 print(\"code\",code,\"day_c\",day_c)\n",
    "                funds_year.append(code)\n",
    "    return funds_year"
   ]
  },
  {
   "cell_type": "code",
   "execution_count": 71,
   "metadata": {
    "ExecuteTime": {
     "end_time": "2019-09-12T13:23:12.643479Z",
     "start_time": "2019-09-12T13:22:33.106039Z"
    }
   },
   "outputs": [],
   "source": [
    "allCode = getAllCode()\n",
    "funds_5y = get_year_funds(5,allCode)\n",
    "pd.DataFrame(funds_5y).to_csv(\"./funds_5y.csv\", header=False, index=False)"
   ]
  },
  {
   "cell_type": "code",
   "execution_count": 72,
   "metadata": {
    "ExecuteTime": {
     "end_time": "2019-09-12T13:23:48.180144Z",
     "start_time": "2019-09-12T13:23:12.646351Z"
    }
   },
   "outputs": [],
   "source": [
    "funds_3y = get_year_funds(3,allCode)\n",
    "pd.DataFrame(funds_3y).to_csv(\"./funds_3y.csv\", header=False, index=False)"
   ]
  },
  {
   "cell_type": "code",
   "execution_count": 74,
   "metadata": {
    "ExecuteTime": {
     "end_time": "2019-09-12T13:25:50.424359Z",
     "start_time": "2019-09-12T13:25:50.421223Z"
    }
   },
   "outputs": [
    {
     "name": "stdout",
     "output_type": "stream",
     "text": [
      "1705\n"
     ]
    }
   ],
   "source": [
    "print(len(funds_3y))"
   ]
  },
  {
   "cell_type": "code",
   "execution_count": 75,
   "metadata": {
    "ExecuteTime": {
     "end_time": "2019-09-12T13:26:04.457015Z",
     "start_time": "2019-09-12T13:26:04.440612Z"
    }
   },
   "outputs": [],
   "source": [
    "# 近 N 年 同类绩效均值 n(0-1)\n",
    "def get_similar_mean(year):\n",
    "    if year <= 3:\n",
    "        file_year = 3\n",
    "    if year >3 and year <= 5:\n",
    "        file_year = 5\n",
    "    fund_similar_mean_list = []\n",
    "    fund_similar_code_list = []\n",
    "    fund_year_pd = pd.read_csv(\n",
    "        './funds_' + str(file_year) + 'y.csv', low_memory=False, header=None)\n",
    "    fund_year_list = fund_year_pd.values.tolist()\n",
    "#     fund_year_list = [1,11]\n",
    "    for code in fund_year_list:\n",
    "        code = code[0]\n",
    "        fund_similar = fund_narrow_pd.loc[(fund_narrow_pd[0] == \"同类排名百分比\")\n",
    "                                          & (fund_narrow_pd[1] == code)]\n",
    "        fund_similar.drop([0, 1, 2], axis=1, inplace=True) # 删除前三列无用数据\n",
    "        fund_similar = fund_similar.T\n",
    "        fund_similar = fund_similar[fund_similar.iloc[:, 0] > 0] # 只要有效数据\n",
    "        if fund_similar.shape[0] >= year * 365:\n",
    "            fund_similar = fund_similar.iloc[0: year*365 , :]  # 找 x 天内的数据,取前 n 行\n",
    "#             print(fund_similar.shape)\n",
    "            mean = fund_similar.mean(0).iloc[0] # 求平均\n",
    "            fund_similar_code_list.append(code)\n",
    "            fund_similar_mean_list.append(mean)\n",
    "            fund_similar_mean_dict = {\n",
    "                \"code\" : fund_similar_code_list,\n",
    "               \"同类平均值\" : fund_similar_mean_list\n",
    "            } \n",
    "    fund_similar_mean_pd =  pd.DataFrame(fund_similar_mean_dict)\n",
    "    \n",
    "    return fund_similar_mean_pd"
   ]
  },
  {
   "cell_type": "code",
   "execution_count": 76,
   "metadata": {
    "ExecuteTime": {
     "end_time": "2019-09-12T13:26:06.018724Z",
     "start_time": "2019-09-12T13:26:06.008277Z"
    }
   },
   "outputs": [],
   "source": [
    "def get_similar_top(similar_mean,top):\n",
    "#     排序\n",
    "    similar_mean.sort_values(by = '同类平均值', inplace=True, ascending=False)\n",
    "#     获取长度\n",
    "    pd_len = similar_mean.shape[0]\n",
    "#     取前三分之一\n",
    "    similar_top = similar_mean.head(round(pd_len * top))\n",
    "    return similar_top"
   ]
  },
  {
   "cell_type": "code",
   "execution_count": 77,
   "metadata": {
    "ExecuteTime": {
     "end_time": "2019-09-12T13:39:07.493048Z",
     "start_time": "2019-09-12T13:26:07.638642Z"
    }
   },
   "outputs": [
    {
     "name": "stderr",
     "output_type": "stream",
     "text": [
      "/anaconda3/lib/python3.6/site-packages/pandas/core/frame.py:3697: SettingWithCopyWarning: \n",
      "A value is trying to be set on a copy of a slice from a DataFrame\n",
      "\n",
      "See the caveats in the documentation: http://pandas.pydata.org/pandas-docs/stable/indexing.html#indexing-view-versus-copy\n",
      "  errors=errors)\n"
     ]
    },
    {
     "ename": "IndexError",
     "evalue": "single positional indexer is out-of-bounds",
     "output_type": "error",
     "traceback": [
      "\u001b[0;31m------------------------------------------------------------------------\u001b[0m",
      "\u001b[0;31mIndexError\u001b[0m                             Traceback (most recent call last)",
      "\u001b[0;32m<ipython-input-77-e63a946b2d1b>\u001b[0m in \u001b[0;36m<module>\u001b[0;34m\u001b[0m\n\u001b[1;32m      1\u001b[0m \u001b[0;31m# 统计5 年来前 30%的基金\u001b[0m\u001b[0;34m\u001b[0m\u001b[0;34m\u001b[0m\u001b[0;34m\u001b[0m\u001b[0m\n\u001b[1;32m      2\u001b[0m \u001b[0;32mfor\u001b[0m \u001b[0mi\u001b[0m \u001b[0;32min\u001b[0m \u001b[0mrange\u001b[0m\u001b[0;34m(\u001b[0m\u001b[0;36m1\u001b[0m\u001b[0;34m,\u001b[0m\u001b[0;36m6\u001b[0m\u001b[0;34m,\u001b[0m\u001b[0;36m1\u001b[0m\u001b[0;34m)\u001b[0m\u001b[0;34m:\u001b[0m\u001b[0;34m\u001b[0m\u001b[0;34m\u001b[0m\u001b[0m\n\u001b[0;32m----> 3\u001b[0;31m     \u001b[0mfund_similar_mean_pd\u001b[0m \u001b[0;34m=\u001b[0m \u001b[0mget_similar_mean\u001b[0m\u001b[0;34m(\u001b[0m\u001b[0mi\u001b[0m\u001b[0;34m)\u001b[0m\u001b[0;34m\u001b[0m\u001b[0;34m\u001b[0m\u001b[0m\n\u001b[0m\u001b[1;32m      4\u001b[0m     \u001b[0mfund_similar_top_pd\u001b[0m \u001b[0;34m=\u001b[0m \u001b[0mget_similar_top\u001b[0m\u001b[0;34m(\u001b[0m\u001b[0mfund_similar_mean_pd\u001b[0m\u001b[0;34m,\u001b[0m \u001b[0;36m0.3\u001b[0m\u001b[0;34m)\u001b[0m\u001b[0;34m\u001b[0m\u001b[0;34m\u001b[0m\u001b[0m\n\u001b[1;32m      5\u001b[0m     \u001b[0mfund_similar_top_pd\u001b[0m\u001b[0;34m.\u001b[0m\u001b[0mto_csv\u001b[0m\u001b[0;34m(\u001b[0m\u001b[0;34m\"./fund_similar_top\"\u001b[0m \u001b[0;34m+\u001b[0m \u001b[0mstr\u001b[0m\u001b[0;34m(\u001b[0m\u001b[0mi\u001b[0m\u001b[0;34m)\u001b[0m \u001b[0;34m+\u001b[0m\u001b[0;34m\"y_pd.csv\"\u001b[0m\u001b[0;34m,\u001b[0m \u001b[0mindex\u001b[0m\u001b[0;34m=\u001b[0m\u001b[0;32mFalse\u001b[0m\u001b[0;34m)\u001b[0m\u001b[0;34m\u001b[0m\u001b[0;34m\u001b[0m\u001b[0m\n",
      "\u001b[0;32m<ipython-input-75-208536d94ef0>\u001b[0m in \u001b[0;36mget_similar_mean\u001b[0;34m(year)\u001b[0m\n\u001b[1;32m     17\u001b[0m         \u001b[0mfund_similar\u001b[0m\u001b[0;34m.\u001b[0m\u001b[0mdrop\u001b[0m\u001b[0;34m(\u001b[0m\u001b[0;34m[\u001b[0m\u001b[0;36m0\u001b[0m\u001b[0;34m,\u001b[0m \u001b[0;36m1\u001b[0m\u001b[0;34m,\u001b[0m \u001b[0;36m2\u001b[0m\u001b[0;34m]\u001b[0m\u001b[0;34m,\u001b[0m \u001b[0maxis\u001b[0m\u001b[0;34m=\u001b[0m\u001b[0;36m1\u001b[0m\u001b[0;34m,\u001b[0m \u001b[0minplace\u001b[0m\u001b[0;34m=\u001b[0m\u001b[0;32mTrue\u001b[0m\u001b[0;34m)\u001b[0m \u001b[0;31m# 删除前三列无用数据\u001b[0m\u001b[0;34m\u001b[0m\u001b[0;34m\u001b[0m\u001b[0m\n\u001b[1;32m     18\u001b[0m         \u001b[0mfund_similar\u001b[0m \u001b[0;34m=\u001b[0m \u001b[0mfund_similar\u001b[0m\u001b[0;34m.\u001b[0m\u001b[0mT\u001b[0m\u001b[0;34m\u001b[0m\u001b[0;34m\u001b[0m\u001b[0m\n\u001b[0;32m---> 19\u001b[0;31m         \u001b[0mfund_similar\u001b[0m \u001b[0;34m=\u001b[0m \u001b[0mfund_similar\u001b[0m\u001b[0;34m[\u001b[0m\u001b[0mfund_similar\u001b[0m\u001b[0;34m.\u001b[0m\u001b[0miloc\u001b[0m\u001b[0;34m[\u001b[0m\u001b[0;34m:\u001b[0m\u001b[0;34m,\u001b[0m \u001b[0;36m0\u001b[0m\u001b[0;34m]\u001b[0m \u001b[0;34m>\u001b[0m \u001b[0;36m0\u001b[0m\u001b[0;34m]\u001b[0m \u001b[0;31m# 只要有效数据\u001b[0m\u001b[0;34m\u001b[0m\u001b[0;34m\u001b[0m\u001b[0m\n\u001b[0m\u001b[1;32m     20\u001b[0m         \u001b[0;32mif\u001b[0m \u001b[0mfund_similar\u001b[0m\u001b[0;34m.\u001b[0m\u001b[0mshape\u001b[0m\u001b[0;34m[\u001b[0m\u001b[0;36m0\u001b[0m\u001b[0;34m]\u001b[0m \u001b[0;34m>=\u001b[0m \u001b[0myear\u001b[0m \u001b[0;34m*\u001b[0m \u001b[0;36m365\u001b[0m\u001b[0;34m:\u001b[0m\u001b[0;34m\u001b[0m\u001b[0;34m\u001b[0m\u001b[0m\n\u001b[1;32m     21\u001b[0m             \u001b[0mfund_similar\u001b[0m \u001b[0;34m=\u001b[0m \u001b[0mfund_similar\u001b[0m\u001b[0;34m.\u001b[0m\u001b[0miloc\u001b[0m\u001b[0;34m[\u001b[0m\u001b[0;36m0\u001b[0m\u001b[0;34m:\u001b[0m \u001b[0myear\u001b[0m\u001b[0;34m*\u001b[0m\u001b[0;36m365\u001b[0m \u001b[0;34m,\u001b[0m \u001b[0;34m:\u001b[0m\u001b[0;34m]\u001b[0m  \u001b[0;31m# 找 x 天内的数据,取前 n 行\u001b[0m\u001b[0;34m\u001b[0m\u001b[0;34m\u001b[0m\u001b[0m\n",
      "\u001b[0;32m/anaconda3/lib/python3.6/site-packages/pandas/core/indexing.py\u001b[0m in \u001b[0;36m__getitem__\u001b[0;34m(self, key)\u001b[0m\n\u001b[1;32m   1470\u001b[0m             \u001b[0;32mexcept\u001b[0m \u001b[0;34m(\u001b[0m\u001b[0mKeyError\u001b[0m\u001b[0;34m,\u001b[0m \u001b[0mIndexError\u001b[0m\u001b[0;34m)\u001b[0m\u001b[0;34m:\u001b[0m\u001b[0;34m\u001b[0m\u001b[0;34m\u001b[0m\u001b[0m\n\u001b[1;32m   1471\u001b[0m                 \u001b[0;32mpass\u001b[0m\u001b[0;34m\u001b[0m\u001b[0;34m\u001b[0m\u001b[0m\n\u001b[0;32m-> 1472\u001b[0;31m             \u001b[0;32mreturn\u001b[0m \u001b[0mself\u001b[0m\u001b[0;34m.\u001b[0m\u001b[0m_getitem_tuple\u001b[0m\u001b[0;34m(\u001b[0m\u001b[0mkey\u001b[0m\u001b[0;34m)\u001b[0m\u001b[0;34m\u001b[0m\u001b[0;34m\u001b[0m\u001b[0m\n\u001b[0m\u001b[1;32m   1473\u001b[0m         \u001b[0;32melse\u001b[0m\u001b[0;34m:\u001b[0m\u001b[0;34m\u001b[0m\u001b[0;34m\u001b[0m\u001b[0m\n\u001b[1;32m   1474\u001b[0m             \u001b[0;31m# we by definition only have the 0th axis\u001b[0m\u001b[0;34m\u001b[0m\u001b[0;34m\u001b[0m\u001b[0;34m\u001b[0m\u001b[0m\n",
      "\u001b[0;32m/anaconda3/lib/python3.6/site-packages/pandas/core/indexing.py\u001b[0m in \u001b[0;36m_getitem_tuple\u001b[0;34m(self, tup)\u001b[0m\n\u001b[1;32m   2011\u001b[0m     \u001b[0;32mdef\u001b[0m \u001b[0m_getitem_tuple\u001b[0m\u001b[0;34m(\u001b[0m\u001b[0mself\u001b[0m\u001b[0;34m,\u001b[0m \u001b[0mtup\u001b[0m\u001b[0;34m)\u001b[0m\u001b[0;34m:\u001b[0m\u001b[0;34m\u001b[0m\u001b[0;34m\u001b[0m\u001b[0m\n\u001b[1;32m   2012\u001b[0m \u001b[0;34m\u001b[0m\u001b[0m\n\u001b[0;32m-> 2013\u001b[0;31m         \u001b[0mself\u001b[0m\u001b[0;34m.\u001b[0m\u001b[0m_has_valid_tuple\u001b[0m\u001b[0;34m(\u001b[0m\u001b[0mtup\u001b[0m\u001b[0;34m)\u001b[0m\u001b[0;34m\u001b[0m\u001b[0;34m\u001b[0m\u001b[0m\n\u001b[0m\u001b[1;32m   2014\u001b[0m         \u001b[0;32mtry\u001b[0m\u001b[0;34m:\u001b[0m\u001b[0;34m\u001b[0m\u001b[0;34m\u001b[0m\u001b[0m\n\u001b[1;32m   2015\u001b[0m             \u001b[0;32mreturn\u001b[0m \u001b[0mself\u001b[0m\u001b[0;34m.\u001b[0m\u001b[0m_getitem_lowerdim\u001b[0m\u001b[0;34m(\u001b[0m\u001b[0mtup\u001b[0m\u001b[0;34m)\u001b[0m\u001b[0;34m\u001b[0m\u001b[0;34m\u001b[0m\u001b[0m\n",
      "\u001b[0;32m/anaconda3/lib/python3.6/site-packages/pandas/core/indexing.py\u001b[0m in \u001b[0;36m_has_valid_tuple\u001b[0;34m(self, key)\u001b[0m\n\u001b[1;32m    220\u001b[0m                 \u001b[0;32mraise\u001b[0m \u001b[0mIndexingError\u001b[0m\u001b[0;34m(\u001b[0m\u001b[0;34m'Too many indexers'\u001b[0m\u001b[0;34m)\u001b[0m\u001b[0;34m\u001b[0m\u001b[0;34m\u001b[0m\u001b[0m\n\u001b[1;32m    221\u001b[0m             \u001b[0;32mtry\u001b[0m\u001b[0;34m:\u001b[0m\u001b[0;34m\u001b[0m\u001b[0;34m\u001b[0m\u001b[0m\n\u001b[0;32m--> 222\u001b[0;31m                 \u001b[0mself\u001b[0m\u001b[0;34m.\u001b[0m\u001b[0m_validate_key\u001b[0m\u001b[0;34m(\u001b[0m\u001b[0mk\u001b[0m\u001b[0;34m,\u001b[0m \u001b[0mi\u001b[0m\u001b[0;34m)\u001b[0m\u001b[0;34m\u001b[0m\u001b[0;34m\u001b[0m\u001b[0m\n\u001b[0m\u001b[1;32m    223\u001b[0m             \u001b[0;32mexcept\u001b[0m \u001b[0mValueError\u001b[0m\u001b[0;34m:\u001b[0m\u001b[0;34m\u001b[0m\u001b[0;34m\u001b[0m\u001b[0m\n\u001b[1;32m    224\u001b[0m                 raise ValueError(\"Location based indexing can only have \"\n",
      "\u001b[0;32m/anaconda3/lib/python3.6/site-packages/pandas/core/indexing.py\u001b[0m in \u001b[0;36m_validate_key\u001b[0;34m(self, key, axis)\u001b[0m\n\u001b[1;32m   1955\u001b[0m             \u001b[0;32mreturn\u001b[0m\u001b[0;34m\u001b[0m\u001b[0;34m\u001b[0m\u001b[0m\n\u001b[1;32m   1956\u001b[0m         \u001b[0;32melif\u001b[0m \u001b[0mis_integer\u001b[0m\u001b[0;34m(\u001b[0m\u001b[0mkey\u001b[0m\u001b[0;34m)\u001b[0m\u001b[0;34m:\u001b[0m\u001b[0;34m\u001b[0m\u001b[0;34m\u001b[0m\u001b[0m\n\u001b[0;32m-> 1957\u001b[0;31m             \u001b[0mself\u001b[0m\u001b[0;34m.\u001b[0m\u001b[0m_validate_integer\u001b[0m\u001b[0;34m(\u001b[0m\u001b[0mkey\u001b[0m\u001b[0;34m,\u001b[0m \u001b[0maxis\u001b[0m\u001b[0;34m)\u001b[0m\u001b[0;34m\u001b[0m\u001b[0;34m\u001b[0m\u001b[0m\n\u001b[0m\u001b[1;32m   1958\u001b[0m         \u001b[0;32melif\u001b[0m \u001b[0misinstance\u001b[0m\u001b[0;34m(\u001b[0m\u001b[0mkey\u001b[0m\u001b[0;34m,\u001b[0m \u001b[0mtuple\u001b[0m\u001b[0;34m)\u001b[0m\u001b[0;34m:\u001b[0m\u001b[0;34m\u001b[0m\u001b[0;34m\u001b[0m\u001b[0m\n\u001b[1;32m   1959\u001b[0m             \u001b[0;31m# a tuple should already have been caught by this point\u001b[0m\u001b[0;34m\u001b[0m\u001b[0;34m\u001b[0m\u001b[0;34m\u001b[0m\u001b[0m\n",
      "\u001b[0;32m/anaconda3/lib/python3.6/site-packages/pandas/core/indexing.py\u001b[0m in \u001b[0;36m_validate_integer\u001b[0;34m(self, key, axis)\u001b[0m\n\u001b[1;32m   2007\u001b[0m         \u001b[0ml\u001b[0m \u001b[0;34m=\u001b[0m \u001b[0mlen\u001b[0m\u001b[0;34m(\u001b[0m\u001b[0max\u001b[0m\u001b[0;34m)\u001b[0m\u001b[0;34m\u001b[0m\u001b[0;34m\u001b[0m\u001b[0m\n\u001b[1;32m   2008\u001b[0m         \u001b[0;32mif\u001b[0m \u001b[0mkey\u001b[0m \u001b[0;34m>=\u001b[0m \u001b[0ml\u001b[0m \u001b[0;32mor\u001b[0m \u001b[0mkey\u001b[0m \u001b[0;34m<\u001b[0m \u001b[0;34m-\u001b[0m\u001b[0ml\u001b[0m\u001b[0;34m:\u001b[0m\u001b[0;34m\u001b[0m\u001b[0;34m\u001b[0m\u001b[0m\n\u001b[0;32m-> 2009\u001b[0;31m             \u001b[0;32mraise\u001b[0m \u001b[0mIndexError\u001b[0m\u001b[0;34m(\u001b[0m\u001b[0;34m\"single positional indexer is out-of-bounds\"\u001b[0m\u001b[0;34m)\u001b[0m\u001b[0;34m\u001b[0m\u001b[0;34m\u001b[0m\u001b[0m\n\u001b[0m\u001b[1;32m   2010\u001b[0m \u001b[0;34m\u001b[0m\u001b[0m\n\u001b[1;32m   2011\u001b[0m     \u001b[0;32mdef\u001b[0m \u001b[0m_getitem_tuple\u001b[0m\u001b[0;34m(\u001b[0m\u001b[0mself\u001b[0m\u001b[0;34m,\u001b[0m \u001b[0mtup\u001b[0m\u001b[0;34m)\u001b[0m\u001b[0;34m:\u001b[0m\u001b[0;34m\u001b[0m\u001b[0;34m\u001b[0m\u001b[0m\n",
      "\u001b[0;31mIndexError\u001b[0m: single positional indexer is out-of-bounds"
     ]
    }
   ],
   "source": [
    "# 统计5 年来前 30%的基金\n",
    "for i in range(1,6,1):\n",
    "    fund_similar_mean_pd = get_similar_mean(i)\n",
    "    fund_similar_top_pd = get_similar_top(fund_similar_mean_pd, 0.3)\n",
    "    fund_similar_top_pd.to_csv(\"./fund_similar_top\" + str(i) +\"y_pd.csv\", index=False)\n",
    "# print(fund_similar_mean_pd)"
   ]
  },
  {
   "cell_type": "code",
   "execution_count": 382,
   "metadata": {
    "ExecuteTime": {
     "end_time": "2019-09-12T06:39:56.025382Z",
     "start_time": "2019-09-12T06:39:55.992232Z"
    },
    "collapsed": true
   },
   "outputs": [
    {
     "name": "stdout",
     "output_type": "stream",
     "text": [
      "          0          1\n",
      "0    471060  81.245963\n",
      "1    150106  76.939799\n",
      "2    150123  75.330694\n",
      "3       345  74.458584\n",
      "4    110053  73.228776\n",
      "5    450009  72.315973\n",
      "6       577  70.838557\n",
      "7    110022  70.710667\n",
      "8    160222  70.462658\n",
      "9    510630  70.428429\n",
      "10   380009  70.293023\n",
      "11   150117  70.136164\n",
      "12   159928  69.852329\n",
      "13   163210  69.741379\n",
      "14   150199  69.674201\n",
      "15   217022  69.633982\n",
      "16   150190  69.574932\n",
      "17   540006  69.560995\n",
      "18      751  69.292110\n",
      "19   150130  69.226438\n",
      "20   100072  69.093443\n",
      "21   150198  69.062731\n",
      "22   160127  68.896018\n",
      "23   519736  68.874721\n",
      "24   150164  68.844539\n",
      "25   512600  68.774804\n",
      "26   180012  68.120274\n",
      "27   166902  68.099909\n",
      "28   519714  67.996365\n",
      "29      527  67.969087\n",
      "..      ...        ...\n",
      "483   40040  54.725763\n",
      "484     192  54.710384\n",
      "485  165309  54.705068\n",
      "486  165807  54.696721\n",
      "487  740101  54.665927\n",
      "488     187  54.648000\n",
      "489  660004  54.646082\n",
      "490  161606  54.640466\n",
      "491  166011  54.627406\n",
      "492  257030  54.620228\n",
      "493  519661  54.618447\n",
      "494      65  54.617726\n",
      "495  340006  54.614731\n",
      "496  519163  54.613425\n",
      "497  270050  54.575562\n",
      "498  233007  54.564658\n",
      "499     737  54.560922\n",
      "500  519723  54.556694\n",
      "501   20011  54.549169\n",
      "502   50014  54.526201\n",
      "503  750005  54.520977\n",
      "504   40015  54.506247\n",
      "505   70099  54.500557\n",
      "506  320020  54.473151\n",
      "507   80001  54.465251\n",
      "508  590009  54.456795\n",
      "509     508  54.418037\n",
      "510  161603  54.395242\n",
      "511      42  54.394183\n",
      "512  202005  54.386785\n",
      "\n",
      "[513 rows x 2 columns]\n",
      "          0          1\n",
      "0    471060  81.245963\n",
      "1    150106  76.939799\n",
      "2    150123  75.330694\n",
      "3       345  74.458584\n",
      "4    110053  73.228776\n",
      "5    450009  72.315973\n",
      "6       577  70.838557\n",
      "7    110022  70.710667\n",
      "8    160222  70.462658\n",
      "9    510630  70.428429\n",
      "10   380009  70.293023\n",
      "11   150117  70.136164\n",
      "12   159928  69.852329\n",
      "13   163210  69.741379\n",
      "14   150199  69.674201\n",
      "15   217022  69.633982\n",
      "16   150190  69.574932\n",
      "17   540006  69.560995\n",
      "18      751  69.292110\n",
      "19   150130  69.226438\n",
      "20   100072  69.093443\n",
      "21   150198  69.062731\n",
      "22   160127  68.896018\n",
      "23   519736  68.874721\n",
      "24   150164  68.844539\n",
      "25   512600  68.774804\n",
      "26   180012  68.120274\n",
      "27   166902  68.099909\n",
      "28   519714  67.996365\n",
      "29      527  67.969087\n",
      "..      ...        ...\n",
      "483   40040  54.725763\n",
      "484     192  54.710384\n",
      "485  165309  54.705068\n",
      "486  165807  54.696721\n",
      "487  740101  54.665927\n",
      "488     187  54.648000\n",
      "489  660004  54.646082\n",
      "490  161606  54.640466\n",
      "491  166011  54.627406\n",
      "492  257030  54.620228\n",
      "493  519661  54.618447\n",
      "494      65  54.617726\n",
      "495  340006  54.614731\n",
      "496  519163  54.613425\n",
      "497  270050  54.575562\n",
      "498  233007  54.564658\n",
      "499     737  54.560922\n",
      "500  519723  54.556694\n",
      "501   20011  54.549169\n",
      "502   50014  54.526201\n",
      "503  750005  54.520977\n",
      "504   40015  54.506247\n",
      "505   70099  54.500557\n",
      "506  320020  54.473151\n",
      "507   80001  54.465251\n",
      "508  590009  54.456795\n",
      "509     508  54.418037\n",
      "510  161603  54.395242\n",
      "511      42  54.394183\n",
      "512  202005  54.386785\n",
      "\n",
      "[513 rows x 2 columns]\n"
     ]
    }
   ],
   "source": [
    "fund_similar_top_1y_pd = pd.read_csv('./fund_similar_top_1y_pd.csv',low_memory=False, header=None)\n",
    "fund_similar_top_2y_pd = pd.read_csv('./fund_similar_top_2y_pd.csv',low_memory=False, header=None)\n",
    "print(fund_similar_top_1y_pd)\n",
    "print(fund_similar_top_2y_pd)\n",
    "m = pd.merge(fund_similar_top_1y_pd,fund_similar_top_2y_pd,how='inner',on = 0)\n",
    "# print(m)"
   ]
  },
  {
   "cell_type": "code",
   "execution_count": null,
   "metadata": {},
   "outputs": [],
   "source": []
  },
  {
   "cell_type": "code",
   "execution_count": null,
   "metadata": {},
   "outputs": [],
   "source": []
  },
  {
   "cell_type": "code",
   "execution_count": null,
   "metadata": {},
   "outputs": [],
   "source": [
    "# 测试代码分割线"
   ]
  },
  {
   "cell_type": "code",
   "execution_count": 338,
   "metadata": {
    "ExecuteTime": {
     "end_time": "2019-09-11T11:54:01.431949Z",
     "start_time": "2019-09-11T11:54:01.419485Z"
    },
    "scrolled": true
   },
   "outputs": [
    {
     "name": "stdout",
     "output_type": "stream",
     "text": [
      "251.7\n",
      "(839, 2)\n",
      "(252, 2)\n"
     ]
    }
   ],
   "source": [
    "# mean = fund_similar_mean_pd.iloc[0,:].mean(0)\n",
    "# print(fund_similar_mean_pd)\n",
    "fund_similar_mean_pd_t = fund_similar_mean_pd\n",
    "fund_similar_mean_pd_t.sort_values(by = '同类平均值', inplace=True, ascending=False)\n",
    "pd_len = fund_similar_mean_pd_t.shape[0]\n",
    "print(pd_len * 0.3)\n",
    "\n",
    "print(fund_similar_mean_pd_t.shape)\n",
    "# fund_similar_mean_pd_t = fund_similar_mean_pd_t.iloc[0:round(pd_len * 0.3)]\n",
    "fund_similar_mean_pd_t = fund_similar_mean_pd_t.head(round(pd_len * 0.3))\n",
    "print(fund_similar_mean_pd_t.shape)\n",
    "# round(pd_len * 0.3)\n",
    "# .head(3)\n"
   ]
  },
  {
   "cell_type": "code",
   "execution_count": 323,
   "metadata": {
    "ExecuteTime": {
     "end_time": "2019-09-11T11:42:36.878887Z",
     "start_time": "2019-09-11T11:42:36.512635Z"
    }
   },
   "outputs": [
    {
     "name": "stdout",
     "output_type": "stream",
     "text": [
      "(3447, 1)\n",
      "(1825, 1)\n",
      "()\n",
      "54.835787641427295\n",
      "<class 'numpy.float64'>\n"
     ]
    }
   ],
   "source": [
    "fund_similar = fund_narrow_pd.loc[(fund_narrow_pd[0] == \"同类排名百分比\")\n",
    "                                  & (fund_narrow_pd[1] == 100022)]\n",
    "fund_similar.drop([0, 1, 2], axis=1, inplace=True)  # 删除前三列无用数据\n",
    "fund_similar = fund_similar.T\n",
    "fund_similar = fund_similar[fund_similar.iloc[:, 0] > 0]  # 只要有效数据\n",
    "#         还需要找 x 天内的数据\n",
    "print(fund_similar.shape)\n",
    "# print(fund_similar.iloc[:,5*365].shape)\n",
    "# fund_similar = fund_similar.iloc[5*365,:]\n",
    "print(fund_similar.iloc[0:5*365,:].shape)\n",
    "mean = fund_similar.mean(0).iloc[0]  # 求平均\n",
    "print(mean.shape)\n",
    "print(mean)\n",
    "print(type(mean))"
   ]
  },
  {
   "cell_type": "code",
   "execution_count": 239,
   "metadata": {
    "ExecuteTime": {
     "end_time": "2019-09-11T10:34:52.498199Z",
     "start_time": "2019-09-11T10:34:52.481480Z"
    }
   },
   "outputs": [
    {
     "name": "stdout",
     "output_type": "stream",
     "text": [
      "fund_day (4344, 1)\n",
      "(2002, 1)\n"
     ]
    }
   ],
   "source": [
    "\n",
    "fund_day = fund_narrow_pd.loc[(fund_narrow_pd[0] == \"时间戳\") & (fund_narrow_pd[1] ==  int(\"040023\"))]\n",
    "fund_day = fund_day.T\n",
    "print(\"fund_day\", fund_day.shape)\n",
    "\n",
    "x1 = fund_day[fund_day.iloc[:,0] != 0]\n",
    "print(x1.shape)\n",
    "# print(x1)\n",
    "\n",
    "\n"
   ]
  },
  {
   "cell_type": "code",
   "execution_count": 147,
   "metadata": {
    "ExecuteTime": {
     "end_time": "2019-09-11T07:03:26.670950Z",
     "start_time": "2019-09-11T07:03:26.653431Z"
    }
   },
   "outputs": [
    {
     "name": "stdout",
     "output_type": "stream",
     "text": [
      "Empty DataFrame\n",
      "Columns: [0, 1, 2, 3, 4, 5, 6, 7, 8, 9, 10, 11, 12, 13, 14, 15, 16, 17, 18, 19, 20, 21, 22, 23, 24, 25, 26, 27, 28, 29, 30, 31, 32, 33, 34, 35, 36, 37, 38, 39, 40, 41, 42, 43, 44, 45, 46, 47, 48, 49, 50, 51, 52, 53, 54, 55, 56, 57, 58, 59, 60, 61, 62, 63, 64, 65, 66, 67, 68, 69, 70, 71, 72, 73, 74, 75, 76, 77, 78, 79, 80, 81, 82, 83, 84, 85, 86, 87, 88, 89, 90, 91, 92, 93, 94, 95, 96, 97, 98, 99, ...]\n",
      "Index: []\n",
      "\n",
      "[0 rows x 4344 columns]\n"
     ]
    }
   ],
   "source": []
  },
  {
   "cell_type": "code",
   "execution_count": null,
   "metadata": {},
   "outputs": [],
   "source": []
  }
 ],
 "metadata": {
  "kernelspec": {
   "display_name": "Python 3",
   "language": "python",
   "name": "python3"
  },
  "language_info": {
   "codemirror_mode": {
    "name": "ipython",
    "version": 3
   },
   "file_extension": ".py",
   "mimetype": "text/x-python",
   "name": "python",
   "nbconvert_exporter": "python",
   "pygments_lexer": "ipython3",
   "version": "3.6.8"
  },
  "toc": {
   "base_numbering": 1,
   "nav_menu": {},
   "number_sections": true,
   "sideBar": true,
   "skip_h1_title": false,
   "title_cell": "Table of Contents",
   "title_sidebar": "Contents",
   "toc_cell": false,
   "toc_position": {},
   "toc_section_display": true,
   "toc_window_display": false
  }
 },
 "nbformat": 4,
 "nbformat_minor": 2
}
