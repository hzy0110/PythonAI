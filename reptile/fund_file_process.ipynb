{
 "cells": [
  {
   "cell_type": "code",
   "execution_count": 2,
   "metadata": {
    "ExecuteTime": {
     "end_time": "2019-09-12T07:58:05.722165Z",
     "start_time": "2019-09-12T07:58:04.460651Z"
    }
   },
   "outputs": [],
   "source": [
    "import requests\n",
    "import time\n",
    "import execjs\n",
    "import matplotlib.pyplot as plt\n",
    "import pandas as pd\n",
    "import numpy as np\n",
    "import os\n",
    "from multiprocessing import Process"
   ]
  },
  {
   "cell_type": "code",
   "execution_count": 4,
   "metadata": {
    "ExecuteTime": {
     "end_time": "2019-09-12T07:58:15.423294Z",
     "start_time": "2019-09-12T07:58:15.418401Z"
    }
   },
   "outputs": [],
   "source": [
    "def getAllCode():\n",
    "    url = 'http://fund.eastmoney.com/js/fundcode_search.js'\n",
    "    content = requests.get(url)\n",
    "    jsContent = execjs.compile(content.text)\n",
    "    rawData = jsContent.eval('r')\n",
    "    allCode = []\n",
    "    for code in rawData:\n",
    "        allCode.append(code[0])\n",
    "    return allCode\n"
   ]
  },
  {
   "cell_type": "code",
   "execution_count": 138,
   "metadata": {
    "ExecuteTime": {
     "end_time": "2019-09-17T07:52:39.954944Z",
     "start_time": "2019-09-17T07:51:27.820785Z"
    }
   },
   "outputs": [],
   "source": [
    "# fund_narrow_pd=pd.read_csv('./narrow/fund_narrow_pd.csv',low_memory=False, header = None)\n",
    "# worth_pd文件 最长是 202001\n",
    "# rateInSimilar_pd最长是040001\n",
    "# grandTotal_pd 最长是 005503\n",
    "grandTotal_pd=pd.read_csv('./narrow/grandTotal_pd.csv',low_memory=False, header = None)\n",
    "rateInSimilar_pd=pd.read_csv('./narrow/rateInSimilar_pd.csv',low_memory=False, header = None)\n",
    "worth_pd = pd.read_csv(open('./1-8926/san/worth_pd.csv','r'),low_memory=False, header = None)\n",
    "fund_wide_pd_type=pd.read_csv('./wide/fund_wide_pd.csv',low_memory=False)"
   ]
  },
  {
   "cell_type": "code",
   "execution_count": 143,
   "metadata": {
    "ExecuteTime": {
     "end_time": "2019-09-17T07:57:28.940070Z",
     "start_time": "2019-09-17T07:57:28.578399Z"
    }
   },
   "outputs": [],
   "source": []
  },
  {
   "cell_type": "code",
   "execution_count": 144,
   "metadata": {
    "ExecuteTime": {
     "end_time": "2019-09-17T07:57:35.412116Z",
     "start_time": "2019-09-17T07:57:32.762046Z"
    }
   },
   "outputs": [
    {
     "name": "stdout",
     "output_type": "stream",
     "text": [
      "<class 'pandas.core.frame.DataFrame'>\n",
      "RangeIndex: 29316 entries, 0 to 29315\n",
      "Columns: 136 entries, 0 to 135\n",
      "dtypes: float64(134), int64(1), object(1)\n",
      "memory usage: 30.4+ MB\n",
      "None\n",
      "<class 'pandas.core.frame.DataFrame'>\n",
      "RangeIndex: 30452 entries, 0 to 30451\n",
      "Columns: 4303 entries, 0 to 4302\n",
      "dtypes: float64(4301), int64(1), object(1)\n",
      "memory usage: 999.7+ MB\n",
      "None\n",
      "<class 'pandas.core.frame.DataFrame'>\n",
      "RangeIndex: 38075 entries, 0 to 38074\n",
      "Columns: 4345 entries, 0 to 4344\n",
      "dtypes: float64(4343), int64(1), object(1)\n",
      "memory usage: 1.2+ GB\n",
      "None\n",
      "<class 'pandas.core.frame.DataFrame'>\n",
      "RangeIndex: 7623 entries, 0 to 7622\n",
      "Data columns (total 32 columns):\n",
      "name           7623 non-null object\n",
      "code           7623 non-null object\n",
      "类型             7623 non-null object\n",
      "原费率            5857 non-null object\n",
      "现费率            5851 non-null object\n",
      "最小申购金额         5853 non-null object\n",
      "近一年收益率         5911 non-null object\n",
      "近6月收益率         6575 non-null object\n",
      "近三月收益率         6991 non-null object\n",
      "近一月收益率         7231 non-null object\n",
      "基金持仓股票代码       7622 non-null object\n",
      "基金持仓债券代码       7623 non-null object\n",
      "规模变动日期         7623 non-null object\n",
      "规模变动净资产亿元      7623 non-null object\n",
      "规模变动较上期环比      7623 non-null object\n",
      "('机构持有比例',)    7623 non-null object\n",
      "('个人持有比例',)    7623 non-null object\n",
      "('内部持有比例',)    7623 non-null object\n",
      "('股票占净比',)     7623 non-null object\n",
      "('债券占净比',)     7623 non-null object\n",
      "('现金占净比',)     7623 non-null object\n",
      "('净资产',)       7623 non-null object\n",
      "('平均值',)       7623 non-null object\n",
      "('选证能力',)      4772 non-null object\n",
      "('收益率',)       4772 non-null object\n",
      "('抗风险',)       4772 non-null object\n",
      "('稳定性',)       4787 non-null object\n",
      "('择时能力',)      4787 non-null object\n",
      "经理             7623 non-null object\n",
      "('期间申购',)      7623 non-null object\n",
      "('期间赎回',)      7605 non-null object\n",
      "('总份额',)       7605 non-null object\n",
      "dtypes: object(32)\n",
      "memory usage: 1.9+ MB\n",
      "None\n"
     ]
    }
   ],
   "source": [
    "# df.iloc = df['col2'].astype('float64')\n",
    "worth_pd = worth_pd.fillna(0)\n",
    "grandTotal_pd = grandTotal_pd.fillna(0)\n",
    "rateInSimilar_pd = rateInSimilar_pd.fillna(0)\n",
    "\n",
    "print(grandTotal_pd.info())\n",
    "print(rateInSimilar_pd.info())\n",
    "print(worth_pd.info())\n",
    "print(fund_wide_pd_type.info())\n",
    "# 拆分：每份基金份额分拆\n",
    "# 拆分：每份基金份额折算\n",
    "# 分红：每份派现金\n",
    "# worth_pd.loc[:,2:].astype('float')"
   ]
  },
  {
   "cell_type": "code",
   "execution_count": 70,
   "metadata": {
    "ExecuteTime": {
     "end_time": "2019-09-12T13:22:32.584061Z",
     "start_time": "2019-09-12T13:22:32.578578Z"
    },
    "code_folding": [
     0
    ]
   },
   "outputs": [],
   "source": [
    "# 找 N 年以上的基金\n",
    "def get_year_funds(years, allCode):\n",
    "    funds_year = []\n",
    "#     allCode = ['000008']\n",
    "    for code in allCode:\n",
    "#         print(code)\n",
    "        fund_day = rateInSimilar_pd.loc[(rateInSimilar_pd[0] == \"时间戳\") & (rateInSimilar_pd[1] ==  int(code))]\n",
    "        if fund_day.shape[0] > 0:\n",
    "            fund_day = fund_day.T\n",
    "#             print(fund_day.shape)\n",
    "#             print(fund_day)\n",
    "            day_c = fund_day[fund_day.iloc[:,0] != 0].shape[0]\n",
    "            if day_c >= 365 * years + 10:\n",
    "#                 print(\"code\",code,\"day_c\",day_c)\n",
    "                funds_year.append(code)\n",
    "    return funds_year"
   ]
  },
  {
   "cell_type": "code",
   "execution_count": 71,
   "metadata": {
    "ExecuteTime": {
     "end_time": "2019-09-12T13:23:12.643479Z",
     "start_time": "2019-09-12T13:22:33.106039Z"
    }
   },
   "outputs": [],
   "source": [
    "allCode = getAllCode()\n",
    "funds_5y = get_year_funds(5,allCode)\n",
    "pd.DataFrame(funds_5y).to_csv(\"./funds_5y.csv\", header=False, index=False)"
   ]
  },
  {
   "cell_type": "code",
   "execution_count": 72,
   "metadata": {
    "ExecuteTime": {
     "end_time": "2019-09-12T13:23:48.180144Z",
     "start_time": "2019-09-12T13:23:12.646351Z"
    }
   },
   "outputs": [],
   "source": [
    "funds_3y = get_year_funds(3,allCode)\n",
    "pd.DataFrame(funds_3y).to_csv(\"./funds_3y.csv\", header=False, index=False)"
   ]
  },
  {
   "cell_type": "code",
   "execution_count": 74,
   "metadata": {
    "ExecuteTime": {
     "end_time": "2019-09-12T13:25:50.424359Z",
     "start_time": "2019-09-12T13:25:50.421223Z"
    }
   },
   "outputs": [
    {
     "name": "stdout",
     "output_type": "stream",
     "text": [
      "1705\n"
     ]
    }
   ],
   "source": [
    "print(len(funds_3y))"
   ]
  },
  {
   "cell_type": "code",
   "execution_count": 128,
   "metadata": {
    "ExecuteTime": {
     "end_time": "2019-09-17T07:35:07.914145Z",
     "start_time": "2019-09-17T07:35:07.904990Z"
    }
   },
   "outputs": [],
   "source": [
    "# 近 N 年 同类绩效均值 n(0-1)\n",
    "def get_similar_mean(year):\n",
    "    if year <= 3:\n",
    "        file_year = 3\n",
    "    if year >3 and year <= 5:\n",
    "        file_year = 5\n",
    "    fund_similar_mean_list = []\n",
    "    fund_similar_code_list = []\n",
    "    fund_year_pd = pd.read_csv(\n",
    "        './funds_' + str(file_year) + 'y.csv', low_memory=False, header=None)\n",
    "    fund_year_list = fund_year_pd.values.tolist()\n",
    "    \n",
    "#     fund_year_list = [1,11]\n",
    "    for code in fund_year_list:\n",
    "#         start1 = time.time()\n",
    "        code = code[0]\n",
    "#         print(code)\n",
    "        fund_similar = rateInSimilar_pd.loc[(rateInSimilar_pd[0] == \"同类排名百分比\")\n",
    "                                          & (rateInSimilar_pd[1] == code)]\n",
    "#         fund_similar.drop([0, 1, 2], axis=1, inplace=True) # 删除前三列无用数据\n",
    "        fund_similar = fund_similar.T\n",
    "        fund_similar = fund_similar.iloc[2:,:]\n",
    "        fund_similar = fund_similar[fund_similar.iloc[:, 0] > 0] # 只要有效数据\n",
    "        if fund_similar.shape[0] >= year * 365:\n",
    "            fund_similar = fund_similar.iloc[0: round(year*365) , :]  # 找 x 天内的数据,取前 n 行\n",
    "#             print(fund_similar.shape)\n",
    "            mean = fund_similar.mean(0).iloc[0] # 求平均\n",
    "            fund_similar_code_list.append(code)\n",
    "            fund_similar_mean_list.append(mean)\n",
    "            fund_similar_mean_dict = {\n",
    "                \"code\" : fund_similar_code_list,\n",
    "               \"同类平均值\" : fund_similar_mean_list\n",
    "            } \n",
    "#         end1 = time.time()\n",
    "#         print(\"for 用时{}\".format((end1-start1)))\n",
    "    fund_similar_mean_pd =  pd.DataFrame(fund_similar_mean_dict)\n",
    "    \n",
    "    return fund_similar_mean_pd"
   ]
  },
  {
   "cell_type": "code",
   "execution_count": 87,
   "metadata": {
    "ExecuteTime": {
     "end_time": "2019-09-17T01:41:52.347999Z",
     "start_time": "2019-09-17T01:41:52.343825Z"
    }
   },
   "outputs": [],
   "source": [
    "def get_similar_top(similar_mean,top):\n",
    "#     排序\n",
    "    similar_mean.sort_values(by = '同类平均值', inplace=True, ascending=False)\n",
    "#     获取长度\n",
    "    pd_len = similar_mean.shape[0]\n",
    "#     取前三分之一\n",
    "    similar_top = similar_mean.head(round(pd_len * top))\n",
    "    return similar_top"
   ]
  },
  {
   "cell_type": "code",
   "execution_count": 88,
   "metadata": {
    "ExecuteTime": {
     "end_time": "2019-09-17T02:29:01.347818Z",
     "start_time": "2019-09-17T01:41:52.897334Z"
    }
   },
   "outputs": [],
   "source": [
    "# 统计5 年来前 30%的基金\n",
    "for i in range(1,6,1):\n",
    "    fund_similar_mean_pd = get_similar_mean(i)\n",
    "    fund_similar_top_pd = get_similar_top(fund_similar_mean_pd, 0.3)\n",
    "    fund_similar_top_pd.to_csv(\"./fund_similar_top\" + str(i) +\"y_pd.csv\", index=False)\n",
    "# print(fund_similar_mean_pd)"
   ]
  },
  {
   "cell_type": "code",
   "execution_count": 129,
   "metadata": {
    "ExecuteTime": {
     "end_time": "2019-09-17T07:35:23.178711Z",
     "start_time": "2019-09-17T07:35:13.610644Z"
    }
   },
   "outputs": [],
   "source": [
    "fund_similar_mean_pd = get_similar_mean(0.5)\n",
    "fund_similar_top_pd = get_similar_top(fund_similar_mean_pd, 0.3)\n",
    "fund_similar_top_pd.to_csv(\"./fund_similar_top\" + str(0.5) +\"y_pd.csv\", index=False)"
   ]
  },
  {
   "cell_type": "code",
   "execution_count": 136,
   "metadata": {
    "ExecuteTime": {
     "end_time": "2019-09-17T07:49:41.264606Z",
     "start_time": "2019-09-17T07:49:41.196726Z"
    }
   },
   "outputs": [
    {
     "name": "stdout",
     "output_type": "stream",
     "text": [
      "(57, 7)\n"
     ]
    }
   ],
   "source": [
    "fund_similar_top_6m_pd = pd.read_csv('./fund_similar_top0.5y_pd.csv',low_memory=False, header=None)\n",
    "fund_similar_top_1y_pd = pd.read_csv('./fund_similar_top1y_pd.csv',low_memory=False, header=None)\n",
    "fund_similar_top_2y_pd = pd.read_csv('./fund_similar_top2y_pd.csv',low_memory=False, header=None)\n",
    "fund_similar_top_3y_pd = pd.read_csv('./fund_similar_top3y_pd.csv',low_memory=False, header=None)\n",
    "fund_similar_top_4y_pd = pd.read_csv('./fund_similar_top4y_pd.csv',low_memory=False, header=None)\n",
    "fund_similar_top_5y_pd = pd.read_csv('./fund_similar_top5y_pd.csv',low_memory=False, header=None)\n",
    "# print(fund_similar_top_1y_pd.shape)\n",
    "# print(fund_similar_top_2y_pd.shape)\n",
    "m1 = pd.merge(fund_similar_top_6m_pd,fund_similar_top_1y_pd,how='inner',on = 0)\n",
    "m2 = pd.merge(m1,fund_similar_top_2y_pd,how='inner',on = 0)\n",
    "m3 = pd.merge(m2,fund_similar_top_3y_pd,how='inner',on = 0)\n",
    "m4 = pd.merge(m3,fund_similar_top_4y_pd,how='inner',on = 0)\n",
    "m5 = pd.merge(m4,fund_similar_top_5y_pd,how='inner',on = 0)\n",
    "m5.to_csv(\"./fund_similar_top_6m-5y_pd.csv\", encoding='utf_8_sig')\n",
    "print(m5.shape)"
   ]
  },
  {
   "cell_type": "code",
   "execution_count": 285,
   "metadata": {
    "ExecuteTime": {
     "end_time": "2019-09-17T09:01:10.257186Z",
     "start_time": "2019-09-17T09:01:10.251819Z"
    }
   },
   "outputs": [],
   "source": [
    "# 获取 code 对应的类型\n",
    "def get_fund_type_name(code):\n",
    "    try:\n",
    "        type_name = fund_wide_pd_type.loc[fund_wide_pd_type['code'] == code]['类型']\n",
    "    #     print(len(type_name))\n",
    "        if(len(type_name) > 0):\n",
    "            return type_name.values[0]\n",
    "        else:\n",
    "            return \"\"\n",
    "    except:\n",
    "        return \"111\""
   ]
  },
  {
   "cell_type": "code",
   "execution_count": 282,
   "metadata": {
    "ExecuteTime": {
     "end_time": "2019-09-17T08:59:01.366135Z",
     "start_time": "2019-09-17T08:59:01.358872Z"
    }
   },
   "outputs": [
    {
     "name": "stdout",
     "output_type": "stream",
     "text": [
      "000001\n"
     ]
    },
    {
     "data": {
      "text/plain": [
       "'混合型'"
      ]
     },
     "execution_count": 282,
     "metadata": {},
     "output_type": "execute_result"
    }
   ],
   "source": [
    "get_fund_type_name(\"1\".)"
   ]
  },
  {
   "cell_type": "code",
   "execution_count": 279,
   "metadata": {
    "ExecuteTime": {
     "end_time": "2019-09-17T08:58:43.450577Z",
     "start_time": "2019-09-17T08:58:43.445760Z"
    }
   },
   "outputs": [
    {
     "name": "stdout",
     "output_type": "stream",
     "text": [
      "000001\n"
     ]
    }
   ],
   "source": [
    "a = \"1\".zfill(6)\n",
    "print(a)"
   ]
  },
  {
   "cell_type": "code",
   "execution_count": 286,
   "metadata": {
    "ExecuteTime": {
     "end_time": "2019-09-17T09:01:12.470529Z",
     "start_time": "2019-09-17T09:01:12.341767Z"
    }
   },
   "outputs": [],
   "source": [
    "# 读取相同类型 top 30% 的文件\n",
    "fund_similar_top_6m_5y_pd = pd.read_csv(\"./fund_similar_top_6m-5y_pd.csv\", encoding='utf_8_sig')\n",
    "# 创建空列，dtype = object 可以存多个字符\n",
    "type_name_np = np.empty(fund_similar_top_6m_5y_pd.shape[0], dtype = object)\n",
    "# 遍历 df\n",
    "for i in range(0, len(fund_similar_top_6m_5y_pd)):\n",
    "# for i in range(0, 3):\n",
    "    code = fund_similar_top_6m_5y_pd.iloc[i]['0'] # 获取 code\n",
    "#     print(code)\n",
    "    type_name = get_fund_type_name(code.zfill(6)) # 获取 类型\n",
    "    type_name_np[i] = type_name # 保存名称\n",
    "# 插入type_name列\n",
    "fund_similar_top_6m_5y_pd.insert(1,'type_name', type_name_np)\n",
    "# 保存文件\n",
    "fund_similar_top_6m_5y_pd.to_csv(\"./fund_similar_top_6m-5y_pd11.csv\", encoding='utf_8_sig')\n",
    "#     fund_similar_top_6m_5y_pd.iloc[i]['type_name'] = \"a\"\n",
    "    \n",
    "    \n",
    "#     print(type_name)\n",
    "#     print()\n",
    "#     print(type(fund_similar_top_6m_5y_pd.iloc[i]['0']))   "
   ]
  },
  {
   "cell_type": "code",
   "execution_count": 239,
   "metadata": {
    "ExecuteTime": {
     "end_time": "2019-09-17T08:36:50.773087Z",
     "start_time": "2019-09-17T08:36:50.769613Z"
    }
   },
   "outputs": [
    {
     "name": "stdout",
     "output_type": "stream",
     "text": [
      "['类' '定' '债' '' '' '' '' '' '' '' '' '' '' '' '' '' '' '' '' '' '' '' ''\n",
      " '' '' '' '' '' '' '' '' '' '' '' '' '' '' '' '' '' '' '' '' '' '' '' ''\n",
      " '' '' '' '' '' '' '' '' '' '']\n"
     ]
    }
   ],
   "source": [
    "# fund_similar_top_6m_5y_pd.iloc[3]['type_name'] = \"a\"\n",
    "# fund_similar_top_6m_5y_pd.insert(3,'type_name', type_name)\n",
    "# print(fund_similar_top_6m_5y_pd['type_name'])\n",
    "print(type_name_np)"
   ]
  },
  {
   "cell_type": "code",
   "execution_count": null,
   "metadata": {},
   "outputs": [],
   "source": []
  },
  {
   "cell_type": "code",
   "execution_count": null,
   "metadata": {},
   "outputs": [],
   "source": [
    "# 测试代码分割线"
   ]
  },
  {
   "cell_type": "code",
   "execution_count": 338,
   "metadata": {
    "ExecuteTime": {
     "end_time": "2019-09-11T11:54:01.431949Z",
     "start_time": "2019-09-11T11:54:01.419485Z"
    },
    "scrolled": true
   },
   "outputs": [
    {
     "name": "stdout",
     "output_type": "stream",
     "text": [
      "251.7\n",
      "(839, 2)\n",
      "(252, 2)\n"
     ]
    }
   ],
   "source": [
    "# mean = fund_similar_mean_pd.iloc[0,:].mean(0)\n",
    "# print(fund_similar_mean_pd)\n",
    "fund_similar_mean_pd_t = fund_similar_mean_pd\n",
    "fund_similar_mean_pd_t.sort_values(by = '同类平均值', inplace=True, ascending=False)\n",
    "pd_len = fund_similar_mean_pd_t.shape[0]\n",
    "print(pd_len * 0.3)\n",
    "\n",
    "print(fund_similar_mean_pd_t.shape)\n",
    "# fund_similar_mean_pd_t = fund_similar_mean_pd_t.iloc[0:round(pd_len * 0.3)]\n",
    "fund_similar_mean_pd_t = fund_similar_mean_pd_t.head(round(pd_len * 0.3))\n",
    "print(fund_similar_mean_pd_t.shape)\n",
    "# round(pd_len * 0.3)\n",
    "# .head(3)\n"
   ]
  },
  {
   "cell_type": "code",
   "execution_count": 119,
   "metadata": {
    "ExecuteTime": {
     "end_time": "2019-09-17T07:31:54.311606Z",
     "start_time": "2019-09-17T07:31:54.264505Z"
    },
    "collapsed": true
   },
   "outputs": [
    {
     "name": "stdout",
     "output_type": "stream",
     "text": [
      "        22711\n",
      "0     同类排名百分比\n",
      "1      100022\n",
      "2        74.5\n",
      "3       75.32\n",
      "4          79\n",
      "5       79.68\n",
      "6       81.57\n",
      "7        81.6\n",
      "8       82.19\n",
      "9       82.47\n",
      "10      80.34\n",
      "11       81.1\n",
      "12      80.62\n",
      "13      79.99\n",
      "14      82.29\n",
      "15      83.11\n",
      "16      74.74\n",
      "17      73.45\n",
      "18      71.62\n",
      "19       70.6\n",
      "20      66.37\n",
      "21      63.83\n",
      "22      72.37\n",
      "23      69.59\n",
      "24      66.45\n",
      "25      71.47\n",
      "26      61.11\n",
      "27      57.23\n",
      "28      66.52\n",
      "29      33.52\n",
      "...       ...\n",
      "4273        0\n",
      "4274        0\n",
      "4275        0\n",
      "4276        0\n",
      "4277        0\n",
      "4278        0\n",
      "4279        0\n",
      "4280        0\n",
      "4281        0\n",
      "4282        0\n",
      "4283        0\n",
      "4284        0\n",
      "4285        0\n",
      "4286        0\n",
      "4287        0\n",
      "4288        0\n",
      "4289        0\n",
      "4290        0\n",
      "4291        0\n",
      "4292        0\n",
      "4293        0\n",
      "4294        0\n",
      "4295        0\n",
      "4296        0\n",
      "4297        0\n",
      "4298        0\n",
      "4299        0\n",
      "4300        0\n",
      "4301        0\n",
      "4302        0\n",
      "\n",
      "[4303 rows x 1 columns]\n",
      "(1825, 1)\n"
     ]
    },
    {
     "ename": "IndexError",
     "evalue": "single positional indexer is out-of-bounds",
     "output_type": "error",
     "traceback": [
      "\u001b[0;31m---------------------------------------------------------------------------\u001b[0m",
      "\u001b[0;31mIndexError\u001b[0m                                Traceback (most recent call last)",
      "\u001b[0;32m<ipython-input-119-8e32fd80b4c9>\u001b[0m in \u001b[0;36m<module>\u001b[0;34m\u001b[0m\n\u001b[1;32m     11\u001b[0m \u001b[0;31m# fund_similar = fund_similar.iloc[5*365,:]\u001b[0m\u001b[0;34m\u001b[0m\u001b[0;34m\u001b[0m\u001b[0;34m\u001b[0m\u001b[0m\n\u001b[1;32m     12\u001b[0m \u001b[0mprint\u001b[0m\u001b[0;34m(\u001b[0m\u001b[0mfund_similar\u001b[0m\u001b[0;34m.\u001b[0m\u001b[0miloc\u001b[0m\u001b[0;34m[\u001b[0m\u001b[0;36m0\u001b[0m\u001b[0;34m:\u001b[0m\u001b[0;36m5\u001b[0m\u001b[0;34m*\u001b[0m\u001b[0;36m365\u001b[0m\u001b[0;34m,\u001b[0m\u001b[0;34m:\u001b[0m\u001b[0;34m]\u001b[0m\u001b[0;34m.\u001b[0m\u001b[0mshape\u001b[0m\u001b[0;34m)\u001b[0m\u001b[0;34m\u001b[0m\u001b[0;34m\u001b[0m\u001b[0m\n\u001b[0;32m---> 13\u001b[0;31m \u001b[0mmean\u001b[0m \u001b[0;34m=\u001b[0m \u001b[0mfund_similar\u001b[0m\u001b[0;34m.\u001b[0m\u001b[0mmean\u001b[0m\u001b[0;34m(\u001b[0m\u001b[0;36m0\u001b[0m\u001b[0;34m)\u001b[0m\u001b[0;34m.\u001b[0m\u001b[0miloc\u001b[0m\u001b[0;34m[\u001b[0m\u001b[0;36m0\u001b[0m\u001b[0;34m]\u001b[0m  \u001b[0;31m# 求平均\u001b[0m\u001b[0;34m\u001b[0m\u001b[0;34m\u001b[0m\u001b[0m\n\u001b[0m\u001b[1;32m     14\u001b[0m \u001b[0mprint\u001b[0m\u001b[0;34m(\u001b[0m\u001b[0mmean\u001b[0m\u001b[0;34m.\u001b[0m\u001b[0mshape\u001b[0m\u001b[0;34m)\u001b[0m\u001b[0;34m\u001b[0m\u001b[0;34m\u001b[0m\u001b[0m\n\u001b[1;32m     15\u001b[0m \u001b[0mprint\u001b[0m\u001b[0;34m(\u001b[0m\u001b[0mmean\u001b[0m\u001b[0;34m)\u001b[0m\u001b[0;34m\u001b[0m\u001b[0;34m\u001b[0m\u001b[0m\n",
      "\u001b[0;32m/anaconda3/lib/python3.6/site-packages/pandas/core/indexing.py\u001b[0m in \u001b[0;36m__getitem__\u001b[0;34m(self, key)\u001b[0m\n\u001b[1;32m   1476\u001b[0m \u001b[0;34m\u001b[0m\u001b[0m\n\u001b[1;32m   1477\u001b[0m             \u001b[0mmaybe_callable\u001b[0m \u001b[0;34m=\u001b[0m \u001b[0mcom\u001b[0m\u001b[0;34m.\u001b[0m\u001b[0m_apply_if_callable\u001b[0m\u001b[0;34m(\u001b[0m\u001b[0mkey\u001b[0m\u001b[0;34m,\u001b[0m \u001b[0mself\u001b[0m\u001b[0;34m.\u001b[0m\u001b[0mobj\u001b[0m\u001b[0;34m)\u001b[0m\u001b[0;34m\u001b[0m\u001b[0;34m\u001b[0m\u001b[0m\n\u001b[0;32m-> 1478\u001b[0;31m             \u001b[0;32mreturn\u001b[0m \u001b[0mself\u001b[0m\u001b[0;34m.\u001b[0m\u001b[0m_getitem_axis\u001b[0m\u001b[0;34m(\u001b[0m\u001b[0mmaybe_callable\u001b[0m\u001b[0;34m,\u001b[0m \u001b[0maxis\u001b[0m\u001b[0;34m=\u001b[0m\u001b[0maxis\u001b[0m\u001b[0;34m)\u001b[0m\u001b[0;34m\u001b[0m\u001b[0;34m\u001b[0m\u001b[0m\n\u001b[0m\u001b[1;32m   1479\u001b[0m \u001b[0;34m\u001b[0m\u001b[0m\n\u001b[1;32m   1480\u001b[0m     \u001b[0;32mdef\u001b[0m \u001b[0m_is_scalar_access\u001b[0m\u001b[0;34m(\u001b[0m\u001b[0mself\u001b[0m\u001b[0;34m,\u001b[0m \u001b[0mkey\u001b[0m\u001b[0;34m)\u001b[0m\u001b[0;34m:\u001b[0m\u001b[0;34m\u001b[0m\u001b[0;34m\u001b[0m\u001b[0m\n",
      "\u001b[0;32m/anaconda3/lib/python3.6/site-packages/pandas/core/indexing.py\u001b[0m in \u001b[0;36m_getitem_axis\u001b[0;34m(self, key, axis)\u001b[0m\n\u001b[1;32m   2100\u001b[0m \u001b[0;34m\u001b[0m\u001b[0m\n\u001b[1;32m   2101\u001b[0m             \u001b[0;31m# validate the location\u001b[0m\u001b[0;34m\u001b[0m\u001b[0;34m\u001b[0m\u001b[0;34m\u001b[0m\u001b[0m\n\u001b[0;32m-> 2102\u001b[0;31m             \u001b[0mself\u001b[0m\u001b[0;34m.\u001b[0m\u001b[0m_validate_integer\u001b[0m\u001b[0;34m(\u001b[0m\u001b[0mkey\u001b[0m\u001b[0;34m,\u001b[0m \u001b[0maxis\u001b[0m\u001b[0;34m)\u001b[0m\u001b[0;34m\u001b[0m\u001b[0;34m\u001b[0m\u001b[0m\n\u001b[0m\u001b[1;32m   2103\u001b[0m \u001b[0;34m\u001b[0m\u001b[0m\n\u001b[1;32m   2104\u001b[0m             \u001b[0;32mreturn\u001b[0m \u001b[0mself\u001b[0m\u001b[0;34m.\u001b[0m\u001b[0m_get_loc\u001b[0m\u001b[0;34m(\u001b[0m\u001b[0mkey\u001b[0m\u001b[0;34m,\u001b[0m \u001b[0maxis\u001b[0m\u001b[0;34m=\u001b[0m\u001b[0maxis\u001b[0m\u001b[0;34m)\u001b[0m\u001b[0;34m\u001b[0m\u001b[0;34m\u001b[0m\u001b[0m\n",
      "\u001b[0;32m/anaconda3/lib/python3.6/site-packages/pandas/core/indexing.py\u001b[0m in \u001b[0;36m_validate_integer\u001b[0;34m(self, key, axis)\u001b[0m\n\u001b[1;32m   2007\u001b[0m         \u001b[0ml\u001b[0m \u001b[0;34m=\u001b[0m \u001b[0mlen\u001b[0m\u001b[0;34m(\u001b[0m\u001b[0max\u001b[0m\u001b[0;34m)\u001b[0m\u001b[0;34m\u001b[0m\u001b[0;34m\u001b[0m\u001b[0m\n\u001b[1;32m   2008\u001b[0m         \u001b[0;32mif\u001b[0m \u001b[0mkey\u001b[0m \u001b[0;34m>=\u001b[0m \u001b[0ml\u001b[0m \u001b[0;32mor\u001b[0m \u001b[0mkey\u001b[0m \u001b[0;34m<\u001b[0m \u001b[0;34m-\u001b[0m\u001b[0ml\u001b[0m\u001b[0;34m:\u001b[0m\u001b[0;34m\u001b[0m\u001b[0;34m\u001b[0m\u001b[0m\n\u001b[0;32m-> 2009\u001b[0;31m             \u001b[0;32mraise\u001b[0m \u001b[0mIndexError\u001b[0m\u001b[0;34m(\u001b[0m\u001b[0;34m\"single positional indexer is out-of-bounds\"\u001b[0m\u001b[0;34m)\u001b[0m\u001b[0;34m\u001b[0m\u001b[0;34m\u001b[0m\u001b[0m\n\u001b[0m\u001b[1;32m   2010\u001b[0m \u001b[0;34m\u001b[0m\u001b[0m\n\u001b[1;32m   2011\u001b[0m     \u001b[0;32mdef\u001b[0m \u001b[0m_getitem_tuple\u001b[0m\u001b[0;34m(\u001b[0m\u001b[0mself\u001b[0m\u001b[0;34m,\u001b[0m \u001b[0mtup\u001b[0m\u001b[0;34m)\u001b[0m\u001b[0;34m:\u001b[0m\u001b[0;34m\u001b[0m\u001b[0;34m\u001b[0m\u001b[0m\n",
      "\u001b[0;31mIndexError\u001b[0m: single positional indexer is out-of-bounds"
     ]
    }
   ],
   "source": [
    "fund_similar = rateInSimilar_pd.loc[(rateInSimilar_pd[0] == \"同类排名百分比\")\n",
    "                                  & (rateInSimilar_pd[1] == 100022)]\n",
    "# fund_similar.drop([0, 1, 2], axis=1, inplace=True)  # 删除前三列无用数据\n",
    "fund_similar = fund_similar.T\n",
    "# fund_similar = fund_similar.iloc[2:,:]\n",
    "print(fund_similar)\n",
    "fund_similar = fund_similar[fund_similar.iloc[:, 0] > 0]  # 只要有效数据\n",
    "#         还需要找 x 天内的数据\n",
    "# print(fund_similar)\n",
    "# print(fund_similar.iloc[:,5*365].shape)\n",
    "# fund_similar = fund_similar.iloc[5*365,:]\n",
    "print(fund_similar.iloc[0:5*365,:].shape)\n",
    "mean = fund_similar.mean(0).iloc[0]  # 求平均\n",
    "print(mean.shape)\n",
    "print(mean)\n",
    "print(type(mean))"
   ]
  },
  {
   "cell_type": "code",
   "execution_count": 239,
   "metadata": {
    "ExecuteTime": {
     "end_time": "2019-09-11T10:34:52.498199Z",
     "start_time": "2019-09-11T10:34:52.481480Z"
    }
   },
   "outputs": [
    {
     "name": "stdout",
     "output_type": "stream",
     "text": [
      "fund_day (4344, 1)\n",
      "(2002, 1)\n"
     ]
    }
   ],
   "source": [
    "\n",
    "fund_day = fund_narrow_pd.loc[(fund_narrow_pd[0] == \"时间戳\") & (fund_narrow_pd[1] ==  int(\"040023\"))]\n",
    "fund_day = fund_day.T\n",
    "print(\"fund_day\", fund_day.shape)\n",
    "\n",
    "x1 = fund_day[fund_day.iloc[:,0] != 0]\n",
    "print(x1.shape)\n",
    "# print(x1)\n",
    "\n",
    "\n"
   ]
  },
  {
   "cell_type": "code",
   "execution_count": 147,
   "metadata": {
    "ExecuteTime": {
     "end_time": "2019-09-11T07:03:26.670950Z",
     "start_time": "2019-09-11T07:03:26.653431Z"
    }
   },
   "outputs": [
    {
     "name": "stdout",
     "output_type": "stream",
     "text": [
      "Empty DataFrame\n",
      "Columns: [0, 1, 2, 3, 4, 5, 6, 7, 8, 9, 10, 11, 12, 13, 14, 15, 16, 17, 18, 19, 20, 21, 22, 23, 24, 25, 26, 27, 28, 29, 30, 31, 32, 33, 34, 35, 36, 37, 38, 39, 40, 41, 42, 43, 44, 45, 46, 47, 48, 49, 50, 51, 52, 53, 54, 55, 56, 57, 58, 59, 60, 61, 62, 63, 64, 65, 66, 67, 68, 69, 70, 71, 72, 73, 74, 75, 76, 77, 78, 79, 80, 81, 82, 83, 84, 85, 86, 87, 88, 89, 90, 91, 92, 93, 94, 95, 96, 97, 98, 99, ...]\n",
      "Index: []\n",
      "\n",
      "[0 rows x 4344 columns]\n"
     ]
    }
   ],
   "source": []
  },
  {
   "cell_type": "code",
   "execution_count": null,
   "metadata": {},
   "outputs": [],
   "source": []
  }
 ],
 "metadata": {
  "kernelspec": {
   "display_name": "Python 3",
   "language": "python",
   "name": "python3"
  },
  "language_info": {
   "codemirror_mode": {
    "name": "ipython",
    "version": 3
   },
   "file_extension": ".py",
   "mimetype": "text/x-python",
   "name": "python",
   "nbconvert_exporter": "python",
   "pygments_lexer": "ipython3",
   "version": "3.6.8"
  },
  "toc": {
   "base_numbering": 1,
   "nav_menu": {},
   "number_sections": true,
   "sideBar": true,
   "skip_h1_title": false,
   "title_cell": "Table of Contents",
   "title_sidebar": "Contents",
   "toc_cell": false,
   "toc_position": {},
   "toc_section_display": true,
   "toc_window_display": false
  }
 },
 "nbformat": 4,
 "nbformat_minor": 2
}
