{
 "cells": [
  {
   "cell_type": "code",
   "execution_count": 1,
   "metadata": {
    "ExecuteTime": {
     "end_time": "2019-09-23T08:32:49.092867Z",
     "start_time": "2019-09-23T08:32:48.126857Z"
    }
   },
   "outputs": [],
   "source": [
    "import numpy as np\n",
    "import pandas as pd\n",
    "import sklearn as sk"
   ]
  },
  {
   "cell_type": "code",
   "execution_count": 4,
   "metadata": {
    "ExecuteTime": {
     "end_time": "2019-09-23T08:38:45.662590Z",
     "start_time": "2019-09-23T08:38:44.905968Z"
    }
   },
   "outputs": [],
   "source": [
    "fund_wide_pd = pd.read_csv('./data/fund/fund_wide_rating_1_data_pd.csv',low_memory=False)\n",
    "manager_current_pd = pd.read_csv('./data/manager/manager_current_pd.csv',low_memory=False)\n",
    "manager_history_pd = pd.read_csv('./data/manager/manager_history_all_1_pd.csv',low_memory=False)\n",
    "allManager_pd = pd.read_csv('./data/manager/allManager_2_pd.csv',low_memory=False)\n"
   ]
  },
  {
   "cell_type": "code",
   "execution_count": 7,
   "metadata": {
    "ExecuteTime": {
     "end_time": "2019-09-23T08:45:21.596489Z",
     "start_time": "2019-09-23T08:45:21.560225Z"
    }
   },
   "outputs": [
    {
     "name": "stdout",
     "output_type": "stream",
     "text": [
      "         name  code   类型  原费率   现费率  最小申购金额  近一年收益率  近6月收益率  近三月收益率  近一月收益率  \\\n",
      "18  易方达信用债债券A    32  债券型  0.8  0.08   100.0   7.218   2.684  1.8268  0.1774   \n",
      "\n",
      "      ...    基金投资风格2017年3季度 5星评级家数 上海证券 招商证券 济安金信    手续费 上海证券3年期评级 上海证券5年期评级  \\\n",
      "18    ...               NaN    1.0  5.0  4.0  4.0  0.08%       5.0       4.0   \n",
      "\n",
      "   招商证券3年期评级 济安金信3年期评级  \n",
      "18       4.0       4.0  \n",
      "\n",
      "[1 rows x 131 columns]\n"
     ]
    }
   ],
   "source": [
    "a = fund_wide_pd.loc[fund_wide_pd['code']==32]\n",
    "print(a)"
   ]
  },
  {
   "cell_type": "code",
   "execution_count": null,
   "metadata": {},
   "outputs": [],
   "source": []
  }
 ],
 "metadata": {
  "kernelspec": {
   "display_name": "Python 3",
   "language": "python",
   "name": "python3"
  },
  "language_info": {
   "codemirror_mode": {
    "name": "ipython",
    "version": 3
   },
   "file_extension": ".py",
   "mimetype": "text/x-python",
   "name": "python",
   "nbconvert_exporter": "python",
   "pygments_lexer": "ipython3",
   "version": "3.6.8"
  },
  "toc": {
   "base_numbering": 1,
   "nav_menu": {},
   "number_sections": true,
   "sideBar": true,
   "skip_h1_title": false,
   "title_cell": "Table of Contents",
   "title_sidebar": "Contents",
   "toc_cell": false,
   "toc_position": {},
   "toc_section_display": true,
   "toc_window_display": false
  }
 },
 "nbformat": 4,
 "nbformat_minor": 2
}
